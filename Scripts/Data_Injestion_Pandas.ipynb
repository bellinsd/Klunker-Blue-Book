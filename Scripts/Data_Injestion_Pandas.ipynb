{
 "cells": [
  {
   "cell_type": "code",
   "execution_count": 1,
   "metadata": {},
   "outputs": [
    {
     "data": {
      "text/plain": [
       "\"import os\\nimport time\\nimport sqlite3\\nimport bz2\\nimport requests\\nimport xml.dom.minidom\\nimport seaborn as sns\\nimport numpy as np\\nimport pandas as pd\\nimport thinkstats2\\nimport thinkplot\\nimport plotly as ply\\nimport pickle\\nimport matplotlib.pyplot as plt\\nimport bqplot.pyplot as bplt\\nimport warnings\\nimport ipywidgets\\nimport h5py\\nimport yellowbrick as yb\\nimport sklearn\\n\\nply.offline.init_notebook_mode()\\npd.set_option('display.float_format', lambda x: '%.3f' % x)\\npd.options.display.max_columns = None\""
      ]
     },
     "execution_count": 1,
     "metadata": {},
     "output_type": "execute_result"
    }
   ],
   "source": [
    "%matplotlib notebook\n",
    "\n",
    "import pandas as pd\n",
    "\n",
    "\"\"\"import os\n",
    "import time\n",
    "import sqlite3\n",
    "import bz2\n",
    "import requests\n",
    "import xml.dom.minidom\n",
    "import seaborn as sns\n",
    "import numpy as np\n",
    "import pandas as pd\n",
    "import thinkstats2\n",
    "import thinkplot\n",
    "import plotly as ply\n",
    "import pickle\n",
    "import matplotlib.pyplot as plt\n",
    "import bqplot.pyplot as bplt\n",
    "import warnings\n",
    "import ipywidgets\n",
    "import h5py\n",
    "import yellowbrick as yb\n",
    "import sklearn\n",
    "\n",
    "ply.offline.init_notebook_mode()\n",
    "pd.set_option('display.float_format', lambda x: '%.3f' % x)\n",
    "pd.options.display.max_columns = None\"\"\""
   ]
  },
  {
   "cell_type": "code",
   "execution_count": 3,
   "metadata": {},
   "outputs": [],
   "source": [
    "car = pd.read_csv('car_data_clean_complete_v4.csv')\n",
    "car = car.rename(index=str, columns={\"vin_ss\": \"vin\", \"price_fs\": \"price\", \"miles_fs\": \"miles\", \"year_is\": \"year\", \"make_ss\": \"make\", \"model_ss\": \"model\", \"trim_ss\": \"trim\", \"vehicle_type_ss\": \"vehicle_type\", \"body_type_ss\": \"body_type\", \"drivetrain_ss\": \"drivetrain\", \"engine_ss\":\"engine\", \"engine_size_ss\": \"engine_size\", \"transmission_ss\": \"transmission\", \"doors_is\": \"doors\", \"cylinders_is\": \"cylinders\", \"interior_color_ss\": \"interior_color\", \"exterior_color_ss\": \"exterior_color\", \"zip_is\": \"zip\", \"dom_is\": \"dom\", \"dom_180_is\": \"dom_180\", \"msrp_fs\": \"msrp\", \"dom_active_is\": \"dom_active\", \"is_certified_is\": \"is_certified\", \"fuel_type_ss\": \"fuel_type\", \"scraped_at_dts\": \"scraped_at\", \"status_date_dts\": \"status_date\", \"stock_no_ss\": \"stock_no\"})\n",
    "car = car.drop(columns=['city_ss', 'state_ss'])\n",
    "car['Median Household income num'] = (car['Median Household income'].replace ( '[\\$,)]','', regex=True )\n",
    "                                     .replace( '[(]','-',   regex=True ).astype(float))\n",
    "car['Median Family income Num'] = (car['Median Family income'].replace ( '[\\$,)]','', regex=True )\n",
    "                                     .replace( '[(]','-',   regex=True ).astype(float))\n",
    "car['Per Capita income Num'] = (car['Per Capita income'].replace ( '[\\$,)]','', regex=True )\n",
    "                                     .replace( '[(]','-',   regex=True ).astype(float))"
   ]
  },
  {
   "cell_type": "code",
   "execution_count": 24,
   "metadata": {},
   "outputs": [],
   "source": [
    "region_ext = pd.read_csv('regions_states_ext_1.csv')"
   ]
  },
  {
   "cell_type": "code",
   "execution_count": 25,
   "metadata": {},
   "outputs": [],
   "source": [
    "df = pd.merge(car, region_ext, how='inner', left_on='State short', right_on='States Short')\n",
    "df = df.drop(columns=['county full', 'State full', 'States', 'state', 'Regions', 'State short', 'Per Capita income', 'Median Household income', 'Median Family income'])\n",
    "df = df.rename(index=str, columns={\"Number of households\" : \"Number_of_households\"\n",
    "                              ,\"Median Household income num\" : \"Median_Household_income_num\"\n",
    "                              ,\"Median Family income Num\" : \"Median_Family_income_num\"\n",
    "                              ,\"Per Capita income Num\" : \"Per_Capita_income_Num\"\n",
    "                              ,\"States Short\" : \"States_Short\"\n",
    "                              ,\"Regions - Quads\" : \"Regions_Quads\"\n",
    "                              ,\"Regions - Census\" : \"Regions_Census\"\n",
    "                              ,\"Regions - Economic\" : \"Regions_Economic\"\n",
    "                              ,\"Frost Belt\" : \"Frost_Belt\"\n",
    "                              ,\"Rust Belt\" : \"Rust_Belt\"\n",
    "                              ,\"Sun Belt\" : \"Sun_Belt\"})\n",
    "\n",
    "df = df.drop_duplicates(['price','miles','year', 'cylinders','msrp','is_certified','engine_size',\n",
    "            'AGE','Population', 'doors', 'dom', 'dom_180', 'dom_active', \n",
    "            'make', 'model', 'trim', 'interior_color', 'exterior_color', \n",
    "            'zip', 'fuel_type', 'scraped_at','States_Short', 'stock_no', 'vehicle_type', 'body_type', \n",
    "            'drivetrain', 'engine', 'transmission', 'primary_city', 'county', 'timezone', 'Regions_Quads'\n",
    "                        ])\n",
    "\n",
    "df.to_csv('car_data_clean_complete_v5_ext.csv', index=False, header=True)"
   ]
  },
  {
   "cell_type": "code",
   "execution_count": 2,
   "metadata": {},
   "outputs": [],
   "source": [
    "df = pd.read_csv('car_data_clean_complete_v5_ext.csv')\n",
    "#car.rename(index=str, columns={})\n",
    "#df = df.drop(columns=['Per Capita income', 'Median Household income', 'Median Family income'])\n",
    "#df.to_csv('car_data_clean_complete_v5_ext.csv', index=False, header=True)"
   ]
  },
  {
   "cell_type": "code",
   "execution_count": 3,
   "metadata": {},
   "outputs": [],
   "source": [
    "df.to_pickle(\"car_data_clean_complete_v5_ext.pkl\")"
   ]
  },
  {
   "cell_type": "code",
   "execution_count": 10,
   "metadata": {
    "scrolled": true
   },
   "outputs": [
    {
     "data": {
      "text/plain": [
       "Index(['id', 'vin', 'price', 'miles', 'stock_no', 'year', 'make', 'model',\n",
       "       'trim', 'vehicle_type', 'body_type', 'drivetrain', 'engine',\n",
       "       'engine_size', 'transmission', 'doors', 'cylinders', 'interior_color',\n",
       "       'exterior_color', 'dom', 'dom_180', 'msrp', 'dom_active',\n",
       "       'is_certified', 'fuel_type', 'scraped_at', 'status_date', 'AGE', 'zip',\n",
       "       'type', 'decommissioned', 'primary_city', 'county', 'timezone',\n",
       "       'latitude', 'longitude', 'irs_estimated_population_2015', 'Population',\n",
       "       'Number of households', 'Median Household income num',\n",
       "       'Median Family income Num', 'Per Capita income Num', 'States Short',\n",
       "       'Regions - Quads', 'Regions - Census', 'Regions - Economic',\n",
       "       'Frost Belt', 'Rust Belt', 'Sun Belt'],\n",
       "      dtype='object')"
      ]
     },
     "execution_count": 10,
     "metadata": {},
     "output_type": "execute_result"
    }
   ],
   "source": [
    "df.columns\n",
    "#df.shape()\n",
    "#df.head(10)\n",
    "#df.isnull().sum()"
   ]
  },
  {
   "cell_type": "code",
   "execution_count": 16,
   "metadata": {},
   "outputs": [],
   "source": [
    "df = df.rename(index=str, columns={\"Number of households\" : \"Number_of_households\"\n",
    "                              ,\"Median Household income num\" : \"Median_Household_income_num\"\n",
    "                              ,\"Median Family income Num\" : \"Median_Family_income_num\"\n",
    "                              ,\"Per Capita income Num\" : \"Per_Capita_income_Num\"\n",
    "                              ,\"States Short\" : \"States_Short\"\n",
    "                              ,\"Regions - Quads\" : \"Regions_Quads\"\n",
    "                              ,\"Regions - Census\" : \"Regions_Census\"\n",
    "                              ,\"Regions - Economic\" : \"Regions_Economic\"\n",
    "                              ,\"Frost Belt\" : \"Frost_Belt\"\n",
    "                              ,\"Rust Belt\" : \"Rust_Belt\"\n",
    "                              ,\"Sun Belt\" : \"Sun_Belt\"})"
   ]
  },
  {
   "cell_type": "code",
   "execution_count": 2,
   "metadata": {},
   "outputs": [],
   "source": [
    "df = pd.read_csv('car_data_clean_complete_v5_ext.csv')"
   ]
  },
  {
   "cell_type": "code",
   "execution_count": 5,
   "metadata": {},
   "outputs": [
    {
     "data": {
      "text/plain": [
       "(1673412, 49)"
      ]
     },
     "execution_count": 5,
     "metadata": {},
     "output_type": "execute_result"
    }
   ],
   "source": [
    "df.shape"
   ]
  },
  {
   "cell_type": "code",
   "execution_count": 16,
   "metadata": {},
   "outputs": [
    {
     "data": {
      "text/html": [
       "<div>\n",
       "<style scoped>\n",
       "    .dataframe tbody tr th:only-of-type {\n",
       "        vertical-align: middle;\n",
       "    }\n",
       "\n",
       "    .dataframe tbody tr th {\n",
       "        vertical-align: top;\n",
       "    }\n",
       "\n",
       "    .dataframe thead th {\n",
       "        text-align: right;\n",
       "    }\n",
       "</style>\n",
       "<table border=\"1\" class=\"dataframe\">\n",
       "  <thead>\n",
       "    <tr style=\"text-align: right;\">\n",
       "      <th></th>\n",
       "      <th>make</th>\n",
       "      <th>model</th>\n",
       "      <th>scraped_at</th>\n",
       "      <th>status_date</th>\n",
       "    </tr>\n",
       "  </thead>\n",
       "  <tbody>\n",
       "    <tr>\n",
       "      <th>0</th>\n",
       "      <td>Chevrolet</td>\n",
       "      <td>Traverse</td>\n",
       "      <td>2018-09-20T02:41:54Z</td>\n",
       "      <td>2018-09-23T22:01:56Z</td>\n",
       "    </tr>\n",
       "    <tr>\n",
       "      <th>1</th>\n",
       "      <td>Mazda</td>\n",
       "      <td>CX-9</td>\n",
       "      <td>2018-09-09T01:11:11Z</td>\n",
       "      <td>2018-09-24T02:37:49Z</td>\n",
       "    </tr>\n",
       "    <tr>\n",
       "      <th>2</th>\n",
       "      <td>Lexus</td>\n",
       "      <td>IS 350</td>\n",
       "      <td>2018-08-24T14:56:08Z</td>\n",
       "      <td>2018-09-23T07:24:31Z</td>\n",
       "    </tr>\n",
       "    <tr>\n",
       "      <th>3</th>\n",
       "      <td>Chrysler</td>\n",
       "      <td>300</td>\n",
       "      <td>2018-09-17T23:52:07Z</td>\n",
       "      <td>2018-09-23T00:24:20Z</td>\n",
       "    </tr>\n",
       "    <tr>\n",
       "      <th>4</th>\n",
       "      <td>Toyota</td>\n",
       "      <td>Camry</td>\n",
       "      <td>2018-09-19T01:05:34Z</td>\n",
       "      <td>2018-09-23T21:42:12Z</td>\n",
       "    </tr>\n",
       "    <tr>\n",
       "      <th>5</th>\n",
       "      <td>Toyota</td>\n",
       "      <td>4Runner</td>\n",
       "      <td>2018-09-11T01:54:54Z</td>\n",
       "      <td>2018-09-23T06:43:31Z</td>\n",
       "    </tr>\n",
       "    <tr>\n",
       "      <th>6</th>\n",
       "      <td>BMW</td>\n",
       "      <td>3 Series</td>\n",
       "      <td>2018-09-04T03:52:26Z</td>\n",
       "      <td>2018-09-24T01:45:07Z</td>\n",
       "    </tr>\n",
       "    <tr>\n",
       "      <th>7</th>\n",
       "      <td>Buick</td>\n",
       "      <td>LaCrosse</td>\n",
       "      <td>2018-09-22T03:34:32Z</td>\n",
       "      <td>2018-09-24T01:14:51Z</td>\n",
       "    </tr>\n",
       "    <tr>\n",
       "      <th>8</th>\n",
       "      <td>Chevrolet</td>\n",
       "      <td>Corvette</td>\n",
       "      <td>2018-09-08T17:01:52Z</td>\n",
       "      <td>2018-09-24T04:10:24Z</td>\n",
       "    </tr>\n",
       "    <tr>\n",
       "      <th>9</th>\n",
       "      <td>Chevrolet</td>\n",
       "      <td>Colorado</td>\n",
       "      <td>2018-09-13T20:57:27Z</td>\n",
       "      <td>2018-09-24T00:18:18Z</td>\n",
       "    </tr>\n",
       "    <tr>\n",
       "      <th>10</th>\n",
       "      <td>Jeep</td>\n",
       "      <td>Liberty</td>\n",
       "      <td>2018-09-20T04:28:00Z</td>\n",
       "      <td>2018-09-23T23:23:22Z</td>\n",
       "    </tr>\n",
       "  </tbody>\n",
       "</table>\n",
       "</div>"
      ],
      "text/plain": [
       "         make     model            scraped_at           status_date\n",
       "0   Chevrolet  Traverse  2018-09-20T02:41:54Z  2018-09-23T22:01:56Z\n",
       "1       Mazda      CX-9  2018-09-09T01:11:11Z  2018-09-24T02:37:49Z\n",
       "2       Lexus    IS 350  2018-08-24T14:56:08Z  2018-09-23T07:24:31Z\n",
       "3    Chrysler       300  2018-09-17T23:52:07Z  2018-09-23T00:24:20Z\n",
       "4      Toyota     Camry  2018-09-19T01:05:34Z  2018-09-23T21:42:12Z\n",
       "5      Toyota   4Runner  2018-09-11T01:54:54Z  2018-09-23T06:43:31Z\n",
       "6         BMW  3 Series  2018-09-04T03:52:26Z  2018-09-24T01:45:07Z\n",
       "7       Buick  LaCrosse  2018-09-22T03:34:32Z  2018-09-24T01:14:51Z\n",
       "8   Chevrolet  Corvette  2018-09-08T17:01:52Z  2018-09-24T04:10:24Z\n",
       "9   Chevrolet  Colorado  2018-09-13T20:57:27Z  2018-09-24T00:18:18Z\n",
       "10       Jeep   Liberty  2018-09-20T04:28:00Z  2018-09-23T23:23:22Z"
      ]
     },
     "execution_count": 16,
     "metadata": {},
     "output_type": "execute_result"
    }
   ],
   "source": [
    "df.loc[:10,[\"make\", \"model\", \"scraped_at\", \"status_date\"]]"
   ]
  },
  {
   "cell_type": "code",
   "execution_count": 4,
   "metadata": {},
   "outputs": [],
   "source": [
    "df = df.drop_duplicates(['price','miles','year', 'cylinders','msrp','is_certified','engine_size',\n",
    "            'AGE','Population', 'doors', 'dom', 'dom_180', 'dom_active', \n",
    "            'make', 'model', 'trim', 'interior_color', 'exterior_color', \n",
    "            'zip', 'fuel_type', 'scraped_at','States_Short', 'stock_no', 'vehicle_type', 'body_type', \n",
    "            'drivetrain', 'engine', 'transmission', 'primary_city', 'county', 'timezone', 'Regions_Quads'\n",
    "                        ])"
   ]
  },
  {
   "cell_type": "code",
   "execution_count": 20,
   "metadata": {},
   "outputs": [],
   "source": [
    "df.to_csv('car_data_clean_complete_v5_ext.csv', index=False, header=True)"
   ]
  },
  {
   "cell_type": "markdown",
   "metadata": {},
   "source": []
  }
 ],
 "metadata": {
  "kernelspec": {
   "display_name": "Python [conda env:anaconda3]",
   "language": "python",
   "name": "conda-env-anaconda3-py"
  },
  "language_info": {
   "codemirror_mode": {
    "name": "ipython",
    "version": 3
   },
   "file_extension": ".py",
   "mimetype": "text/x-python",
   "name": "python",
   "nbconvert_exporter": "python",
   "pygments_lexer": "ipython3",
   "version": "3.6.5"
  }
 },
 "nbformat": 4,
 "nbformat_minor": 2
}
