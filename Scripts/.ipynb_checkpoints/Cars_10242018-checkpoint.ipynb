{
 "cells": [
  {
   "cell_type": "code",
   "execution_count": 18,
   "metadata": {},
   "outputs": [],
   "source": [
    "import pandas as pd\n",
    "import seaborn as sns\n",
    "import matplotlib.pyplot as plt\n",
    "\n",
    "from sklearn.feature_selection import SelectPercentile\n",
    "from sklearn.feature_selection import SelectFromModel\n",
    "from sklearn.model_selection import train_test_split\n",
    "from sklearn.ensemble import RandomForestRegressor, RandomForestClassifier\n",
    "from sklearn.metrics import r2_score, mean_squared_error, explained_variance_score\n",
    "from sklearn import linear_model\n",
    "from sklearn.preprocessing import OneHotEncoder, LabelEncoder\n",
    "\n",
    "from sklearn.ensemble import GradientBoostingRegressor\n",
    "\n",
    "%matplotlib inline\n",
    "pd.set_option('display.float_format', lambda x: '%.3f' % x)"
   ]
  },
  {
   "cell_type": "markdown",
   "metadata": {},
   "source": [
    "# Data Preparation\n",
    "First we ingested the Market Check Used Car Inventory data file containing used cars accross United States (~6.7 million instances with 38 features\n",
    "Then we did initial data wraggling in SQLite and Alteryx (Removed columns with null values, single values, huge descriptive text values. Also instances with null values and 4 digit zipcodes"
   ]
  },
  {
   "cell_type": "code",
   "execution_count": 19,
   "metadata": {
    "scrolled": true
   },
   "outputs": [],
   "source": [
    "df = pd.read_csv(r'C:\\Users\\yexin\\Desktop\\KBB\\car_data_complete_clean.csv')"
   ]
  },
  {
   "cell_type": "code",
   "execution_count": 20,
   "metadata": {
    "scrolled": false
   },
   "outputs": [
    {
     "data": {
      "text/html": [
       "<div>\n",
       "<style scoped>\n",
       "    .dataframe tbody tr th:only-of-type {\n",
       "        vertical-align: middle;\n",
       "    }\n",
       "\n",
       "    .dataframe tbody tr th {\n",
       "        vertical-align: top;\n",
       "    }\n",
       "\n",
       "    .dataframe thead th {\n",
       "        text-align: right;\n",
       "    }\n",
       "</style>\n",
       "<table border=\"1\" class=\"dataframe\">\n",
       "  <thead>\n",
       "    <tr style=\"text-align: right;\">\n",
       "      <th></th>\n",
       "      <th>Unnamed: 0</th>\n",
       "      <th>AGE</th>\n",
       "      <th>Body Type Ss</th>\n",
       "      <th>City Ss</th>\n",
       "      <th>County Full</th>\n",
       "      <th>County1</th>\n",
       "      <th>County</th>\n",
       "      <th>Cylinders Is</th>\n",
       "      <th>Decommissioned</th>\n",
       "      <th>Dom 180 Is</th>\n",
       "      <th>...</th>\n",
       "      <th>Timezone</th>\n",
       "      <th>Transmission Ss</th>\n",
       "      <th>Trim Ss</th>\n",
       "      <th>Type</th>\n",
       "      <th>Vehicle Type Ss</th>\n",
       "      <th>Vin Ss</th>\n",
       "      <th>Year Is</th>\n",
       "      <th>Year</th>\n",
       "      <th>Zip Is</th>\n",
       "      <th>Zip</th>\n",
       "    </tr>\n",
       "  </thead>\n",
       "  <tbody>\n",
       "    <tr>\n",
       "      <th>0</th>\n",
       "      <td>0</td>\n",
       "      <td>8</td>\n",
       "      <td>Coupe</td>\n",
       "      <td>St. Petersburg</td>\n",
       "      <td>Pinellas County</td>\n",
       "      <td>Pinellas</td>\n",
       "      <td>Pinellas</td>\n",
       "      <td>4</td>\n",
       "      <td>0</td>\n",
       "      <td>36</td>\n",
       "      <td>...</td>\n",
       "      <td>America/New_York</td>\n",
       "      <td>Automatic</td>\n",
       "      <td>2.0T</td>\n",
       "      <td>STANDARD</td>\n",
       "      <td>Car</td>\n",
       "      <td>KMHHT6KD8BU055171</td>\n",
       "      <td>2011</td>\n",
       "      <td>2011</td>\n",
       "      <td>33713</td>\n",
       "      <td>33713</td>\n",
       "    </tr>\n",
       "    <tr>\n",
       "      <th>1</th>\n",
       "      <td>1</td>\n",
       "      <td>8</td>\n",
       "      <td>Coupe</td>\n",
       "      <td>Wesley Chapel</td>\n",
       "      <td>Pasco County</td>\n",
       "      <td>Pasco</td>\n",
       "      <td>Pasco</td>\n",
       "      <td>4</td>\n",
       "      <td>0</td>\n",
       "      <td>36</td>\n",
       "      <td>...</td>\n",
       "      <td>America/New_York</td>\n",
       "      <td>Automatic</td>\n",
       "      <td>2.0T</td>\n",
       "      <td>STANDARD</td>\n",
       "      <td>Car</td>\n",
       "      <td>KMHHT6KD8BU055171</td>\n",
       "      <td>2011</td>\n",
       "      <td>2011</td>\n",
       "      <td>33544</td>\n",
       "      <td>33544</td>\n",
       "    </tr>\n",
       "    <tr>\n",
       "      <th>2</th>\n",
       "      <td>2</td>\n",
       "      <td>8</td>\n",
       "      <td>Coupe</td>\n",
       "      <td>Frederick</td>\n",
       "      <td>Frederick County</td>\n",
       "      <td>Frederick</td>\n",
       "      <td>Frederick</td>\n",
       "      <td>4</td>\n",
       "      <td>0</td>\n",
       "      <td>1</td>\n",
       "      <td>...</td>\n",
       "      <td>America/New_York</td>\n",
       "      <td>Automatic</td>\n",
       "      <td>2.0T</td>\n",
       "      <td>STANDARD</td>\n",
       "      <td>Car</td>\n",
       "      <td>KMHHT6KDXBU043832</td>\n",
       "      <td>2011</td>\n",
       "      <td>2011</td>\n",
       "      <td>21704</td>\n",
       "      <td>21704</td>\n",
       "    </tr>\n",
       "    <tr>\n",
       "      <th>3</th>\n",
       "      <td>3</td>\n",
       "      <td>8</td>\n",
       "      <td>Coupe</td>\n",
       "      <td>Rockville</td>\n",
       "      <td>Montgomery County</td>\n",
       "      <td>Montgomery</td>\n",
       "      <td>Montgomery</td>\n",
       "      <td>4</td>\n",
       "      <td>0</td>\n",
       "      <td>1</td>\n",
       "      <td>...</td>\n",
       "      <td>America/New_York</td>\n",
       "      <td>Automatic</td>\n",
       "      <td>2.0T</td>\n",
       "      <td>STANDARD</td>\n",
       "      <td>Car</td>\n",
       "      <td>KMHHT6KDXBU043832</td>\n",
       "      <td>2011</td>\n",
       "      <td>2011</td>\n",
       "      <td>20855</td>\n",
       "      <td>20855</td>\n",
       "    </tr>\n",
       "    <tr>\n",
       "      <th>4</th>\n",
       "      <td>4</td>\n",
       "      <td>8</td>\n",
       "      <td>Coupe</td>\n",
       "      <td>Minneapolis</td>\n",
       "      <td>Anoka County</td>\n",
       "      <td>Anoka</td>\n",
       "      <td>Anoka</td>\n",
       "      <td>4</td>\n",
       "      <td>0</td>\n",
       "      <td>79</td>\n",
       "      <td>...</td>\n",
       "      <td>America/Chicago</td>\n",
       "      <td>Automatic</td>\n",
       "      <td>2.0T</td>\n",
       "      <td>STANDARD</td>\n",
       "      <td>Car</td>\n",
       "      <td>KMHHT6KD2BU058518</td>\n",
       "      <td>2011</td>\n",
       "      <td>2011</td>\n",
       "      <td>55433</td>\n",
       "      <td>55433</td>\n",
       "    </tr>\n",
       "  </tbody>\n",
       "</table>\n",
       "<p>5 rows × 55 columns</p>\n",
       "</div>"
      ],
      "text/plain": [
       "   Unnamed: 0  AGE Body Type Ss         City Ss        County Full  \\\n",
       "0           0    8        Coupe  St. Petersburg    Pinellas County   \n",
       "1           1    8        Coupe   Wesley Chapel       Pasco County   \n",
       "2           2    8        Coupe       Frederick   Frederick County   \n",
       "3           3    8        Coupe       Rockville  Montgomery County   \n",
       "4           4    8        Coupe     Minneapolis       Anoka County   \n",
       "\n",
       "      County1      County  Cylinders Is  Decommissioned  Dom 180 Is  ...    \\\n",
       "0    Pinellas    Pinellas             4               0          36  ...     \n",
       "1       Pasco       Pasco             4               0          36  ...     \n",
       "2   Frederick   Frederick             4               0           1  ...     \n",
       "3  Montgomery  Montgomery             4               0           1  ...     \n",
       "4       Anoka       Anoka             4               0          79  ...     \n",
       "\n",
       "           Timezone  Transmission Ss  Trim Ss      Type  Vehicle Type Ss  \\\n",
       "0  America/New_York        Automatic     2.0T  STANDARD              Car   \n",
       "1  America/New_York        Automatic     2.0T  STANDARD              Car   \n",
       "2  America/New_York        Automatic     2.0T  STANDARD              Car   \n",
       "3  America/New_York        Automatic     2.0T  STANDARD              Car   \n",
       "4   America/Chicago        Automatic     2.0T  STANDARD              Car   \n",
       "\n",
       "              Vin Ss Year Is  Year Zip Is    Zip  \n",
       "0  KMHHT6KD8BU055171    2011  2011  33713  33713  \n",
       "1  KMHHT6KD8BU055171    2011  2011  33544  33544  \n",
       "2  KMHHT6KDXBU043832    2011  2011  21704  21704  \n",
       "3  KMHHT6KDXBU043832    2011  2011  20855  20855  \n",
       "4  KMHHT6KD2BU058518    2011  2011  55433  55433  \n",
       "\n",
       "[5 rows x 55 columns]"
      ]
     },
     "execution_count": 20,
     "metadata": {},
     "output_type": "execute_result"
    }
   ],
   "source": [
    "df.head()"
   ]
  },
  {
   "cell_type": "code",
   "execution_count": 21,
   "metadata": {
    "scrolled": true
   },
   "outputs": [
    {
     "name": "stdout",
     "output_type": "stream",
     "text": [
      "(2329984, 55)\n"
     ]
    }
   ],
   "source": [
    "print(df.shape)"
   ]
  },
  {
   "cell_type": "code",
   "execution_count": 22,
   "metadata": {},
   "outputs": [],
   "source": [
    "# Dataframe Cleanning - Remove 6 Duplicate Columns."
   ]
  },
  {
   "cell_type": "code",
   "execution_count": 23,
   "metadata": {
    "scrolled": true
   },
   "outputs": [],
   "source": [
    "\n",
    "df = df.drop (columns = ['Unnamed: 0', 'County1','Year','Zip','Number of Records (zip code county database cleaned.csv+ (Multiple Connections).csv)','Number of Records'])"
   ]
  },
  {
   "cell_type": "code",
   "execution_count": 24,
   "metadata": {
    "scrolled": true
   },
   "outputs": [
    {
     "data": {
      "text/plain": [
       "Index(['AGE', 'Body Type Ss', 'City Ss', 'County Full', 'County',\n",
       "       'Cylinders Is', 'Decommissioned', 'Dom 180 Is', 'Dom Active Is',\n",
       "       'Dom Is', 'Doors Is', 'Drivetrain Ss', 'Engine Size Ss', 'Engine Ss',\n",
       "       'Exterior Color Ss', 'Fuel Type Ss', 'Id', 'Interior Color Ss',\n",
       "       'Irs Estimated Population 2015', 'Is Certified Is', 'Latitude',\n",
       "       'Longitude', 'Make Ss', 'Median Family income',\n",
       "       'Median Household income', 'Miles Fs', 'Model Ss', 'Msrp Fs',\n",
       "       'Number of households', 'Per Capita income', 'Population', 'Price Fs',\n",
       "       'Primary City', 'Rank', 'Scraped At Dts', 'State Ss', 'State full',\n",
       "       'State short', 'State', 'Status Date Dts', 'Stock No Ss', 'Timezone',\n",
       "       'Transmission Ss', 'Trim Ss', 'Type', 'Vehicle Type Ss', 'Vin Ss',\n",
       "       'Year Is', 'Zip Is'],\n",
       "      dtype='object')"
      ]
     },
     "execution_count": 24,
     "metadata": {},
     "output_type": "execute_result"
    }
   ],
   "source": [
    "df.columns"
   ]
  },
  {
   "cell_type": "code",
   "execution_count": 25,
   "metadata": {
    "scrolled": false
   },
   "outputs": [
    {
     "name": "stdout",
     "output_type": "stream",
     "text": [
      "(2329984, 49)\n"
     ]
    },
    {
     "data": {
      "text/plain": [
       "Index(['AGE', 'Body Type Ss', 'City Ss', 'County Full', 'County',\n",
       "       'Cylinders Is', 'Decommissioned', 'Dom 180 Is', 'Dom Active Is',\n",
       "       'Dom Is', 'Doors Is', 'Drivetrain Ss', 'Engine Size Ss', 'Engine Ss',\n",
       "       'Exterior Color Ss', 'Fuel Type Ss', 'Id', 'Interior Color Ss',\n",
       "       'Irs Estimated Population 2015', 'Is Certified Is', 'Latitude',\n",
       "       'Longitude', 'Make Ss', 'Median Family income',\n",
       "       'Median Household income', 'Miles Fs', 'Model Ss', 'Msrp Fs',\n",
       "       'Number of households', 'Per Capita income', 'Population', 'Price Fs',\n",
       "       'Primary City', 'Rank', 'Scraped At Dts', 'State Ss', 'State full',\n",
       "       'State short', 'State', 'Status Date Dts', 'Stock No Ss', 'Timezone',\n",
       "       'Transmission Ss', 'Trim Ss', 'Type', 'Vehicle Type Ss', 'Vin Ss',\n",
       "       'Year Is', 'Zip Is'],\n",
       "      dtype='object')"
      ]
     },
     "execution_count": 25,
     "metadata": {},
     "output_type": "execute_result"
    }
   ],
   "source": [
    "# check the result\n",
    "print(df.shape)\n",
    "df.columns"
   ]
  },
  {
   "cell_type": "markdown",
   "metadata": {},
   "source": [
    "# Picked the top 10 cars by volume for further analysis"
   ]
  },
  {
   "cell_type": "code",
   "execution_count": 26,
   "metadata": {},
   "outputs": [
    {
     "name": "stdout",
     "output_type": "stream",
     "text": [
      "Index(['Chevrolet', 'Ford', 'Toyota', 'Nissan', 'Honda', 'Jeep', 'Hyundai',\n",
      "       'GMC', 'BMW', 'Lexus'],\n",
      "      dtype='object')\n"
     ]
    }
   ],
   "source": [
    "df_vol = df['Make Ss'].value_counts()\n",
    "df_vol_10 = df_vol.head(10).to_frame(name='makes')\n",
    "print(df_vol_10.index)"
   ]
  },
  {
   "cell_type": "code",
   "execution_count": 27,
   "metadata": {
    "scrolled": false
   },
   "outputs": [
    {
     "name": "stdout",
     "output_type": "stream",
     "text": [
      "   AGE Body Type Ss         City Ss        County Full      County  \\\n",
      "0    8        Coupe  St. Petersburg    Pinellas County    Pinellas   \n",
      "1    8        Coupe   Wesley Chapel       Pasco County       Pasco   \n",
      "2    8        Coupe       Frederick   Frederick County   Frederick   \n",
      "3    8        Coupe       Rockville  Montgomery County  Montgomery   \n",
      "4    8        Coupe     Minneapolis       Anoka County       Anoka   \n",
      "\n",
      "   Cylinders Is  Decommissioned  Dom 180 Is  Dom Active Is  Dom Is   ...    \\\n",
      "0             4               0          36             36     228   ...     \n",
      "1             4               0          36             36     228   ...     \n",
      "2             4               0           1              1     119   ...     \n",
      "3             4               0           1              1     119   ...     \n",
      "4             4               0          79             79      79   ...     \n",
      "\n",
      "         Status Date Dts Stock No Ss          Timezone Transmission Ss  \\\n",
      "0  9/24/2018 12:51:25 AM    BU055171  America/New_York       Automatic   \n",
      "1   9/23/2018 8:52:46 PM    BU055171  America/New_York       Automatic   \n",
      "2   9/24/2018 3:22:41 AM     N953654  America/New_York       Automatic   \n",
      "3   9/24/2018 2:23:02 AM     N953654  America/New_York       Automatic   \n",
      "4  9/23/2018 12:40:03 PM      R7031A   America/Chicago       Automatic   \n",
      "\n",
      "  Trim Ss      Type Vehicle Type Ss             Vin Ss  Year Is  Zip Is  \n",
      "0    2.0T  STANDARD             Car  KMHHT6KD8BU055171     2011   33713  \n",
      "1    2.0T  STANDARD             Car  KMHHT6KD8BU055171     2011   33544  \n",
      "2    2.0T  STANDARD             Car  KMHHT6KDXBU043832     2011   21704  \n",
      "3    2.0T  STANDARD             Car  KMHHT6KDXBU043832     2011   20855  \n",
      "4    2.0T  STANDARD             Car  KMHHT6KD2BU058518     2011   55433  \n",
      "\n",
      "[5 rows x 49 columns]\n"
     ]
    }
   ],
   "source": [
    "df_top10 = df.loc[df['Make Ss'].isin(df_vol_10.index)]\n",
    "print(df_top10.head())"
   ]
  },
  {
   "cell_type": "code",
   "execution_count": 28,
   "metadata": {},
   "outputs": [
    {
     "data": {
      "text/plain": [
       "(2329984, 49)"
      ]
     },
     "execution_count": 28,
     "metadata": {},
     "output_type": "execute_result"
    }
   ],
   "source": [
    "df_top10.shape"
   ]
  },
  {
   "cell_type": "markdown",
   "metadata": {},
   "source": [
    "## Initial Features Selected\n",
    "Created a dataframe with 20 features. Also filtered down to top 10 car makes by volume (~2.4 million instances)"
   ]
  },
  {
   "cell_type": "code",
   "execution_count": 42,
   "metadata": {},
   "outputs": [],
   "source": [
    "df_top10 = df_top10[['Price Fs', 'Miles Fs','Year Is','Make Ss', 'Model Ss', 'Trim Ss', \n",
    "       'Engine Size Ss',  'Cylinders Is', 'Interior Color Ss', \n",
    "       'Exterior Color Ss', 'Zip Is', 'Is Certified Is', 'Fuel Type Ss', 'State Ss',\n",
    "                     'AGE', 'Body Type Ss', 'City Ss','Timezone','Median Family income',\n",
    "       'Median Household income']]\n"
   ]
  },
  {
   "cell_type": "code",
   "execution_count": 43,
   "metadata": {
    "scrolled": true
   },
   "outputs": [
    {
     "data": {
      "text/plain": [
       "(2329984, 20)"
      ]
     },
     "execution_count": 43,
     "metadata": {},
     "output_type": "execute_result"
    }
   ],
   "source": [
    "df_top10.shape"
   ]
  },
  {
   "cell_type": "code",
   "execution_count": 44,
   "metadata": {
    "scrolled": true
   },
   "outputs": [
    {
     "data": {
      "text/html": [
       "<div>\n",
       "<style scoped>\n",
       "    .dataframe tbody tr th:only-of-type {\n",
       "        vertical-align: middle;\n",
       "    }\n",
       "\n",
       "    .dataframe tbody tr th {\n",
       "        vertical-align: top;\n",
       "    }\n",
       "\n",
       "    .dataframe thead th {\n",
       "        text-align: right;\n",
       "    }\n",
       "</style>\n",
       "<table border=\"1\" class=\"dataframe\">\n",
       "  <thead>\n",
       "    <tr style=\"text-align: right;\">\n",
       "      <th></th>\n",
       "      <th>Price Fs</th>\n",
       "      <th>Miles Fs</th>\n",
       "      <th>Year Is</th>\n",
       "      <th>Make Ss</th>\n",
       "      <th>Model Ss</th>\n",
       "      <th>Trim Ss</th>\n",
       "      <th>Engine Size Ss</th>\n",
       "      <th>Cylinders Is</th>\n",
       "      <th>Interior Color Ss</th>\n",
       "      <th>Exterior Color Ss</th>\n",
       "      <th>Zip Is</th>\n",
       "      <th>Is Certified Is</th>\n",
       "      <th>Fuel Type Ss</th>\n",
       "      <th>State Ss</th>\n",
       "      <th>AGE</th>\n",
       "      <th>Body Type Ss</th>\n",
       "      <th>City Ss</th>\n",
       "      <th>Timezone</th>\n",
       "      <th>Median Family income</th>\n",
       "      <th>Median Household income</th>\n",
       "    </tr>\n",
       "  </thead>\n",
       "  <tbody>\n",
       "    <tr>\n",
       "      <th>0</th>\n",
       "      <td>10339</td>\n",
       "      <td>92105</td>\n",
       "      <td>2011</td>\n",
       "      <td>Hyundai</td>\n",
       "      <td>Genesis Coupe</td>\n",
       "      <td>2.0T</td>\n",
       "      <td>2.000</td>\n",
       "      <td>4</td>\n",
       "      <td>BLACK</td>\n",
       "      <td>Tsukuba Red</td>\n",
       "      <td>33713</td>\n",
       "      <td>0</td>\n",
       "      <td>Premium Unleaded</td>\n",
       "      <td>FL</td>\n",
       "      <td>8</td>\n",
       "      <td>Coupe</td>\n",
       "      <td>St. Petersburg</td>\n",
       "      <td>America/New_York</td>\n",
       "      <td>59491</td>\n",
       "      <td>45535</td>\n",
       "    </tr>\n",
       "    <tr>\n",
       "      <th>1</th>\n",
       "      <td>10339</td>\n",
       "      <td>92105</td>\n",
       "      <td>2011</td>\n",
       "      <td>Hyundai</td>\n",
       "      <td>Genesis Coupe</td>\n",
       "      <td>2.0T</td>\n",
       "      <td>2.000</td>\n",
       "      <td>4</td>\n",
       "      <td>BLACK</td>\n",
       "      <td>Tsukuba Red</td>\n",
       "      <td>33544</td>\n",
       "      <td>0</td>\n",
       "      <td>Premium Unleaded</td>\n",
       "      <td>FL</td>\n",
       "      <td>8</td>\n",
       "      <td>Coupe</td>\n",
       "      <td>Wesley Chapel</td>\n",
       "      <td>America/New_York</td>\n",
       "      <td>53807</td>\n",
       "      <td>43888</td>\n",
       "    </tr>\n",
       "    <tr>\n",
       "      <th>2</th>\n",
       "      <td>6983</td>\n",
       "      <td>151243</td>\n",
       "      <td>2011</td>\n",
       "      <td>Hyundai</td>\n",
       "      <td>Genesis Coupe</td>\n",
       "      <td>2.0T</td>\n",
       "      <td>2.000</td>\n",
       "      <td>4</td>\n",
       "      <td>BLACK</td>\n",
       "      <td>Tsukuba Red</td>\n",
       "      <td>21704</td>\n",
       "      <td>0</td>\n",
       "      <td>Premium Unleaded</td>\n",
       "      <td>MD</td>\n",
       "      <td>8</td>\n",
       "      <td>Coupe</td>\n",
       "      <td>Frederick</td>\n",
       "      <td>America/New_York</td>\n",
       "      <td>98259</td>\n",
       "      <td>84570</td>\n",
       "    </tr>\n",
       "    <tr>\n",
       "      <th>3</th>\n",
       "      <td>6983</td>\n",
       "      <td>151243</td>\n",
       "      <td>2011</td>\n",
       "      <td>Hyundai</td>\n",
       "      <td>Genesis Coupe</td>\n",
       "      <td>2.0T</td>\n",
       "      <td>2.000</td>\n",
       "      <td>4</td>\n",
       "      <td>BLACK</td>\n",
       "      <td>Tsukuba Red</td>\n",
       "      <td>20855</td>\n",
       "      <td>0</td>\n",
       "      <td>Premium Unleaded</td>\n",
       "      <td>MD</td>\n",
       "      <td>8</td>\n",
       "      <td>Coupe</td>\n",
       "      <td>Rockville</td>\n",
       "      <td>America/New_York</td>\n",
       "      <td>117408</td>\n",
       "      <td>98221</td>\n",
       "    </tr>\n",
       "    <tr>\n",
       "      <th>4</th>\n",
       "      <td>10951</td>\n",
       "      <td>38498</td>\n",
       "      <td>2011</td>\n",
       "      <td>Hyundai</td>\n",
       "      <td>Genesis Coupe</td>\n",
       "      <td>2.0T</td>\n",
       "      <td>2.000</td>\n",
       "      <td>4</td>\n",
       "      <td>Black</td>\n",
       "      <td>Nordschleife Gray</td>\n",
       "      <td>55433</td>\n",
       "      <td>0</td>\n",
       "      <td>Premium Unleaded</td>\n",
       "      <td>MN</td>\n",
       "      <td>8</td>\n",
       "      <td>Coupe</td>\n",
       "      <td>Minneapolis</td>\n",
       "      <td>America/Chicago</td>\n",
       "      <td>81798</td>\n",
       "      <td>70380</td>\n",
       "    </tr>\n",
       "  </tbody>\n",
       "</table>\n",
       "</div>"
      ],
      "text/plain": [
       "   Price Fs  Miles Fs  Year Is  Make Ss       Model Ss Trim Ss  \\\n",
       "0     10339     92105     2011  Hyundai  Genesis Coupe    2.0T   \n",
       "1     10339     92105     2011  Hyundai  Genesis Coupe    2.0T   \n",
       "2      6983    151243     2011  Hyundai  Genesis Coupe    2.0T   \n",
       "3      6983    151243     2011  Hyundai  Genesis Coupe    2.0T   \n",
       "4     10951     38498     2011  Hyundai  Genesis Coupe    2.0T   \n",
       "\n",
       "   Engine Size Ss  Cylinders Is Interior Color Ss  Exterior Color Ss  Zip Is  \\\n",
       "0           2.000             4             BLACK        Tsukuba Red   33713   \n",
       "1           2.000             4             BLACK        Tsukuba Red   33544   \n",
       "2           2.000             4             BLACK        Tsukuba Red   21704   \n",
       "3           2.000             4             BLACK        Tsukuba Red   20855   \n",
       "4           2.000             4             Black  Nordschleife Gray   55433   \n",
       "\n",
       "   Is Certified Is      Fuel Type Ss State Ss  AGE Body Type Ss  \\\n",
       "0                0  Premium Unleaded       FL    8        Coupe   \n",
       "1                0  Premium Unleaded       FL    8        Coupe   \n",
       "2                0  Premium Unleaded       MD    8        Coupe   \n",
       "3                0  Premium Unleaded       MD    8        Coupe   \n",
       "4                0  Premium Unleaded       MN    8        Coupe   \n",
       "\n",
       "          City Ss          Timezone  Median Family income  \\\n",
       "0  St. Petersburg  America/New_York                 59491   \n",
       "1   Wesley Chapel  America/New_York                 53807   \n",
       "2       Frederick  America/New_York                 98259   \n",
       "3       Rockville  America/New_York                117408   \n",
       "4     Minneapolis   America/Chicago                 81798   \n",
       "\n",
       "   Median Household income  \n",
       "0                    45535  \n",
       "1                    43888  \n",
       "2                    84570  \n",
       "3                    98221  \n",
       "4                    70380  "
      ]
     },
     "execution_count": 44,
     "metadata": {},
     "output_type": "execute_result"
    }
   ],
   "source": [
    "df_top10.head()"
   ]
  },
  {
   "cell_type": "markdown",
   "metadata": {},
   "source": [
    "# Data Cleansing\n",
    "Removed duplicates "
   ]
  },
  {
   "cell_type": "code",
   "execution_count": 45,
   "metadata": {},
   "outputs": [],
   "source": [
    "dedups = df_top10.drop_duplicates(['Price Fs', 'Miles Fs','Year Is','Make Ss', 'Model Ss', 'Trim Ss', \n",
    "       'Engine Size Ss',  'Cylinders Is', 'Interior Color Ss', \n",
    "       'Exterior Color Ss', 'Zip Is', 'Is Certified Is', 'Fuel Type Ss', 'State Ss',\n",
    "                     'AGE', 'Body Type Ss', 'City Ss','Timezone','Median Family income',\n",
    "       'Median Household income'])"
   ]
  },
  {
   "cell_type": "code",
   "execution_count": 46,
   "metadata": {},
   "outputs": [
    {
     "name": "stdout",
     "output_type": "stream",
     "text": [
      "(2311165, 20)\n"
     ]
    }
   ],
   "source": [
    "print(dedups.shape)"
   ]
  },
  {
   "cell_type": "markdown",
   "metadata": {},
   "source": [
    "# Data Visualization\n",
    "Performed exploratory data analysis to better understand how data is distributed"
   ]
  },
  {
   "cell_type": "markdown",
   "metadata": {},
   "source": [
    "Most Popular used car makes are Chevrolet and Ford"
   ]
  },
  {
   "cell_type": "code",
   "execution_count": 47,
   "metadata": {
    "scrolled": true
   },
   "outputs": [
    {
     "data": {
      "text/plain": [
       "<matplotlib.axes._subplots.AxesSubplot at 0x1a39d676cc0>"
      ]
     },
     "execution_count": 47,
     "metadata": {},
     "output_type": "execute_result"
    },
    {
     "data": {
      "image/png": "[encoded data removed]",
      "text/plain": [
       "<Figure size 432x288 with 1 Axes>"
      ]
     },
     "metadata": {},
     "output_type": "display_data"
    }
   ],
   "source": [
    "dedups['Make Ss'].value_counts().plot(kind='bar')"
   ]
  },
  {
   "cell_type": "markdown",
   "metadata": {},
   "source": [
    "Newer cars are more expensive than older cars. Expected."
   ]
  },
  {
   "cell_type": "code",
   "execution_count": 48,
   "metadata": {
    "scrolled": false
   },
   "outputs": [
    {
     "data": {
      "text/plain": [
       "<matplotlib.axes._subplots.AxesSubplot at 0x1a38469c198>"
      ]
     },
     "execution_count": 48,
     "metadata": {},
     "output_type": "execute_result"
    },
    {
     "data": {
      "image/png": "[encoded data removed]",
      "text/plain": [
       "<Figure size 432x288 with 1 Axes>"
      ]
     },
     "metadata": {},
     "output_type": "display_data"
    }
   ],
   "source": [
    "dedups.plot(x='Price Fs', y='Year Is', style='o')"
   ]
  },
  {
   "cell_type": "markdown",
   "metadata": {},
   "source": [
    "Range and median prices per car type"
   ]
  },
  {
   "cell_type": "code",
   "execution_count": 49,
   "metadata": {},
   "outputs": [
    {
     "data": {
      "text/plain": [
       "<matplotlib.axes._subplots.AxesSubplot at 0x1a2a2429f60>"
      ]
     },
     "execution_count": 49,
     "metadata": {},
     "output_type": "execute_result"
    },
    {
     "data": {
      "image/png": "[encoded data removed]",
      "text/plain": [
       "<Figure size 720x720 with 1 Axes>"
      ]
     },
     "metadata": {},
     "output_type": "display_data"
    }
   ],
   "source": [
    "dedups.boxplot(column=\"Price Fs\", by=\"Make Ss\", figsize=(10,10))"
   ]
  },
  {
   "cell_type": "markdown",
   "metadata": {},
   "source": [
    "Distribution among the various categorical features"
   ]
  },
  {
   "cell_type": "code",
   "execution_count": 50,
   "metadata": {
    "scrolled": false
   },
   "outputs": [
    {
     "name": "stdout",
     "output_type": "stream",
     "text": [
      "Make Ss\n",
      "Chevrolet    426492\n",
      "Ford         421136\n",
      "Toyota       287817\n",
      "Nissan       243718\n",
      "Honda        225580\n",
      "Name: Make Ss, dtype: int64\n"
     ]
    },
    {
     "data": {
      "image/png": "[encoded data removed]",
      "text/plain": [
       "<Figure size 360x216 with 1 Axes>"
      ]
     },
     "metadata": {},
     "output_type": "display_data"
    },
    {
     "name": "stdout",
     "output_type": "stream",
     "text": [
      "Model Ss\n",
      "F-150             105878\n",
      "Silverado 1500    103013\n",
      "CR-V               69489\n",
      "Escape             64306\n",
      "Equinox            64065\n",
      "Name: Model Ss, dtype: int64\n"
     ]
    },
    {
     "data": {
      "image/png": "[encoded data removed]",
      "text/plain": [
       "<Figure size 360x216 with 1 Axes>"
      ]
     },
     "metadata": {},
     "output_type": "display_data"
    },
    {
     "name": "stdout",
     "output_type": "stream",
     "text": [
      "Trim Ss\n",
      "LT         198497\n",
      "SE         195975\n",
      "Base       171710\n",
      "Limited    119213\n",
      "S           74197\n",
      "Name: Trim Ss, dtype: int64\n"
     ]
    },
    {
     "data": {
      "image/png": "[encoded data removed]",
      "text/plain": [
       "<Figure size 360x216 with 1 Axes>"
      ]
     },
     "metadata": {},
     "output_type": "display_data"
    },
    {
     "name": "stdout",
     "output_type": "stream",
     "text": [
      "Interior Color Ss\n",
      "Black        259037\n",
      "BLACK        258475\n",
      "Jet Black    116028\n",
      "Gray          93019\n",
      "GRAY          87430\n",
      "Name: Interior Color Ss, dtype: int64\n"
     ]
    },
    {
     "data": {
      "image/png": "[encoded data removed]",
      "text/plain": [
       "<Figure size 360x216 with 1 Axes>"
      ]
     },
     "metadata": {},
     "output_type": "display_data"
    },
    {
     "name": "stdout",
     "output_type": "stream",
     "text": [
      "Exterior Color Ss\n",
      "Black           163588\n",
      "White            82145\n",
      "Summit White     69217\n",
      "Silver           56235\n",
      "Gray             55969\n",
      "Name: Exterior Color Ss, dtype: int64\n"
     ]
    },
    {
     "data": {
      "image/png": "[encoded data removed]",
      "text/plain": [
       "<Figure size 360x216 with 1 Axes>"
      ]
     },
     "metadata": {},
     "output_type": "display_data"
    },
    {
     "name": "stdout",
     "output_type": "stream",
     "text": [
      "Zip Is\n",
      "27511    35982\n",
      "28027    31974\n",
      "27713    22758\n",
      "30096    22713\n",
      "28227    22638\n",
      "Name: Zip Is, dtype: int64\n"
     ]
    },
    {
     "data": {
      "image/png": "[encoded data removed]",
      "text/plain": [
       "<Figure size 360x216 with 1 Axes>"
      ]
     },
     "metadata": {},
     "output_type": "display_data"
    },
    {
     "name": "stdout",
     "output_type": "stream",
     "text": [
      "Fuel Type Ss\n",
      "Regular Unleaded    1544448\n",
      "Flex-Fuel            363640\n",
      "Premium Unleaded     339984\n",
      "Diesel                51232\n",
      "Gasoline               8872\n",
      "Name: Fuel Type Ss, dtype: int64\n"
     ]
    },
    {
     "data": {
      "image/png": "[encoded data removed]",
      "text/plain": [
       "<Figure size 360x216 with 1 Axes>"
      ]
     },
     "metadata": {},
     "output_type": "display_data"
    },
    {
     "name": "stdout",
     "output_type": "stream",
     "text": [
      "State Ss\n",
      "NC    281895\n",
      "FL    149933\n",
      "TX    148727\n",
      "CA    136162\n",
      "GA    109144\n",
      "Name: State Ss, dtype: int64\n"
     ]
    },
    {
     "data": {
      "image/png": "[encoded data removed]",
      "text/plain": [
       "<Figure size 360x216 with 1 Axes>"
      ]
     },
     "metadata": {},
     "output_type": "display_data"
    }
   ],
   "source": [
    "categories = ['Make Ss', 'Model Ss', 'Trim Ss', 'Interior Color Ss', 'Exterior Color Ss', 'Zip Is', 'Fuel Type Ss', 'State Ss']\n",
    "\n",
    "for i, c in enumerate(categories):\n",
    "    v = dedups[c].unique()\n",
    "    \n",
    "    g = dedups.groupby(by=c)[c].count().sort_values(ascending=False)\n",
    "    r = range(min(len(v), 5))\n",
    "\n",
    "    print(g.head())\n",
    "    plt.figure(figsize=(5,3))\n",
    "    plt.bar(r, g.head()) \n",
    "    plt.xticks(r, v)\n",
    "    plt.show()"
   ]
  },
  {
   "cell_type": "markdown",
   "metadata": {},
   "source": [
    "# Feature Engineering"
   ]
  },
  {
   "cell_type": "markdown",
   "metadata": {},
   "source": [
    "Converting categorical features into numeric values using Scikit Learn"
   ]
  },
  {
   "cell_type": "code",
   "execution_count": 66,
   "metadata": {
    "scrolled": true
   },
   "outputs": [
    {
     "name": "stderr",
     "output_type": "stream",
     "text": [
      "C:\\Users\\yexin\\Anaconda3\\envs\\myenv\\lib\\site-packages\\pandas\\core\\indexing.py:543: SettingWithCopyWarning: \n",
      "A value is trying to be set on a copy of a slice from a DataFrame.\n",
      "Try using .loc[row_indexer,col_indexer] = value instead\n",
      "\n",
      "See the caveats in the documentation: http://pandas.pydata.org/pandas-docs/stable/indexing.html#indexing-view-versus-copy\n",
      "  self.obj[item] = s\n"
     ]
    }
   ],
   "source": [
    "labels =  ['Make Ss', 'Model Ss', 'Trim Ss', 'Interior Color Ss', 'Exterior Color Ss', 'Zip Is', 'Fuel Type Ss', \n",
    "           'State Ss','Body Type Ss']\n",
    "      \n",
    "les = {}\n",
    "\n",
    "for l in labels:\n",
    "    les[l] = LabelEncoder()\n",
    "    les[l].fit(dedups[l].astype(str))\n",
    "    tr = les[l].transform(dedups[l].astype(str))\n",
    "    \n",
    "    dedups.loc[:, l + '_feat'] = pd.Series(tr, index=dedups.index)\n",
    "\n",
    "labeled = dedups[['Price Fs'\n",
    "                        ,'Miles Fs'\n",
    "                        ,'Year Is'\n",
    "                        ,'Cylinders Is'\n",
    "                        ,'Is Certified Is'\n",
    "                        ,'Engine Size Ss'\n",
    "                        ,'City Ss'\n",
    "                        ,'Timezone'\n",
    "                        ,'AGE'\n",
    "                        ,'Median Household income'] \n",
    "                    + [x+\"_feat\" for x in labels]]"
   ]
  },
  {
   "cell_type": "markdown",
   "metadata": {},
   "source": [
    "Used pearson to see how the features are related to each other and more importantly to price so that the top 10 features influencing price can be fed into the model. Looks like state and zip have very little influence on price."
   ]
  },
  {
   "cell_type": "code",
   "execution_count": 67,
   "metadata": {
    "scrolled": true
   },
   "outputs": [
    {
     "name": "stdout",
     "output_type": "stream",
     "text": [
      "   Price Fs  Miles Fs  Year Is  Cylinders Is  Is Certified Is  Engine Size Ss  \\\n",
      "0     10339     92105     2011             4                0           2.000   \n",
      "1     10339     92105     2011             4                0           2.000   \n",
      "2      6983    151243     2011             4                0           2.000   \n",
      "3      6983    151243     2011             4                0           2.000   \n",
      "4     10951     38498     2011             4                0           2.000   \n",
      "\n",
      "          City Ss          Timezone  AGE  Median Household income  \\\n",
      "0  St. Petersburg  America/New_York    8                    45535   \n",
      "1   Wesley Chapel  America/New_York    8                    43888   \n",
      "2       Frederick  America/New_York    8                    84570   \n",
      "3       Rockville  America/New_York    8                    98221   \n",
      "4     Minneapolis   America/Chicago    8                    70380   \n",
      "\n",
      "   Make Ss_feat  Model Ss_feat  Trim Ss_feat  Interior Color Ss_feat  \\\n",
      "0             5            146            30                    1306   \n",
      "1             5            146            30                    1306   \n",
      "2             5            146            30                    1306   \n",
      "3             5            146            30                    1306   \n",
      "4             5            146            30                    2503   \n",
      "\n",
      "   Exterior Color Ss_feat  Zip Is_feat  Fuel Type Ss_feat  State Ss_feat  \\\n",
      "0                   12324         2346                  5              8   \n",
      "1                   12324         2317                  5              8   \n",
      "2                   12324         1113                  5             18   \n",
      "3                   12324         1021                  5             18   \n",
      "4                    8636         4304                  5             21   \n",
      "\n",
      "   Body Type Ss_feat  \n",
      "0                  1  \n",
      "1                  1  \n",
      "2                  1  \n",
      "3                  1  \n",
      "4                  1  \n"
     ]
    }
   ],
   "source": [
    "print(labeled.head())"
   ]
  },
  {
   "cell_type": "code",
   "execution_count": 68,
   "metadata": {
    "scrolled": true
   },
   "outputs": [
    {
     "data": {
      "text/plain": [
       "<matplotlib.axes._subplots.AxesSubplot at 0x1a39faecc50>"
      ]
     },
     "execution_count": 68,
     "metadata": {},
     "output_type": "execute_result"
    },
    {
     "data": {
      "image/png": "[encoded data removed]",
      "text/plain": [
       "<Figure size 432x288 with 2 Axes>"
      ]
     },
     "metadata": {},
     "output_type": "display_data"
    }
   ],
   "source": [
    "corr = labeled.corr(method='pearson')\n",
    "sns.heatmap(corr, annot = True, fmt =\".1g\", annot_kws={\"size\": 7}, cmap = \"Blues\")"
   ]
  },
  {
   "cell_type": "code",
   "execution_count": 70,
   "metadata": {
    "scrolled": true
   },
   "outputs": [
    {
     "data": {
      "text/plain": [
       "Engine Size Ss            0.494\n",
       "Cylinders Is              0.488\n",
       "Year Is                   0.449\n",
       "AGE                       0.449\n",
       "Miles Fs                  0.442\n",
       "Fuel Type Ss_feat         0.321\n",
       "Body Type Ss_feat         0.244\n",
       "Model Ss_feat             0.173\n",
       "Is Certified Is           0.139\n",
       "Make Ss_feat              0.091\n",
       "Trim Ss_feat              0.067\n",
       "Zip Is_feat               0.017\n",
       "Interior Color Ss_feat    0.013\n",
       "Median Household income   0.010\n",
       "State Ss_feat             0.004\n",
       "Exterior Color Ss_feat    0.001\n",
       "Name: Price Fs, dtype: float64"
      ]
     },
     "execution_count": 70,
     "metadata": {},
     "output_type": "execute_result"
    }
   ],
   "source": [
    "labeled.corr().loc[:,'Price Fs'].abs().sort_values(ascending=False)[1:]"
   ]
  },
  {
   "cell_type": "markdown",
   "metadata": {},
   "source": [
    "# Model Selection\n",
    "Used Random Forest Regressor with the 10 most influencing features to predict price (80/20 train test split)"
   ]
  },
  {
   "cell_type": "code",
   "execution_count": 71,
   "metadata": {},
   "outputs": [],
   "source": [
    "y = labeled['Price Fs']"
   ]
  },
  {
   "cell_type": "code",
   "execution_count": 73,
   "metadata": {},
   "outputs": [],
   "source": [
    "X = labeled[['Engine Size Ss', 'Cylinders Is', 'Year Is','Miles Fs','Fuel Type Ss_feat', \n",
    "             'Body Type Ss_feat','Model Ss_feat','Is Certified Is', 'AGE','Make Ss_feat',\n",
    "             'Trim Ss_feat','Zip Is_feat','Interior Color Ss_feat','Median Household income']]\n",
    "             "
   ]
  },
  {
   "cell_type": "code",
   "execution_count": 74,
   "metadata": {},
   "outputs": [],
   "source": [
    "X_train, X_test, y_train, y_test = train_test_split(X, y, test_size=0.2, random_state=42)"
   ]
  },
  {
   "cell_type": "code",
   "execution_count": 75,
   "metadata": {},
   "outputs": [],
   "source": [
    "rf = RandomForestRegressor()"
   ]
  },
  {
   "cell_type": "code",
   "execution_count": 76,
   "metadata": {
    "scrolled": false
   },
   "outputs": [
    {
     "name": "stderr",
     "output_type": "stream",
     "text": [
      "C:\\Users\\yexin\\Anaconda3\\envs\\myenv\\lib\\site-packages\\sklearn\\ensemble\\forest.py:248: FutureWarning: The default value of n_estimators will change from 10 in version 0.20 to 100 in 0.22.\n",
      "  \"10 in version 0.20 to 100 in 0.22.\", FutureWarning)\n"
     ]
    },
    {
     "data": {
      "text/plain": [
       "RandomForestRegressor(bootstrap=True, criterion='mse', max_depth=None,\n",
       "           max_features='auto', max_leaf_nodes=None,\n",
       "           min_impurity_decrease=0.0, min_impurity_split=None,\n",
       "           min_samples_leaf=1, min_samples_split=2,\n",
       "           min_weight_fraction_leaf=0.0, n_estimators=10, n_jobs=None,\n",
       "           oob_score=False, random_state=None, verbose=0, warm_start=False)"
      ]
     },
     "execution_count": 76,
     "metadata": {},
     "output_type": "execute_result"
    }
   ],
   "source": [
    "rf.fit(X_train, y_train)"
   ]
  },
  {
   "cell_type": "code",
   "execution_count": 77,
   "metadata": {},
   "outputs": [],
   "source": [
    "y_pred = rf.predict(X_test)"
   ]
  },
  {
   "cell_type": "code",
   "execution_count": 79,
   "metadata": {},
   "outputs": [
    {
     "data": {
      "text/plain": [
       "0.9381805363473891"
      ]
     },
     "execution_count": 79,
     "metadata": {},
     "output_type": "execute_result"
    }
   ],
   "source": [
    "explained_variance_score(y_pred, y_test)"
   ]
  },
  {
   "cell_type": "code",
   "execution_count": 80,
   "metadata": {},
   "outputs": [
    {
     "data": {
      "text/plain": [
       "0.9381797573240136"
      ]
     },
     "execution_count": 80,
     "metadata": {},
     "output_type": "execute_result"
    }
   ],
   "source": [
    "r2_score(y_pred, y_test)"
   ]
  },
  {
   "cell_type": "code",
   "execution_count": 81,
   "metadata": {},
   "outputs": [
    {
     "data": {
      "text/plain": [
       "6458643.274736407"
      ]
     },
     "execution_count": 81,
     "metadata": {},
     "output_type": "execute_result"
    }
   ],
   "source": [
    "mean_squared_error(y_pred, y_test)"
   ]
  },
  {
   "cell_type": "code",
   "execution_count": null,
   "metadata": {},
   "outputs": [],
   "source": []
  }
 ],
 "metadata": {
  "kernelspec": {
   "display_name": "Python 3",
   "language": "python",
   "name": "python3"
  },
  "language_info": {
   "codemirror_mode": {
    "name": "ipython",
    "version": 3
   },
   "file_extension": ".py",
   "mimetype": "text/x-python",
   "name": "python",
   "nbconvert_exporter": "python",
   "pygments_lexer": "ipython3",
   "version": "3.6.5"
  }
 },
 "nbformat": 4,
 "nbformat_minor": 2
}
