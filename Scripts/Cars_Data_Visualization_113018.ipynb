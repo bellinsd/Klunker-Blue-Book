{
 "cells": [
  {
   "cell_type": "code",
   "execution_count": 1,
   "metadata": {},
   "outputs": [],
   "source": [
    "import pandas as pd\n",
    "import seaborn as sns\n",
    "import matplotlib.pyplot as plt\n",
    "import numpy as np\n",
    "from pandas.plotting import scatter_matrix\n",
    "from pandas.plotting import parallel_coordinates\n",
    "from sklearn.feature_selection import SelectPercentile\n",
    "from sklearn.feature_selection import SelectFromModel\n",
    "from sklearn.model_selection import train_test_split\n",
    "from sklearn.ensemble import RandomForestRegressor, RandomForestClassifier\n",
    "from sklearn.metrics import r2_score, mean_squared_error, explained_variance_score\n",
    "from sklearn import linear_model\n",
    "from sklearn.preprocessing import OneHotEncoder, LabelEncoder\n",
    "\n",
    "from sklearn.ensemble import GradientBoostingRegressor\n",
    "\n",
    "%matplotlib inline\n",
    "pd.set_option('display.float_format', lambda x: '%.3f' % x)\n",
    "pd.options.display.max_columns = None"
   ]
  },
  {
   "cell_type": "markdown",
   "metadata": {},
   "source": [
    "# 1 Data for Feature Engineering\n",
    "First we ingested the Market Check Used Car Inventory data file containing used cars accross United States (~6.7 million instances with 38 features\n",
    "Then we did initial data wraggling in SQLite and Alteryx (Removed columns with null values, single values, huge descriptive text values. Also instances with null values and 4 digit zipcodes"
   ]
  },
  {
   "cell_type": "code",
   "execution_count": 2,
   "metadata": {
    "scrolled": true
   },
   "outputs": [],
   "source": [
    "# Read in CSV file\n",
    "#car_data_clean = pd.read_csv(r'C:\\Users\\yexin\\Desktop\\KBB\\car_data_clean_final.csv')\n",
    "car_data_clean = pd.read_csv(r'C:\\Users\\yexin\\Desktop\\KBB\\NewCarData_clean.csv')\n"
   ]
  },
  {
   "cell_type": "code",
   "execution_count": 3,
   "metadata": {
    "scrolled": false
   },
   "outputs": [
    {
     "name": "stdout",
     "output_type": "stream",
     "text": [
      "(336511, 51)\n"
     ]
    }
   ],
   "source": [
    "# Check in the initial data set\n",
    "print(car_data_clean.shape)"
   ]
  },
  {
   "cell_type": "code",
   "execution_count": 4,
   "metadata": {},
   "outputs": [
    {
     "data": {
      "text/plain": [
       "(336511, 50)"
      ]
     },
     "execution_count": 4,
     "metadata": {},
     "output_type": "execute_result"
    }
   ],
   "source": [
    "feature_df= car_data_clean.drop (car_data_clean.columns[0], axis =1)\n",
    "feature_df.shape"
   ]
  },
  {
   "cell_type": "code",
   "execution_count": 5,
   "metadata": {},
   "outputs": [],
   "source": [
    "#Converting Currencty to Numberic features\n",
    "\n",
    "feature_df['Median Family income Num']= (feature_df['Median Family income'].replace ( '[\\$,)]','', regex=True )\n",
    "                                     .replace( '[(]','-',   regex=True ).astype(float))\n",
    "feature_df['Per Capita income Num']= (feature_df['Per Capita income'].replace ( '[\\$,)]','', regex=True )\n",
    "                                    .replace( '[(]','-',   regex=True ).astype(float))\n",
    "\n",
    "feature_df['Median Household income Num']= (feature_df['Median Household income'].replace ( '[\\$,)]','', regex=True )\n",
    "                                    .replace( '[(]','-',   regex=True ).astype(float))"
   ]
  },
  {
   "cell_type": "code",
   "execution_count": 6,
   "metadata": {
    "scrolled": false
   },
   "outputs": [
    {
     "data": {
      "text/html": [
       "<div>\n",
       "<style scoped>\n",
       "    .dataframe tbody tr th:only-of-type {\n",
       "        vertical-align: middle;\n",
       "    }\n",
       "\n",
       "    .dataframe tbody tr th {\n",
       "        vertical-align: top;\n",
       "    }\n",
       "\n",
       "    .dataframe thead th {\n",
       "        text-align: right;\n",
       "    }\n",
       "</style>\n",
       "<table border=\"1\" class=\"dataframe\">\n",
       "  <thead>\n",
       "    <tr style=\"text-align: right;\">\n",
       "      <th></th>\n",
       "      <th>vin</th>\n",
       "      <th>price</th>\n",
       "      <th>miles</th>\n",
       "      <th>year</th>\n",
       "      <th>make</th>\n",
       "      <th>model</th>\n",
       "      <th>trim</th>\n",
       "      <th>vehicle_type</th>\n",
       "      <th>body_type</th>\n",
       "      <th>drivetrain</th>\n",
       "      <th>fuel_type</th>\n",
       "      <th>engine</th>\n",
       "      <th>engine_size</th>\n",
       "      <th>transmission</th>\n",
       "      <th>doors</th>\n",
       "      <th>cylinders</th>\n",
       "      <th>interior_color</th>\n",
       "      <th>exterior_color</th>\n",
       "      <th>scraped_at</th>\n",
       "      <th>status_date</th>\n",
       "      <th>zip</th>\n",
       "      <th>is_certified</th>\n",
       "      <th>dom</th>\n",
       "      <th>dom_180</th>\n",
       "      <th>msrp</th>\n",
       "      <th>dom_active</th>\n",
       "      <th>Rank</th>\n",
       "      <th>County</th>\n",
       "      <th>State short</th>\n",
       "      <th>Per Capita income</th>\n",
       "      <th>Median Household income</th>\n",
       "      <th>Median Family income</th>\n",
       "      <th>Population</th>\n",
       "      <th>Number of households</th>\n",
       "      <th>State full</th>\n",
       "      <th>States Short</th>\n",
       "      <th>States</th>\n",
       "      <th>Regions</th>\n",
       "      <th>type</th>\n",
       "      <th>decommissioned</th>\n",
       "      <th>primary_city</th>\n",
       "      <th>state</th>\n",
       "      <th>county</th>\n",
       "      <th>timezone</th>\n",
       "      <th>latitude</th>\n",
       "      <th>longitude</th>\n",
       "      <th>irs_estimated_population_2015</th>\n",
       "      <th>county full</th>\n",
       "      <th>YEAR</th>\n",
       "      <th>AGE</th>\n",
       "      <th>Median Family income Num</th>\n",
       "      <th>Per Capita income Num</th>\n",
       "      <th>Median Household income Num</th>\n",
       "    </tr>\n",
       "  </thead>\n",
       "  <tbody>\n",
       "    <tr>\n",
       "      <th>0</th>\n",
       "      <td>1GTP6DE12G1234957</td>\n",
       "      <td>31500.000</td>\n",
       "      <td>44360.000</td>\n",
       "      <td>2016.000</td>\n",
       "      <td>GMC</td>\n",
       "      <td>Canyon</td>\n",
       "      <td>SLT</td>\n",
       "      <td>Truck</td>\n",
       "      <td>Pickup</td>\n",
       "      <td>4-Wheel Drive</td>\n",
       "      <td>Diesel</td>\n",
       "      <td>2.8L L4 DOHC 24V TURBO DIESEL</td>\n",
       "      <td>2.800</td>\n",
       "      <td>Automatic</td>\n",
       "      <td>4.000</td>\n",
       "      <td>4.000</td>\n",
       "      <td>JET BLACK</td>\n",
       "      <td>Summit White</td>\n",
       "      <td>2018-09-13T10:24:47Z</td>\n",
       "      <td>2018-11-10T05:16:06Z</td>\n",
       "      <td>64730</td>\n",
       "      <td>1.000</td>\n",
       "      <td>89</td>\n",
       "      <td>13</td>\n",
       "      <td>34852.000</td>\n",
       "      <td>0</td>\n",
       "      <td>2079</td>\n",
       "      <td>Bates</td>\n",
       "      <td>MO</td>\n",
       "      <td>$21,047.00</td>\n",
       "      <td>$38,579.00</td>\n",
       "      <td>$50,469.00</td>\n",
       "      <td>16878</td>\n",
       "      <td>6832</td>\n",
       "      <td>Missouri</td>\n",
       "      <td>MO</td>\n",
       "      <td>Missouri</td>\n",
       "      <td>MidWest</td>\n",
       "      <td>STANDARD</td>\n",
       "      <td>0</td>\n",
       "      <td>Butler</td>\n",
       "      <td>MO</td>\n",
       "      <td>Bates</td>\n",
       "      <td>America/Chicago</td>\n",
       "      <td>38.250</td>\n",
       "      <td>-94.330</td>\n",
       "      <td>5800</td>\n",
       "      <td>Bates County</td>\n",
       "      <td>2016</td>\n",
       "      <td>3</td>\n",
       "      <td>50469.000</td>\n",
       "      <td>21047.000</td>\n",
       "      <td>38579.000</td>\n",
       "    </tr>\n",
       "    <tr>\n",
       "      <th>1</th>\n",
       "      <td>2C3CCAKG3GH325272</td>\n",
       "      <td>22500.000</td>\n",
       "      <td>35195.000</td>\n",
       "      <td>2016.000</td>\n",
       "      <td>Chrysler</td>\n",
       "      <td>300</td>\n",
       "      <td>C</td>\n",
       "      <td>Car</td>\n",
       "      <td>Sedan</td>\n",
       "      <td>All Wheel Drive</td>\n",
       "      <td>Regular Unleaded</td>\n",
       "      <td>3.6L V6 SOHC 24V</td>\n",
       "      <td>3.600</td>\n",
       "      <td>Automatic</td>\n",
       "      <td>4.000</td>\n",
       "      <td>6.000</td>\n",
       "      <td>BLACK</td>\n",
       "      <td>Billet Silver Metallic Clearcoat</td>\n",
       "      <td>2018-10-25T14:21:05Z</td>\n",
       "      <td>2018-11-10T05:19:43Z</td>\n",
       "      <td>64730</td>\n",
       "      <td>1.000</td>\n",
       "      <td>138</td>\n",
       "      <td>70</td>\n",
       "      <td>22500.000</td>\n",
       "      <td>70</td>\n",
       "      <td>2079</td>\n",
       "      <td>Bates</td>\n",
       "      <td>MO</td>\n",
       "      <td>$21,047.00</td>\n",
       "      <td>$38,579.00</td>\n",
       "      <td>$50,469.00</td>\n",
       "      <td>16878</td>\n",
       "      <td>6832</td>\n",
       "      <td>Missouri</td>\n",
       "      <td>MO</td>\n",
       "      <td>Missouri</td>\n",
       "      <td>MidWest</td>\n",
       "      <td>STANDARD</td>\n",
       "      <td>0</td>\n",
       "      <td>Butler</td>\n",
       "      <td>MO</td>\n",
       "      <td>Bates</td>\n",
       "      <td>America/Chicago</td>\n",
       "      <td>38.250</td>\n",
       "      <td>-94.330</td>\n",
       "      <td>5800</td>\n",
       "      <td>Bates County</td>\n",
       "      <td>2016</td>\n",
       "      <td>3</td>\n",
       "      <td>50469.000</td>\n",
       "      <td>21047.000</td>\n",
       "      <td>38579.000</td>\n",
       "    </tr>\n",
       "    <tr>\n",
       "      <th>2</th>\n",
       "      <td>JTDKARFU6G3504811</td>\n",
       "      <td>21600.000</td>\n",
       "      <td>16513.000</td>\n",
       "      <td>2016.000</td>\n",
       "      <td>Toyota</td>\n",
       "      <td>Prius</td>\n",
       "      <td>Four</td>\n",
       "      <td>Car</td>\n",
       "      <td>Hatchback</td>\n",
       "      <td>Front Wheel Drive</td>\n",
       "      <td>Regular Unleaded</td>\n",
       "      <td>1.8L L4 DOHC 16V HYBRID</td>\n",
       "      <td>1.800</td>\n",
       "      <td>Automatic</td>\n",
       "      <td>4.000</td>\n",
       "      <td>4.000</td>\n",
       "      <td>MOONSTONE</td>\n",
       "      <td>White</td>\n",
       "      <td>2018-10-21T08:38:22Z</td>\n",
       "      <td>2018-11-10T16:11:40Z</td>\n",
       "      <td>43110</td>\n",
       "      <td>1.000</td>\n",
       "      <td>60</td>\n",
       "      <td>22</td>\n",
       "      <td>21600.000</td>\n",
       "      <td>22</td>\n",
       "      <td>461</td>\n",
       "      <td>Franklin County</td>\n",
       "      <td>OH</td>\n",
       "      <td>$28,283.00</td>\n",
       "      <td>$50,877.00</td>\n",
       "      <td>$64,693.00</td>\n",
       "      <td>1181824</td>\n",
       "      <td>468295</td>\n",
       "      <td>Ohio</td>\n",
       "      <td>OH</td>\n",
       "      <td>Ohio</td>\n",
       "      <td>MidWest</td>\n",
       "      <td>STANDARD</td>\n",
       "      <td>0</td>\n",
       "      <td>Canal Winchester</td>\n",
       "      <td>OH</td>\n",
       "      <td>Franklin County</td>\n",
       "      <td>America/New_York</td>\n",
       "      <td>39.840</td>\n",
       "      <td>-82.820</td>\n",
       "      <td>34950</td>\n",
       "      <td>Franklin County</td>\n",
       "      <td>2016</td>\n",
       "      <td>3</td>\n",
       "      <td>64693.000</td>\n",
       "      <td>28283.000</td>\n",
       "      <td>50877.000</td>\n",
       "    </tr>\n",
       "    <tr>\n",
       "      <th>3</th>\n",
       "      <td>5J6RM4H97GL054923</td>\n",
       "      <td>26057.000</td>\n",
       "      <td>25162.000</td>\n",
       "      <td>2016.000</td>\n",
       "      <td>Honda</td>\n",
       "      <td>CR-V</td>\n",
       "      <td>Touring</td>\n",
       "      <td>SUV</td>\n",
       "      <td>SUV</td>\n",
       "      <td>All Wheel Drive</td>\n",
       "      <td>Regular Unleaded</td>\n",
       "      <td>2.4L L4 DOHC 16V</td>\n",
       "      <td>2.400</td>\n",
       "      <td>Automatic</td>\n",
       "      <td>4.000</td>\n",
       "      <td>4.000</td>\n",
       "      <td>Black</td>\n",
       "      <td>White Diamond Pearl</td>\n",
       "      <td>2018-10-30T06:44:29Z</td>\n",
       "      <td>2018-11-10T16:50:53Z</td>\n",
       "      <td>43110</td>\n",
       "      <td>1.000</td>\n",
       "      <td>152</td>\n",
       "      <td>73</td>\n",
       "      <td>26057.000</td>\n",
       "      <td>73</td>\n",
       "      <td>461</td>\n",
       "      <td>Franklin County</td>\n",
       "      <td>OH</td>\n",
       "      <td>$28,283.00</td>\n",
       "      <td>$50,877.00</td>\n",
       "      <td>$64,693.00</td>\n",
       "      <td>1181824</td>\n",
       "      <td>468295</td>\n",
       "      <td>Ohio</td>\n",
       "      <td>OH</td>\n",
       "      <td>Ohio</td>\n",
       "      <td>MidWest</td>\n",
       "      <td>STANDARD</td>\n",
       "      <td>0</td>\n",
       "      <td>Canal Winchester</td>\n",
       "      <td>OH</td>\n",
       "      <td>Franklin County</td>\n",
       "      <td>America/New_York</td>\n",
       "      <td>39.840</td>\n",
       "      <td>-82.820</td>\n",
       "      <td>34950</td>\n",
       "      <td>Franklin County</td>\n",
       "      <td>2016</td>\n",
       "      <td>3</td>\n",
       "      <td>64693.000</td>\n",
       "      <td>28283.000</td>\n",
       "      <td>50877.000</td>\n",
       "    </tr>\n",
       "    <tr>\n",
       "      <th>4</th>\n",
       "      <td>1G11C5SA1GF111025</td>\n",
       "      <td>15475.000</td>\n",
       "      <td>32865.000</td>\n",
       "      <td>2016.000</td>\n",
       "      <td>Chevrolet</td>\n",
       "      <td>Malibu Limited</td>\n",
       "      <td>LT</td>\n",
       "      <td>Car</td>\n",
       "      <td>Sedan</td>\n",
       "      <td>Front Wheel Drive</td>\n",
       "      <td>Regular Unleaded</td>\n",
       "      <td>2.5L L4 DOHC 16V</td>\n",
       "      <td>2.500</td>\n",
       "      <td>Automatic</td>\n",
       "      <td>4.000</td>\n",
       "      <td>4.000</td>\n",
       "      <td>JET BLACK</td>\n",
       "      <td>Silver Ice</td>\n",
       "      <td>2018-10-20T04:54:05Z</td>\n",
       "      <td>2018-11-10T17:36:51Z</td>\n",
       "      <td>43110</td>\n",
       "      <td>1.000</td>\n",
       "      <td>23</td>\n",
       "      <td>23</td>\n",
       "      <td>15475.000</td>\n",
       "      <td>23</td>\n",
       "      <td>461</td>\n",
       "      <td>Franklin County</td>\n",
       "      <td>OH</td>\n",
       "      <td>$28,283.00</td>\n",
       "      <td>$50,877.00</td>\n",
       "      <td>$64,693.00</td>\n",
       "      <td>1181824</td>\n",
       "      <td>468295</td>\n",
       "      <td>Ohio</td>\n",
       "      <td>OH</td>\n",
       "      <td>Ohio</td>\n",
       "      <td>MidWest</td>\n",
       "      <td>STANDARD</td>\n",
       "      <td>0</td>\n",
       "      <td>Canal Winchester</td>\n",
       "      <td>OH</td>\n",
       "      <td>Franklin County</td>\n",
       "      <td>America/New_York</td>\n",
       "      <td>39.840</td>\n",
       "      <td>-82.820</td>\n",
       "      <td>34950</td>\n",
       "      <td>Franklin County</td>\n",
       "      <td>2016</td>\n",
       "      <td>3</td>\n",
       "      <td>64693.000</td>\n",
       "      <td>28283.000</td>\n",
       "      <td>50877.000</td>\n",
       "    </tr>\n",
       "  </tbody>\n",
       "</table>\n",
       "</div>"
      ],
      "text/plain": [
       "                 vin     price     miles     year       make           model  \\\n",
       "0  1GTP6DE12G1234957 31500.000 44360.000 2016.000        GMC          Canyon   \n",
       "1  2C3CCAKG3GH325272 22500.000 35195.000 2016.000   Chrysler             300   \n",
       "2  JTDKARFU6G3504811 21600.000 16513.000 2016.000     Toyota           Prius   \n",
       "3  5J6RM4H97GL054923 26057.000 25162.000 2016.000      Honda            CR-V   \n",
       "4  1G11C5SA1GF111025 15475.000 32865.000 2016.000  Chevrolet  Malibu Limited   \n",
       "\n",
       "      trim vehicle_type  body_type         drivetrain         fuel_type  \\\n",
       "0      SLT        Truck     Pickup      4-Wheel Drive            Diesel   \n",
       "1        C          Car      Sedan    All Wheel Drive  Regular Unleaded   \n",
       "2     Four          Car  Hatchback  Front Wheel Drive  Regular Unleaded   \n",
       "3  Touring          SUV        SUV    All Wheel Drive  Regular Unleaded   \n",
       "4       LT          Car      Sedan  Front Wheel Drive  Regular Unleaded   \n",
       "\n",
       "                          engine  engine_size transmission  doors  cylinders  \\\n",
       "0  2.8L L4 DOHC 24V TURBO DIESEL        2.800    Automatic  4.000      4.000   \n",
       "1               3.6L V6 SOHC 24V        3.600    Automatic  4.000      6.000   \n",
       "2        1.8L L4 DOHC 16V HYBRID        1.800    Automatic  4.000      4.000   \n",
       "3               2.4L L4 DOHC 16V        2.400    Automatic  4.000      4.000   \n",
       "4               2.5L L4 DOHC 16V        2.500    Automatic  4.000      4.000   \n",
       "\n",
       "  interior_color                    exterior_color            scraped_at  \\\n",
       "0      JET BLACK                      Summit White  2018-09-13T10:24:47Z   \n",
       "1          BLACK  Billet Silver Metallic Clearcoat  2018-10-25T14:21:05Z   \n",
       "2      MOONSTONE                             White  2018-10-21T08:38:22Z   \n",
       "3          Black               White Diamond Pearl  2018-10-30T06:44:29Z   \n",
       "4      JET BLACK                        Silver Ice  2018-10-20T04:54:05Z   \n",
       "\n",
       "            status_date    zip  is_certified  dom  dom_180      msrp  \\\n",
       "0  2018-11-10T05:16:06Z  64730         1.000   89       13 34852.000   \n",
       "1  2018-11-10T05:19:43Z  64730         1.000  138       70 22500.000   \n",
       "2  2018-11-10T16:11:40Z  43110         1.000   60       22 21600.000   \n",
       "3  2018-11-10T16:50:53Z  43110         1.000  152       73 26057.000   \n",
       "4  2018-11-10T17:36:51Z  43110         1.000   23       23 15475.000   \n",
       "\n",
       "   dom_active  Rank           County State short Per Capita income  \\\n",
       "0           0  2079            Bates          MO        $21,047.00   \n",
       "1          70  2079            Bates          MO        $21,047.00   \n",
       "2          22   461  Franklin County          OH        $28,283.00   \n",
       "3          73   461  Franklin County          OH        $28,283.00   \n",
       "4          23   461  Franklin County          OH        $28,283.00   \n",
       "\n",
       "  Median Household income Median Family income  Population  \\\n",
       "0              $38,579.00           $50,469.00       16878   \n",
       "1              $38,579.00           $50,469.00       16878   \n",
       "2              $50,877.00           $64,693.00     1181824   \n",
       "3              $50,877.00           $64,693.00     1181824   \n",
       "4              $50,877.00           $64,693.00     1181824   \n",
       "\n",
       "   Number of households State full States Short    States  Regions      type  \\\n",
       "0                  6832   Missouri           MO  Missouri  MidWest  STANDARD   \n",
       "1                  6832   Missouri           MO  Missouri  MidWest  STANDARD   \n",
       "2                468295       Ohio           OH      Ohio  MidWest  STANDARD   \n",
       "3                468295       Ohio           OH      Ohio  MidWest  STANDARD   \n",
       "4                468295       Ohio           OH      Ohio  MidWest  STANDARD   \n",
       "\n",
       "   decommissioned      primary_city state           county          timezone  \\\n",
       "0               0            Butler    MO            Bates   America/Chicago   \n",
       "1               0            Butler    MO            Bates   America/Chicago   \n",
       "2               0  Canal Winchester    OH  Franklin County  America/New_York   \n",
       "3               0  Canal Winchester    OH  Franklin County  America/New_York   \n",
       "4               0  Canal Winchester    OH  Franklin County  America/New_York   \n",
       "\n",
       "   latitude  longitude  irs_estimated_population_2015      county full  YEAR  \\\n",
       "0    38.250    -94.330                           5800     Bates County  2016   \n",
       "1    38.250    -94.330                           5800     Bates County  2016   \n",
       "2    39.840    -82.820                          34950  Franklin County  2016   \n",
       "3    39.840    -82.820                          34950  Franklin County  2016   \n",
       "4    39.840    -82.820                          34950  Franklin County  2016   \n",
       "\n",
       "   AGE  Median Family income Num  Per Capita income Num  \\\n",
       "0    3                 50469.000              21047.000   \n",
       "1    3                 50469.000              21047.000   \n",
       "2    3                 64693.000              28283.000   \n",
       "3    3                 64693.000              28283.000   \n",
       "4    3                 64693.000              28283.000   \n",
       "\n",
       "   Median Household income Num  \n",
       "0                    38579.000  \n",
       "1                    38579.000  \n",
       "2                    50877.000  \n",
       "3                    50877.000  \n",
       "4                    50877.000  "
      ]
     },
     "execution_count": 6,
     "metadata": {},
     "output_type": "execute_result"
    }
   ],
   "source": [
    "feature_df.head()"
   ]
  },
  {
   "cell_type": "markdown",
   "metadata": {},
   "source": [
    "# Data Visualization\n",
    "Performed exploratory data analysis to better understand how data is distributed"
   ]
  },
  {
   "cell_type": "markdown",
   "metadata": {},
   "source": [
    "### EDA1: Price of used car distributed\n",
    "With this information above we can see that the prices are skewed right. Most of the price are around 200,000 and some outliers lies above 300,000. We will eventually want to get rid of the them to get a normal distribution of the independent variable (`Price Fs`) for machine learning."
   ]
  },
  {
   "cell_type": "code",
   "execution_count": 13,
   "metadata": {
    "scrolled": true
   },
   "outputs": [
    {
     "data": {
      "text/plain": [
       "Index(['vin', 'price', 'miles', 'year', 'make', 'model', 'trim',\n",
       "       'vehicle_type', 'body_type', 'drivetrain', 'fuel_type', 'engine',\n",
       "       'engine_size', 'transmission', 'doors', 'cylinders', 'interior_color',\n",
       "       'exterior_color', 'scraped_at', 'status_date', 'zip', 'is_certified',\n",
       "       'dom', 'dom_180', 'msrp', 'dom_active', 'Rank', 'County', 'State short',\n",
       "       'Per Capita income', 'Median Household income', 'Median Family income',\n",
       "       'Population', 'Number of households', 'State full', 'States Short',\n",
       "       'States', 'Regions', 'type', 'decommissioned', 'primary_city', 'state',\n",
       "       'county', 'timezone', 'latitude', 'longitude',\n",
       "       'irs_estimated_population_2015', 'county full', 'YEAR', 'AGE',\n",
       "       'Median Family income Num', 'Per Capita income Num',\n",
       "       'Median Household income Num'],\n",
       "      dtype='object')"
      ]
     },
     "execution_count": 13,
     "metadata": {},
     "output_type": "execute_result"
    }
   ],
   "source": [
    "feature_df.columns"
   ]
  },
  {
   "cell_type": "code",
   "execution_count": 8,
   "metadata": {
    "scrolled": false
   },
   "outputs": [
    {
     "data": {
      "text/plain": [
       "count   336511.000\n",
       "mean     26400.023\n",
       "std      13207.210\n",
       "min        348.000\n",
       "25%      17989.000\n",
       "50%      23963.000\n",
       "75%      31663.000\n",
       "max     999995.000\n",
       "Name: price, dtype: float64"
      ]
     },
     "execution_count": 8,
     "metadata": {},
     "output_type": "execute_result"
    }
   ],
   "source": [
    "feature_df ['price'].describe()"
   ]
  },
  {
   "cell_type": "code",
   "execution_count": 11,
   "metadata": {
    "scrolled": false
   },
   "outputs": [
    {
     "name": "stderr",
     "output_type": "stream",
     "text": [
      "C:\\Users\\yexin\\Anaconda3\\envs\\myenv\\lib\\site-packages\\scipy\\stats\\stats.py:1713: FutureWarning: Using a non-tuple sequence for multidimensional indexing is deprecated; use `arr[tuple(seq)]` instead of `arr[seq]`. In the future this will be interpreted as an array index, `arr[np.array(seq)]`, which will result either in an error or a different result.\n",
      "  return np.add.reduce(sorted[indexer] * weights, axis=axis) / sumval\n"
     ]
    },
    {
     "data": {
      "text/plain": [
       "<matplotlib.axes._subplots.AxesSubplot at 0x15fed259780>"
      ]
     },
     "execution_count": 11,
     "metadata": {},
     "output_type": "execute_result"
    },
    {
     "data": {
      "image/png": "[encoded data removed]",
      "text/plain": [
       "<Figure size 648x576 with 1 Axes>"
      ]
     },
     "metadata": {},
     "output_type": "display_data"
    }
   ],
   "source": [
    "plt.figure(figsize=(9, 8))\n",
    "sns.distplot(feature_df['price_fs'], color='g', bins=50)"
   ]
  },
  {
   "cell_type": "code",
   "execution_count": 16,
   "metadata": {},
   "outputs": [],
   "source": [
    "#obviously, we have outerlier of car price. So we need to remove outliers"
   ]
  },
  {
   "cell_type": "code",
   "execution_count": 26,
   "metadata": {},
   "outputs": [],
   "source": [
    "ol = (feature_df['price'] < 100000) "
   ]
  },
  {
   "cell_type": "code",
   "execution_count": 27,
   "metadata": {},
   "outputs": [],
   "source": [
    "feature_df = feature_df[ol]"
   ]
  },
  {
   "cell_type": "code",
   "execution_count": 28,
   "metadata": {
    "scrolled": true
   },
   "outputs": [
    {
     "data": {
      "text/plain": [
       "(335590, 53)"
      ]
     },
     "execution_count": 28,
     "metadata": {},
     "output_type": "execute_result"
    }
   ],
   "source": [
    "# outterlier is removed\n",
    "feature_df.shape"
   ]
  },
  {
   "cell_type": "code",
   "execution_count": 29,
   "metadata": {
    "scrolled": false
   },
   "outputs": [
    {
     "name": "stderr",
     "output_type": "stream",
     "text": [
      "C:\\Users\\yexin\\Anaconda3\\envs\\myenv\\lib\\site-packages\\scipy\\stats\\stats.py:1713: FutureWarning: Using a non-tuple sequence for multidimensional indexing is deprecated; use `arr[tuple(seq)]` instead of `arr[seq]`. In the future this will be interpreted as an array index, `arr[np.array(seq)]`, which will result either in an error or a different result.\n",
      "  return np.add.reduce(sorted[indexer] * weights, axis=axis) / sumval\n"
     ]
    },
    {
     "data": {
      "text/plain": [
       "<matplotlib.axes._subplots.AxesSubplot at 0x24e31dbd6a0>"
      ]
     },
     "execution_count": 29,
     "metadata": {},
     "output_type": "execute_result"
    },
    {
     "data": {
      "image/png": "[encoded data removed]",
      "text/plain": [
       "<Figure size 648x576 with 1 Axes>"
      ]
     },
     "metadata": {},
     "output_type": "display_data"
    }
   ],
   "source": [
    "# so  now the car price distribution looks more even\n",
    "plt.figure(figsize=(9, 8))\n",
    "sns.distplot(feature_df['price'], color='g', bins=50)"
   ]
  },
  {
   "cell_type": "code",
   "execution_count": 31,
   "metadata": {
    "scrolled": false
   },
   "outputs": [
    {
     "data": {
      "text/plain": [
       "Index(['vin', 'price', 'miles', 'year', 'make', 'model', 'trim',\n",
       "       'vehicle_type', 'body_type', 'drivetrain', 'fuel_type', 'engine',\n",
       "       'engine_size', 'transmission', 'doors', 'cylinders', 'interior_color',\n",
       "       'exterior_color', 'scraped_at', 'status_date', 'zip', 'is_certified',\n",
       "       'dom', 'dom_180', 'msrp', 'dom_active', 'Rank', 'County', 'State short',\n",
       "       'Per Capita income', 'Median Household income', 'Median Family income',\n",
       "       'Population', 'Number of households', 'State full', 'States Short',\n",
       "       'States', 'Regions', 'type', 'decommissioned', 'primary_city', 'state',\n",
       "       'county', 'timezone', 'latitude', 'longitude',\n",
       "       'irs_estimated_population_2015', 'county full', 'YEAR', 'AGE',\n",
       "       'Median Family income Num', 'Per Capita income Num',\n",
       "       'Median Household income Num'],\n",
       "      dtype='object')"
      ]
     },
     "execution_count": 31,
     "metadata": {},
     "output_type": "execute_result"
    }
   ],
   "source": [
    "feature_df.columns"
   ]
  },
  {
   "cell_type": "code",
   "execution_count": 32,
   "metadata": {
    "scrolled": true
   },
   "outputs": [
    {
     "data": {
      "text/plain": [
       "vin                               object\n",
       "price                            float64\n",
       "miles                            float64\n",
       "year                             float64\n",
       "make                              object\n",
       "model                             object\n",
       "trim                              object\n",
       "vehicle_type                      object\n",
       "body_type                         object\n",
       "drivetrain                        object\n",
       "fuel_type                         object\n",
       "engine                            object\n",
       "engine_size                      float64\n",
       "transmission                      object\n",
       "doors                            float64\n",
       "cylinders                        float64\n",
       "interior_color                    object\n",
       "exterior_color                    object\n",
       "scraped_at                        object\n",
       "status_date                       object\n",
       "zip                                int64\n",
       "is_certified                     float64\n",
       "dom                                int64\n",
       "dom_180                            int64\n",
       "msrp                             float64\n",
       "dom_active                         int64\n",
       "Rank                               int64\n",
       "County                            object\n",
       "State short                       object\n",
       "Per Capita income                 object\n",
       "Median Household income           object\n",
       "Median Family income              object\n",
       "Population                         int64\n",
       "Number of households               int64\n",
       "State full                        object\n",
       "States Short                      object\n",
       "States                            object\n",
       "Regions                           object\n",
       "type                              object\n",
       "decommissioned                     int64\n",
       "primary_city                      object\n",
       "state                             object\n",
       "county                            object\n",
       "timezone                          object\n",
       "latitude                         float64\n",
       "longitude                        float64\n",
       "irs_estimated_population_2015      int64\n",
       "county full                       object\n",
       "YEAR                               int64\n",
       "AGE                                int64\n",
       "Median Family income Num         float64\n",
       "Per Capita income Num            float64\n",
       "Median Household income Num      float64\n",
       "dtype: object"
      ]
     },
     "execution_count": 32,
     "metadata": {},
     "output_type": "execute_result"
    }
   ],
   "source": [
    "feature_df.dtypes"
   ]
  },
  {
   "cell_type": "markdown",
   "metadata": {},
   "source": [
    "### EDA2: Numerical Data Distribution\n",
    "Features such as 'Miles Fs' seems to share a similar distributon to the one we have with 'Price Fs'.  Let see if we can find new clue later."
   ]
  },
  {
   "cell_type": "code",
   "execution_count": 33,
   "metadata": {
    "scrolled": false
   },
   "outputs": [
    {
     "data": {
      "text/html": [
       "<div>\n",
       "<style scoped>\n",
       "    .dataframe tbody tr th:only-of-type {\n",
       "        vertical-align: middle;\n",
       "    }\n",
       "\n",
       "    .dataframe tbody tr th {\n",
       "        vertical-align: top;\n",
       "    }\n",
       "\n",
       "    .dataframe thead th {\n",
       "        text-align: right;\n",
       "    }\n",
       "</style>\n",
       "<table border=\"1\" class=\"dataframe\">\n",
       "  <thead>\n",
       "    <tr style=\"text-align: right;\">\n",
       "      <th></th>\n",
       "      <th>price</th>\n",
       "      <th>miles</th>\n",
       "      <th>year</th>\n",
       "      <th>engine_size</th>\n",
       "      <th>doors</th>\n",
       "      <th>cylinders</th>\n",
       "      <th>zip</th>\n",
       "      <th>is_certified</th>\n",
       "      <th>dom</th>\n",
       "      <th>dom_180</th>\n",
       "      <th>msrp</th>\n",
       "      <th>dom_active</th>\n",
       "      <th>Rank</th>\n",
       "      <th>Population</th>\n",
       "      <th>Number of households</th>\n",
       "      <th>decommissioned</th>\n",
       "      <th>latitude</th>\n",
       "      <th>longitude</th>\n",
       "      <th>irs_estimated_population_2015</th>\n",
       "      <th>YEAR</th>\n",
       "      <th>AGE</th>\n",
       "      <th>Median Family income Num</th>\n",
       "      <th>Per Capita income Num</th>\n",
       "      <th>Median Household income Num</th>\n",
       "    </tr>\n",
       "  </thead>\n",
       "  <tbody>\n",
       "    <tr>\n",
       "      <th>0</th>\n",
       "      <td>31500.000</td>\n",
       "      <td>44360.000</td>\n",
       "      <td>2016.000</td>\n",
       "      <td>2.800</td>\n",
       "      <td>4.000</td>\n",
       "      <td>4.000</td>\n",
       "      <td>64730</td>\n",
       "      <td>1.000</td>\n",
       "      <td>89</td>\n",
       "      <td>13</td>\n",
       "      <td>34852.000</td>\n",
       "      <td>0</td>\n",
       "      <td>2079</td>\n",
       "      <td>16878</td>\n",
       "      <td>6832</td>\n",
       "      <td>0</td>\n",
       "      <td>38.250</td>\n",
       "      <td>-94.330</td>\n",
       "      <td>5800</td>\n",
       "      <td>2016</td>\n",
       "      <td>3</td>\n",
       "      <td>50469.000</td>\n",
       "      <td>21047.000</td>\n",
       "      <td>38579.000</td>\n",
       "    </tr>\n",
       "    <tr>\n",
       "      <th>1</th>\n",
       "      <td>22500.000</td>\n",
       "      <td>35195.000</td>\n",
       "      <td>2016.000</td>\n",
       "      <td>3.600</td>\n",
       "      <td>4.000</td>\n",
       "      <td>6.000</td>\n",
       "      <td>64730</td>\n",
       "      <td>1.000</td>\n",
       "      <td>138</td>\n",
       "      <td>70</td>\n",
       "      <td>22500.000</td>\n",
       "      <td>70</td>\n",
       "      <td>2079</td>\n",
       "      <td>16878</td>\n",
       "      <td>6832</td>\n",
       "      <td>0</td>\n",
       "      <td>38.250</td>\n",
       "      <td>-94.330</td>\n",
       "      <td>5800</td>\n",
       "      <td>2016</td>\n",
       "      <td>3</td>\n",
       "      <td>50469.000</td>\n",
       "      <td>21047.000</td>\n",
       "      <td>38579.000</td>\n",
       "    </tr>\n",
       "    <tr>\n",
       "      <th>2</th>\n",
       "      <td>21600.000</td>\n",
       "      <td>16513.000</td>\n",
       "      <td>2016.000</td>\n",
       "      <td>1.800</td>\n",
       "      <td>4.000</td>\n",
       "      <td>4.000</td>\n",
       "      <td>43110</td>\n",
       "      <td>1.000</td>\n",
       "      <td>60</td>\n",
       "      <td>22</td>\n",
       "      <td>21600.000</td>\n",
       "      <td>22</td>\n",
       "      <td>461</td>\n",
       "      <td>1181824</td>\n",
       "      <td>468295</td>\n",
       "      <td>0</td>\n",
       "      <td>39.840</td>\n",
       "      <td>-82.820</td>\n",
       "      <td>34950</td>\n",
       "      <td>2016</td>\n",
       "      <td>3</td>\n",
       "      <td>64693.000</td>\n",
       "      <td>28283.000</td>\n",
       "      <td>50877.000</td>\n",
       "    </tr>\n",
       "    <tr>\n",
       "      <th>3</th>\n",
       "      <td>26057.000</td>\n",
       "      <td>25162.000</td>\n",
       "      <td>2016.000</td>\n",
       "      <td>2.400</td>\n",
       "      <td>4.000</td>\n",
       "      <td>4.000</td>\n",
       "      <td>43110</td>\n",
       "      <td>1.000</td>\n",
       "      <td>152</td>\n",
       "      <td>73</td>\n",
       "      <td>26057.000</td>\n",
       "      <td>73</td>\n",
       "      <td>461</td>\n",
       "      <td>1181824</td>\n",
       "      <td>468295</td>\n",
       "      <td>0</td>\n",
       "      <td>39.840</td>\n",
       "      <td>-82.820</td>\n",
       "      <td>34950</td>\n",
       "      <td>2016</td>\n",
       "      <td>3</td>\n",
       "      <td>64693.000</td>\n",
       "      <td>28283.000</td>\n",
       "      <td>50877.000</td>\n",
       "    </tr>\n",
       "    <tr>\n",
       "      <th>4</th>\n",
       "      <td>15475.000</td>\n",
       "      <td>32865.000</td>\n",
       "      <td>2016.000</td>\n",
       "      <td>2.500</td>\n",
       "      <td>4.000</td>\n",
       "      <td>4.000</td>\n",
       "      <td>43110</td>\n",
       "      <td>1.000</td>\n",
       "      <td>23</td>\n",
       "      <td>23</td>\n",
       "      <td>15475.000</td>\n",
       "      <td>23</td>\n",
       "      <td>461</td>\n",
       "      <td>1181824</td>\n",
       "      <td>468295</td>\n",
       "      <td>0</td>\n",
       "      <td>39.840</td>\n",
       "      <td>-82.820</td>\n",
       "      <td>34950</td>\n",
       "      <td>2016</td>\n",
       "      <td>3</td>\n",
       "      <td>64693.000</td>\n",
       "      <td>28283.000</td>\n",
       "      <td>50877.000</td>\n",
       "    </tr>\n",
       "  </tbody>\n",
       "</table>\n",
       "</div>"
      ],
      "text/plain": [
       "      price     miles     year  engine_size  doors  cylinders    zip  \\\n",
       "0 31500.000 44360.000 2016.000        2.800  4.000      4.000  64730   \n",
       "1 22500.000 35195.000 2016.000        3.600  4.000      6.000  64730   \n",
       "2 21600.000 16513.000 2016.000        1.800  4.000      4.000  43110   \n",
       "3 26057.000 25162.000 2016.000        2.400  4.000      4.000  43110   \n",
       "4 15475.000 32865.000 2016.000        2.500  4.000      4.000  43110   \n",
       "\n",
       "   is_certified  dom  dom_180      msrp  dom_active  Rank  Population  \\\n",
       "0         1.000   89       13 34852.000           0  2079       16878   \n",
       "1         1.000  138       70 22500.000          70  2079       16878   \n",
       "2         1.000   60       22 21600.000          22   461     1181824   \n",
       "3         1.000  152       73 26057.000          73   461     1181824   \n",
       "4         1.000   23       23 15475.000          23   461     1181824   \n",
       "\n",
       "   Number of households  decommissioned  latitude  longitude  \\\n",
       "0                  6832               0    38.250    -94.330   \n",
       "1                  6832               0    38.250    -94.330   \n",
       "2                468295               0    39.840    -82.820   \n",
       "3                468295               0    39.840    -82.820   \n",
       "4                468295               0    39.840    -82.820   \n",
       "\n",
       "   irs_estimated_population_2015  YEAR  AGE  Median Family income Num  \\\n",
       "0                           5800  2016    3                 50469.000   \n",
       "1                           5800  2016    3                 50469.000   \n",
       "2                          34950  2016    3                 64693.000   \n",
       "3                          34950  2016    3                 64693.000   \n",
       "4                          34950  2016    3                 64693.000   \n",
       "\n",
       "   Per Capita income Num  Median Household income Num  \n",
       "0              21047.000                    38579.000  \n",
       "1              21047.000                    38579.000  \n",
       "2              28283.000                    50877.000  \n",
       "3              28283.000                    50877.000  \n",
       "4              28283.000                    50877.000  "
      ]
     },
     "execution_count": 33,
     "metadata": {},
     "output_type": "execute_result"
    }
   ],
   "source": [
    "df_num = feature_df.select_dtypes(include = ['float64', 'int64'])\n",
    "df_num.head()"
   ]
  },
  {
   "cell_type": "code",
   "execution_count": 19,
   "metadata": {
    "scrolled": false
   },
   "outputs": [
    {
     "ename": "NameError",
     "evalue": "name 'df_num' is not defined",
     "output_type": "error",
     "traceback": [
      "\u001b[1;31m---------------------------------------------------------------------------\u001b[0m",
      "\u001b[1;31mNameError\u001b[0m                                 Traceback (most recent call last)",
      "\u001b[1;32m<ipython-input-19-7617e4bdc2d7>\u001b[0m in \u001b[0;36m<module>\u001b[1;34m()\u001b[0m\n\u001b[1;32m----> 1\u001b[1;33m \u001b[0mdf_num\u001b[0m\u001b[1;33m.\u001b[0m\u001b[0mhist\u001b[0m\u001b[1;33m(\u001b[0m\u001b[0mfigsize\u001b[0m\u001b[1;33m=\u001b[0m\u001b[1;33m(\u001b[0m\u001b[1;36m16\u001b[0m\u001b[1;33m,\u001b[0m \u001b[1;36m20\u001b[0m\u001b[1;33m)\u001b[0m\u001b[1;33m,\u001b[0m \u001b[0mbins\u001b[0m\u001b[1;33m=\u001b[0m\u001b[1;36m50\u001b[0m\u001b[1;33m,\u001b[0m \u001b[0mxlabelsize\u001b[0m\u001b[1;33m=\u001b[0m\u001b[1;36m8\u001b[0m\u001b[1;33m,\u001b[0m \u001b[0mylabelsize\u001b[0m\u001b[1;33m=\u001b[0m\u001b[1;36m8\u001b[0m\u001b[1;33m)\u001b[0m\u001b[1;33m\u001b[0m\u001b[0m\n\u001b[0m",
      "\u001b[1;31mNameError\u001b[0m: name 'df_num' is not defined"
     ]
    }
   ],
   "source": [
    "df_num.hist(figsize=(16, 20), bins=50, xlabelsize=8, ylabelsize=8)"
   ]
  },
  {
   "cell_type": "markdown",
   "metadata": {},
   "source": [
    "### EDA3: Median Family Income and Car Price"
   ]
  },
  {
   "cell_type": "code",
   "execution_count": 9,
   "metadata": {
    "scrolled": false
   },
   "outputs": [
    {
     "name": "stderr",
     "output_type": "stream",
     "text": [
      "C:\\Users\\yexin\\Anaconda3\\envs\\myenv\\lib\\site-packages\\scipy\\stats\\stats.py:1713: FutureWarning: Using a non-tuple sequence for multidimensional indexing is deprecated; use `arr[tuple(seq)]` instead of `arr[seq]`. In the future this will be interpreted as an array index, `arr[np.array(seq)]`, which will result either in an error or a different result.\n",
      "  return np.add.reduce(sorted[indexer] * weights, axis=axis) / sumval\n"
     ]
    },
    {
     "data": {
      "text/plain": [
       "<matplotlib.axes._subplots.AxesSubplot at 0x23439977278>"
      ]
     },
     "execution_count": 9,
     "metadata": {},
     "output_type": "execute_result"
    },
    {
     "data": {
      "image/png": "[encoded data removed]",
      "text/plain": [
       "<Figure size 576x576 with 1 Axes>"
      ]
     },
     "metadata": {},
     "output_type": "display_data"
    }
   ],
   "source": [
    "plt.figure(figsize=(8, 8))\n",
    "sns.distplot(feature_df['Median Family income Num'], color='g', bins=50)"
   ]
  },
  {
   "cell_type": "code",
   "execution_count": 44,
   "metadata": {
    "scrolled": true
   },
   "outputs": [
    {
     "data": {
      "text/plain": [
       "count   335590.000\n",
       "mean     70923.699\n",
       "std      16261.232\n",
       "min      26739.000\n",
       "25%      59900.000\n",
       "50%      66256.000\n",
       "75%      81846.000\n",
       "max     152857.000\n",
       "Name: Median Family income Num, dtype: float64"
      ]
     },
     "execution_count": 44,
     "metadata": {},
     "output_type": "execute_result"
    }
   ],
   "source": [
    "feature_df['Median Family income Num'].describe()"
   ]
  },
  {
   "cell_type": "code",
   "execution_count": 47,
   "metadata": {},
   "outputs": [],
   "source": [
    "feature_df['famincomerank']= np.where((feature_df['Median Family income Num']<40000),'Low',\n",
    "                                        np.where((feature_df['Median Family income Num']>40000) & (feature_df['Median Family income Num']<=80000),'Middle',\n",
    "                                                 'High'))"
   ]
  },
  {
   "cell_type": "code",
   "execution_count": 48,
   "metadata": {},
   "outputs": [],
   "source": [
    "famincome = pd.DataFrame(feature_df.groupby('famincomerank').median())\n",
    "famincome = famincome.reset_index()"
   ]
  },
  {
   "cell_type": "code",
   "execution_count": 89,
   "metadata": {
    "scrolled": true
   },
   "outputs": [
    {
     "data": {
      "text/html": [
       "<div>\n",
       "<style scoped>\n",
       "    .dataframe tbody tr th:only-of-type {\n",
       "        vertical-align: middle;\n",
       "    }\n",
       "\n",
       "    .dataframe tbody tr th {\n",
       "        vertical-align: top;\n",
       "    }\n",
       "\n",
       "    .dataframe thead th {\n",
       "        text-align: right;\n",
       "    }\n",
       "</style>\n",
       "<table border=\"1\" class=\"dataframe\">\n",
       "  <thead>\n",
       "    <tr style=\"text-align: right;\">\n",
       "      <th></th>\n",
       "      <th>famincomerank</th>\n",
       "      <th>price_fs</th>\n",
       "      <th>miles_fs</th>\n",
       "      <th>engine_size_ss</th>\n",
       "      <th>doors_is</th>\n",
       "      <th>cylinders_is</th>\n",
       "      <th>zip_is</th>\n",
       "      <th>dom_is</th>\n",
       "      <th>msrp_fs</th>\n",
       "      <th>dom_active_is</th>\n",
       "      <th>is_certified_is</th>\n",
       "      <th>AGE</th>\n",
       "      <th>decommissioned</th>\n",
       "      <th>latitude</th>\n",
       "      <th>longitude</th>\n",
       "      <th>irs_estimated_population_2015</th>\n",
       "      <th>Rank</th>\n",
       "      <th>Population</th>\n",
       "      <th>Number of households</th>\n",
       "      <th>Median Family income_Num</th>\n",
       "    </tr>\n",
       "  </thead>\n",
       "  <tbody>\n",
       "    <tr>\n",
       "      <th>0</th>\n",
       "      <td>High</td>\n",
       "      <td>19122</td>\n",
       "      <td>43804</td>\n",
       "      <td>3.000</td>\n",
       "      <td>4</td>\n",
       "      <td>6</td>\n",
       "      <td>32086</td>\n",
       "      <td>46</td>\n",
       "      <td>19799</td>\n",
       "      <td>27</td>\n",
       "      <td>0</td>\n",
       "      <td>4.000</td>\n",
       "      <td>0.000</td>\n",
       "      <td>38.880</td>\n",
       "      <td>-81.410</td>\n",
       "      <td>30620.000</td>\n",
       "      <td>103.000</td>\n",
       "      <td>702099.000</td>\n",
       "      <td>243394.000</td>\n",
       "      <td>88889.000</td>\n",
       "    </tr>\n",
       "    <tr>\n",
       "      <th>1</th>\n",
       "      <td>Low</td>\n",
       "      <td>19680</td>\n",
       "      <td>42377</td>\n",
       "      <td>3.200</td>\n",
       "      <td>4</td>\n",
       "      <td>6</td>\n",
       "      <td>64744</td>\n",
       "      <td>58</td>\n",
       "      <td>19988</td>\n",
       "      <td>29</td>\n",
       "      <td>0</td>\n",
       "      <td>4.000</td>\n",
       "      <td>0.000</td>\n",
       "      <td>31.120</td>\n",
       "      <td>-91.550</td>\n",
       "      <td>28950.000</td>\n",
       "      <td>3077.000</td>\n",
       "      <td>410710.000</td>\n",
       "      <td>117836.000</td>\n",
       "      <td>36884.000</td>\n",
       "    </tr>\n",
       "    <tr>\n",
       "      <th>2</th>\n",
       "      <td>Middle</td>\n",
       "      <td>18995</td>\n",
       "      <td>45324</td>\n",
       "      <td>3.000</td>\n",
       "      <td>4</td>\n",
       "      <td>6</td>\n",
       "      <td>38401</td>\n",
       "      <td>52</td>\n",
       "      <td>19500</td>\n",
       "      <td>29</td>\n",
       "      <td>0</td>\n",
       "      <td>4.000</td>\n",
       "      <td>0.000</td>\n",
       "      <td>36.010</td>\n",
       "      <td>-84.300</td>\n",
       "      <td>28430.000</td>\n",
       "      <td>748.000</td>\n",
       "      <td>322033.000</td>\n",
       "      <td>123142.000</td>\n",
       "      <td>63176.000</td>\n",
       "    </tr>\n",
       "  </tbody>\n",
       "</table>\n",
       "</div>"
      ],
      "text/plain": [
       "  famincomerank  price_fs  miles_fs  engine_size_ss  doors_is  cylinders_is  \\\n",
       "0          High     19122     43804           3.000         4             6   \n",
       "1           Low     19680     42377           3.200         4             6   \n",
       "2        Middle     18995     45324           3.000         4             6   \n",
       "\n",
       "   zip_is  dom_is  msrp_fs  dom_active_is  is_certified_is   AGE  \\\n",
       "0   32086      46    19799             27                0 4.000   \n",
       "1   64744      58    19988             29                0 4.000   \n",
       "2   38401      52    19500             29                0 4.000   \n",
       "\n",
       "   decommissioned  latitude  longitude  irs_estimated_population_2015  \\\n",
       "0           0.000    38.880    -81.410                      30620.000   \n",
       "1           0.000    31.120    -91.550                      28950.000   \n",
       "2           0.000    36.010    -84.300                      28430.000   \n",
       "\n",
       "      Rank  Population  Number of households  Median Family income_Num  \n",
       "0  103.000  702099.000            243394.000                 88889.000  \n",
       "1 3077.000  410710.000            117836.000                 36884.000  \n",
       "2  748.000  322033.000            123142.000                 63176.000  "
      ]
     },
     "execution_count": 89,
     "metadata": {},
     "output_type": "execute_result"
    }
   ],
   "source": [
    "famincome.head()"
   ]
  },
  {
   "cell_type": "code",
   "execution_count": 55,
   "metadata": {
    "scrolled": true
   },
   "outputs": [
    {
     "data": {
      "text/plain": [
       "<matplotlib.axes._subplots.AxesSubplot at 0x24e555140f0>"
      ]
     },
     "execution_count": 55,
     "metadata": {},
     "output_type": "execute_result"
    },
    {
     "data": {
      "image/png": "[encoded data removed]",
      "text/plain": [
       "<Figure size 432x288 with 1 Axes>"
      ]
     },
     "metadata": {},
     "output_type": "display_data"
    }
   ],
   "source": [
    "# how family income effect the car price\n",
    "famincome.sort_values('price', ascending=False, inplace=True)\n",
    "sns.barplot(x=\"price\", y=\"famincomerank\", data = famincome, label=\"Median\")"
   ]
  },
  {
   "cell_type": "code",
   "execution_count": 56,
   "metadata": {},
   "outputs": [
    {
     "data": {
      "text/plain": [
       "Middle    243703\n",
       "High       90845\n",
       "Low         1042\n",
       "Name: famincomerank, dtype: int64"
      ]
     },
     "execution_count": 56,
     "metadata": {},
     "output_type": "execute_result"
    }
   ],
   "source": [
    "feature_df['famincomerank'].value_counts().sort_values(ascending = False)"
   ]
  },
  {
   "cell_type": "code",
   "execution_count": 57,
   "metadata": {},
   "outputs": [
    {
     "data": {
      "text/plain": [
       "<matplotlib.axes._subplots.AxesSubplot at 0x24e555b1fd0>"
      ]
     },
     "execution_count": 57,
     "metadata": {},
     "output_type": "execute_result"
    },
    {
     "data": {
      "image/png": "[encoded data removed]",
      "text/plain": [
       "<Figure size 360x360 with 1 Axes>"
      ]
     },
     "metadata": {},
     "output_type": "display_data"
    }
   ],
   "source": [
    "feature_df['famincomerank'].value_counts().plot(kind='bar', figsize=(5,5))"
   ]
  },
  {
   "cell_type": "code",
   "execution_count": 42,
   "metadata": {},
   "outputs": [],
   "source": [
    "lowincome = feature_df[feature_df['Median Family income Num']<40000]\n",
    "middleincome =feature_df[(feature_df['Median Family income Num']>=40000)|(feature_df['Median Family income Num']<80000)]\n",
    "highincome = feature_df[feature_df['Median Family income Num']>80000]"
   ]
  },
  {
   "cell_type": "code",
   "execution_count": 43,
   "metadata": {
    "scrolled": false
   },
   "outputs": [
    {
     "data": {
      "text/plain": [
       "<matplotlib.axes._subplots.AxesSubplot at 0x2342593e780>"
      ]
     },
     "execution_count": 43,
     "metadata": {},
     "output_type": "execute_result"
    },
    {
     "data": {
      "image/png": "[encoded data removed]",
      "text/plain": [
       "<Figure size 360x360 with 1 Axes>"
      ]
     },
     "metadata": {},
     "output_type": "display_data"
    }
   ],
   "source": [
    "lowincome['make'].value_counts().head(10).plot(kind='bar', figsize=(5,5))"
   ]
  },
  {
   "cell_type": "code",
   "execution_count": 44,
   "metadata": {
    "scrolled": false
   },
   "outputs": [
    {
     "data": {
      "text/plain": [
       "<matplotlib.axes._subplots.AxesSubplot at 0x234241094a8>"
      ]
     },
     "execution_count": 44,
     "metadata": {},
     "output_type": "execute_result"
    },
    {
     "data": {
      "image/png": "[encoded data removed]",
      "text/plain": [
       "<Figure size 360x360 with 1 Axes>"
      ]
     },
     "metadata": {},
     "output_type": "display_data"
    }
   ],
   "source": [
    "middleincome['make'].value_counts().head(10).plot(kind='bar', figsize=(5,5))\n"
   ]
  },
  {
   "cell_type": "code",
   "execution_count": 45,
   "metadata": {
    "scrolled": true
   },
   "outputs": [
    {
     "data": {
      "text/plain": [
       "<matplotlib.axes._subplots.AxesSubplot at 0x23425e69eb8>"
      ]
     },
     "execution_count": 45,
     "metadata": {},
     "output_type": "execute_result"
    },
    {
     "data": {
      "image/png": "[encoded data removed]",
      "text/plain": [
       "<Figure size 360x360 with 1 Axes>"
      ]
     },
     "metadata": {},
     "output_type": "display_data"
    }
   ],
   "source": [
    "highincome['make'].value_counts().head(10).plot(kind='bar', figsize=(5,5))"
   ]
  },
  {
   "cell_type": "code",
   "execution_count": 74,
   "metadata": {},
   "outputs": [
    {
     "data": {
      "text/plain": [
       "<matplotlib.axes._subplots.AxesSubplot at 0x24e64072e10>"
      ]
     },
     "execution_count": 74,
     "metadata": {},
     "output_type": "execute_result"
    },
    {
     "data": {
      "image/png": "[encoded data removed]",
      "text/plain": [
       "<Figure size 1080x216 with 1 Axes>"
      ]
     },
     "metadata": {},
     "output_type": "display_data"
    }
   ],
   "source": [
    "sns.set(style=\"whitegrid\", font_scale=1)\n",
    "f, ax = plt.subplots(figsize=(15, 3))\n",
    "feature_df1 = feature_df.sort_values('famincomerank', ascending=True, inplace=False)\n",
    "sns.countplot(y=\"famincomerank\", hue=\"vehicle_type\", data=feature_df1)"
   ]
  },
  {
   "cell_type": "markdown",
   "metadata": {},
   "source": [
    "### EDA4: Population and Car Price"
   ]
  },
  {
   "cell_type": "code",
   "execution_count": 75,
   "metadata": {
    "scrolled": true
   },
   "outputs": [
    {
     "name": "stderr",
     "output_type": "stream",
     "text": [
      "C:\\Users\\yexin\\Anaconda3\\envs\\myenv\\lib\\site-packages\\scipy\\stats\\stats.py:1713: FutureWarning: Using a non-tuple sequence for multidimensional indexing is deprecated; use `arr[tuple(seq)]` instead of `arr[seq]`. In the future this will be interpreted as an array index, `arr[np.array(seq)]`, which will result either in an error or a different result.\n",
      "  return np.add.reduce(sorted[indexer] * weights, axis=axis) / sumval\n"
     ]
    },
    {
     "data": {
      "text/plain": [
       "<matplotlib.axes._subplots.AxesSubplot at 0x24e64b7d438>"
      ]
     },
     "execution_count": 75,
     "metadata": {},
     "output_type": "execute_result"
    },
    {
     "data": {
      "image/png": "[encoded data removed]",
      "text/plain": [
       "<Figure size 360x360 with 1 Axes>"
      ]
     },
     "metadata": {},
     "output_type": "display_data"
    }
   ],
   "source": [
    "plt.figure(figsize=(5, 5))\n",
    "sns.distplot(feature_df['Population'], color='g', bins=50)"
   ]
  },
  {
   "cell_type": "code",
   "execution_count": 85,
   "metadata": {},
   "outputs": [
    {
     "data": {
      "text/plain": [
       "count    335590.000\n",
       "mean    1083432.030\n",
       "std     1730680.751\n",
       "min        1794.000\n",
       "25%      229850.000\n",
       "50%      625977.000\n",
       "75%     1065794.000\n",
       "max     9893481.000\n",
       "Name: Population, dtype: float64"
      ]
     },
     "execution_count": 85,
     "metadata": {},
     "output_type": "execute_result"
    }
   ],
   "source": [
    "feature_df['Population'].describe()"
   ]
  },
  {
   "cell_type": "code",
   "execution_count": 86,
   "metadata": {},
   "outputs": [],
   "source": [
    "feature_df['populationsize']= np.where((feature_df1['Population']<100000),'Small',\n",
    "                                        #np.where((feature_df1['Population']>200000) & (feature_df1['Population']<=400000),'Middle',\n",
    "                                                 'Large')"
   ]
  },
  {
   "cell_type": "code",
   "execution_count": 87,
   "metadata": {},
   "outputs": [],
   "source": [
    "population = pd.DataFrame(feature_df.groupby('populationsize').median())\n",
    "population = population.reset_index()"
   ]
  },
  {
   "cell_type": "code",
   "execution_count": 89,
   "metadata": {
    "scrolled": true
   },
   "outputs": [
    {
     "data": {
      "text/plain": [
       "<matplotlib.axes._subplots.AxesSubplot at 0x24e640305c0>"
      ]
     },
     "execution_count": 89,
     "metadata": {},
     "output_type": "execute_result"
    },
    {
     "data": {
      "image/png": "[encoded data removed]",
      "text/plain": [
       "<Figure size 432x288 with 1 Axes>"
      ]
     },
     "metadata": {},
     "output_type": "display_data"
    }
   ],
   "source": [
    "famincome.sort_values('price', ascending=False, inplace=True)\n",
    "sns.barplot(x=\"price\", y=\"populationsize\", data =population , label=\"Median\")"
   ]
  },
  {
   "cell_type": "code",
   "execution_count": 88,
   "metadata": {
    "scrolled": false
   },
   "outputs": [
    {
     "data": {
      "text/plain": [
       "<matplotlib.axes._subplots.AxesSubplot at 0x24e63daaef0>"
      ]
     },
     "execution_count": 88,
     "metadata": {},
     "output_type": "execute_result"
    },
    {
     "data": {
      "image/png": "[encoded data removed]",
      "text/plain": [
       "<Figure size 360x360 with 1 Axes>"
      ]
     },
     "metadata": {},
     "output_type": "display_data"
    }
   ],
   "source": [
    "feature_df['populationsize'].value_counts().plot(kind='bar', figsize=(5,5))"
   ]
  },
  {
   "cell_type": "code",
   "execution_count": 95,
   "metadata": {},
   "outputs": [
    {
     "data": {
      "text/html": [
       "<div>\n",
       "<style scoped>\n",
       "    .dataframe tbody tr th:only-of-type {\n",
       "        vertical-align: middle;\n",
       "    }\n",
       "\n",
       "    .dataframe tbody tr th {\n",
       "        vertical-align: top;\n",
       "    }\n",
       "\n",
       "    .dataframe thead th {\n",
       "        text-align: right;\n",
       "    }\n",
       "</style>\n",
       "<table border=\"1\" class=\"dataframe\">\n",
       "  <thead>\n",
       "    <tr style=\"text-align: right;\">\n",
       "      <th></th>\n",
       "      <th>vin</th>\n",
       "      <th>price</th>\n",
       "      <th>miles</th>\n",
       "      <th>year</th>\n",
       "      <th>make</th>\n",
       "      <th>model</th>\n",
       "      <th>trim</th>\n",
       "      <th>vehicle_type</th>\n",
       "      <th>body_type</th>\n",
       "      <th>drivetrain</th>\n",
       "      <th>fuel_type</th>\n",
       "      <th>engine</th>\n",
       "      <th>engine_size</th>\n",
       "      <th>transmission</th>\n",
       "      <th>doors</th>\n",
       "      <th>cylinders</th>\n",
       "      <th>interior_color</th>\n",
       "      <th>exterior_color</th>\n",
       "      <th>scraped_at</th>\n",
       "      <th>status_date</th>\n",
       "      <th>zip</th>\n",
       "      <th>is_certified</th>\n",
       "      <th>dom</th>\n",
       "      <th>dom_180</th>\n",
       "      <th>msrp</th>\n",
       "      <th>dom_active</th>\n",
       "      <th>Rank</th>\n",
       "      <th>County</th>\n",
       "      <th>State short</th>\n",
       "      <th>Per Capita income</th>\n",
       "      <th>Median Household income</th>\n",
       "      <th>Median Family income</th>\n",
       "      <th>Population</th>\n",
       "      <th>Number of households</th>\n",
       "      <th>State full</th>\n",
       "      <th>States Short</th>\n",
       "      <th>States</th>\n",
       "      <th>Regions</th>\n",
       "      <th>type</th>\n",
       "      <th>decommissioned</th>\n",
       "      <th>primary_city</th>\n",
       "      <th>state</th>\n",
       "      <th>county</th>\n",
       "      <th>timezone</th>\n",
       "      <th>latitude</th>\n",
       "      <th>longitude</th>\n",
       "      <th>irs_estimated_population_2015</th>\n",
       "      <th>county full</th>\n",
       "      <th>YEAR</th>\n",
       "      <th>AGE</th>\n",
       "      <th>Median Family income Num</th>\n",
       "      <th>Per Capita income Num</th>\n",
       "      <th>Median Household income Num</th>\n",
       "      <th>famincomerank</th>\n",
       "      <th>populationsize</th>\n",
       "      <th>is_newer</th>\n",
       "    </tr>\n",
       "  </thead>\n",
       "  <tbody>\n",
       "    <tr>\n",
       "      <th>0</th>\n",
       "      <td>1GTP6DE12G1234957</td>\n",
       "      <td>31500.000</td>\n",
       "      <td>44360.000</td>\n",
       "      <td>2016.000</td>\n",
       "      <td>GMC</td>\n",
       "      <td>Canyon</td>\n",
       "      <td>SLT</td>\n",
       "      <td>Truck</td>\n",
       "      <td>Pickup</td>\n",
       "      <td>4-Wheel Drive</td>\n",
       "      <td>Diesel</td>\n",
       "      <td>2.8L L4 DOHC 24V TURBO DIESEL</td>\n",
       "      <td>2.800</td>\n",
       "      <td>Automatic</td>\n",
       "      <td>4.000</td>\n",
       "      <td>4.000</td>\n",
       "      <td>JET BLACK</td>\n",
       "      <td>Summit White</td>\n",
       "      <td>2018-09-13T10:24:47Z</td>\n",
       "      <td>2018-11-10T05:16:06Z</td>\n",
       "      <td>64730</td>\n",
       "      <td>1.000</td>\n",
       "      <td>89</td>\n",
       "      <td>13</td>\n",
       "      <td>34852.000</td>\n",
       "      <td>0</td>\n",
       "      <td>2079</td>\n",
       "      <td>Bates</td>\n",
       "      <td>MO</td>\n",
       "      <td>$21,047.00</td>\n",
       "      <td>$38,579.00</td>\n",
       "      <td>$50,469.00</td>\n",
       "      <td>16878</td>\n",
       "      <td>6832</td>\n",
       "      <td>Missouri</td>\n",
       "      <td>MO</td>\n",
       "      <td>Missouri</td>\n",
       "      <td>MidWest</td>\n",
       "      <td>STANDARD</td>\n",
       "      <td>0</td>\n",
       "      <td>Butler</td>\n",
       "      <td>MO</td>\n",
       "      <td>Bates</td>\n",
       "      <td>America/Chicago</td>\n",
       "      <td>38.250</td>\n",
       "      <td>-94.330</td>\n",
       "      <td>5800</td>\n",
       "      <td>Bates County</td>\n",
       "      <td>2016</td>\n",
       "      <td>3</td>\n",
       "      <td>50469.000</td>\n",
       "      <td>21047.000</td>\n",
       "      <td>38579.000</td>\n",
       "      <td>Middle</td>\n",
       "      <td>Large</td>\n",
       "      <td>1</td>\n",
       "    </tr>\n",
       "    <tr>\n",
       "      <th>1</th>\n",
       "      <td>2C3CCAKG3GH325272</td>\n",
       "      <td>22500.000</td>\n",
       "      <td>35195.000</td>\n",
       "      <td>2016.000</td>\n",
       "      <td>Chrysler</td>\n",
       "      <td>300</td>\n",
       "      <td>C</td>\n",
       "      <td>Car</td>\n",
       "      <td>Sedan</td>\n",
       "      <td>All Wheel Drive</td>\n",
       "      <td>Regular Unleaded</td>\n",
       "      <td>3.6L V6 SOHC 24V</td>\n",
       "      <td>3.600</td>\n",
       "      <td>Automatic</td>\n",
       "      <td>4.000</td>\n",
       "      <td>6.000</td>\n",
       "      <td>BLACK</td>\n",
       "      <td>Billet Silver Metallic Clearcoat</td>\n",
       "      <td>2018-10-25T14:21:05Z</td>\n",
       "      <td>2018-11-10T05:19:43Z</td>\n",
       "      <td>64730</td>\n",
       "      <td>1.000</td>\n",
       "      <td>138</td>\n",
       "      <td>70</td>\n",
       "      <td>22500.000</td>\n",
       "      <td>70</td>\n",
       "      <td>2079</td>\n",
       "      <td>Bates</td>\n",
       "      <td>MO</td>\n",
       "      <td>$21,047.00</td>\n",
       "      <td>$38,579.00</td>\n",
       "      <td>$50,469.00</td>\n",
       "      <td>16878</td>\n",
       "      <td>6832</td>\n",
       "      <td>Missouri</td>\n",
       "      <td>MO</td>\n",
       "      <td>Missouri</td>\n",
       "      <td>MidWest</td>\n",
       "      <td>STANDARD</td>\n",
       "      <td>0</td>\n",
       "      <td>Butler</td>\n",
       "      <td>MO</td>\n",
       "      <td>Bates</td>\n",
       "      <td>America/Chicago</td>\n",
       "      <td>38.250</td>\n",
       "      <td>-94.330</td>\n",
       "      <td>5800</td>\n",
       "      <td>Bates County</td>\n",
       "      <td>2016</td>\n",
       "      <td>3</td>\n",
       "      <td>50469.000</td>\n",
       "      <td>21047.000</td>\n",
       "      <td>38579.000</td>\n",
       "      <td>Middle</td>\n",
       "      <td>Large</td>\n",
       "      <td>1</td>\n",
       "    </tr>\n",
       "    <tr>\n",
       "      <th>2</th>\n",
       "      <td>JTDKARFU6G3504811</td>\n",
       "      <td>21600.000</td>\n",
       "      <td>16513.000</td>\n",
       "      <td>2016.000</td>\n",
       "      <td>Toyota</td>\n",
       "      <td>Prius</td>\n",
       "      <td>Four</td>\n",
       "      <td>Car</td>\n",
       "      <td>Hatchback</td>\n",
       "      <td>Front Wheel Drive</td>\n",
       "      <td>Regular Unleaded</td>\n",
       "      <td>1.8L L4 DOHC 16V HYBRID</td>\n",
       "      <td>1.800</td>\n",
       "      <td>Automatic</td>\n",
       "      <td>4.000</td>\n",
       "      <td>4.000</td>\n",
       "      <td>MOONSTONE</td>\n",
       "      <td>White</td>\n",
       "      <td>2018-10-21T08:38:22Z</td>\n",
       "      <td>2018-11-10T16:11:40Z</td>\n",
       "      <td>43110</td>\n",
       "      <td>1.000</td>\n",
       "      <td>60</td>\n",
       "      <td>22</td>\n",
       "      <td>21600.000</td>\n",
       "      <td>22</td>\n",
       "      <td>461</td>\n",
       "      <td>Franklin County</td>\n",
       "      <td>OH</td>\n",
       "      <td>$28,283.00</td>\n",
       "      <td>$50,877.00</td>\n",
       "      <td>$64,693.00</td>\n",
       "      <td>1181824</td>\n",
       "      <td>468295</td>\n",
       "      <td>Ohio</td>\n",
       "      <td>OH</td>\n",
       "      <td>Ohio</td>\n",
       "      <td>MidWest</td>\n",
       "      <td>STANDARD</td>\n",
       "      <td>0</td>\n",
       "      <td>Canal Winchester</td>\n",
       "      <td>OH</td>\n",
       "      <td>Franklin County</td>\n",
       "      <td>America/New_York</td>\n",
       "      <td>39.840</td>\n",
       "      <td>-82.820</td>\n",
       "      <td>34950</td>\n",
       "      <td>Franklin County</td>\n",
       "      <td>2016</td>\n",
       "      <td>3</td>\n",
       "      <td>64693.000</td>\n",
       "      <td>28283.000</td>\n",
       "      <td>50877.000</td>\n",
       "      <td>Middle</td>\n",
       "      <td>Large</td>\n",
       "      <td>1</td>\n",
       "    </tr>\n",
       "    <tr>\n",
       "      <th>3</th>\n",
       "      <td>5J6RM4H97GL054923</td>\n",
       "      <td>26057.000</td>\n",
       "      <td>25162.000</td>\n",
       "      <td>2016.000</td>\n",
       "      <td>Honda</td>\n",
       "      <td>CR-V</td>\n",
       "      <td>Touring</td>\n",
       "      <td>SUV</td>\n",
       "      <td>SUV</td>\n",
       "      <td>All Wheel Drive</td>\n",
       "      <td>Regular Unleaded</td>\n",
       "      <td>2.4L L4 DOHC 16V</td>\n",
       "      <td>2.400</td>\n",
       "      <td>Automatic</td>\n",
       "      <td>4.000</td>\n",
       "      <td>4.000</td>\n",
       "      <td>Black</td>\n",
       "      <td>White Diamond Pearl</td>\n",
       "      <td>2018-10-30T06:44:29Z</td>\n",
       "      <td>2018-11-10T16:50:53Z</td>\n",
       "      <td>43110</td>\n",
       "      <td>1.000</td>\n",
       "      <td>152</td>\n",
       "      <td>73</td>\n",
       "      <td>26057.000</td>\n",
       "      <td>73</td>\n",
       "      <td>461</td>\n",
       "      <td>Franklin County</td>\n",
       "      <td>OH</td>\n",
       "      <td>$28,283.00</td>\n",
       "      <td>$50,877.00</td>\n",
       "      <td>$64,693.00</td>\n",
       "      <td>1181824</td>\n",
       "      <td>468295</td>\n",
       "      <td>Ohio</td>\n",
       "      <td>OH</td>\n",
       "      <td>Ohio</td>\n",
       "      <td>MidWest</td>\n",
       "      <td>STANDARD</td>\n",
       "      <td>0</td>\n",
       "      <td>Canal Winchester</td>\n",
       "      <td>OH</td>\n",
       "      <td>Franklin County</td>\n",
       "      <td>America/New_York</td>\n",
       "      <td>39.840</td>\n",
       "      <td>-82.820</td>\n",
       "      <td>34950</td>\n",
       "      <td>Franklin County</td>\n",
       "      <td>2016</td>\n",
       "      <td>3</td>\n",
       "      <td>64693.000</td>\n",
       "      <td>28283.000</td>\n",
       "      <td>50877.000</td>\n",
       "      <td>Middle</td>\n",
       "      <td>Large</td>\n",
       "      <td>1</td>\n",
       "    </tr>\n",
       "    <tr>\n",
       "      <th>4</th>\n",
       "      <td>1G11C5SA1GF111025</td>\n",
       "      <td>15475.000</td>\n",
       "      <td>32865.000</td>\n",
       "      <td>2016.000</td>\n",
       "      <td>Chevrolet</td>\n",
       "      <td>Malibu Limited</td>\n",
       "      <td>LT</td>\n",
       "      <td>Car</td>\n",
       "      <td>Sedan</td>\n",
       "      <td>Front Wheel Drive</td>\n",
       "      <td>Regular Unleaded</td>\n",
       "      <td>2.5L L4 DOHC 16V</td>\n",
       "      <td>2.500</td>\n",
       "      <td>Automatic</td>\n",
       "      <td>4.000</td>\n",
       "      <td>4.000</td>\n",
       "      <td>JET BLACK</td>\n",
       "      <td>Silver Ice</td>\n",
       "      <td>2018-10-20T04:54:05Z</td>\n",
       "      <td>2018-11-10T17:36:51Z</td>\n",
       "      <td>43110</td>\n",
       "      <td>1.000</td>\n",
       "      <td>23</td>\n",
       "      <td>23</td>\n",
       "      <td>15475.000</td>\n",
       "      <td>23</td>\n",
       "      <td>461</td>\n",
       "      <td>Franklin County</td>\n",
       "      <td>OH</td>\n",
       "      <td>$28,283.00</td>\n",
       "      <td>$50,877.00</td>\n",
       "      <td>$64,693.00</td>\n",
       "      <td>1181824</td>\n",
       "      <td>468295</td>\n",
       "      <td>Ohio</td>\n",
       "      <td>OH</td>\n",
       "      <td>Ohio</td>\n",
       "      <td>MidWest</td>\n",
       "      <td>STANDARD</td>\n",
       "      <td>0</td>\n",
       "      <td>Canal Winchester</td>\n",
       "      <td>OH</td>\n",
       "      <td>Franklin County</td>\n",
       "      <td>America/New_York</td>\n",
       "      <td>39.840</td>\n",
       "      <td>-82.820</td>\n",
       "      <td>34950</td>\n",
       "      <td>Franklin County</td>\n",
       "      <td>2016</td>\n",
       "      <td>3</td>\n",
       "      <td>64693.000</td>\n",
       "      <td>28283.000</td>\n",
       "      <td>50877.000</td>\n",
       "      <td>Middle</td>\n",
       "      <td>Large</td>\n",
       "      <td>1</td>\n",
       "    </tr>\n",
       "    <tr>\n",
       "      <th>5</th>\n",
       "      <td>1C6RR7NM4GS344082</td>\n",
       "      <td>33819.000</td>\n",
       "      <td>39916.000</td>\n",
       "      <td>2016.000</td>\n",
       "      <td>Ram</td>\n",
       "      <td>1500</td>\n",
       "      <td>Laramie</td>\n",
       "      <td>Truck</td>\n",
       "      <td>Pickup</td>\n",
       "      <td>4-Wheel Drive</td>\n",
       "      <td>Diesel</td>\n",
       "      <td>3.0L V6 DIESEL</td>\n",
       "      <td>3.000</td>\n",
       "      <td>Automatic</td>\n",
       "      <td>4.000</td>\n",
       "      <td>6.000</td>\n",
       "      <td>BLACK</td>\n",
       "      <td>Brilliant Black Crystal Pearlcoat</td>\n",
       "      <td>2018-10-22T06:13:37Z</td>\n",
       "      <td>2018-11-10T17:37:01Z</td>\n",
       "      <td>43110</td>\n",
       "      <td>1.000</td>\n",
       "      <td>40</td>\n",
       "      <td>21</td>\n",
       "      <td>33819.000</td>\n",
       "      <td>21</td>\n",
       "      <td>461</td>\n",
       "      <td>Franklin County</td>\n",
       "      <td>OH</td>\n",
       "      <td>$28,283.00</td>\n",
       "      <td>$50,877.00</td>\n",
       "      <td>$64,693.00</td>\n",
       "      <td>1181824</td>\n",
       "      <td>468295</td>\n",
       "      <td>Ohio</td>\n",
       "      <td>OH</td>\n",
       "      <td>Ohio</td>\n",
       "      <td>MidWest</td>\n",
       "      <td>STANDARD</td>\n",
       "      <td>0</td>\n",
       "      <td>Canal Winchester</td>\n",
       "      <td>OH</td>\n",
       "      <td>Franklin County</td>\n",
       "      <td>America/New_York</td>\n",
       "      <td>39.840</td>\n",
       "      <td>-82.820</td>\n",
       "      <td>34950</td>\n",
       "      <td>Franklin County</td>\n",
       "      <td>2016</td>\n",
       "      <td>3</td>\n",
       "      <td>64693.000</td>\n",
       "      <td>28283.000</td>\n",
       "      <td>50877.000</td>\n",
       "      <td>Middle</td>\n",
       "      <td>Large</td>\n",
       "      <td>1</td>\n",
       "    </tr>\n",
       "    <tr>\n",
       "      <th>6</th>\n",
       "      <td>KM8SM4HF6GU147743</td>\n",
       "      <td>20700.000</td>\n",
       "      <td>42930.000</td>\n",
       "      <td>2016.000</td>\n",
       "      <td>Hyundai</td>\n",
       "      <td>Santa Fe</td>\n",
       "      <td>SE</td>\n",
       "      <td>SUV</td>\n",
       "      <td>SUV</td>\n",
       "      <td>Front Wheel Drive</td>\n",
       "      <td>Regular Unleaded</td>\n",
       "      <td>3.3L V6 DOHC 24V</td>\n",
       "      <td>3.300</td>\n",
       "      <td>Automatic</td>\n",
       "      <td>4.000</td>\n",
       "      <td>6.000</td>\n",
       "      <td>GRAY</td>\n",
       "      <td>Becketts Black</td>\n",
       "      <td>2018-10-18T00:06:25Z</td>\n",
       "      <td>2018-11-10T16:36:30Z</td>\n",
       "      <td>43110</td>\n",
       "      <td>1.000</td>\n",
       "      <td>28</td>\n",
       "      <td>25</td>\n",
       "      <td>20700.000</td>\n",
       "      <td>25</td>\n",
       "      <td>461</td>\n",
       "      <td>Franklin County</td>\n",
       "      <td>OH</td>\n",
       "      <td>$28,283.00</td>\n",
       "      <td>$50,877.00</td>\n",
       "      <td>$64,693.00</td>\n",
       "      <td>1181824</td>\n",
       "      <td>468295</td>\n",
       "      <td>Ohio</td>\n",
       "      <td>OH</td>\n",
       "      <td>Ohio</td>\n",
       "      <td>MidWest</td>\n",
       "      <td>STANDARD</td>\n",
       "      <td>0</td>\n",
       "      <td>Canal Winchester</td>\n",
       "      <td>OH</td>\n",
       "      <td>Franklin County</td>\n",
       "      <td>America/New_York</td>\n",
       "      <td>39.840</td>\n",
       "      <td>-82.820</td>\n",
       "      <td>34950</td>\n",
       "      <td>Franklin County</td>\n",
       "      <td>2016</td>\n",
       "      <td>3</td>\n",
       "      <td>64693.000</td>\n",
       "      <td>28283.000</td>\n",
       "      <td>50877.000</td>\n",
       "      <td>Middle</td>\n",
       "      <td>Large</td>\n",
       "      <td>1</td>\n",
       "    </tr>\n",
       "    <tr>\n",
       "      <th>7</th>\n",
       "      <td>1N4AA6APXGC386120</td>\n",
       "      <td>20878.000</td>\n",
       "      <td>27654.000</td>\n",
       "      <td>2016.000</td>\n",
       "      <td>Nissan</td>\n",
       "      <td>Maxima</td>\n",
       "      <td>3.5 S</td>\n",
       "      <td>Car</td>\n",
       "      <td>Sedan</td>\n",
       "      <td>Front Wheel Drive</td>\n",
       "      <td>Premium Unleaded</td>\n",
       "      <td>3.5L V6 DOHC 24V</td>\n",
       "      <td>3.500</td>\n",
       "      <td>Automatic</td>\n",
       "      <td>4.000</td>\n",
       "      <td>6.000</td>\n",
       "      <td>Cashmere</td>\n",
       "      <td>Bordeaux Black</td>\n",
       "      <td>2018-11-03T01:42:35Z</td>\n",
       "      <td>2018-11-10T17:23:09Z</td>\n",
       "      <td>43110</td>\n",
       "      <td>1.000</td>\n",
       "      <td>7</td>\n",
       "      <td>7</td>\n",
       "      <td>20878.000</td>\n",
       "      <td>7</td>\n",
       "      <td>461</td>\n",
       "      <td>Franklin County</td>\n",
       "      <td>OH</td>\n",
       "      <td>$28,283.00</td>\n",
       "      <td>$50,877.00</td>\n",
       "      <td>$64,693.00</td>\n",
       "      <td>1181824</td>\n",
       "      <td>468295</td>\n",
       "      <td>Ohio</td>\n",
       "      <td>OH</td>\n",
       "      <td>Ohio</td>\n",
       "      <td>MidWest</td>\n",
       "      <td>STANDARD</td>\n",
       "      <td>0</td>\n",
       "      <td>Canal Winchester</td>\n",
       "      <td>OH</td>\n",
       "      <td>Franklin County</td>\n",
       "      <td>America/New_York</td>\n",
       "      <td>39.840</td>\n",
       "      <td>-82.820</td>\n",
       "      <td>34950</td>\n",
       "      <td>Franklin County</td>\n",
       "      <td>2016</td>\n",
       "      <td>3</td>\n",
       "      <td>64693.000</td>\n",
       "      <td>28283.000</td>\n",
       "      <td>50877.000</td>\n",
       "      <td>Middle</td>\n",
       "      <td>Large</td>\n",
       "      <td>1</td>\n",
       "    </tr>\n",
       "    <tr>\n",
       "      <th>8</th>\n",
       "      <td>5N1AR2MM7GC656252</td>\n",
       "      <td>19877.000</td>\n",
       "      <td>35694.000</td>\n",
       "      <td>2016.000</td>\n",
       "      <td>Nissan</td>\n",
       "      <td>Pathfinder</td>\n",
       "      <td>S</td>\n",
       "      <td>SUV</td>\n",
       "      <td>SUV</td>\n",
       "      <td>4-Wheel Drive</td>\n",
       "      <td>Regular Unleaded</td>\n",
       "      <td>3.5L V6 DOHC 24V</td>\n",
       "      <td>3.500</td>\n",
       "      <td>Automatic</td>\n",
       "      <td>4.000</td>\n",
       "      <td>6.000</td>\n",
       "      <td>Charcoal</td>\n",
       "      <td>Magnetic Black Metallic</td>\n",
       "      <td>2018-11-01T02:33:50Z</td>\n",
       "      <td>2018-11-10T16:14:10Z</td>\n",
       "      <td>43110</td>\n",
       "      <td>1.000</td>\n",
       "      <td>103</td>\n",
       "      <td>10</td>\n",
       "      <td>19877.000</td>\n",
       "      <td>10</td>\n",
       "      <td>461</td>\n",
       "      <td>Franklin County</td>\n",
       "      <td>OH</td>\n",
       "      <td>$28,283.00</td>\n",
       "      <td>$50,877.00</td>\n",
       "      <td>$64,693.00</td>\n",
       "      <td>1181824</td>\n",
       "      <td>468295</td>\n",
       "      <td>Ohio</td>\n",
       "      <td>OH</td>\n",
       "      <td>Ohio</td>\n",
       "      <td>MidWest</td>\n",
       "      <td>STANDARD</td>\n",
       "      <td>0</td>\n",
       "      <td>Canal Winchester</td>\n",
       "      <td>OH</td>\n",
       "      <td>Franklin County</td>\n",
       "      <td>America/New_York</td>\n",
       "      <td>39.840</td>\n",
       "      <td>-82.820</td>\n",
       "      <td>34950</td>\n",
       "      <td>Franklin County</td>\n",
       "      <td>2016</td>\n",
       "      <td>3</td>\n",
       "      <td>64693.000</td>\n",
       "      <td>28283.000</td>\n",
       "      <td>50877.000</td>\n",
       "      <td>Middle</td>\n",
       "      <td>Large</td>\n",
       "      <td>1</td>\n",
       "    </tr>\n",
       "    <tr>\n",
       "      <th>9</th>\n",
       "      <td>1C4BJWEG1GL230007</td>\n",
       "      <td>31100.000</td>\n",
       "      <td>32500.000</td>\n",
       "      <td>2016.000</td>\n",
       "      <td>Jeep</td>\n",
       "      <td>Wrangler</td>\n",
       "      <td>Unlimited Sahara</td>\n",
       "      <td>SUV</td>\n",
       "      <td>SUV</td>\n",
       "      <td>4-Wheel Drive</td>\n",
       "      <td>Regular Unleaded</td>\n",
       "      <td>3.6L V6 DOHC 24V FFV</td>\n",
       "      <td>3.600</td>\n",
       "      <td>Manual</td>\n",
       "      <td>4.000</td>\n",
       "      <td>6.000</td>\n",
       "      <td>Black</td>\n",
       "      <td>Bright White Clearcoat</td>\n",
       "      <td>2018-09-22T02:28:17Z</td>\n",
       "      <td>2018-11-10T17:12:44Z</td>\n",
       "      <td>43110</td>\n",
       "      <td>1.000</td>\n",
       "      <td>50</td>\n",
       "      <td>50</td>\n",
       "      <td>31100.000</td>\n",
       "      <td>50</td>\n",
       "      <td>461</td>\n",
       "      <td>Franklin County</td>\n",
       "      <td>OH</td>\n",
       "      <td>$28,283.00</td>\n",
       "      <td>$50,877.00</td>\n",
       "      <td>$64,693.00</td>\n",
       "      <td>1181824</td>\n",
       "      <td>468295</td>\n",
       "      <td>Ohio</td>\n",
       "      <td>OH</td>\n",
       "      <td>Ohio</td>\n",
       "      <td>MidWest</td>\n",
       "      <td>STANDARD</td>\n",
       "      <td>0</td>\n",
       "      <td>Canal Winchester</td>\n",
       "      <td>OH</td>\n",
       "      <td>Franklin County</td>\n",
       "      <td>America/New_York</td>\n",
       "      <td>39.840</td>\n",
       "      <td>-82.820</td>\n",
       "      <td>34950</td>\n",
       "      <td>Franklin County</td>\n",
       "      <td>2016</td>\n",
       "      <td>3</td>\n",
       "      <td>64693.000</td>\n",
       "      <td>28283.000</td>\n",
       "      <td>50877.000</td>\n",
       "      <td>Middle</td>\n",
       "      <td>Large</td>\n",
       "      <td>1</td>\n",
       "    </tr>\n",
       "  </tbody>\n",
       "</table>\n",
       "</div>"
      ],
      "text/plain": [
       "                 vin     price     miles     year       make           model  \\\n",
       "0  1GTP6DE12G1234957 31500.000 44360.000 2016.000        GMC          Canyon   \n",
       "1  2C3CCAKG3GH325272 22500.000 35195.000 2016.000   Chrysler             300   \n",
       "2  JTDKARFU6G3504811 21600.000 16513.000 2016.000     Toyota           Prius   \n",
       "3  5J6RM4H97GL054923 26057.000 25162.000 2016.000      Honda            CR-V   \n",
       "4  1G11C5SA1GF111025 15475.000 32865.000 2016.000  Chevrolet  Malibu Limited   \n",
       "5  1C6RR7NM4GS344082 33819.000 39916.000 2016.000        Ram            1500   \n",
       "6  KM8SM4HF6GU147743 20700.000 42930.000 2016.000    Hyundai        Santa Fe   \n",
       "7  1N4AA6APXGC386120 20878.000 27654.000 2016.000     Nissan          Maxima   \n",
       "8  5N1AR2MM7GC656252 19877.000 35694.000 2016.000     Nissan      Pathfinder   \n",
       "9  1C4BJWEG1GL230007 31100.000 32500.000 2016.000       Jeep        Wrangler   \n",
       "\n",
       "               trim vehicle_type  body_type         drivetrain  \\\n",
       "0               SLT        Truck     Pickup      4-Wheel Drive   \n",
       "1                 C          Car      Sedan    All Wheel Drive   \n",
       "2              Four          Car  Hatchback  Front Wheel Drive   \n",
       "3           Touring          SUV        SUV    All Wheel Drive   \n",
       "4                LT          Car      Sedan  Front Wheel Drive   \n",
       "5           Laramie        Truck     Pickup      4-Wheel Drive   \n",
       "6                SE          SUV        SUV  Front Wheel Drive   \n",
       "7             3.5 S          Car      Sedan  Front Wheel Drive   \n",
       "8                 S          SUV        SUV      4-Wheel Drive   \n",
       "9  Unlimited Sahara          SUV        SUV      4-Wheel Drive   \n",
       "\n",
       "          fuel_type                         engine  engine_size transmission  \\\n",
       "0            Diesel  2.8L L4 DOHC 24V TURBO DIESEL        2.800    Automatic   \n",
       "1  Regular Unleaded               3.6L V6 SOHC 24V        3.600    Automatic   \n",
       "2  Regular Unleaded        1.8L L4 DOHC 16V HYBRID        1.800    Automatic   \n",
       "3  Regular Unleaded               2.4L L4 DOHC 16V        2.400    Automatic   \n",
       "4  Regular Unleaded               2.5L L4 DOHC 16V        2.500    Automatic   \n",
       "5            Diesel                 3.0L V6 DIESEL        3.000    Automatic   \n",
       "6  Regular Unleaded               3.3L V6 DOHC 24V        3.300    Automatic   \n",
       "7  Premium Unleaded               3.5L V6 DOHC 24V        3.500    Automatic   \n",
       "8  Regular Unleaded               3.5L V6 DOHC 24V        3.500    Automatic   \n",
       "9  Regular Unleaded           3.6L V6 DOHC 24V FFV        3.600       Manual   \n",
       "\n",
       "   doors  cylinders interior_color                     exterior_color  \\\n",
       "0  4.000      4.000      JET BLACK                       Summit White   \n",
       "1  4.000      6.000          BLACK   Billet Silver Metallic Clearcoat   \n",
       "2  4.000      4.000      MOONSTONE                              White   \n",
       "3  4.000      4.000          Black                White Diamond Pearl   \n",
       "4  4.000      4.000      JET BLACK                         Silver Ice   \n",
       "5  4.000      6.000          BLACK  Brilliant Black Crystal Pearlcoat   \n",
       "6  4.000      6.000           GRAY                     Becketts Black   \n",
       "7  4.000      6.000       Cashmere                     Bordeaux Black   \n",
       "8  4.000      6.000       Charcoal            Magnetic Black Metallic   \n",
       "9  4.000      6.000          Black             Bright White Clearcoat   \n",
       "\n",
       "             scraped_at           status_date    zip  is_certified  dom  \\\n",
       "0  2018-09-13T10:24:47Z  2018-11-10T05:16:06Z  64730         1.000   89   \n",
       "1  2018-10-25T14:21:05Z  2018-11-10T05:19:43Z  64730         1.000  138   \n",
       "2  2018-10-21T08:38:22Z  2018-11-10T16:11:40Z  43110         1.000   60   \n",
       "3  2018-10-30T06:44:29Z  2018-11-10T16:50:53Z  43110         1.000  152   \n",
       "4  2018-10-20T04:54:05Z  2018-11-10T17:36:51Z  43110         1.000   23   \n",
       "5  2018-10-22T06:13:37Z  2018-11-10T17:37:01Z  43110         1.000   40   \n",
       "6  2018-10-18T00:06:25Z  2018-11-10T16:36:30Z  43110         1.000   28   \n",
       "7  2018-11-03T01:42:35Z  2018-11-10T17:23:09Z  43110         1.000    7   \n",
       "8  2018-11-01T02:33:50Z  2018-11-10T16:14:10Z  43110         1.000  103   \n",
       "9  2018-09-22T02:28:17Z  2018-11-10T17:12:44Z  43110         1.000   50   \n",
       "\n",
       "   dom_180      msrp  dom_active  Rank           County State short  \\\n",
       "0       13 34852.000           0  2079            Bates          MO   \n",
       "1       70 22500.000          70  2079            Bates          MO   \n",
       "2       22 21600.000          22   461  Franklin County          OH   \n",
       "3       73 26057.000          73   461  Franklin County          OH   \n",
       "4       23 15475.000          23   461  Franklin County          OH   \n",
       "5       21 33819.000          21   461  Franklin County          OH   \n",
       "6       25 20700.000          25   461  Franklin County          OH   \n",
       "7        7 20878.000           7   461  Franklin County          OH   \n",
       "8       10 19877.000          10   461  Franklin County          OH   \n",
       "9       50 31100.000          50   461  Franklin County          OH   \n",
       "\n",
       "  Per Capita income Median Household income Median Family income  Population  \\\n",
       "0        $21,047.00              $38,579.00           $50,469.00       16878   \n",
       "1        $21,047.00              $38,579.00           $50,469.00       16878   \n",
       "2        $28,283.00              $50,877.00           $64,693.00     1181824   \n",
       "3        $28,283.00              $50,877.00           $64,693.00     1181824   \n",
       "4        $28,283.00              $50,877.00           $64,693.00     1181824   \n",
       "5        $28,283.00              $50,877.00           $64,693.00     1181824   \n",
       "6        $28,283.00              $50,877.00           $64,693.00     1181824   \n",
       "7        $28,283.00              $50,877.00           $64,693.00     1181824   \n",
       "8        $28,283.00              $50,877.00           $64,693.00     1181824   \n",
       "9        $28,283.00              $50,877.00           $64,693.00     1181824   \n",
       "\n",
       "   Number of households State full States Short    States  Regions      type  \\\n",
       "0                  6832   Missouri           MO  Missouri  MidWest  STANDARD   \n",
       "1                  6832   Missouri           MO  Missouri  MidWest  STANDARD   \n",
       "2                468295       Ohio           OH      Ohio  MidWest  STANDARD   \n",
       "3                468295       Ohio           OH      Ohio  MidWest  STANDARD   \n",
       "4                468295       Ohio           OH      Ohio  MidWest  STANDARD   \n",
       "5                468295       Ohio           OH      Ohio  MidWest  STANDARD   \n",
       "6                468295       Ohio           OH      Ohio  MidWest  STANDARD   \n",
       "7                468295       Ohio           OH      Ohio  MidWest  STANDARD   \n",
       "8                468295       Ohio           OH      Ohio  MidWest  STANDARD   \n",
       "9                468295       Ohio           OH      Ohio  MidWest  STANDARD   \n",
       "\n",
       "   decommissioned      primary_city state           county          timezone  \\\n",
       "0               0            Butler    MO            Bates   America/Chicago   \n",
       "1               0            Butler    MO            Bates   America/Chicago   \n",
       "2               0  Canal Winchester    OH  Franklin County  America/New_York   \n",
       "3               0  Canal Winchester    OH  Franklin County  America/New_York   \n",
       "4               0  Canal Winchester    OH  Franklin County  America/New_York   \n",
       "5               0  Canal Winchester    OH  Franklin County  America/New_York   \n",
       "6               0  Canal Winchester    OH  Franklin County  America/New_York   \n",
       "7               0  Canal Winchester    OH  Franklin County  America/New_York   \n",
       "8               0  Canal Winchester    OH  Franklin County  America/New_York   \n",
       "9               0  Canal Winchester    OH  Franklin County  America/New_York   \n",
       "\n",
       "   latitude  longitude  irs_estimated_population_2015      county full  YEAR  \\\n",
       "0    38.250    -94.330                           5800     Bates County  2016   \n",
       "1    38.250    -94.330                           5800     Bates County  2016   \n",
       "2    39.840    -82.820                          34950  Franklin County  2016   \n",
       "3    39.840    -82.820                          34950  Franklin County  2016   \n",
       "4    39.840    -82.820                          34950  Franklin County  2016   \n",
       "5    39.840    -82.820                          34950  Franklin County  2016   \n",
       "6    39.840    -82.820                          34950  Franklin County  2016   \n",
       "7    39.840    -82.820                          34950  Franklin County  2016   \n",
       "8    39.840    -82.820                          34950  Franklin County  2016   \n",
       "9    39.840    -82.820                          34950  Franklin County  2016   \n",
       "\n",
       "   AGE  Median Family income Num  Per Capita income Num  \\\n",
       "0    3                 50469.000              21047.000   \n",
       "1    3                 50469.000              21047.000   \n",
       "2    3                 64693.000              28283.000   \n",
       "3    3                 64693.000              28283.000   \n",
       "4    3                 64693.000              28283.000   \n",
       "5    3                 64693.000              28283.000   \n",
       "6    3                 64693.000              28283.000   \n",
       "7    3                 64693.000              28283.000   \n",
       "8    3                 64693.000              28283.000   \n",
       "9    3                 64693.000              28283.000   \n",
       "\n",
       "   Median Household income Num famincomerank populationsize  is_newer  \n",
       "0                    38579.000        Middle          Large         1  \n",
       "1                    38579.000        Middle          Large         1  \n",
       "2                    50877.000        Middle          Large         1  \n",
       "3                    50877.000        Middle          Large         1  \n",
       "4                    50877.000        Middle          Large         1  \n",
       "5                    50877.000        Middle          Large         1  \n",
       "6                    50877.000        Middle          Large         1  \n",
       "7                    50877.000        Middle          Large         1  \n",
       "8                    50877.000        Middle          Large         1  \n",
       "9                    50877.000        Middle          Large         1  "
      ]
     },
     "execution_count": 95,
     "metadata": {},
     "output_type": "execute_result"
    }
   ],
   "source": [
    "feature_df.head(10)"
   ]
  },
  {
   "cell_type": "markdown",
   "metadata": {},
   "source": [
    "### EDA5 : Number of HouseHold and Car Price"
   ]
  },
  {
   "cell_type": "code",
   "execution_count": 10,
   "metadata": {
    "scrolled": true
   },
   "outputs": [
    {
     "name": "stderr",
     "output_type": "stream",
     "text": [
      "C:\\Users\\yexin\\Anaconda3\\envs\\myenv\\lib\\site-packages\\scipy\\stats\\stats.py:1713: FutureWarning: Using a non-tuple sequence for multidimensional indexing is deprecated; use `arr[tuple(seq)]` instead of `arr[seq]`. In the future this will be interpreted as an array index, `arr[np.array(seq)]`, which will result either in an error or a different result.\n",
      "  return np.add.reduce(sorted[indexer] * weights, axis=axis) / sumval\n"
     ]
    },
    {
     "data": {
      "text/plain": [
       "<matplotlib.axes._subplots.AxesSubplot at 0x23439977208>"
      ]
     },
     "execution_count": 10,
     "metadata": {},
     "output_type": "execute_result"
    },
    {
     "data": {
      "image/png": "[encoded data removed]",
      "text/plain": [
       "<Figure size 360x360 with 1 Axes>"
      ]
     },
     "metadata": {},
     "output_type": "display_data"
    }
   ],
   "source": [
    "plt.figure(figsize=(5, 5))\n",
    "sns.distplot(feature_df['Number of households'], color='g', bins=50)"
   ]
  },
  {
   "cell_type": "code",
   "execution_count": 11,
   "metadata": {},
   "outputs": [
    {
     "data": {
      "text/plain": [
       "count    336511.000\n",
       "mean     386393.929\n",
       "std      574393.384\n",
       "min         760.000\n",
       "25%       86483.000\n",
       "50%      230366.000\n",
       "75%      389908.000\n",
       "max     3230383.000\n",
       "Name: Number of households, dtype: float64"
      ]
     },
     "execution_count": 11,
     "metadata": {},
     "output_type": "execute_result"
    }
   ],
   "source": [
    "feature_df['Number of households'].describe()"
   ]
  },
  {
   "cell_type": "code",
   "execution_count": 20,
   "metadata": {},
   "outputs": [],
   "source": [
    "feature_df['households']= np.where((feature_df['Number of households']<350000),'Small',\n",
    "                                        np.where((feature_df['Number of households']>=350000) & (feature_df['Number of households']< 389908),'Middle',\n",
    "                                                 'Large'))\n",
    "                                "
   ]
  },
  {
   "cell_type": "code",
   "execution_count": 26,
   "metadata": {},
   "outputs": [],
   "source": [
    "households = pd.DataFrame(feature_df.groupby('households').median())\n",
    "households = households.reset_index()"
   ]
  },
  {
   "cell_type": "code",
   "execution_count": 28,
   "metadata": {},
   "outputs": [
    {
     "data": {
      "text/plain": [
       "<matplotlib.axes._subplots.AxesSubplot at 0x23425c8aba8>"
      ]
     },
     "execution_count": 28,
     "metadata": {},
     "output_type": "execute_result"
    },
    {
     "data": {
      "image/png": "[encoded data removed]",
      "text/plain": [
       "<Figure size 432x288 with 1 Axes>"
      ]
     },
     "metadata": {},
     "output_type": "display_data"
    }
   ],
   "source": [
    "households.sort_values('price', ascending=False, inplace=True)\n",
    "sns.barplot(x=\"price\", y=\"households\", data =households , label=\"Median\")"
   ]
  },
  {
   "cell_type": "code",
   "execution_count": 29,
   "metadata": {},
   "outputs": [
    {
     "data": {
      "text/plain": [
       "<matplotlib.axes._subplots.AxesSubplot at 0x23422da6160>"
      ]
     },
     "execution_count": 29,
     "metadata": {},
     "output_type": "execute_result"
    },
    {
     "data": {
      "image/png": "[encoded data removed]",
      "text/plain": [
       "<Figure size 360x360 with 1 Axes>"
      ]
     },
     "metadata": {},
     "output_type": "display_data"
    }
   ],
   "source": [
    "feature_df['households'].value_counts().plot(kind='bar', figsize=(5,5))"
   ]
  },
  {
   "cell_type": "code",
   "execution_count": 30,
   "metadata": {
    "scrolled": false
   },
   "outputs": [],
   "source": [
    "smallhouseholds = feature_df[feature_df['Number of households']<350000]"
   ]
  },
  {
   "cell_type": "code",
   "execution_count": 31,
   "metadata": {},
   "outputs": [],
   "source": [
    "middlehouseholds = feature_df[(feature_df['Number of households']>=350000)|(feature_df['Number of households']< 389908)]"
   ]
  },
  {
   "cell_type": "code",
   "execution_count": 32,
   "metadata": {},
   "outputs": [],
   "source": [
    "highhouseholds =feature_df[feature_df['Number of households']>= 389908]"
   ]
  },
  {
   "cell_type": "code",
   "execution_count": 34,
   "metadata": {},
   "outputs": [
    {
     "data": {
      "text/plain": [
       "<matplotlib.axes._subplots.AxesSubplot at 0x23422d5afd0>"
      ]
     },
     "execution_count": 34,
     "metadata": {},
     "output_type": "execute_result"
    },
    {
     "data": {
      "image/png": "[encoded data removed]",
      "text/plain": [
       "<Figure size 360x360 with 1 Axes>"
      ]
     },
     "metadata": {},
     "output_type": "display_data"
    }
   ],
   "source": [
    "highhouseholds['make'].value_counts().head(10).plot(kind='bar', figsize=(5,5))"
   ]
  },
  {
   "cell_type": "code",
   "execution_count": 35,
   "metadata": {},
   "outputs": [
    {
     "data": {
      "text/plain": [
       "<matplotlib.axes._subplots.AxesSubplot at 0x2342411a438>"
      ]
     },
     "execution_count": 35,
     "metadata": {},
     "output_type": "execute_result"
    },
    {
     "data": {
      "image/png": "[encoded data removed]",
      "text/plain": [
       "<Figure size 360x360 with 1 Axes>"
      ]
     },
     "metadata": {},
     "output_type": "display_data"
    }
   ],
   "source": [
    "middlehouseholds['make'].value_counts().head(10).plot(kind='bar', figsize=(5,5))"
   ]
  },
  {
   "cell_type": "code",
   "execution_count": 36,
   "metadata": {},
   "outputs": [
    {
     "data": {
      "text/plain": [
       "<matplotlib.axes._subplots.AxesSubplot at 0x2342418e198>"
      ]
     },
     "execution_count": 36,
     "metadata": {},
     "output_type": "execute_result"
    },
    {
     "data": {
      "image/png": "[encoded data removed]",
      "text/plain": [
       "<Figure size 360x360 with 1 Axes>"
      ]
     },
     "metadata": {},
     "output_type": "display_data"
    }
   ],
   "source": [
    "smallhouseholds['make'].value_counts().head(10).plot(kind='bar', figsize=(5,5))"
   ]
  },
  {
   "cell_type": "code",
   "execution_count": null,
   "metadata": {},
   "outputs": [],
   "source": []
  },
  {
   "cell_type": "markdown",
   "metadata": {},
   "source": [
    "### EDA4: Age of Car Distribution and Analysis"
   ]
  },
  {
   "cell_type": "code",
   "execution_count": 29,
   "metadata": {
    "scrolled": false
   },
   "outputs": [],
   "source": [
    "# Adding new features...Create Category for New Car and Old Cars\n",
    "feature_df['is_newer'] = np.where(feature_df['AGE']<10,1,0)"
   ]
  },
  {
   "cell_type": "code",
   "execution_count": 30,
   "metadata": {
    "scrolled": true
   },
   "outputs": [
    {
     "data": {
      "text/html": [
       "<div>\n",
       "<style scoped>\n",
       "    .dataframe tbody tr th:only-of-type {\n",
       "        vertical-align: middle;\n",
       "    }\n",
       "\n",
       "    .dataframe tbody tr th {\n",
       "        vertical-align: top;\n",
       "    }\n",
       "\n",
       "    .dataframe thead th {\n",
       "        text-align: right;\n",
       "    }\n",
       "</style>\n",
       "<table border=\"1\" class=\"dataframe\">\n",
       "  <thead>\n",
       "    <tr style=\"text-align: right;\">\n",
       "      <th></th>\n",
       "      <th>vin</th>\n",
       "      <th>price</th>\n",
       "      <th>miles</th>\n",
       "      <th>year</th>\n",
       "      <th>make</th>\n",
       "      <th>model</th>\n",
       "      <th>trim</th>\n",
       "      <th>vehicle_type</th>\n",
       "      <th>body_type</th>\n",
       "      <th>drivetrain</th>\n",
       "      <th>fuel_type</th>\n",
       "      <th>engine</th>\n",
       "      <th>engine_size</th>\n",
       "      <th>transmission</th>\n",
       "      <th>doors</th>\n",
       "      <th>cylinders</th>\n",
       "      <th>interior_color</th>\n",
       "      <th>exterior_color</th>\n",
       "      <th>scraped_at</th>\n",
       "      <th>status_date</th>\n",
       "      <th>zip</th>\n",
       "      <th>is_certified</th>\n",
       "      <th>dom</th>\n",
       "      <th>dom_180</th>\n",
       "      <th>msrp</th>\n",
       "      <th>dom_active</th>\n",
       "      <th>Rank</th>\n",
       "      <th>County</th>\n",
       "      <th>State short</th>\n",
       "      <th>Per Capita income</th>\n",
       "      <th>Median Household income</th>\n",
       "      <th>Median Family income</th>\n",
       "      <th>Population</th>\n",
       "      <th>Number of households</th>\n",
       "      <th>State full</th>\n",
       "      <th>States Short</th>\n",
       "      <th>States</th>\n",
       "      <th>Regions</th>\n",
       "      <th>type</th>\n",
       "      <th>decommissioned</th>\n",
       "      <th>primary_city</th>\n",
       "      <th>state</th>\n",
       "      <th>county</th>\n",
       "      <th>timezone</th>\n",
       "      <th>latitude</th>\n",
       "      <th>longitude</th>\n",
       "      <th>irs_estimated_population_2015</th>\n",
       "      <th>county full</th>\n",
       "      <th>YEAR</th>\n",
       "      <th>AGE</th>\n",
       "      <th>Median Family income Num</th>\n",
       "      <th>Per Capita income Num</th>\n",
       "      <th>Median Household income Num</th>\n",
       "      <th>is_newer</th>\n",
       "    </tr>\n",
       "  </thead>\n",
       "  <tbody>\n",
       "    <tr>\n",
       "      <th>0</th>\n",
       "      <td>1GTP6DE12G1234957</td>\n",
       "      <td>31500.000</td>\n",
       "      <td>44360.000</td>\n",
       "      <td>2016.000</td>\n",
       "      <td>GMC</td>\n",
       "      <td>Canyon</td>\n",
       "      <td>SLT</td>\n",
       "      <td>Truck</td>\n",
       "      <td>Pickup</td>\n",
       "      <td>4-Wheel Drive</td>\n",
       "      <td>Diesel</td>\n",
       "      <td>2.8L L4 DOHC 24V TURBO DIESEL</td>\n",
       "      <td>2.800</td>\n",
       "      <td>Automatic</td>\n",
       "      <td>4.000</td>\n",
       "      <td>4.000</td>\n",
       "      <td>JET BLACK</td>\n",
       "      <td>Summit White</td>\n",
       "      <td>2018-09-13T10:24:47Z</td>\n",
       "      <td>2018-11-10T05:16:06Z</td>\n",
       "      <td>64730</td>\n",
       "      <td>1.000</td>\n",
       "      <td>89</td>\n",
       "      <td>13</td>\n",
       "      <td>34852.000</td>\n",
       "      <td>0</td>\n",
       "      <td>2079</td>\n",
       "      <td>Bates</td>\n",
       "      <td>MO</td>\n",
       "      <td>$21,047.00</td>\n",
       "      <td>$38,579.00</td>\n",
       "      <td>$50,469.00</td>\n",
       "      <td>16878</td>\n",
       "      <td>6832</td>\n",
       "      <td>Missouri</td>\n",
       "      <td>MO</td>\n",
       "      <td>Missouri</td>\n",
       "      <td>MidWest</td>\n",
       "      <td>STANDARD</td>\n",
       "      <td>0</td>\n",
       "      <td>Butler</td>\n",
       "      <td>MO</td>\n",
       "      <td>Bates</td>\n",
       "      <td>America/Chicago</td>\n",
       "      <td>38.250</td>\n",
       "      <td>-94.330</td>\n",
       "      <td>5800</td>\n",
       "      <td>Bates County</td>\n",
       "      <td>2016</td>\n",
       "      <td>3</td>\n",
       "      <td>50469.000</td>\n",
       "      <td>21047.000</td>\n",
       "      <td>38579.000</td>\n",
       "      <td>1</td>\n",
       "    </tr>\n",
       "    <tr>\n",
       "      <th>1</th>\n",
       "      <td>2C3CCAKG3GH325272</td>\n",
       "      <td>22500.000</td>\n",
       "      <td>35195.000</td>\n",
       "      <td>2016.000</td>\n",
       "      <td>Chrysler</td>\n",
       "      <td>300</td>\n",
       "      <td>C</td>\n",
       "      <td>Car</td>\n",
       "      <td>Sedan</td>\n",
       "      <td>All Wheel Drive</td>\n",
       "      <td>Regular Unleaded</td>\n",
       "      <td>3.6L V6 SOHC 24V</td>\n",
       "      <td>3.600</td>\n",
       "      <td>Automatic</td>\n",
       "      <td>4.000</td>\n",
       "      <td>6.000</td>\n",
       "      <td>BLACK</td>\n",
       "      <td>Billet Silver Metallic Clearcoat</td>\n",
       "      <td>2018-10-25T14:21:05Z</td>\n",
       "      <td>2018-11-10T05:19:43Z</td>\n",
       "      <td>64730</td>\n",
       "      <td>1.000</td>\n",
       "      <td>138</td>\n",
       "      <td>70</td>\n",
       "      <td>22500.000</td>\n",
       "      <td>70</td>\n",
       "      <td>2079</td>\n",
       "      <td>Bates</td>\n",
       "      <td>MO</td>\n",
       "      <td>$21,047.00</td>\n",
       "      <td>$38,579.00</td>\n",
       "      <td>$50,469.00</td>\n",
       "      <td>16878</td>\n",
       "      <td>6832</td>\n",
       "      <td>Missouri</td>\n",
       "      <td>MO</td>\n",
       "      <td>Missouri</td>\n",
       "      <td>MidWest</td>\n",
       "      <td>STANDARD</td>\n",
       "      <td>0</td>\n",
       "      <td>Butler</td>\n",
       "      <td>MO</td>\n",
       "      <td>Bates</td>\n",
       "      <td>America/Chicago</td>\n",
       "      <td>38.250</td>\n",
       "      <td>-94.330</td>\n",
       "      <td>5800</td>\n",
       "      <td>Bates County</td>\n",
       "      <td>2016</td>\n",
       "      <td>3</td>\n",
       "      <td>50469.000</td>\n",
       "      <td>21047.000</td>\n",
       "      <td>38579.000</td>\n",
       "      <td>1</td>\n",
       "    </tr>\n",
       "    <tr>\n",
       "      <th>2</th>\n",
       "      <td>JTDKARFU6G3504811</td>\n",
       "      <td>21600.000</td>\n",
       "      <td>16513.000</td>\n",
       "      <td>2016.000</td>\n",
       "      <td>Toyota</td>\n",
       "      <td>Prius</td>\n",
       "      <td>Four</td>\n",
       "      <td>Car</td>\n",
       "      <td>Hatchback</td>\n",
       "      <td>Front Wheel Drive</td>\n",
       "      <td>Regular Unleaded</td>\n",
       "      <td>1.8L L4 DOHC 16V HYBRID</td>\n",
       "      <td>1.800</td>\n",
       "      <td>Automatic</td>\n",
       "      <td>4.000</td>\n",
       "      <td>4.000</td>\n",
       "      <td>MOONSTONE</td>\n",
       "      <td>White</td>\n",
       "      <td>2018-10-21T08:38:22Z</td>\n",
       "      <td>2018-11-10T16:11:40Z</td>\n",
       "      <td>43110</td>\n",
       "      <td>1.000</td>\n",
       "      <td>60</td>\n",
       "      <td>22</td>\n",
       "      <td>21600.000</td>\n",
       "      <td>22</td>\n",
       "      <td>461</td>\n",
       "      <td>Franklin County</td>\n",
       "      <td>OH</td>\n",
       "      <td>$28,283.00</td>\n",
       "      <td>$50,877.00</td>\n",
       "      <td>$64,693.00</td>\n",
       "      <td>1181824</td>\n",
       "      <td>468295</td>\n",
       "      <td>Ohio</td>\n",
       "      <td>OH</td>\n",
       "      <td>Ohio</td>\n",
       "      <td>MidWest</td>\n",
       "      <td>STANDARD</td>\n",
       "      <td>0</td>\n",
       "      <td>Canal Winchester</td>\n",
       "      <td>OH</td>\n",
       "      <td>Franklin County</td>\n",
       "      <td>America/New_York</td>\n",
       "      <td>39.840</td>\n",
       "      <td>-82.820</td>\n",
       "      <td>34950</td>\n",
       "      <td>Franklin County</td>\n",
       "      <td>2016</td>\n",
       "      <td>3</td>\n",
       "      <td>64693.000</td>\n",
       "      <td>28283.000</td>\n",
       "      <td>50877.000</td>\n",
       "      <td>1</td>\n",
       "    </tr>\n",
       "    <tr>\n",
       "      <th>3</th>\n",
       "      <td>5J6RM4H97GL054923</td>\n",
       "      <td>26057.000</td>\n",
       "      <td>25162.000</td>\n",
       "      <td>2016.000</td>\n",
       "      <td>Honda</td>\n",
       "      <td>CR-V</td>\n",
       "      <td>Touring</td>\n",
       "      <td>SUV</td>\n",
       "      <td>SUV</td>\n",
       "      <td>All Wheel Drive</td>\n",
       "      <td>Regular Unleaded</td>\n",
       "      <td>2.4L L4 DOHC 16V</td>\n",
       "      <td>2.400</td>\n",
       "      <td>Automatic</td>\n",
       "      <td>4.000</td>\n",
       "      <td>4.000</td>\n",
       "      <td>Black</td>\n",
       "      <td>White Diamond Pearl</td>\n",
       "      <td>2018-10-30T06:44:29Z</td>\n",
       "      <td>2018-11-10T16:50:53Z</td>\n",
       "      <td>43110</td>\n",
       "      <td>1.000</td>\n",
       "      <td>152</td>\n",
       "      <td>73</td>\n",
       "      <td>26057.000</td>\n",
       "      <td>73</td>\n",
       "      <td>461</td>\n",
       "      <td>Franklin County</td>\n",
       "      <td>OH</td>\n",
       "      <td>$28,283.00</td>\n",
       "      <td>$50,877.00</td>\n",
       "      <td>$64,693.00</td>\n",
       "      <td>1181824</td>\n",
       "      <td>468295</td>\n",
       "      <td>Ohio</td>\n",
       "      <td>OH</td>\n",
       "      <td>Ohio</td>\n",
       "      <td>MidWest</td>\n",
       "      <td>STANDARD</td>\n",
       "      <td>0</td>\n",
       "      <td>Canal Winchester</td>\n",
       "      <td>OH</td>\n",
       "      <td>Franklin County</td>\n",
       "      <td>America/New_York</td>\n",
       "      <td>39.840</td>\n",
       "      <td>-82.820</td>\n",
       "      <td>34950</td>\n",
       "      <td>Franklin County</td>\n",
       "      <td>2016</td>\n",
       "      <td>3</td>\n",
       "      <td>64693.000</td>\n",
       "      <td>28283.000</td>\n",
       "      <td>50877.000</td>\n",
       "      <td>1</td>\n",
       "    </tr>\n",
       "    <tr>\n",
       "      <th>4</th>\n",
       "      <td>1G11C5SA1GF111025</td>\n",
       "      <td>15475.000</td>\n",
       "      <td>32865.000</td>\n",
       "      <td>2016.000</td>\n",
       "      <td>Chevrolet</td>\n",
       "      <td>Malibu Limited</td>\n",
       "      <td>LT</td>\n",
       "      <td>Car</td>\n",
       "      <td>Sedan</td>\n",
       "      <td>Front Wheel Drive</td>\n",
       "      <td>Regular Unleaded</td>\n",
       "      <td>2.5L L4 DOHC 16V</td>\n",
       "      <td>2.500</td>\n",
       "      <td>Automatic</td>\n",
       "      <td>4.000</td>\n",
       "      <td>4.000</td>\n",
       "      <td>JET BLACK</td>\n",
       "      <td>Silver Ice</td>\n",
       "      <td>2018-10-20T04:54:05Z</td>\n",
       "      <td>2018-11-10T17:36:51Z</td>\n",
       "      <td>43110</td>\n",
       "      <td>1.000</td>\n",
       "      <td>23</td>\n",
       "      <td>23</td>\n",
       "      <td>15475.000</td>\n",
       "      <td>23</td>\n",
       "      <td>461</td>\n",
       "      <td>Franklin County</td>\n",
       "      <td>OH</td>\n",
       "      <td>$28,283.00</td>\n",
       "      <td>$50,877.00</td>\n",
       "      <td>$64,693.00</td>\n",
       "      <td>1181824</td>\n",
       "      <td>468295</td>\n",
       "      <td>Ohio</td>\n",
       "      <td>OH</td>\n",
       "      <td>Ohio</td>\n",
       "      <td>MidWest</td>\n",
       "      <td>STANDARD</td>\n",
       "      <td>0</td>\n",
       "      <td>Canal Winchester</td>\n",
       "      <td>OH</td>\n",
       "      <td>Franklin County</td>\n",
       "      <td>America/New_York</td>\n",
       "      <td>39.840</td>\n",
       "      <td>-82.820</td>\n",
       "      <td>34950</td>\n",
       "      <td>Franklin County</td>\n",
       "      <td>2016</td>\n",
       "      <td>3</td>\n",
       "      <td>64693.000</td>\n",
       "      <td>28283.000</td>\n",
       "      <td>50877.000</td>\n",
       "      <td>1</td>\n",
       "    </tr>\n",
       "  </tbody>\n",
       "</table>\n",
       "</div>"
      ],
      "text/plain": [
       "                 vin     price     miles     year       make           model  \\\n",
       "0  1GTP6DE12G1234957 31500.000 44360.000 2016.000        GMC          Canyon   \n",
       "1  2C3CCAKG3GH325272 22500.000 35195.000 2016.000   Chrysler             300   \n",
       "2  JTDKARFU6G3504811 21600.000 16513.000 2016.000     Toyota           Prius   \n",
       "3  5J6RM4H97GL054923 26057.000 25162.000 2016.000      Honda            CR-V   \n",
       "4  1G11C5SA1GF111025 15475.000 32865.000 2016.000  Chevrolet  Malibu Limited   \n",
       "\n",
       "      trim vehicle_type  body_type         drivetrain         fuel_type  \\\n",
       "0      SLT        Truck     Pickup      4-Wheel Drive            Diesel   \n",
       "1        C          Car      Sedan    All Wheel Drive  Regular Unleaded   \n",
       "2     Four          Car  Hatchback  Front Wheel Drive  Regular Unleaded   \n",
       "3  Touring          SUV        SUV    All Wheel Drive  Regular Unleaded   \n",
       "4       LT          Car      Sedan  Front Wheel Drive  Regular Unleaded   \n",
       "\n",
       "                          engine  engine_size transmission  doors  cylinders  \\\n",
       "0  2.8L L4 DOHC 24V TURBO DIESEL        2.800    Automatic  4.000      4.000   \n",
       "1               3.6L V6 SOHC 24V        3.600    Automatic  4.000      6.000   \n",
       "2        1.8L L4 DOHC 16V HYBRID        1.800    Automatic  4.000      4.000   \n",
       "3               2.4L L4 DOHC 16V        2.400    Automatic  4.000      4.000   \n",
       "4               2.5L L4 DOHC 16V        2.500    Automatic  4.000      4.000   \n",
       "\n",
       "  interior_color                    exterior_color            scraped_at  \\\n",
       "0      JET BLACK                      Summit White  2018-09-13T10:24:47Z   \n",
       "1          BLACK  Billet Silver Metallic Clearcoat  2018-10-25T14:21:05Z   \n",
       "2      MOONSTONE                             White  2018-10-21T08:38:22Z   \n",
       "3          Black               White Diamond Pearl  2018-10-30T06:44:29Z   \n",
       "4      JET BLACK                        Silver Ice  2018-10-20T04:54:05Z   \n",
       "\n",
       "            status_date    zip  is_certified  dom  dom_180      msrp  \\\n",
       "0  2018-11-10T05:16:06Z  64730         1.000   89       13 34852.000   \n",
       "1  2018-11-10T05:19:43Z  64730         1.000  138       70 22500.000   \n",
       "2  2018-11-10T16:11:40Z  43110         1.000   60       22 21600.000   \n",
       "3  2018-11-10T16:50:53Z  43110         1.000  152       73 26057.000   \n",
       "4  2018-11-10T17:36:51Z  43110         1.000   23       23 15475.000   \n",
       "\n",
       "   dom_active  Rank           County State short Per Capita income  \\\n",
       "0           0  2079            Bates          MO        $21,047.00   \n",
       "1          70  2079            Bates          MO        $21,047.00   \n",
       "2          22   461  Franklin County          OH        $28,283.00   \n",
       "3          73   461  Franklin County          OH        $28,283.00   \n",
       "4          23   461  Franklin County          OH        $28,283.00   \n",
       "\n",
       "  Median Household income Median Family income  Population  \\\n",
       "0              $38,579.00           $50,469.00       16878   \n",
       "1              $38,579.00           $50,469.00       16878   \n",
       "2              $50,877.00           $64,693.00     1181824   \n",
       "3              $50,877.00           $64,693.00     1181824   \n",
       "4              $50,877.00           $64,693.00     1181824   \n",
       "\n",
       "   Number of households State full States Short    States  Regions      type  \\\n",
       "0                  6832   Missouri           MO  Missouri  MidWest  STANDARD   \n",
       "1                  6832   Missouri           MO  Missouri  MidWest  STANDARD   \n",
       "2                468295       Ohio           OH      Ohio  MidWest  STANDARD   \n",
       "3                468295       Ohio           OH      Ohio  MidWest  STANDARD   \n",
       "4                468295       Ohio           OH      Ohio  MidWest  STANDARD   \n",
       "\n",
       "   decommissioned      primary_city state           county          timezone  \\\n",
       "0               0            Butler    MO            Bates   America/Chicago   \n",
       "1               0            Butler    MO            Bates   America/Chicago   \n",
       "2               0  Canal Winchester    OH  Franklin County  America/New_York   \n",
       "3               0  Canal Winchester    OH  Franklin County  America/New_York   \n",
       "4               0  Canal Winchester    OH  Franklin County  America/New_York   \n",
       "\n",
       "   latitude  longitude  irs_estimated_population_2015      county full  YEAR  \\\n",
       "0    38.250    -94.330                           5800     Bates County  2016   \n",
       "1    38.250    -94.330                           5800     Bates County  2016   \n",
       "2    39.840    -82.820                          34950  Franklin County  2016   \n",
       "3    39.840    -82.820                          34950  Franklin County  2016   \n",
       "4    39.840    -82.820                          34950  Franklin County  2016   \n",
       "\n",
       "   AGE  Median Family income Num  Per Capita income Num  \\\n",
       "0    3                 50469.000              21047.000   \n",
       "1    3                 50469.000              21047.000   \n",
       "2    3                 64693.000              28283.000   \n",
       "3    3                 64693.000              28283.000   \n",
       "4    3                 64693.000              28283.000   \n",
       "\n",
       "   Median Household income Num  is_newer  \n",
       "0                    38579.000         1  \n",
       "1                    38579.000         1  \n",
       "2                    50877.000         1  \n",
       "3                    50877.000         1  \n",
       "4                    50877.000         1  "
      ]
     },
     "execution_count": 30,
     "metadata": {},
     "output_type": "execute_result"
    }
   ],
   "source": [
    "feature_df.head()"
   ]
  },
  {
   "cell_type": "code",
   "execution_count": 33,
   "metadata": {},
   "outputs": [
    {
     "data": {
      "text/plain": [
       "dtype('int32')"
      ]
     },
     "execution_count": 33,
     "metadata": {},
     "output_type": "execute_result"
    }
   ],
   "source": [
    "feature_df['is_newer'].dtype"
   ]
  },
  {
   "cell_type": "code",
   "execution_count": 34,
   "metadata": {
    "scrolled": true
   },
   "outputs": [
    {
     "data": {
      "text/html": [
       "<div>\n",
       "<style scoped>\n",
       "    .dataframe tbody tr th:only-of-type {\n",
       "        vertical-align: middle;\n",
       "    }\n",
       "\n",
       "    .dataframe tbody tr th {\n",
       "        vertical-align: top;\n",
       "    }\n",
       "\n",
       "    .dataframe thead th {\n",
       "        text-align: right;\n",
       "    }\n",
       "</style>\n",
       "<table border=\"1\" class=\"dataframe\">\n",
       "  <thead>\n",
       "    <tr style=\"text-align: right;\">\n",
       "      <th></th>\n",
       "      <th>price</th>\n",
       "      <th>miles</th>\n",
       "      <th>year</th>\n",
       "      <th>engine_size</th>\n",
       "      <th>doors</th>\n",
       "      <th>cylinders</th>\n",
       "      <th>zip</th>\n",
       "      <th>is_certified</th>\n",
       "      <th>dom</th>\n",
       "      <th>dom_180</th>\n",
       "      <th>msrp</th>\n",
       "      <th>dom_active</th>\n",
       "      <th>Rank</th>\n",
       "      <th>Population</th>\n",
       "      <th>Number of households</th>\n",
       "      <th>decommissioned</th>\n",
       "      <th>latitude</th>\n",
       "      <th>longitude</th>\n",
       "      <th>irs_estimated_population_2015</th>\n",
       "      <th>YEAR</th>\n",
       "      <th>AGE</th>\n",
       "      <th>Median Family income Num</th>\n",
       "      <th>Per Capita income Num</th>\n",
       "      <th>Median Household income Num</th>\n",
       "      <th>is_newer</th>\n",
       "    </tr>\n",
       "  </thead>\n",
       "  <tbody>\n",
       "    <tr>\n",
       "      <th>0</th>\n",
       "      <td>31500.000</td>\n",
       "      <td>44360.000</td>\n",
       "      <td>2016.000</td>\n",
       "      <td>2.800</td>\n",
       "      <td>4.000</td>\n",
       "      <td>4.000</td>\n",
       "      <td>64730</td>\n",
       "      <td>1.000</td>\n",
       "      <td>89</td>\n",
       "      <td>13</td>\n",
       "      <td>34852.000</td>\n",
       "      <td>0</td>\n",
       "      <td>2079</td>\n",
       "      <td>16878</td>\n",
       "      <td>6832</td>\n",
       "      <td>0</td>\n",
       "      <td>38.250</td>\n",
       "      <td>-94.330</td>\n",
       "      <td>5800</td>\n",
       "      <td>2016</td>\n",
       "      <td>3</td>\n",
       "      <td>50469.000</td>\n",
       "      <td>21047.000</td>\n",
       "      <td>38579.000</td>\n",
       "      <td>1</td>\n",
       "    </tr>\n",
       "    <tr>\n",
       "      <th>1</th>\n",
       "      <td>22500.000</td>\n",
       "      <td>35195.000</td>\n",
       "      <td>2016.000</td>\n",
       "      <td>3.600</td>\n",
       "      <td>4.000</td>\n",
       "      <td>6.000</td>\n",
       "      <td>64730</td>\n",
       "      <td>1.000</td>\n",
       "      <td>138</td>\n",
       "      <td>70</td>\n",
       "      <td>22500.000</td>\n",
       "      <td>70</td>\n",
       "      <td>2079</td>\n",
       "      <td>16878</td>\n",
       "      <td>6832</td>\n",
       "      <td>0</td>\n",
       "      <td>38.250</td>\n",
       "      <td>-94.330</td>\n",
       "      <td>5800</td>\n",
       "      <td>2016</td>\n",
       "      <td>3</td>\n",
       "      <td>50469.000</td>\n",
       "      <td>21047.000</td>\n",
       "      <td>38579.000</td>\n",
       "      <td>1</td>\n",
       "    </tr>\n",
       "    <tr>\n",
       "      <th>2</th>\n",
       "      <td>21600.000</td>\n",
       "      <td>16513.000</td>\n",
       "      <td>2016.000</td>\n",
       "      <td>1.800</td>\n",
       "      <td>4.000</td>\n",
       "      <td>4.000</td>\n",
       "      <td>43110</td>\n",
       "      <td>1.000</td>\n",
       "      <td>60</td>\n",
       "      <td>22</td>\n",
       "      <td>21600.000</td>\n",
       "      <td>22</td>\n",
       "      <td>461</td>\n",
       "      <td>1181824</td>\n",
       "      <td>468295</td>\n",
       "      <td>0</td>\n",
       "      <td>39.840</td>\n",
       "      <td>-82.820</td>\n",
       "      <td>34950</td>\n",
       "      <td>2016</td>\n",
       "      <td>3</td>\n",
       "      <td>64693.000</td>\n",
       "      <td>28283.000</td>\n",
       "      <td>50877.000</td>\n",
       "      <td>1</td>\n",
       "    </tr>\n",
       "    <tr>\n",
       "      <th>3</th>\n",
       "      <td>26057.000</td>\n",
       "      <td>25162.000</td>\n",
       "      <td>2016.000</td>\n",
       "      <td>2.400</td>\n",
       "      <td>4.000</td>\n",
       "      <td>4.000</td>\n",
       "      <td>43110</td>\n",
       "      <td>1.000</td>\n",
       "      <td>152</td>\n",
       "      <td>73</td>\n",
       "      <td>26057.000</td>\n",
       "      <td>73</td>\n",
       "      <td>461</td>\n",
       "      <td>1181824</td>\n",
       "      <td>468295</td>\n",
       "      <td>0</td>\n",
       "      <td>39.840</td>\n",
       "      <td>-82.820</td>\n",
       "      <td>34950</td>\n",
       "      <td>2016</td>\n",
       "      <td>3</td>\n",
       "      <td>64693.000</td>\n",
       "      <td>28283.000</td>\n",
       "      <td>50877.000</td>\n",
       "      <td>1</td>\n",
       "    </tr>\n",
       "    <tr>\n",
       "      <th>4</th>\n",
       "      <td>15475.000</td>\n",
       "      <td>32865.000</td>\n",
       "      <td>2016.000</td>\n",
       "      <td>2.500</td>\n",
       "      <td>4.000</td>\n",
       "      <td>4.000</td>\n",
       "      <td>43110</td>\n",
       "      <td>1.000</td>\n",
       "      <td>23</td>\n",
       "      <td>23</td>\n",
       "      <td>15475.000</td>\n",
       "      <td>23</td>\n",
       "      <td>461</td>\n",
       "      <td>1181824</td>\n",
       "      <td>468295</td>\n",
       "      <td>0</td>\n",
       "      <td>39.840</td>\n",
       "      <td>-82.820</td>\n",
       "      <td>34950</td>\n",
       "      <td>2016</td>\n",
       "      <td>3</td>\n",
       "      <td>64693.000</td>\n",
       "      <td>28283.000</td>\n",
       "      <td>50877.000</td>\n",
       "      <td>1</td>\n",
       "    </tr>\n",
       "  </tbody>\n",
       "</table>\n",
       "</div>"
      ],
      "text/plain": [
       "      price     miles     year  engine_size  doors  cylinders    zip  \\\n",
       "0 31500.000 44360.000 2016.000        2.800  4.000      4.000  64730   \n",
       "1 22500.000 35195.000 2016.000        3.600  4.000      6.000  64730   \n",
       "2 21600.000 16513.000 2016.000        1.800  4.000      4.000  43110   \n",
       "3 26057.000 25162.000 2016.000        2.400  4.000      4.000  43110   \n",
       "4 15475.000 32865.000 2016.000        2.500  4.000      4.000  43110   \n",
       "\n",
       "   is_certified  dom  dom_180      msrp  dom_active  Rank  Population  \\\n",
       "0         1.000   89       13 34852.000           0  2079       16878   \n",
       "1         1.000  138       70 22500.000          70  2079       16878   \n",
       "2         1.000   60       22 21600.000          22   461     1181824   \n",
       "3         1.000  152       73 26057.000          73   461     1181824   \n",
       "4         1.000   23       23 15475.000          23   461     1181824   \n",
       "\n",
       "   Number of households  decommissioned  latitude  longitude  \\\n",
       "0                  6832               0    38.250    -94.330   \n",
       "1                  6832               0    38.250    -94.330   \n",
       "2                468295               0    39.840    -82.820   \n",
       "3                468295               0    39.840    -82.820   \n",
       "4                468295               0    39.840    -82.820   \n",
       "\n",
       "   irs_estimated_population_2015  YEAR  AGE  Median Family income Num  \\\n",
       "0                           5800  2016    3                 50469.000   \n",
       "1                           5800  2016    3                 50469.000   \n",
       "2                          34950  2016    3                 64693.000   \n",
       "3                          34950  2016    3                 64693.000   \n",
       "4                          34950  2016    3                 64693.000   \n",
       "\n",
       "   Per Capita income Num  Median Household income Num  is_newer  \n",
       "0              21047.000                    38579.000         1  \n",
       "1              21047.000                    38579.000         1  \n",
       "2              28283.000                    50877.000         1  \n",
       "3              28283.000                    50877.000         1  \n",
       "4              28283.000                    50877.000         1  "
      ]
     },
     "execution_count": 34,
     "metadata": {},
     "output_type": "execute_result"
    }
   ],
   "source": [
    "df_num_age = feature_df.select_dtypes(include = ['float64', 'int64','int32'])\n",
    "df_num_age.head()"
   ]
  },
  {
   "cell_type": "code",
   "execution_count": 36,
   "metadata": {
    "scrolled": false
   },
   "outputs": [
    {
     "data": {
      "image/png": "[encoded data removed]",
      "text/plain": [
       "<Figure size 576x576 with 1 Axes>"
      ]
     },
     "metadata": {},
     "output_type": "display_data"
    }
   ],
   "source": [
    "from pandas.plotting import radviz\n",
    "plt.figure(figsize=(8,8))\n",
    "radviz(df_num_age, 'is_newer',color=['blue','red'])\n",
    "plt.show()"
   ]
  },
  {
   "cell_type": "code",
   "execution_count": 113,
   "metadata": {
    "scrolled": true
   },
   "outputs": [
    {
     "name": "stderr",
     "output_type": "stream",
     "text": [
      "C:\\Users\\yexin\\Anaconda3\\envs\\myenv\\lib\\site-packages\\scipy\\stats\\stats.py:1713: FutureWarning: Using a non-tuple sequence for multidimensional indexing is deprecated; use `arr[tuple(seq)]` instead of `arr[seq]`. In the future this will be interpreted as an array index, `arr[np.array(seq)]`, which will result either in an error or a different result.\n",
      "  return np.add.reduce(sorted[indexer] * weights, axis=axis) / sumval\n"
     ]
    },
    {
     "data": {
      "text/plain": [
       "<seaborn.axisgrid.JointGrid at 0x255650724a8>"
      ]
     },
     "execution_count": 113,
     "metadata": {},
     "output_type": "execute_result"
    },
    {
     "data": {
      "image/png": "[encoded data removed]",
      "text/plain": [
       "<Figure size 432x432 with 3 Axes>"
      ]
     },
     "metadata": {},
     "output_type": "display_data"
    }
   ],
   "source": [
    "oldercar = df_num2[df_num2['is_newer']==0]\n",
    "sns.jointplot(data=oldercar,x='price_fs',y='AGE',kind='reg')"
   ]
  },
  {
   "cell_type": "code",
   "execution_count": 38,
   "metadata": {
    "scrolled": false
   },
   "outputs": [
    {
     "name": "stderr",
     "output_type": "stream",
     "text": [
      "C:\\Users\\yexin\\Anaconda3\\envs\\myenv\\lib\\site-packages\\scipy\\stats\\stats.py:1713: FutureWarning: Using a non-tuple sequence for multidimensional indexing is deprecated; use `arr[tuple(seq)]` instead of `arr[seq]`. In the future this will be interpreted as an array index, `arr[np.array(seq)]`, which will result either in an error or a different result.\n",
      "  return np.add.reduce(sorted[indexer] * weights, axis=axis) / sumval\n"
     ]
    },
    {
     "data": {
      "text/plain": [
       "<seaborn.axisgrid.JointGrid at 0x2415d4a64e0>"
      ]
     },
     "execution_count": 38,
     "metadata": {},
     "output_type": "execute_result"
    },
    {
     "data": {
      "image/png": "[encoded data removed]",
      "text/plain": [
       "<Figure size 432x432 with 3 Axes>"
      ]
     },
     "metadata": {},
     "output_type": "display_data"
    }
   ],
   "source": [
    "sns.jointplot(data=df_num,x='price_fs',y='AGE',kind='reg')"
   ]
  },
  {
   "cell_type": "code",
   "execution_count": 25,
   "metadata": {},
   "outputs": [],
   "source": [
    "#smallhouseholds = feature_df[feature_df['Number of households']<350000]\n",
    "plotdata = feature_df[feature_df['price']<400000] "
   ]
  },
  {
   "cell_type": "code",
   "execution_count": 26,
   "metadata": {
    "scrolled": true
   },
   "outputs": [
    {
     "name": "stderr",
     "output_type": "stream",
     "text": [
      "C:\\Users\\yexin\\Anaconda3\\envs\\myenv\\lib\\site-packages\\scipy\\stats\\stats.py:1713: FutureWarning: Using a non-tuple sequence for multidimensional indexing is deprecated; use `arr[tuple(seq)]` instead of `arr[seq]`. In the future this will be interpreted as an array index, `arr[np.array(seq)]`, which will result either in an error or a different result.\n",
      "  return np.add.reduce(sorted[indexer] * weights, axis=axis) / sumval\n"
     ]
    },
    {
     "data": {
      "text/plain": [
       "<matplotlib.axes._subplots.AxesSubplot at 0x247c8c24cc0>"
      ]
     },
     "execution_count": 26,
     "metadata": {},
     "output_type": "execute_result"
    },
    {
     "data": {
      "image/png": "[encoded data removed]",
      "text/plain": [
       "<Figure size 432x288 with 1 Axes>"
      ]
     },
     "metadata": {},
     "output_type": "display_data"
    }
   ],
   "source": [
    "# use the function regplot to make a scatterplot\n",
    "sns.regplot(y=plotdata[\"AGE\"], x=plotdata[\"price\"])"
   ]
  },
  {
   "cell_type": "code",
   "execution_count": 27,
   "metadata": {
    "scrolled": true
   },
   "outputs": [
    {
     "name": "stderr",
     "output_type": "stream",
     "text": [
      "C:\\Users\\yexin\\Anaconda3\\envs\\myenv\\lib\\site-packages\\scipy\\stats\\stats.py:1713: FutureWarning: Using a non-tuple sequence for multidimensional indexing is deprecated; use `arr[tuple(seq)]` instead of `arr[seq]`. In the future this will be interpreted as an array index, `arr[np.array(seq)]`, which will result either in an error or a different result.\n",
      "  return np.add.reduce(sorted[indexer] * weights, axis=axis) / sumval\n"
     ]
    },
    {
     "data": {
      "text/plain": [
       "<matplotlib.axes._subplots.AxesSubplot at 0x247c8944780>"
      ]
     },
     "execution_count": 27,
     "metadata": {},
     "output_type": "execute_result"
    },
    {
     "data": {
      "image/png": "[encoded data removed]",
      "text/plain": [
       "<Figure size 432x288 with 1 Axes>"
      ]
     },
     "metadata": {},
     "output_type": "display_data"
    }
   ],
   "source": [
    "sns.regplot(y=plotdata[\"miles\"], x=plotdata[\"price\"])"
   ]
  },
  {
   "cell_type": "code",
   "execution_count": 28,
   "metadata": {},
   "outputs": [
    {
     "name": "stderr",
     "output_type": "stream",
     "text": [
      "C:\\Users\\yexin\\Anaconda3\\envs\\myenv\\lib\\site-packages\\scipy\\stats\\stats.py:1713: FutureWarning: Using a non-tuple sequence for multidimensional indexing is deprecated; use `arr[tuple(seq)]` instead of `arr[seq]`. In the future this will be interpreted as an array index, `arr[np.array(seq)]`, which will result either in an error or a different result.\n",
      "  return np.add.reduce(sorted[indexer] * weights, axis=axis) / sumval\n"
     ]
    },
    {
     "data": {
      "text/plain": [
       "<matplotlib.axes._subplots.AxesSubplot at 0x247a8306940>"
      ]
     },
     "execution_count": 28,
     "metadata": {},
     "output_type": "execute_result"
    },
    {
     "data": {
      "image/png": "[encoded data removed]",
      "text/plain": [
       "<Figure size 432x288 with 1 Axes>"
      ]
     },
     "metadata": {},
     "output_type": "display_data"
    }
   ],
   "source": [
    "sns.regplot(y=plotdata[\"msrp\"], x=plotdata[\"price\"])"
   ]
  },
  {
   "cell_type": "code",
   "execution_count": 38,
   "metadata": {},
   "outputs": [
    {
     "name": "stderr",
     "output_type": "stream",
     "text": [
      "C:\\Users\\yexin\\Anaconda3\\envs\\myenv\\lib\\site-packages\\scipy\\stats\\stats.py:1713: FutureWarning: Using a non-tuple sequence for multidimensional indexing is deprecated; use `arr[tuple(seq)]` instead of `arr[seq]`. In the future this will be interpreted as an array index, `arr[np.array(seq)]`, which will result either in an error or a different result.\n",
      "  return np.add.reduce(sorted[indexer] * weights, axis=axis) / sumval\n"
     ]
    },
    {
     "data": {
      "text/plain": [
       "<matplotlib.axes._subplots.AxesSubplot at 0x247c8726c50>"
      ]
     },
     "execution_count": 38,
     "metadata": {},
     "output_type": "execute_result"
    },
    {
     "data": {
      "image/png": "[encoded data removed]",
      "text/plain": [
       "<Figure size 432x288 with 1 Axes>"
      ]
     },
     "metadata": {},
     "output_type": "display_data"
    }
   ],
   "source": [
    "sns.regplot(y=plotdata[\"cylinders\"], x=plotdata[\"price\"])"
   ]
  },
  {
   "cell_type": "code",
   "execution_count": null,
   "metadata": {},
   "outputs": [],
   "source": []
  }
 ],
 "metadata": {
  "kernelspec": {
   "display_name": "Python 3",
   "language": "python",
   "name": "python3"
  },
  "language_info": {
   "codemirror_mode": {
    "name": "ipython",
    "version": 3
   },
   "file_extension": ".py",
   "mimetype": "text/x-python",
   "name": "python",
   "nbconvert_exporter": "python",
   "pygments_lexer": "ipython3",
   "version": "3.7.0"
  }
 },
 "nbformat": 4,
 "nbformat_minor": 2
}
