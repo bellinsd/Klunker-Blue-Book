{
 "cells": [
  {
   "cell_type": "code",
   "execution_count": 53,
   "metadata": {},
   "outputs": [],
   "source": [
    "import pandas as pd\n",
    "import seaborn as sns\n",
    "import matplotlib.pyplot as plt\n",
    "\n",
    "from sklearn.feature_selection import SelectPercentile\n",
    "from sklearn.feature_selection import SelectFromModel\n",
    "from sklearn.model_selection import train_test_split\n",
    "from sklearn.ensemble import RandomForestRegressor, RandomForestClassifier\n",
    "from sklearn.metrics import r2_score, mean_squared_error, explained_variance_score\n",
    "from sklearn import linear_model\n",
    "from sklearn.preprocessing import OneHotEncoder, LabelEncoder\n",
    "\n",
    "from sklearn.ensemble import GradientBoostingRegressor\n",
    "\n",
    "%matplotlib inline\n",
    "pd.set_option('display.float_format', lambda x: '%.3f' % x)"
   ]
  },
  {
   "cell_type": "markdown",
   "metadata": {},
   "source": [
    "# Data Preparation\n",
    "First we ingested the Market Check Used Car Inventory data file containing used cars accross United States (~6.7 million instances with 38 features\n",
    "Then we did initial data wraggling in SQLite and Alteryx (Removed columns with null values, single values, huge descriptive text values. Also instances with null values and 4 digit zipcodes"
   ]
  },
  {
   "cell_type": "code",
   "execution_count": 54,
   "metadata": {},
   "outputs": [
    {
     "name": "stderr",
     "output_type": "stream",
     "text": [
      "C:\\Anaconda3\\lib\\site-packages\\IPython\\core\\interactiveshell.py:2785: DtypeWarning: Columns (19) have mixed types. Specify dtype option on import or set low_memory=False.\n",
      "  interactivity=interactivity, compiler=compiler, result=result)\n"
     ]
    }
   ],
   "source": [
    "df = pd.read_csv('Desktop/GT/car_data_clean.csv')"
   ]
  },
  {
   "cell_type": "code",
   "execution_count": 55,
   "metadata": {},
   "outputs": [
    {
     "data": {
      "text/html": [
       "<div>\n",
       "<style scoped>\n",
       "    .dataframe tbody tr th:only-of-type {\n",
       "        vertical-align: middle;\n",
       "    }\n",
       "\n",
       "    .dataframe tbody tr th {\n",
       "        vertical-align: top;\n",
       "    }\n",
       "\n",
       "    .dataframe thead th {\n",
       "        text-align: right;\n",
       "    }\n",
       "</style>\n",
       "<table border=\"1\" class=\"dataframe\">\n",
       "  <thead>\n",
       "    <tr style=\"text-align: right;\">\n",
       "      <th></th>\n",
       "      <th>id</th>\n",
       "      <th>vin_ss</th>\n",
       "      <th>price_fs</th>\n",
       "      <th>miles_fs</th>\n",
       "      <th>stock_no_ss</th>\n",
       "      <th>year_is</th>\n",
       "      <th>make_ss</th>\n",
       "      <th>model_ss</th>\n",
       "      <th>trim_ss</th>\n",
       "      <th>vehicle_type_ss</th>\n",
       "      <th>...</th>\n",
       "      <th>dom_is</th>\n",
       "      <th>dom_180_is</th>\n",
       "      <th>msrp_fs</th>\n",
       "      <th>dom_active_is</th>\n",
       "      <th>is_certified_is</th>\n",
       "      <th>fuel_type_ss</th>\n",
       "      <th>scraped_at_dts</th>\n",
       "      <th>status_date_dts</th>\n",
       "      <th>city_ss</th>\n",
       "      <th>state_ss</th>\n",
       "    </tr>\n",
       "  </thead>\n",
       "  <tbody>\n",
       "    <tr>\n",
       "      <th>0</th>\n",
       "      <td>00000433-1e18-46f5-befa-cb338ff4c44c</td>\n",
       "      <td>4T1BF1FK8CU553915</td>\n",
       "      <td>12997</td>\n",
       "      <td>68475</td>\n",
       "      <td>UCJ2478</td>\n",
       "      <td>2012</td>\n",
       "      <td>Toyota</td>\n",
       "      <td>Camry</td>\n",
       "      <td>L</td>\n",
       "      <td>Car</td>\n",
       "      <td>...</td>\n",
       "      <td>36</td>\n",
       "      <td>36</td>\n",
       "      <td>12997</td>\n",
       "      <td>36</td>\n",
       "      <td>0</td>\n",
       "      <td>Regular Unleaded</td>\n",
       "      <td>2018-08-22T16:25:51Z</td>\n",
       "      <td>2018-09-23T18:43:48Z</td>\n",
       "      <td>Pineville</td>\n",
       "      <td>MO</td>\n",
       "    </tr>\n",
       "    <tr>\n",
       "      <th>1</th>\n",
       "      <td>00000847-d723-47ed-9dd6-e1d70088e35a</td>\n",
       "      <td>1C4RJEJT9EC221337</td>\n",
       "      <td>25942</td>\n",
       "      <td>70897</td>\n",
       "      <td>P32069</td>\n",
       "      <td>2014</td>\n",
       "      <td>Jeep</td>\n",
       "      <td>Grand Cherokee</td>\n",
       "      <td>Summit</td>\n",
       "      <td>SUV</td>\n",
       "      <td>...</td>\n",
       "      <td>131</td>\n",
       "      <td>97</td>\n",
       "      <td>25942</td>\n",
       "      <td>97</td>\n",
       "      <td>0</td>\n",
       "      <td>Flex-Fuel</td>\n",
       "      <td>2018-08-29T20:41:30Z</td>\n",
       "      <td>2018-09-23T22:08:26Z</td>\n",
       "      <td>Houston</td>\n",
       "      <td>TX</td>\n",
       "    </tr>\n",
       "    <tr>\n",
       "      <th>2</th>\n",
       "      <td>00000d32-faef-4643-b0e1-b5d91ef47c6a</td>\n",
       "      <td>1HGCP3F85BA018516</td>\n",
       "      <td>10488</td>\n",
       "      <td>91599</td>\n",
       "      <td>H42760A</td>\n",
       "      <td>2011</td>\n",
       "      <td>Honda</td>\n",
       "      <td>Accord</td>\n",
       "      <td>EX-L V-6</td>\n",
       "      <td>Car</td>\n",
       "      <td>...</td>\n",
       "      <td>64</td>\n",
       "      <td>64</td>\n",
       "      <td>12578</td>\n",
       "      <td>64</td>\n",
       "      <td>0</td>\n",
       "      <td>Regular Unleaded</td>\n",
       "      <td>2018-09-20T07:11:32Z</td>\n",
       "      <td>2018-09-24T01:34:40Z</td>\n",
       "      <td>Norwood</td>\n",
       "      <td>MA</td>\n",
       "    </tr>\n",
       "    <tr>\n",
       "      <th>3</th>\n",
       "      <td>00000ff5-58ae-4ce0-9b41-651d9e85b478</td>\n",
       "      <td>1FTEW1CP8GFB91564</td>\n",
       "      <td>29997</td>\n",
       "      <td>44394</td>\n",
       "      <td>D190109A</td>\n",
       "      <td>2016</td>\n",
       "      <td>Ford</td>\n",
       "      <td>F-150</td>\n",
       "      <td>XLT</td>\n",
       "      <td>Truck</td>\n",
       "      <td>...</td>\n",
       "      <td>220</td>\n",
       "      <td>24</td>\n",
       "      <td>29997</td>\n",
       "      <td>24</td>\n",
       "      <td>0</td>\n",
       "      <td>Regular Unleaded</td>\n",
       "      <td>2018-09-02T04:11:09Z</td>\n",
       "      <td>2018-09-23T21:15:07Z</td>\n",
       "      <td>Murrieta</td>\n",
       "      <td>CA</td>\n",
       "    </tr>\n",
       "    <tr>\n",
       "      <th>4</th>\n",
       "      <td>0000120b-8653-495d-9c6e-b1d80996bed7</td>\n",
       "      <td>1FMEU17L63LA06903</td>\n",
       "      <td>4990</td>\n",
       "      <td>173058</td>\n",
       "      <td>3LA06903</td>\n",
       "      <td>2003</td>\n",
       "      <td>Ford</td>\n",
       "      <td>Expedition</td>\n",
       "      <td>Eddie Bauer</td>\n",
       "      <td>SUV</td>\n",
       "      <td>...</td>\n",
       "      <td>46</td>\n",
       "      <td>46</td>\n",
       "      <td>4990</td>\n",
       "      <td>46</td>\n",
       "      <td>0</td>\n",
       "      <td>Regular Unleaded</td>\n",
       "      <td>2018-08-09T11:12:42Z</td>\n",
       "      <td>2018-09-23T17:48:19Z</td>\n",
       "      <td>Raleigh</td>\n",
       "      <td>NC</td>\n",
       "    </tr>\n",
       "  </tbody>\n",
       "</table>\n",
       "<p>5 rows × 30 columns</p>\n",
       "</div>"
      ],
      "text/plain": [
       "                                     id             vin_ss  price_fs  \\\n",
       "0  00000433-1e18-46f5-befa-cb338ff4c44c  4T1BF1FK8CU553915     12997   \n",
       "1  00000847-d723-47ed-9dd6-e1d70088e35a  1C4RJEJT9EC221337     25942   \n",
       "2  00000d32-faef-4643-b0e1-b5d91ef47c6a  1HGCP3F85BA018516     10488   \n",
       "3  00000ff5-58ae-4ce0-9b41-651d9e85b478  1FTEW1CP8GFB91564     29997   \n",
       "4  0000120b-8653-495d-9c6e-b1d80996bed7  1FMEU17L63LA06903      4990   \n",
       "\n",
       "   miles_fs stock_no_ss  year_is make_ss        model_ss      trim_ss  \\\n",
       "0     68475     UCJ2478     2012  Toyota           Camry            L   \n",
       "1     70897      P32069     2014    Jeep  Grand Cherokee       Summit   \n",
       "2     91599     H42760A     2011   Honda          Accord     EX-L V-6   \n",
       "3     44394    D190109A     2016    Ford           F-150          XLT   \n",
       "4    173058    3LA06903     2003    Ford      Expedition  Eddie Bauer   \n",
       "\n",
       "  vehicle_type_ss   ...    dom_is dom_180_is msrp_fs  dom_active_is  \\\n",
       "0             Car   ...        36         36   12997             36   \n",
       "1             SUV   ...       131         97   25942             97   \n",
       "2             Car   ...        64         64   12578             64   \n",
       "3           Truck   ...       220         24   29997             24   \n",
       "4             SUV   ...        46         46    4990             46   \n",
       "\n",
       "  is_certified_is      fuel_type_ss        scraped_at_dts  \\\n",
       "0               0  Regular Unleaded  2018-08-22T16:25:51Z   \n",
       "1               0         Flex-Fuel  2018-08-29T20:41:30Z   \n",
       "2               0  Regular Unleaded  2018-09-20T07:11:32Z   \n",
       "3               0  Regular Unleaded  2018-09-02T04:11:09Z   \n",
       "4               0  Regular Unleaded  2018-08-09T11:12:42Z   \n",
       "\n",
       "        status_date_dts    city_ss state_ss  \n",
       "0  2018-09-23T18:43:48Z  Pineville       MO  \n",
       "1  2018-09-23T22:08:26Z    Houston       TX  \n",
       "2  2018-09-24T01:34:40Z    Norwood       MA  \n",
       "3  2018-09-23T21:15:07Z   Murrieta       CA  \n",
       "4  2018-09-23T17:48:19Z    Raleigh       NC  \n",
       "\n",
       "[5 rows x 30 columns]"
      ]
     },
     "execution_count": 55,
     "metadata": {},
     "output_type": "execute_result"
    }
   ],
   "source": [
    "df.head()"
   ]
  },
  {
   "cell_type": "code",
   "execution_count": 56,
   "metadata": {},
   "outputs": [
    {
     "name": "stdout",
     "output_type": "stream",
     "text": [
      "(3509809, 30)\n"
     ]
    }
   ],
   "source": [
    "print(df.shape)"
   ]
  },
  {
   "cell_type": "markdown",
   "metadata": {},
   "source": [
    "# Picked the top 10 cars by volume for further analysis"
   ]
  },
  {
   "cell_type": "code",
   "execution_count": 57,
   "metadata": {},
   "outputs": [
    {
     "name": "stdout",
     "output_type": "stream",
     "text": [
      "Index(['Chevrolet', 'Ford', 'Toyota', 'Nissan', 'Honda', 'Jeep', 'Hyundai',\n",
      "       'GMC', 'BMW', 'Lexus'],\n",
      "      dtype='object')\n"
     ]
    }
   ],
   "source": [
    "df_vol = df['make_ss'].value_counts()\n",
    "df_vol_10 = df_vol.head(10).to_frame(name='makes')\n",
    "print(df_vol_10.index)"
   ]
  },
  {
   "cell_type": "code",
   "execution_count": 59,
   "metadata": {},
   "outputs": [
    {
     "name": "stdout",
     "output_type": "stream",
     "text": [
      "                                     id             vin_ss  price_fs  \\\n",
      "0  00000433-1e18-46f5-befa-cb338ff4c44c  4T1BF1FK8CU553915     12997   \n",
      "1  00000847-d723-47ed-9dd6-e1d70088e35a  1C4RJEJT9EC221337     25942   \n",
      "2  00000d32-faef-4643-b0e1-b5d91ef47c6a  1HGCP3F85BA018516     10488   \n",
      "3  00000ff5-58ae-4ce0-9b41-651d9e85b478  1FTEW1CP8GFB91564     29997   \n",
      "4  0000120b-8653-495d-9c6e-b1d80996bed7  1FMEU17L63LA06903      4990   \n",
      "\n",
      "   miles_fs stock_no_ss  year_is make_ss        model_ss      trim_ss  \\\n",
      "0     68475     UCJ2478     2012  Toyota           Camry            L   \n",
      "1     70897      P32069     2014    Jeep  Grand Cherokee       Summit   \n",
      "2     91599     H42760A     2011   Honda          Accord     EX-L V-6   \n",
      "3     44394    D190109A     2016    Ford           F-150          XLT   \n",
      "4    173058    3LA06903     2003    Ford      Expedition  Eddie Bauer   \n",
      "\n",
      "  vehicle_type_ss   ...    dom_is dom_180_is msrp_fs  dom_active_is  \\\n",
      "0             Car   ...        36         36   12997             36   \n",
      "1             SUV   ...       131         97   25942             97   \n",
      "2             Car   ...        64         64   12578             64   \n",
      "3           Truck   ...       220         24   29997             24   \n",
      "4             SUV   ...        46         46    4990             46   \n",
      "\n",
      "  is_certified_is      fuel_type_ss        scraped_at_dts  \\\n",
      "0               0  Regular Unleaded  2018-08-22T16:25:51Z   \n",
      "1               0         Flex-Fuel  2018-08-29T20:41:30Z   \n",
      "2               0  Regular Unleaded  2018-09-20T07:11:32Z   \n",
      "3               0  Regular Unleaded  2018-09-02T04:11:09Z   \n",
      "4               0  Regular Unleaded  2018-08-09T11:12:42Z   \n",
      "\n",
      "        status_date_dts    city_ss state_ss  \n",
      "0  2018-09-23T18:43:48Z  Pineville       MO  \n",
      "1  2018-09-23T22:08:26Z    Houston       TX  \n",
      "2  2018-09-24T01:34:40Z    Norwood       MA  \n",
      "3  2018-09-23T21:15:07Z   Murrieta       CA  \n",
      "4  2018-09-23T17:48:19Z    Raleigh       NC  \n",
      "\n",
      "[5 rows x 30 columns]\n"
     ]
    }
   ],
   "source": [
    "df_top10 = df.loc[df['make_ss'].isin(df_vol_10.index)]\n",
    "print(df_top10.head())"
   ]
  },
  {
   "cell_type": "code",
   "execution_count": 65,
   "metadata": {},
   "outputs": [
    {
     "data": {
      "text/plain": [
       "(2417454, 30)"
      ]
     },
     "execution_count": 65,
     "metadata": {},
     "output_type": "execute_result"
    }
   ],
   "source": [
    "df_top10.shape"
   ]
  },
  {
   "cell_type": "markdown",
   "metadata": {},
   "source": [
    "# Initial Features Selected\n",
    "Created a dataframe with 15 features. Also filtered down to top 10 car makes by volume (~2.4 million instances)"
   ]
  },
  {
   "cell_type": "code",
   "execution_count": 66,
   "metadata": {},
   "outputs": [],
   "source": [
    "df_top10 = df_top10[['price_fs', 'miles_fs', 'year_is', 'make_ss', 'model_ss', 'trim_ss', \n",
    "       'engine_size_ss',  'cylinders_is', 'interior_color_ss', \n",
    "       'exterior_color_ss', 'zip_is', 'msrp_fs', 'is_certified_is', 'fuel_type_ss', 'state_ss']]"
   ]
  },
  {
   "cell_type": "code",
   "execution_count": 68,
   "metadata": {},
   "outputs": [
    {
     "data": {
      "text/html": [
       "<div>\n",
       "<style scoped>\n",
       "    .dataframe tbody tr th:only-of-type {\n",
       "        vertical-align: middle;\n",
       "    }\n",
       "\n",
       "    .dataframe tbody tr th {\n",
       "        vertical-align: top;\n",
       "    }\n",
       "\n",
       "    .dataframe thead th {\n",
       "        text-align: right;\n",
       "    }\n",
       "</style>\n",
       "<table border=\"1\" class=\"dataframe\">\n",
       "  <thead>\n",
       "    <tr style=\"text-align: right;\">\n",
       "      <th></th>\n",
       "      <th>price_fs</th>\n",
       "      <th>miles_fs</th>\n",
       "      <th>year_is</th>\n",
       "      <th>make_ss</th>\n",
       "      <th>model_ss</th>\n",
       "      <th>trim_ss</th>\n",
       "      <th>engine_size_ss</th>\n",
       "      <th>cylinders_is</th>\n",
       "      <th>interior_color_ss</th>\n",
       "      <th>exterior_color_ss</th>\n",
       "      <th>zip_is</th>\n",
       "      <th>msrp_fs</th>\n",
       "      <th>is_certified_is</th>\n",
       "      <th>fuel_type_ss</th>\n",
       "      <th>state_ss</th>\n",
       "    </tr>\n",
       "  </thead>\n",
       "  <tbody>\n",
       "    <tr>\n",
       "      <th>0</th>\n",
       "      <td>12997</td>\n",
       "      <td>68475</td>\n",
       "      <td>2012</td>\n",
       "      <td>Toyota</td>\n",
       "      <td>Camry</td>\n",
       "      <td>L</td>\n",
       "      <td>2.500</td>\n",
       "      <td>4</td>\n",
       "      <td>LIGHT GRAY</td>\n",
       "      <td>White</td>\n",
       "      <td>64856</td>\n",
       "      <td>12997</td>\n",
       "      <td>0</td>\n",
       "      <td>Regular Unleaded</td>\n",
       "      <td>MO</td>\n",
       "    </tr>\n",
       "    <tr>\n",
       "      <th>1</th>\n",
       "      <td>25942</td>\n",
       "      <td>70897</td>\n",
       "      <td>2014</td>\n",
       "      <td>Jeep</td>\n",
       "      <td>Grand Cherokee</td>\n",
       "      <td>Summit</td>\n",
       "      <td>5.700</td>\n",
       "      <td>8</td>\n",
       "      <td>BROWN</td>\n",
       "      <td>White</td>\n",
       "      <td>77065</td>\n",
       "      <td>25942</td>\n",
       "      <td>0</td>\n",
       "      <td>Flex-Fuel</td>\n",
       "      <td>TX</td>\n",
       "    </tr>\n",
       "    <tr>\n",
       "      <th>2</th>\n",
       "      <td>10488</td>\n",
       "      <td>91599</td>\n",
       "      <td>2011</td>\n",
       "      <td>Honda</td>\n",
       "      <td>Accord</td>\n",
       "      <td>EX-L V-6</td>\n",
       "      <td>3.500</td>\n",
       "      <td>6</td>\n",
       "      <td>Gray</td>\n",
       "      <td>Alabaster Silver Metallic</td>\n",
       "      <td>2062</td>\n",
       "      <td>12578</td>\n",
       "      <td>0</td>\n",
       "      <td>Regular Unleaded</td>\n",
       "      <td>MA</td>\n",
       "    </tr>\n",
       "    <tr>\n",
       "      <th>3</th>\n",
       "      <td>29997</td>\n",
       "      <td>44394</td>\n",
       "      <td>2016</td>\n",
       "      <td>Ford</td>\n",
       "      <td>F-150</td>\n",
       "      <td>XLT</td>\n",
       "      <td>2.700</td>\n",
       "      <td>6</td>\n",
       "      <td>Black</td>\n",
       "      <td>Ingot Silver Metallic</td>\n",
       "      <td>92562</td>\n",
       "      <td>29997</td>\n",
       "      <td>0</td>\n",
       "      <td>Regular Unleaded</td>\n",
       "      <td>CA</td>\n",
       "    </tr>\n",
       "    <tr>\n",
       "      <th>4</th>\n",
       "      <td>4990</td>\n",
       "      <td>173058</td>\n",
       "      <td>2003</td>\n",
       "      <td>Ford</td>\n",
       "      <td>Expedition</td>\n",
       "      <td>Eddie Bauer</td>\n",
       "      <td>5.400</td>\n",
       "      <td>8</td>\n",
       "      <td>Tan Leather</td>\n",
       "      <td>Blue</td>\n",
       "      <td>27603</td>\n",
       "      <td>4990</td>\n",
       "      <td>0</td>\n",
       "      <td>Regular Unleaded</td>\n",
       "      <td>NC</td>\n",
       "    </tr>\n",
       "  </tbody>\n",
       "</table>\n",
       "</div>"
      ],
      "text/plain": [
       "   price_fs  miles_fs  year_is make_ss        model_ss      trim_ss  \\\n",
       "0     12997     68475     2012  Toyota           Camry            L   \n",
       "1     25942     70897     2014    Jeep  Grand Cherokee       Summit   \n",
       "2     10488     91599     2011   Honda          Accord     EX-L V-6   \n",
       "3     29997     44394     2016    Ford           F-150          XLT   \n",
       "4      4990    173058     2003    Ford      Expedition  Eddie Bauer   \n",
       "\n",
       "   engine_size_ss  cylinders_is interior_color_ss          exterior_color_ss  \\\n",
       "0           2.500             4        LIGHT GRAY                      White   \n",
       "1           5.700             8             BROWN                      White   \n",
       "2           3.500             6              Gray  Alabaster Silver Metallic   \n",
       "3           2.700             6             Black      Ingot Silver Metallic   \n",
       "4           5.400             8       Tan Leather                       Blue   \n",
       "\n",
       "  zip_is  msrp_fs  is_certified_is      fuel_type_ss state_ss  \n",
       "0  64856    12997                0  Regular Unleaded       MO  \n",
       "1  77065    25942                0         Flex-Fuel       TX  \n",
       "2   2062    12578                0  Regular Unleaded       MA  \n",
       "3  92562    29997                0  Regular Unleaded       CA  \n",
       "4  27603     4990                0  Regular Unleaded       NC  "
      ]
     },
     "execution_count": 68,
     "metadata": {},
     "output_type": "execute_result"
    }
   ],
   "source": [
    "df_top10.head()"
   ]
  },
  {
   "cell_type": "markdown",
   "metadata": {},
   "source": [
    "# Data Cleansing\n",
    "Removed duplicates "
   ]
  },
  {
   "cell_type": "code",
   "execution_count": 69,
   "metadata": {},
   "outputs": [],
   "source": [
    "dedups = df_top10.drop_duplicates(['price_fs', 'miles_fs', 'year_is', 'make_ss', 'model_ss', 'trim_ss', \n",
    "       'engine_size_ss',  'cylinders_is', 'interior_color_ss', \n",
    "       'exterior_color_ss', 'zip_is', 'msrp_fs', 'is_certified_is', 'fuel_type_ss', 'state_ss'])"
   ]
  },
  {
   "cell_type": "code",
   "execution_count": 70,
   "metadata": {},
   "outputs": [
    {
     "name": "stdout",
     "output_type": "stream",
     "text": [
      "(2033496, 15)\n"
     ]
    }
   ],
   "source": [
    "print(dedups.shape)"
   ]
  },
  {
   "cell_type": "markdown",
   "metadata": {},
   "source": [
    "# Data Visualization\n",
    "Performed exploratory data analysis to better understand how data is distributed"
   ]
  },
  {
   "cell_type": "markdown",
   "metadata": {},
   "source": [
    "Most Popular used car makes are Chevrolet and Ford"
   ]
  },
  {
   "cell_type": "code",
   "execution_count": 40,
   "metadata": {},
   "outputs": [
    {
     "data": {
      "text/plain": [
       "<matplotlib.axes._subplots.AxesSubplot at 0x21ca398e0f0>"
      ]
     },
     "execution_count": 40,
     "metadata": {},
     "output_type": "execute_result"
    },
    {
     "data": {
      "image/png": "[encoded data removed]",
      "text/plain": [
       "<Figure size 432x288 with 1 Axes>"
      ]
     },
     "metadata": {},
     "output_type": "display_data"
    }
   ],
   "source": [
    "dedups['make_ss'].value_counts().plot(kind='bar')"
   ]
  },
  {
   "cell_type": "markdown",
   "metadata": {},
   "source": [
    "Newer cars are more expensive than older cars. Expected."
   ]
  },
  {
   "cell_type": "code",
   "execution_count": 41,
   "metadata": {},
   "outputs": [
    {
     "data": {
      "text/plain": [
       "<matplotlib.axes._subplots.AxesSubplot at 0x21ca39b0160>"
      ]
     },
     "execution_count": 41,
     "metadata": {},
     "output_type": "execute_result"
    },
    {
     "data": {
      "image/png": "[encoded data removed]",
      "text/plain": [
       "<Figure size 432x288 with 1 Axes>"
      ]
     },
     "metadata": {},
     "output_type": "display_data"
    }
   ],
   "source": [
    "dedups.plot(x='price_fs', y='year_is', style='o')"
   ]
  },
  {
   "cell_type": "markdown",
   "metadata": {},
   "source": [
    "Range and median prices per car type"
   ]
  },
  {
   "cell_type": "code",
   "execution_count": 42,
   "metadata": {},
   "outputs": [
    {
     "data": {
      "text/plain": [
       "<matplotlib.axes._subplots.AxesSubplot at 0x21bcffd07b8>"
      ]
     },
     "execution_count": 42,
     "metadata": {},
     "output_type": "execute_result"
    },
    {
     "data": {
      "image/png": "[encoded data removed]",
      "text/plain": [
       "<Figure size 720x720 with 1 Axes>"
      ]
     },
     "metadata": {},
     "output_type": "display_data"
    }
   ],
   "source": [
    "dedups.boxplot(column=\"price_fs\", by=\"make_ss\", figsize=(10,10))"
   ]
  },
  {
   "cell_type": "markdown",
   "metadata": {},
   "source": [
    "Distribution among the various categorical features"
   ]
  },
  {
   "cell_type": "code",
   "execution_count": 43,
   "metadata": {
    "scrolled": false
   },
   "outputs": [
    {
     "name": "stdout",
     "output_type": "stream",
     "text": [
      "make_ss\n",
      "Chevrolet    384520\n",
      "Ford         374833\n",
      "Toyota       251598\n",
      "Nissan       214915\n",
      "Honda        192988\n",
      "Name: make_ss, dtype: int64\n"
     ]
    },
    {
     "data": {
      "image/png": "[encoded data removed]",
      "text/plain": [
       "<Figure size 360x216 with 1 Axes>"
      ]
     },
     "metadata": {},
     "output_type": "display_data"
    },
    {
     "name": "stdout",
     "output_type": "stream",
     "text": [
      "model_ss\n",
      "F-150             96187\n",
      "Silverado 1500    95057\n",
      "CR-V              57828\n",
      "Altima            55443\n",
      "Escape            54927\n",
      "Name: model_ss, dtype: int64\n"
     ]
    },
    {
     "data": {
      "image/png": "[encoded data removed]",
      "text/plain": [
       "<Figure size 360x216 with 1 Axes>"
      ]
     },
     "metadata": {},
     "output_type": "display_data"
    },
    {
     "name": "stdout",
     "output_type": "stream",
     "text": [
      "trim_ss\n",
      "LT         177425\n",
      "SE         170008\n",
      "Base       153227\n",
      "Limited    101450\n",
      "S           64660\n",
      "Name: trim_ss, dtype: int64\n"
     ]
    },
    {
     "data": {
      "image/png": "[encoded data removed]",
      "text/plain": [
       "<Figure size 360x216 with 1 Axes>"
      ]
     },
     "metadata": {},
     "output_type": "display_data"
    },
    {
     "name": "stdout",
     "output_type": "stream",
     "text": [
      "interior_color_ss\n",
      "Black        227223\n",
      "BLACK        211536\n",
      "Jet Black    101571\n",
      "Gray          81951\n",
      "GRAY          71554\n",
      "Name: interior_color_ss, dtype: int64\n"
     ]
    },
    {
     "data": {
      "image/png": "[encoded data removed]",
      "text/plain": [
       "<Figure size 360x216 with 1 Axes>"
      ]
     },
     "metadata": {},
     "output_type": "display_data"
    },
    {
     "name": "stdout",
     "output_type": "stream",
     "text": [
      "exterior_color_ss\n",
      "Black           147104\n",
      "White            76286\n",
      "Summit White     61139\n",
      "Silver           52424\n",
      "Gray             51391\n",
      "Name: exterior_color_ss, dtype: int64\n"
     ]
    },
    {
     "data": {
      "image/png": "[encoded data removed]",
      "text/plain": [
       "<Figure size 360x216 with 1 Axes>"
      ]
     },
     "metadata": {},
     "output_type": "display_data"
    },
    {
     "name": "stdout",
     "output_type": "stream",
     "text": [
      "zip_is\n",
      "30096    10998\n",
      "28027    10449\n",
      "27511    10424\n",
      "27511     9932\n",
      "28027     9896\n",
      "Name: zip_is, dtype: int64\n"
     ]
    },
    {
     "data": {
      "image/png": "[encoded data removed]",
      "text/plain": [
       "<Figure size 360x216 with 1 Axes>"
      ]
     },
     "metadata": {},
     "output_type": "display_data"
    },
    {
     "name": "stdout",
     "output_type": "stream",
     "text": [
      "fuel_type_ss\n",
      "Regular Unleaded    1353750\n",
      "Flex-Fuel            319707\n",
      "Premium Unleaded     304889\n",
      "Diesel                45262\n",
      "Gasoline               7850\n",
      "Name: fuel_type_ss, dtype: int64\n"
     ]
    },
    {
     "data": {
      "image/png": "[encoded data removed]",
      "text/plain": [
       "<Figure size 360x216 with 1 Axes>"
      ]
     },
     "metadata": {},
     "output_type": "display_data"
    },
    {
     "name": "stdout",
     "output_type": "stream",
     "text": [
      "state_ss\n",
      "NC    209639\n",
      "FL    141091\n",
      "TX    140171\n",
      "CA    130087\n",
      "GA     98460\n",
      "Name: state_ss, dtype: int64\n"
     ]
    },
    {
     "data": {
      "image/png": "[encoded data removed]",
      "text/plain": [
       "<Figure size 360x216 with 1 Axes>"
      ]
     },
     "metadata": {},
     "output_type": "display_data"
    }
   ],
   "source": [
    "categories = ['make_ss', 'model_ss', 'trim_ss', 'interior_color_ss', 'exterior_color_ss', 'zip_is', 'fuel_type_ss', 'state_ss']\n",
    "\n",
    "for i, c in enumerate(categories):\n",
    "    v = dedups[c].unique()\n",
    "    \n",
    "    g = dedups.groupby(by=c)[c].count().sort_values(ascending=False)\n",
    "    r = range(min(len(v), 5))\n",
    "\n",
    "    print(g.head())\n",
    "    plt.figure(figsize=(5,3))\n",
    "    plt.bar(r, g.head()) \n",
    "    plt.xticks(r, v)\n",
    "    plt.show()"
   ]
  },
  {
   "cell_type": "markdown",
   "metadata": {},
   "source": [
    "# Feature Engineering"
   ]
  },
  {
   "cell_type": "markdown",
   "metadata": {},
   "source": [
    "Converting categorical features into numeric values using Scikit Learn"
   ]
  },
  {
   "cell_type": "code",
   "execution_count": 20,
   "metadata": {},
   "outputs": [
    {
     "name": "stderr",
     "output_type": "stream",
     "text": [
      "C:\\Anaconda3\\lib\\site-packages\\pandas\\core\\indexing.py:362: SettingWithCopyWarning: \n",
      "A value is trying to be set on a copy of a slice from a DataFrame.\n",
      "Try using .loc[row_indexer,col_indexer] = value instead\n",
      "\n",
      "See the caveats in the documentation: http://pandas.pydata.org/pandas-docs/stable/indexing.html#indexing-view-versus-copy\n",
      "  self.obj[key] = _infer_fill_value(value)\n",
      "C:\\Anaconda3\\lib\\site-packages\\pandas\\core\\indexing.py:543: SettingWithCopyWarning: \n",
      "A value is trying to be set on a copy of a slice from a DataFrame.\n",
      "Try using .loc[row_indexer,col_indexer] = value instead\n",
      "\n",
      "See the caveats in the documentation: http://pandas.pydata.org/pandas-docs/stable/indexing.html#indexing-view-versus-copy\n",
      "  self.obj[item] = s\n"
     ]
    }
   ],
   "source": [
    "labels = ['make_ss', 'model_ss', 'trim_ss', 'interior_color_ss', 'exterior_color_ss', 'zip_is', 'fuel_type_ss', 'state_ss']\n",
    "les = {}\n",
    "\n",
    "for l in labels:\n",
    "    les[l] = LabelEncoder()\n",
    "    les[l].fit(dedups[l].astype(str))\n",
    "    tr = les[l].transform(dedups[l].astype(str))\n",
    "    \n",
    "    dedups.loc[:, l + '_feat'] = pd.Series(tr, index=dedups.index)\n",
    "\n",
    "labeled = dedups[['price_fs'\n",
    "                        ,'miles_fs'\n",
    "                        ,'year_is'\n",
    "                        ,'cylinders_is'\n",
    "                        ,'msrp_fs'\n",
    "                        , 'is_certified_is'\n",
    "                        , 'engine_size_ss'] \n",
    "                    + [x+\"_feat\" for x in labels]]"
   ]
  },
  {
   "cell_type": "markdown",
   "metadata": {},
   "source": [
    "Used pearson to see how the features are related to each other and more importantly to price so that the top 10 features influencing price can be fed into the model. Looks like state and zip have very little influence on price."
   ]
  },
  {
   "cell_type": "code",
   "execution_count": 25,
   "metadata": {},
   "outputs": [
    {
     "name": "stdout",
     "output_type": "stream",
     "text": [
      "   price_fs  miles_fs  year_is  cylinders_is  msrp_fs  is_certified_is  \\\n",
      "0     12997     68475     2012             4    12997                0   \n",
      "1     25942     70897     2014             8    25942                0   \n",
      "2     10488     91599     2011             6    12578                0   \n",
      "3     29997     44394     2016             6    29997                0   \n",
      "4      4990    173058     2003             8     4990                0   \n",
      "\n",
      "   engine_size_ss  make_ss_feat  model_ss_feat  trim_ss_feat  \\\n",
      "0           2.500             9             63           400   \n",
      "1           5.700             6            169           762   \n",
      "2           3.500             4             27           288   \n",
      "3           2.700             2            125           917   \n",
      "4           5.400             2            117           297   \n",
      "\n",
      "   interior_color_ss_feat  exterior_color_ss_feat  zip_is_feat  \\\n",
      "0                   11015                   13312         5783   \n",
      "1                    2233                   13312         6732   \n",
      "2                    9259                    1171         1683   \n",
      "3                    2542                    6832         7843   \n",
      "4                   15647                    2521         2217   \n",
      "\n",
      "   fuel_type_ss_feat  state_ss_feat  \n",
      "0                  6             26  \n",
      "1                  2             46  \n",
      "2                  6             21  \n",
      "3                  6              5  \n",
      "4                  6             29  \n"
     ]
    }
   ],
   "source": [
    "print(labeled.head())"
   ]
  },
  {
   "cell_type": "code",
   "execution_count": 26,
   "metadata": {},
   "outputs": [
    {
     "data": {
      "text/plain": [
       "<matplotlib.axes._subplots.AxesSubplot at 0x21b57c725c0>"
      ]
     },
     "execution_count": 26,
     "metadata": {},
     "output_type": "execute_result"
    },
    {
     "data": {
      "image/png": "[encoded data removed]",
      "text/plain": [
       "<Figure size 432x288 with 2 Axes>"
      ]
     },
     "metadata": {},
     "output_type": "display_data"
    }
   ],
   "source": [
    "corr = labeled.corr(method='pearson')\n",
    "sns.heatmap(corr, annot = True, fmt =\".1g\", annot_kws={\"size\": 7}, cmap = \"Blues\")"
   ]
  },
  {
   "cell_type": "code",
   "execution_count": 23,
   "metadata": {},
   "outputs": [
    {
     "data": {
      "text/plain": [
       "msrp_fs                  0.992\n",
       "engine_size_ss           0.491\n",
       "cylinders_is             0.485\n",
       "year_is                  0.448\n",
       "miles_fs                 0.448\n",
       "fuel_type_ss_feat        0.320\n",
       "model_ss_feat            0.171\n",
       "is_certified_is          0.157\n",
       "make_ss_feat             0.095\n",
       "trim_ss_feat             0.065\n",
       "interior_color_ss_feat   0.027\n",
       "zip_is_feat              0.019\n",
       "exterior_color_ss_feat   0.006\n",
       "state_ss_feat            0.004\n",
       "Name: price_fs, dtype: float64"
      ]
     },
     "execution_count": 23,
     "metadata": {},
     "output_type": "execute_result"
    }
   ],
   "source": [
    "labeled.corr().loc[:,'price_fs'].abs().sort_values(ascending=False)[1:]"
   ]
  },
  {
   "cell_type": "markdown",
   "metadata": {},
   "source": [
    "# Model Selection\n",
    "Used Random Forest Regressor with the 10 most influencing features to predict price (80/20 train test split)"
   ]
  },
  {
   "cell_type": "code",
   "execution_count": 27,
   "metadata": {},
   "outputs": [],
   "source": [
    "y = labeled.price_fs"
   ]
  },
  {
   "cell_type": "code",
   "execution_count": 28,
   "metadata": {},
   "outputs": [],
   "source": [
    "X = labeled[['miles_fs', 'year_is', 'cylinders_is', \n",
    "       'is_certified_is', 'engine_size_ss', 'make_ss_feat', 'model_ss_feat',\n",
    "       'trim_ss_feat', 'fuel_type_ss_feat', 'interior_color_ss_feat']]"
   ]
  },
  {
   "cell_type": "code",
   "execution_count": 29,
   "metadata": {},
   "outputs": [],
   "source": [
    "X_train, X_test, y_train, y_test = train_test_split(X, y, test_size=0.2, random_state=42)"
   ]
  },
  {
   "cell_type": "code",
   "execution_count": 30,
   "metadata": {},
   "outputs": [],
   "source": [
    "rf = RandomForestRegressor()"
   ]
  },
  {
   "cell_type": "code",
   "execution_count": 31,
   "metadata": {},
   "outputs": [
    {
     "data": {
      "text/plain": [
       "RandomForestRegressor(bootstrap=True, criterion='mse', max_depth=None,\n",
       "           max_features='auto', max_leaf_nodes=None,\n",
       "           min_impurity_decrease=0.0, min_impurity_split=None,\n",
       "           min_samples_leaf=1, min_samples_split=2,\n",
       "           min_weight_fraction_leaf=0.0, n_estimators=10, n_jobs=1,\n",
       "           oob_score=False, random_state=None, verbose=0, warm_start=False)"
      ]
     },
     "execution_count": 31,
     "metadata": {},
     "output_type": "execute_result"
    }
   ],
   "source": [
    "rf.fit(X_train, y_train)"
   ]
  },
  {
   "cell_type": "code",
   "execution_count": 32,
   "metadata": {},
   "outputs": [],
   "source": [
    "y_pred = rf.predict(X_test)"
   ]
  },
  {
   "cell_type": "code",
   "execution_count": 33,
   "metadata": {},
   "outputs": [
    {
     "data": {
      "text/plain": [
       "0.9533233966505837"
      ]
     },
     "execution_count": 33,
     "metadata": {},
     "output_type": "execute_result"
    }
   ],
   "source": [
    "explained_variance_score(y_pred, y_test)"
   ]
  },
  {
   "cell_type": "code",
   "execution_count": 34,
   "metadata": {},
   "outputs": [
    {
     "data": {
      "text/plain": [
       "0.9533233882500975"
      ]
     },
     "execution_count": 34,
     "metadata": {},
     "output_type": "execute_result"
    }
   ],
   "source": [
    "r2_score(y_pred, y_test)"
   ]
  },
  {
   "cell_type": "code",
   "execution_count": 35,
   "metadata": {},
   "outputs": [
    {
     "data": {
      "text/plain": [
       "4990375.5672614155"
      ]
     },
     "execution_count": 35,
     "metadata": {},
     "output_type": "execute_result"
    }
   ],
   "source": [
    "mean_squared_error(y_pred, y_test)"
   ]
  },
  {
   "cell_type": "code",
   "execution_count": null,
   "metadata": {},
   "outputs": [],
   "source": []
  }
 ],
 "metadata": {
  "kernelspec": {
   "display_name": "Python 3",
   "language": "python",
   "name": "python3"
  },
  "language_info": {
   "codemirror_mode": {
    "name": "ipython",
    "version": 3
   },
   "file_extension": ".py",
   "mimetype": "text/x-python",
   "name": "python",
   "nbconvert_exporter": "python",
   "pygments_lexer": "ipython3",
   "version": "3.6.5"
  }
 },
 "nbformat": 4,
 "nbformat_minor": 2
}
