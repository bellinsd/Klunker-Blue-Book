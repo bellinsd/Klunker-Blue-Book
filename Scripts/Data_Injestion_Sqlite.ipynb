{
 "cells": [
  {
   "cell_type": "code",
   "execution_count": null,
   "metadata": {},
   "outputs": [],
   "source": [
    "import sqlite3\n",
    "import pandas as pd\n",
    "from pandas import DataFrame\n",
    "\n",
    "conn = sqlite3.connect('KBB_DB.db')  # you can create a new database by changing the name within the quotations (the database will be saved in the location where your 'py' file is saved)\n",
    "\n",
    "c = conn.cursor()\n",
    "\n",
    "# when reading the csv, if needed make sure that all the columns are in a TEXT format\n",
    "read_clients = pd.read_csv ('car_data_clean.csv')   #read the csv file (put 'r' before the path string to read any special characters, such as '\\'). Don't forget the put the file name at the end of the path + '.csv'\n",
    "read_clients.to_sql('Car', conn, if_exists='append', index = False) #insert the values from the csv file into the table 'CLIENTS' \n",
    "\n",
    "# when reading the csv, if needed make sure that all the columns are in a TEXT format\n",
    "read_country = pd.read_csv ('county_demos_cleaned.csv')   #read the csv file (put 'r' before the path string to read any special characters, such as '\\'). Don't forget the put the file name at the end of the path + '.csv'\n",
    "read_country.to_sql('COUNTY', conn, if_exists='replace', index = False) #replace the values from the csv file into the table 'COUNTRY'\n",
    "\n",
    "read_country = pd.read_csv ('zip_code_database_cleaned.csv')   #read the csv file (put 'r' before the path string to read any special characters, such as '\\'). Don't forget the put the file name at the end of the path + '.csv'\n",
    "read_country.to_sql('Zip_code', conn, if_exists='replace', index = False) #replace the values from the csv file into the table 'COUNTRY'\n",
    "\n",
    "read_country = pd.read_csv ('year_age.csv')   #read the csv file (put 'r' before the path string to read any special characters, such as '\\'). Don't forget the put the file name at the end of the path + '.csv'\n",
    "read_country.to_sql('Age', conn, if_exists='replace', index = False) #replace the values from the csv file into the table 'COUNTRY'\n",
    "\n",
    "read_country = pd.read_csv ('regions_states.csv')   #read the csv file (put 'r' before the path string to read any special characters, such as '\\'). Don't forget the put the file name at the end of the path + '.csv'\n",
    "read_country.to_sql('Regions', conn, if_exists='replace', index = False) #replace the values from the csv file into the table 'COUNTRY'\n",
    "\n",
    "# before running the code, make sure that the column names in the CSV files match with the column names in the tables created and the query below\n",
    "\n",
    "#rs = c.execute(\"SELECT * FROM COUNTY INNER Zip_code on COUNTY.County = Artist.county & COUNTY.State short = Artist.State\")\n",
    "\n",
    "def join_zip_county(DBPATH, COUNTY, ):\n",
    "    query = \"INSERT INTO Person VALUES (?, ?, ?);\"\n",
    "\n",
    "    connection = sqlite3.connect(database_file)\n",
    "    cursor = connection.cursor()\n",
    "    cursor.execute(SELECT * FROM COUNTY INNER Zip_code on COUNTY.County = Artist.county & COUNTY.State short = Artist.State)\n",
    "\n",
    "    def add_name(database_file, new_person):)\n",
    "    cursor.close()\n",
    "    connection.commit()\n",
    "    connection.close()\n",
    "#df = pd.DataFrame(rs.fetchall())\n",
    "#df.columns = rs.keys()"
   ]
  },
  {
   "cell_type": "code",
   "execution_count": null,
   "metadata": {},
   "outputs": [],
   "source": []
  }
 ],
 "metadata": {
  "kernelspec": {
   "display_name": "Python [conda env:anaconda3]",
   "language": "python",
   "name": "conda-env-anaconda3-py"
  },
  "language_info": {
   "codemirror_mode": {
    "name": "ipython",
    "version": 3
   },
   "file_extension": ".py",
   "mimetype": "text/x-python",
   "name": "python",
   "nbconvert_exporter": "python",
   "pygments_lexer": "ipython3",
   "version": "3.6.5"
  }
 },
 "nbformat": 4,
 "nbformat_minor": 2
}
