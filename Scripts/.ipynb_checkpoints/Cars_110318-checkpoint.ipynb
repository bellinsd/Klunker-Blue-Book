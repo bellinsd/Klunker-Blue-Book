{
 "cells": [
  {
   "cell_type": "code",
   "execution_count": 1,
   "metadata": {},
   "outputs": [],
   "source": [
    "import pandas as pd\n",
    "import seaborn as sns\n",
    "import matplotlib.pyplot as plt\n",
    "\n",
    "from sklearn.feature_selection import SelectPercentile\n",
    "from sklearn.feature_selection import SelectFromModel\n",
    "from sklearn.model_selection import train_test_split, cross_validate\n",
    "from sklearn.ensemble import RandomForestRegressor, RandomForestClassifier\n",
    "from sklearn.neighbors import KNeighborsRegressor\n",
    "from sklearn.metrics import r2_score, mean_squared_error, explained_variance_score\n",
    "from sklearn import linear_model\n",
    "from sklearn.preprocessing import OneHotEncoder, LabelEncoder\n",
    "from sklearn.linear_model import LinearRegression\n",
    "from sklearn.linear_model import ElasticNet\n",
    "from sklearn.ensemble import GradientBoostingRegressor\n",
    "\n",
    "import numpy as np\n",
    "import time\n",
    "from sklearn.pipeline import make_pipeline\n",
    "from sklearn.preprocessing.data import QuantileTransformer\n",
    "from sklearn import model_selection\n",
    "\n",
    "%matplotlib inline\n",
    "pd.set_option('display.float_format', lambda x: '%.3f' % x)"
   ]
  },
  {
   "cell_type": "markdown",
   "metadata": {},
   "source": [
    "# Data Preparation\n",
    "First we ingested the Market Check Used Car Inventory data file containing used cars accross United States (~6.7 million instances with 38 features\n",
    "Then we did initial data wraggling in SQLite and Alteryx (Removed columns with null values, single values, huge descriptive text values. Also instances with null values and 4 digit zipcodes"
   ]
  },
  {
   "cell_type": "code",
   "execution_count": 2,
   "metadata": {},
   "outputs": [],
   "source": [
    "#df = pd.read_csv('Desktop/GT/car_data_clean.csv')\n",
    "df = pd.read_csv('C:/Users/Trypt/Desktop/KBB/DB files/car_data_clean_complete_v4.csv')"
   ]
  },
  {
   "cell_type": "code",
   "execution_count": 3,
   "metadata": {},
   "outputs": [
    {
     "data": {
      "text/html": [
       "<div>\n",
       "<style scoped>\n",
       "    .dataframe tbody tr th:only-of-type {\n",
       "        vertical-align: middle;\n",
       "    }\n",
       "\n",
       "    .dataframe tbody tr th {\n",
       "        vertical-align: top;\n",
       "    }\n",
       "\n",
       "    .dataframe thead th {\n",
       "        text-align: right;\n",
       "    }\n",
       "</style>\n",
       "<table border=\"1\" class=\"dataframe\">\n",
       "  <thead>\n",
       "    <tr style=\"text-align: right;\">\n",
       "      <th></th>\n",
       "      <th>id</th>\n",
       "      <th>vin_ss</th>\n",
       "      <th>price_fs</th>\n",
       "      <th>miles_fs</th>\n",
       "      <th>stock_no_ss</th>\n",
       "      <th>year_is</th>\n",
       "      <th>make_ss</th>\n",
       "      <th>model_ss</th>\n",
       "      <th>trim_ss</th>\n",
       "      <th>vehicle_type_ss</th>\n",
       "      <th>...</th>\n",
       "      <th>irs_estimated_population_2015</th>\n",
       "      <th>county full</th>\n",
       "      <th>State short</th>\n",
       "      <th>Per Capita income</th>\n",
       "      <th>Median Household income</th>\n",
       "      <th>Median Family income</th>\n",
       "      <th>Population</th>\n",
       "      <th>Number of households</th>\n",
       "      <th>State full</th>\n",
       "      <th>Regions</th>\n",
       "    </tr>\n",
       "  </thead>\n",
       "  <tbody>\n",
       "    <tr>\n",
       "      <th>0</th>\n",
       "      <td>026454b9-8f7f-4200-8a22-15505442b297</td>\n",
       "      <td>1GNKVLED4CJ261435</td>\n",
       "      <td>16342</td>\n",
       "      <td>71233</td>\n",
       "      <td>P261435</td>\n",
       "      <td>2012</td>\n",
       "      <td>Chevrolet</td>\n",
       "      <td>Traverse</td>\n",
       "      <td>LTZ</td>\n",
       "      <td>SUV</td>\n",
       "      <td>...</td>\n",
       "      <td>5210</td>\n",
       "      <td>Platte County</td>\n",
       "      <td>MO</td>\n",
       "      <td>$35,143.00</td>\n",
       "      <td>$67,721.00</td>\n",
       "      <td>$83,110.00</td>\n",
       "      <td>90842</td>\n",
       "      <td>36781</td>\n",
       "      <td>Missouri</td>\n",
       "      <td>MidWest</td>\n",
       "    </tr>\n",
       "    <tr>\n",
       "      <th>1</th>\n",
       "      <td>03decb32-0fac-45be-b5cb-abfffbbd25e8</td>\n",
       "      <td>JM3TB2CA1C0346156</td>\n",
       "      <td>12500</td>\n",
       "      <td>100215</td>\n",
       "      <td>DT11444A</td>\n",
       "      <td>2012</td>\n",
       "      <td>Mazda</td>\n",
       "      <td>CX-9</td>\n",
       "      <td>Touring</td>\n",
       "      <td>SUV</td>\n",
       "      <td>...</td>\n",
       "      <td>5210</td>\n",
       "      <td>Platte County</td>\n",
       "      <td>MO</td>\n",
       "      <td>$35,143.00</td>\n",
       "      <td>$67,721.00</td>\n",
       "      <td>$83,110.00</td>\n",
       "      <td>90842</td>\n",
       "      <td>36781</td>\n",
       "      <td>Missouri</td>\n",
       "      <td>MidWest</td>\n",
       "    </tr>\n",
       "    <tr>\n",
       "      <th>2</th>\n",
       "      <td>07eaaaba-df00-4440-ad09-438a6ad2ec00</td>\n",
       "      <td>JTHBE5C20C5030562</td>\n",
       "      <td>21990</td>\n",
       "      <td>44637</td>\n",
       "      <td>180770A</td>\n",
       "      <td>2012</td>\n",
       "      <td>Lexus</td>\n",
       "      <td>IS 350</td>\n",
       "      <td>Base</td>\n",
       "      <td>Car</td>\n",
       "      <td>...</td>\n",
       "      <td>5210</td>\n",
       "      <td>Platte County</td>\n",
       "      <td>MO</td>\n",
       "      <td>$35,143.00</td>\n",
       "      <td>$67,721.00</td>\n",
       "      <td>$83,110.00</td>\n",
       "      <td>90842</td>\n",
       "      <td>36781</td>\n",
       "      <td>Missouri</td>\n",
       "      <td>MidWest</td>\n",
       "    </tr>\n",
       "    <tr>\n",
       "      <th>3</th>\n",
       "      <td>09c33c55-0d16-483c-a86f-392cc48cac3e</td>\n",
       "      <td>2C3CCAAGXCH312420</td>\n",
       "      <td>11988</td>\n",
       "      <td>94012</td>\n",
       "      <td>P10436</td>\n",
       "      <td>2012</td>\n",
       "      <td>Chrysler</td>\n",
       "      <td>300</td>\n",
       "      <td>Base</td>\n",
       "      <td>Car</td>\n",
       "      <td>...</td>\n",
       "      <td>5210</td>\n",
       "      <td>Platte County</td>\n",
       "      <td>MO</td>\n",
       "      <td>$35,143.00</td>\n",
       "      <td>$67,721.00</td>\n",
       "      <td>$83,110.00</td>\n",
       "      <td>90842</td>\n",
       "      <td>36781</td>\n",
       "      <td>Missouri</td>\n",
       "      <td>MidWest</td>\n",
       "    </tr>\n",
       "    <tr>\n",
       "      <th>4</th>\n",
       "      <td>09dafb80-659c-41f7-92a1-4933e7dcbb2c</td>\n",
       "      <td>4T4BF1FK3CR169613</td>\n",
       "      <td>13990</td>\n",
       "      <td>86122</td>\n",
       "      <td>762911</td>\n",
       "      <td>2012</td>\n",
       "      <td>Toyota</td>\n",
       "      <td>Camry</td>\n",
       "      <td>L</td>\n",
       "      <td>Car</td>\n",
       "      <td>...</td>\n",
       "      <td>5210</td>\n",
       "      <td>Platte County</td>\n",
       "      <td>MO</td>\n",
       "      <td>$35,143.00</td>\n",
       "      <td>$67,721.00</td>\n",
       "      <td>$83,110.00</td>\n",
       "      <td>90842</td>\n",
       "      <td>36781</td>\n",
       "      <td>Missouri</td>\n",
       "      <td>MidWest</td>\n",
       "    </tr>\n",
       "  </tbody>\n",
       "</table>\n",
       "<p>5 rows × 49 columns</p>\n",
       "</div>"
      ],
      "text/plain": [
       "                                     id             vin_ss  price_fs  \\\n",
       "0  026454b9-8f7f-4200-8a22-15505442b297  1GNKVLED4CJ261435     16342   \n",
       "1  03decb32-0fac-45be-b5cb-abfffbbd25e8  JM3TB2CA1C0346156     12500   \n",
       "2  07eaaaba-df00-4440-ad09-438a6ad2ec00  JTHBE5C20C5030562     21990   \n",
       "3  09c33c55-0d16-483c-a86f-392cc48cac3e  2C3CCAAGXCH312420     11988   \n",
       "4  09dafb80-659c-41f7-92a1-4933e7dcbb2c  4T4BF1FK3CR169613     13990   \n",
       "\n",
       "   miles_fs stock_no_ss  year_is    make_ss  model_ss  trim_ss  \\\n",
       "0     71233     P261435     2012  Chevrolet  Traverse      LTZ   \n",
       "1    100215    DT11444A     2012      Mazda      CX-9  Touring   \n",
       "2     44637     180770A     2012      Lexus    IS 350     Base   \n",
       "3     94012      P10436     2012   Chrysler       300     Base   \n",
       "4     86122      762911     2012     Toyota     Camry        L   \n",
       "\n",
       "  vehicle_type_ss   ...    irs_estimated_population_2015    county full  \\\n",
       "0             SUV   ...                             5210  Platte County   \n",
       "1             SUV   ...                             5210  Platte County   \n",
       "2             Car   ...                             5210  Platte County   \n",
       "3             Car   ...                             5210  Platte County   \n",
       "4             Car   ...                             5210  Platte County   \n",
       "\n",
       "  State short  Per Capita income Median Household income  \\\n",
       "0          MO         $35,143.00              $67,721.00   \n",
       "1          MO         $35,143.00              $67,721.00   \n",
       "2          MO         $35,143.00              $67,721.00   \n",
       "3          MO         $35,143.00              $67,721.00   \n",
       "4          MO         $35,143.00              $67,721.00   \n",
       "\n",
       "   Median Family income  Population Number of households State full  Regions  \n",
       "0            $83,110.00       90842                36781   Missouri  MidWest  \n",
       "1            $83,110.00       90842                36781   Missouri  MidWest  \n",
       "2            $83,110.00       90842                36781   Missouri  MidWest  \n",
       "3            $83,110.00       90842                36781   Missouri  MidWest  \n",
       "4            $83,110.00       90842                36781   Missouri  MidWest  \n",
       "\n",
       "[5 rows x 49 columns]"
      ]
     },
     "execution_count": 3,
     "metadata": {},
     "output_type": "execute_result"
    }
   ],
   "source": [
    "df.head()"
   ]
  },
  {
   "cell_type": "code",
   "execution_count": 4,
   "metadata": {},
   "outputs": [
    {
     "name": "stdout",
     "output_type": "stream",
     "text": [
      "(1673470, 49)\n"
     ]
    }
   ],
   "source": [
    "print(df.shape)"
   ]
  },
  {
   "cell_type": "markdown",
   "metadata": {},
   "source": [
    "# Picked the top 10 cars by volume for further analysis"
   ]
  },
  {
   "cell_type": "code",
   "execution_count": 5,
   "metadata": {},
   "outputs": [
    {
     "name": "stdout",
     "output_type": "stream",
     "text": [
      "Index(['Chevrolet', 'Ford', 'Toyota', 'Nissan', 'Honda', 'Jeep', 'Hyundai',\n",
      "       'BMW', 'GMC', 'Lexus'],\n",
      "      dtype='object')\n"
     ]
    }
   ],
   "source": [
    "df_vol = df['make_ss'].value_counts()\n",
    "df_vol_10 = df_vol.head(10).to_frame(name='makes')\n",
    "print(df_vol_10.index)"
   ]
  },
  {
   "cell_type": "code",
   "execution_count": 6,
   "metadata": {},
   "outputs": [
    {
     "name": "stdout",
     "output_type": "stream",
     "text": [
      "                                     id             vin_ss  price_fs  \\\n",
      "0  026454b9-8f7f-4200-8a22-15505442b297  1GNKVLED4CJ261435     16342   \n",
      "2  07eaaaba-df00-4440-ad09-438a6ad2ec00  JTHBE5C20C5030562     21990   \n",
      "4  09dafb80-659c-41f7-92a1-4933e7dcbb2c  4T4BF1FK3CR169613     13990   \n",
      "5  09e6b3ab-d4aa-43a3-92db-8d18d37eac5c  JTEZU5JR9C5043244     21994   \n",
      "6  0a0b266c-eaca-437c-b097-cb8111c4c264  WBAKE5C57CJ106116     13495   \n",
      "\n",
      "   miles_fs stock_no_ss  year_is    make_ss  model_ss trim_ss vehicle_type_ss  \\\n",
      "0     71233     P261435     2012  Chevrolet  Traverse     LTZ             SUV   \n",
      "2     44637     180770A     2012      Lexus    IS 350    Base             Car   \n",
      "4     86122      762911     2012     Toyota     Camry       L             Car   \n",
      "5     71624     3P1553A     2012     Toyota   4Runner     SR5             SUV   \n",
      "6     73000    XHC8610B     2012        BMW  3 Series    328i             Car   \n",
      "\n",
      "    ...    irs_estimated_population_2015    county full State short  \\\n",
      "0   ...                             5210  Platte County          MO   \n",
      "2   ...                             5210  Platte County          MO   \n",
      "4   ...                             5210  Platte County          MO   \n",
      "5   ...                             5210  Platte County          MO   \n",
      "6   ...                             5210  Platte County          MO   \n",
      "\n",
      "   Per Capita income Median Household income  Median Family income  \\\n",
      "0         $35,143.00              $67,721.00            $83,110.00   \n",
      "2         $35,143.00              $67,721.00            $83,110.00   \n",
      "4         $35,143.00              $67,721.00            $83,110.00   \n",
      "5         $35,143.00              $67,721.00            $83,110.00   \n",
      "6         $35,143.00              $67,721.00            $83,110.00   \n",
      "\n",
      "   Population Number of households State full  Regions  \n",
      "0       90842                36781   Missouri  MidWest  \n",
      "2       90842                36781   Missouri  MidWest  \n",
      "4       90842                36781   Missouri  MidWest  \n",
      "5       90842                36781   Missouri  MidWest  \n",
      "6       90842                36781   Missouri  MidWest  \n",
      "\n",
      "[5 rows x 49 columns]\n"
     ]
    }
   ],
   "source": [
    "df_top10 = df.loc[df['make_ss'].isin(df_vol_10.index)]\n",
    "print(df_top10.head())"
   ]
  },
  {
   "cell_type": "code",
   "execution_count": 7,
   "metadata": {},
   "outputs": [
    {
     "data": {
      "text/plain": [
       "(1174326, 49)"
      ]
     },
     "execution_count": 7,
     "metadata": {},
     "output_type": "execute_result"
    }
   ],
   "source": [
    "df_top10.shape"
   ]
  },
  {
   "cell_type": "code",
   "execution_count": 8,
   "metadata": {},
   "outputs": [
    {
     "data": {
      "text/plain": [
       "id                               0\n",
       "vin_ss                           0\n",
       "price_fs                         0\n",
       "miles_fs                         0\n",
       "stock_no_ss                      0\n",
       "year_is                          0\n",
       "make_ss                          0\n",
       "model_ss                         0\n",
       "trim_ss                          0\n",
       "vehicle_type_ss                  0\n",
       "body_type_ss                     0\n",
       "drivetrain_ss                    0\n",
       "engine_ss                        0\n",
       "engine_size_ss                   0\n",
       "transmission_ss                  0\n",
       "doors_is                         0\n",
       "cylinders_is                     0\n",
       "interior_color_ss                0\n",
       "exterior_color_ss                0\n",
       "dom_is                           0\n",
       "dom_180_is                       0\n",
       "msrp_fs                          0\n",
       "dom_active_is                    0\n",
       "is_certified_is                  0\n",
       "fuel_type_ss                     0\n",
       "scraped_at_dts                   0\n",
       "status_date_dts                  0\n",
       "city_ss                          0\n",
       "state_ss                         0\n",
       "AGE                              0\n",
       "zip                              0\n",
       "type                             0\n",
       "decommissioned                   0\n",
       "primary_city                     0\n",
       "state                            0\n",
       "county                           0\n",
       "timezone                         0\n",
       "latitude                         0\n",
       "longitude                        0\n",
       "irs_estimated_population_2015    0\n",
       "county full                      0\n",
       "State short                      0\n",
       "Per Capita income                0\n",
       "Median Household income          0\n",
       "Median Family income             0\n",
       "Population                       0\n",
       "Number of households             0\n",
       "State full                       0\n",
       "Regions                          0\n",
       "dtype: int64"
      ]
     },
     "execution_count": 8,
     "metadata": {},
     "output_type": "execute_result"
    }
   ],
   "source": [
    "df_top10.isnull().sum()"
   ]
  },
  {
   "cell_type": "code",
   "execution_count": 9,
   "metadata": {},
   "outputs": [],
   "source": [
    "df_top10 = df_top10.dropna()"
   ]
  },
  {
   "cell_type": "code",
   "execution_count": 10,
   "metadata": {},
   "outputs": [
    {
     "data": {
      "text/plain": [
       "id                               0\n",
       "vin_ss                           0\n",
       "price_fs                         0\n",
       "miles_fs                         0\n",
       "stock_no_ss                      0\n",
       "year_is                          0\n",
       "make_ss                          0\n",
       "model_ss                         0\n",
       "trim_ss                          0\n",
       "vehicle_type_ss                  0\n",
       "body_type_ss                     0\n",
       "drivetrain_ss                    0\n",
       "engine_ss                        0\n",
       "engine_size_ss                   0\n",
       "transmission_ss                  0\n",
       "doors_is                         0\n",
       "cylinders_is                     0\n",
       "interior_color_ss                0\n",
       "exterior_color_ss                0\n",
       "dom_is                           0\n",
       "dom_180_is                       0\n",
       "msrp_fs                          0\n",
       "dom_active_is                    0\n",
       "is_certified_is                  0\n",
       "fuel_type_ss                     0\n",
       "scraped_at_dts                   0\n",
       "status_date_dts                  0\n",
       "city_ss                          0\n",
       "state_ss                         0\n",
       "AGE                              0\n",
       "zip                              0\n",
       "type                             0\n",
       "decommissioned                   0\n",
       "primary_city                     0\n",
       "state                            0\n",
       "county                           0\n",
       "timezone                         0\n",
       "latitude                         0\n",
       "longitude                        0\n",
       "irs_estimated_population_2015    0\n",
       "county full                      0\n",
       "State short                      0\n",
       "Per Capita income                0\n",
       "Median Household income          0\n",
       "Median Family income             0\n",
       "Population                       0\n",
       "Number of households             0\n",
       "State full                       0\n",
       "Regions                          0\n",
       "dtype: int64"
      ]
     },
     "execution_count": 10,
     "metadata": {},
     "output_type": "execute_result"
    }
   ],
   "source": [
    "df_top10.isnull().sum()"
   ]
  },
  {
   "cell_type": "code",
   "execution_count": 11,
   "metadata": {},
   "outputs": [],
   "source": [
    "#Reading in the other datasets\n",
    "#county_demo = pd.read_csv('Desktop/GT/county_demos_cleaned.csv')\n",
    "#zip_county = pd.read_csv('Desktop/GT/zip_code_database_cleaned.csv')\n",
    "#age = pd.read_csv('Desktop/GT/year_age.csv')\n",
    "#region = pd.read_csv('Desktop/GT/regions_states.csv')"
   ]
  },
  {
   "cell_type": "code",
   "execution_count": 12,
   "metadata": {},
   "outputs": [],
   "source": [
    "#Inner Join: County Demographic and Zip Datasets\n",
    "#df_countydemo_zip = pd.merge(zip_county, county_demo, how='inner', left_on=['county','state'], right_on=['County','State short'])"
   ]
  },
  {
   "cell_type": "code",
   "execution_count": 13,
   "metadata": {},
   "outputs": [
    {
     "data": {
      "text/html": [
       "<div>\n",
       "<style scoped>\n",
       "    .dataframe tbody tr th:only-of-type {\n",
       "        vertical-align: middle;\n",
       "    }\n",
       "\n",
       "    .dataframe tbody tr th {\n",
       "        vertical-align: top;\n",
       "    }\n",
       "\n",
       "    .dataframe thead th {\n",
       "        text-align: right;\n",
       "    }\n",
       "</style>\n",
       "<table border=\"1\" class=\"dataframe\">\n",
       "  <thead>\n",
       "    <tr style=\"text-align: right;\">\n",
       "      <th></th>\n",
       "      <th>zip</th>\n",
       "      <th>decommissioned</th>\n",
       "      <th>latitude</th>\n",
       "      <th>longitude</th>\n",
       "      <th>irs_estimated_population_2015</th>\n",
       "      <th>Rank</th>\n",
       "      <th>Population</th>\n",
       "      <th>Number of households</th>\n",
       "    </tr>\n",
       "  </thead>\n",
       "  <tbody>\n",
       "    <tr>\n",
       "      <th>count</th>\n",
       "      <td>41366.000</td>\n",
       "      <td>41366.000</td>\n",
       "      <td>41366.000</td>\n",
       "      <td>41366.000</td>\n",
       "      <td>41366.000</td>\n",
       "      <td>41366.000</td>\n",
       "      <td>41366.000</td>\n",
       "      <td>41366.000</td>\n",
       "    </tr>\n",
       "    <tr>\n",
       "      <th>mean</th>\n",
       "      <td>49614.097</td>\n",
       "      <td>0.013</td>\n",
       "      <td>38.503</td>\n",
       "      <td>-90.924</td>\n",
       "      <td>6933.145</td>\n",
       "      <td>1194.811</td>\n",
       "      <td>529371.996</td>\n",
       "      <td>189446.994</td>\n",
       "    </tr>\n",
       "    <tr>\n",
       "      <th>std</th>\n",
       "      <td>27728.837</td>\n",
       "      <td>0.114</td>\n",
       "      <td>5.046</td>\n",
       "      <td>14.883</td>\n",
       "      <td>12044.291</td>\n",
       "      <td>889.859</td>\n",
       "      <td>1299847.762</td>\n",
       "      <td>436973.173</td>\n",
       "    </tr>\n",
       "    <tr>\n",
       "      <th>min</th>\n",
       "      <td>501.000</td>\n",
       "      <td>0.000</td>\n",
       "      <td>19.070</td>\n",
       "      <td>-176.630</td>\n",
       "      <td>0.000</td>\n",
       "      <td>1.000</td>\n",
       "      <td>71.000</td>\n",
       "      <td>33.000</td>\n",
       "    </tr>\n",
       "    <tr>\n",
       "      <th>25%</th>\n",
       "      <td>26278.500</td>\n",
       "      <td>0.000</td>\n",
       "      <td>35.030</td>\n",
       "      <td>-97.240</td>\n",
       "      <td>335.000</td>\n",
       "      <td>420.000</td>\n",
       "      <td>29399.000</td>\n",
       "      <td>11459.000</td>\n",
       "    </tr>\n",
       "    <tr>\n",
       "      <th>50%</th>\n",
       "      <td>48837.500</td>\n",
       "      <td>0.000</td>\n",
       "      <td>39.110</td>\n",
       "      <td>-87.890</td>\n",
       "      <td>1350.000</td>\n",
       "      <td>1029.500</td>\n",
       "      <td>102270.000</td>\n",
       "      <td>39545.500</td>\n",
       "    </tr>\n",
       "    <tr>\n",
       "      <th>75%</th>\n",
       "      <td>72931.500</td>\n",
       "      <td>0.000</td>\n",
       "      <td>41.850</td>\n",
       "      <td>-80.100</td>\n",
       "      <td>7420.000</td>\n",
       "      <td>1890.000</td>\n",
       "      <td>495326.000</td>\n",
       "      <td>184788.000</td>\n",
       "    </tr>\n",
       "    <tr>\n",
       "      <th>max</th>\n",
       "      <td>99927.000</td>\n",
       "      <td>1.000</td>\n",
       "      <td>68.090</td>\n",
       "      <td>-67.010</td>\n",
       "      <td>114420.000</td>\n",
       "      <td>3142.000</td>\n",
       "      <td>9893481.000</td>\n",
       "      <td>3230383.000</td>\n",
       "    </tr>\n",
       "  </tbody>\n",
       "</table>\n",
       "</div>"
      ],
      "text/plain": [
       "            zip  decommissioned  latitude  longitude  \\\n",
       "count 41366.000       41366.000 41366.000  41366.000   \n",
       "mean  49614.097           0.013    38.503    -90.924   \n",
       "std   27728.837           0.114     5.046     14.883   \n",
       "min     501.000           0.000    19.070   -176.630   \n",
       "25%   26278.500           0.000    35.030    -97.240   \n",
       "50%   48837.500           0.000    39.110    -87.890   \n",
       "75%   72931.500           0.000    41.850    -80.100   \n",
       "max   99927.000           1.000    68.090    -67.010   \n",
       "\n",
       "       irs_estimated_population_2015      Rank  Population  \\\n",
       "count                      41366.000 41366.000   41366.000   \n",
       "mean                        6933.145  1194.811  529371.996   \n",
       "std                        12044.291   889.859 1299847.762   \n",
       "min                            0.000     1.000      71.000   \n",
       "25%                          335.000   420.000   29399.000   \n",
       "50%                         1350.000  1029.500  102270.000   \n",
       "75%                         7420.000  1890.000  495326.000   \n",
       "max                       114420.000  3142.000 9893481.000   \n",
       "\n",
       "       Number of households  \n",
       "count             41366.000  \n",
       "mean             189446.994  \n",
       "std              436973.173  \n",
       "min                  33.000  \n",
       "25%               11459.000  \n",
       "50%               39545.500  \n",
       "75%              184788.000  \n",
       "max             3230383.000  "
      ]
     },
     "execution_count": 13,
     "metadata": {},
     "output_type": "execute_result"
    }
   ],
   "source": [
    "#Checking merge of previous cell\n",
    "#df_countydemo_zip.tail\n",
    "#df_countydemo_zip.describe()"
   ]
  },
  {
   "cell_type": "code",
   "execution_count": 14,
   "metadata": {},
   "outputs": [
    {
     "data": {
      "text/plain": [
       "zip                              0\n",
       "type                             0\n",
       "decommissioned                   0\n",
       "primary_city                     0\n",
       "state                            0\n",
       "county                           0\n",
       "timezone                         0\n",
       "latitude                         0\n",
       "longitude                        0\n",
       "irs_estimated_population_2015    0\n",
       "county full                      0\n",
       "Rank                             0\n",
       "County                           0\n",
       "State short                      0\n",
       "Per Capita income                0\n",
       "Median Household income          0\n",
       "Median Family income             0\n",
       "Population                       0\n",
       "Number of households             0\n",
       "State full                       0\n",
       "dtype: int64"
      ]
     },
     "execution_count": 14,
     "metadata": {},
     "output_type": "execute_result"
    }
   ],
   "source": [
    "#df_countydemo_zip.isnull().sum()"
   ]
  },
  {
   "cell_type": "code",
   "execution_count": 15,
   "metadata": {},
   "outputs": [
    {
     "data": {
      "text/html": [
       "<div>\n",
       "<style scoped>\n",
       "    .dataframe tbody tr th:only-of-type {\n",
       "        vertical-align: middle;\n",
       "    }\n",
       "\n",
       "    .dataframe tbody tr th {\n",
       "        vertical-align: top;\n",
       "    }\n",
       "\n",
       "    .dataframe thead th {\n",
       "        text-align: right;\n",
       "    }\n",
       "</style>\n",
       "<table border=\"1\" class=\"dataframe\">\n",
       "  <thead>\n",
       "    <tr style=\"text-align: right;\">\n",
       "      <th></th>\n",
       "      <th>id</th>\n",
       "      <th>vin_ss</th>\n",
       "      <th>price_fs</th>\n",
       "      <th>miles_fs</th>\n",
       "      <th>stock_no_ss</th>\n",
       "      <th>year_is</th>\n",
       "      <th>make_ss</th>\n",
       "      <th>model_ss</th>\n",
       "      <th>trim_ss</th>\n",
       "      <th>vehicle_type_ss</th>\n",
       "      <th>...</th>\n",
       "      <th>msrp_fs</th>\n",
       "      <th>dom_active_is</th>\n",
       "      <th>is_certified_is</th>\n",
       "      <th>fuel_type_ss</th>\n",
       "      <th>scraped_at_dts</th>\n",
       "      <th>status_date_dts</th>\n",
       "      <th>city_ss</th>\n",
       "      <th>state_ss</th>\n",
       "      <th>YEAR</th>\n",
       "      <th>AGE</th>\n",
       "    </tr>\n",
       "  </thead>\n",
       "  <tbody>\n",
       "    <tr>\n",
       "      <th>0</th>\n",
       "      <td>00000433-1e18-46f5-befa-cb338ff4c44c</td>\n",
       "      <td>4T1BF1FK8CU553915</td>\n",
       "      <td>12997</td>\n",
       "      <td>68475</td>\n",
       "      <td>UCJ2478</td>\n",
       "      <td>2012</td>\n",
       "      <td>Toyota</td>\n",
       "      <td>Camry</td>\n",
       "      <td>L</td>\n",
       "      <td>Car</td>\n",
       "      <td>...</td>\n",
       "      <td>12997</td>\n",
       "      <td>36</td>\n",
       "      <td>0</td>\n",
       "      <td>Regular Unleaded</td>\n",
       "      <td>2018-08-22T16:25:51Z</td>\n",
       "      <td>2018-09-23T18:43:48Z</td>\n",
       "      <td>Pineville</td>\n",
       "      <td>MO</td>\n",
       "      <td>2012</td>\n",
       "      <td>7</td>\n",
       "    </tr>\n",
       "    <tr>\n",
       "      <th>1</th>\n",
       "      <td>000088fe-58ea-40a0-b456-b48fd8b15bd7</td>\n",
       "      <td>1FAHP3K22CL161568</td>\n",
       "      <td>9590</td>\n",
       "      <td>57076</td>\n",
       "      <td>STA180597</td>\n",
       "      <td>2012</td>\n",
       "      <td>Ford</td>\n",
       "      <td>Focus</td>\n",
       "      <td>SE</td>\n",
       "      <td>Car</td>\n",
       "      <td>...</td>\n",
       "      <td>10337</td>\n",
       "      <td>37</td>\n",
       "      <td>0</td>\n",
       "      <td>Regular Unleaded</td>\n",
       "      <td>2018-09-10T23:34:24Z</td>\n",
       "      <td>2018-09-22T23:56:29Z</td>\n",
       "      <td>Pasco</td>\n",
       "      <td>WA</td>\n",
       "      <td>2012</td>\n",
       "      <td>7</td>\n",
       "    </tr>\n",
       "    <tr>\n",
       "      <th>2</th>\n",
       "      <td>00009307-877b-462c-876d-5b028c430743</td>\n",
       "      <td>4T1BF1FK1CU614036</td>\n",
       "      <td>12308</td>\n",
       "      <td>67943</td>\n",
       "      <td>B909618</td>\n",
       "      <td>2012</td>\n",
       "      <td>Toyota</td>\n",
       "      <td>Camry</td>\n",
       "      <td>L</td>\n",
       "      <td>Car</td>\n",
       "      <td>...</td>\n",
       "      <td>12308</td>\n",
       "      <td>4</td>\n",
       "      <td>0</td>\n",
       "      <td>Regular Unleaded</td>\n",
       "      <td>2018-09-15T22:07:29Z</td>\n",
       "      <td>2018-09-23T22:43:11Z</td>\n",
       "      <td>Augusta</td>\n",
       "      <td>GA</td>\n",
       "      <td>2012</td>\n",
       "      <td>7</td>\n",
       "    </tr>\n",
       "    <tr>\n",
       "      <th>3</th>\n",
       "      <td>00013abc-b294-4433-98a6-06c4b250b401</td>\n",
       "      <td>19XFB2F55CE074688</td>\n",
       "      <td>10388</td>\n",
       "      <td>56409</td>\n",
       "      <td>H3744C</td>\n",
       "      <td>2012</td>\n",
       "      <td>Honda</td>\n",
       "      <td>Civic</td>\n",
       "      <td>LX</td>\n",
       "      <td>Car</td>\n",
       "      <td>...</td>\n",
       "      <td>10388</td>\n",
       "      <td>25</td>\n",
       "      <td>0</td>\n",
       "      <td>Regular Unleaded</td>\n",
       "      <td>2018-09-02T01:43:41Z</td>\n",
       "      <td>2018-09-24T01:10:19Z</td>\n",
       "      <td>Owensboro</td>\n",
       "      <td>KY</td>\n",
       "      <td>2012</td>\n",
       "      <td>7</td>\n",
       "    </tr>\n",
       "    <tr>\n",
       "      <th>4</th>\n",
       "      <td>00026bf4-8360-44a8-af24-753be3e54fc4</td>\n",
       "      <td>JTDKN3DU2C5453956</td>\n",
       "      <td>12998</td>\n",
       "      <td>73965</td>\n",
       "      <td>39964-1</td>\n",
       "      <td>2012</td>\n",
       "      <td>Toyota</td>\n",
       "      <td>Prius</td>\n",
       "      <td>Three</td>\n",
       "      <td>Car</td>\n",
       "      <td>...</td>\n",
       "      <td>15000</td>\n",
       "      <td>87</td>\n",
       "      <td>0</td>\n",
       "      <td>Regular Unleaded</td>\n",
       "      <td>2018-07-12T17:47:39Z</td>\n",
       "      <td>2018-09-24T00:20:09Z</td>\n",
       "      <td>Columbia</td>\n",
       "      <td>SC</td>\n",
       "      <td>2012</td>\n",
       "      <td>7</td>\n",
       "    </tr>\n",
       "  </tbody>\n",
       "</table>\n",
       "<p>5 rows × 32 columns</p>\n",
       "</div>"
      ],
      "text/plain": [
       "                                     id             vin_ss  price_fs  \\\n",
       "0  00000433-1e18-46f5-befa-cb338ff4c44c  4T1BF1FK8CU553915     12997   \n",
       "1  000088fe-58ea-40a0-b456-b48fd8b15bd7  1FAHP3K22CL161568      9590   \n",
       "2  00009307-877b-462c-876d-5b028c430743  4T1BF1FK1CU614036     12308   \n",
       "3  00013abc-b294-4433-98a6-06c4b250b401  19XFB2F55CE074688     10388   \n",
       "4  00026bf4-8360-44a8-af24-753be3e54fc4  JTDKN3DU2C5453956     12998   \n",
       "\n",
       "   miles_fs stock_no_ss  year_is make_ss model_ss trim_ss vehicle_type_ss ...  \\\n",
       "0     68475     UCJ2478     2012  Toyota    Camry       L             Car ...   \n",
       "1     57076   STA180597     2012    Ford    Focus      SE             Car ...   \n",
       "2     67943     B909618     2012  Toyota    Camry       L             Car ...   \n",
       "3     56409      H3744C     2012   Honda    Civic      LX             Car ...   \n",
       "4     73965     39964-1     2012  Toyota    Prius   Three             Car ...   \n",
       "\n",
       "  msrp_fs dom_active_is is_certified_is      fuel_type_ss  \\\n",
       "0   12997            36               0  Regular Unleaded   \n",
       "1   10337            37               0  Regular Unleaded   \n",
       "2   12308             4               0  Regular Unleaded   \n",
       "3   10388            25               0  Regular Unleaded   \n",
       "4   15000            87               0  Regular Unleaded   \n",
       "\n",
       "         scraped_at_dts       status_date_dts    city_ss state_ss  YEAR AGE  \n",
       "0  2018-08-22T16:25:51Z  2018-09-23T18:43:48Z  Pineville       MO  2012   7  \n",
       "1  2018-09-10T23:34:24Z  2018-09-22T23:56:29Z      Pasco       WA  2012   7  \n",
       "2  2018-09-15T22:07:29Z  2018-09-23T22:43:11Z    Augusta       GA  2012   7  \n",
       "3  2018-09-02T01:43:41Z  2018-09-24T01:10:19Z  Owensboro       KY  2012   7  \n",
       "4  2018-07-12T17:47:39Z  2018-09-24T00:20:09Z   Columbia       SC  2012   7  \n",
       "\n",
       "[5 rows x 32 columns]"
      ]
     },
     "execution_count": 15,
     "metadata": {},
     "output_type": "execute_result"
    }
   ],
   "source": [
    "#Inner Join: Original Car Data and Age Datasets\n",
    "#df_top10 = pd.merge(df_top10, age, how='inner', left_on='year_is', right_on='YEAR')\n",
    "#df_top10.head()"
   ]
  },
  {
   "cell_type": "code",
   "execution_count": 16,
   "metadata": {},
   "outputs": [
    {
     "data": {
      "text/plain": [
       "id                   0\n",
       "vin_ss               0\n",
       "price_fs             0\n",
       "miles_fs             0\n",
       "stock_no_ss          0\n",
       "year_is              0\n",
       "make_ss              0\n",
       "model_ss             0\n",
       "trim_ss              0\n",
       "vehicle_type_ss      0\n",
       "body_type_ss         0\n",
       "drivetrain_ss        0\n",
       "engine_ss            0\n",
       "engine_size_ss       0\n",
       "transmission_ss      0\n",
       "doors_is             0\n",
       "cylinders_is         0\n",
       "interior_color_ss    0\n",
       "exterior_color_ss    0\n",
       "zip_is               0\n",
       "dom_is               0\n",
       "dom_180_is           0\n",
       "msrp_fs              0\n",
       "dom_active_is        0\n",
       "is_certified_is      0\n",
       "fuel_type_ss         0\n",
       "scraped_at_dts       0\n",
       "status_date_dts      0\n",
       "city_ss              0\n",
       "state_ss             0\n",
       "YEAR                 0\n",
       "AGE                  0\n",
       "dtype: int64"
      ]
     },
     "execution_count": 16,
     "metadata": {},
     "output_type": "execute_result"
    }
   ],
   "source": [
    "#df_top10.isnull().sum()"
   ]
  },
  {
   "cell_type": "code",
   "execution_count": 17,
   "metadata": {},
   "outputs": [
    {
     "data": {
      "text/html": [
       "<div>\n",
       "<style scoped>\n",
       "    .dataframe tbody tr th:only-of-type {\n",
       "        vertical-align: middle;\n",
       "    }\n",
       "\n",
       "    .dataframe tbody tr th {\n",
       "        vertical-align: top;\n",
       "    }\n",
       "\n",
       "    .dataframe thead th {\n",
       "        text-align: right;\n",
       "    }\n",
       "</style>\n",
       "<table border=\"1\" class=\"dataframe\">\n",
       "  <thead>\n",
       "    <tr style=\"text-align: right;\">\n",
       "      <th></th>\n",
       "      <th>zip</th>\n",
       "      <th>type</th>\n",
       "      <th>decommissioned</th>\n",
       "      <th>primary_city</th>\n",
       "      <th>state</th>\n",
       "      <th>county</th>\n",
       "      <th>timezone</th>\n",
       "      <th>latitude</th>\n",
       "      <th>longitude</th>\n",
       "      <th>irs_estimated_population_2015</th>\n",
       "      <th>...</th>\n",
       "      <th>State short</th>\n",
       "      <th>Per Capita income</th>\n",
       "      <th>Median Household income</th>\n",
       "      <th>Median Family income</th>\n",
       "      <th>Population</th>\n",
       "      <th>Number of households</th>\n",
       "      <th>State full</th>\n",
       "      <th>States Short</th>\n",
       "      <th>States</th>\n",
       "      <th>Regions</th>\n",
       "    </tr>\n",
       "  </thead>\n",
       "  <tbody>\n",
       "    <tr>\n",
       "      <th>0</th>\n",
       "      <td>501</td>\n",
       "      <td>UNIQUE</td>\n",
       "      <td>0</td>\n",
       "      <td>Holtsville</td>\n",
       "      <td>NY</td>\n",
       "      <td>Suffolk</td>\n",
       "      <td>America/New_York</td>\n",
       "      <td>40.810</td>\n",
       "      <td>-73.040</td>\n",
       "      <td>562</td>\n",
       "      <td>...</td>\n",
       "      <td>NY</td>\n",
       "      <td>$36,945.00</td>\n",
       "      <td>$87,763.00</td>\n",
       "      <td>$100,652.00</td>\n",
       "      <td>1495803</td>\n",
       "      <td>497347</td>\n",
       "      <td>New York</td>\n",
       "      <td>NY</td>\n",
       "      <td>New York</td>\n",
       "      <td>NorthEast</td>\n",
       "    </tr>\n",
       "    <tr>\n",
       "      <th>1</th>\n",
       "      <td>544</td>\n",
       "      <td>UNIQUE</td>\n",
       "      <td>0</td>\n",
       "      <td>Holtsville</td>\n",
       "      <td>NY</td>\n",
       "      <td>Suffolk</td>\n",
       "      <td>America/New_York</td>\n",
       "      <td>40.810</td>\n",
       "      <td>-73.040</td>\n",
       "      <td>0</td>\n",
       "      <td>...</td>\n",
       "      <td>NY</td>\n",
       "      <td>$36,945.00</td>\n",
       "      <td>$87,763.00</td>\n",
       "      <td>$100,652.00</td>\n",
       "      <td>1495803</td>\n",
       "      <td>497347</td>\n",
       "      <td>New York</td>\n",
       "      <td>NY</td>\n",
       "      <td>New York</td>\n",
       "      <td>NorthEast</td>\n",
       "    </tr>\n",
       "    <tr>\n",
       "      <th>2</th>\n",
       "      <td>6390</td>\n",
       "      <td>PO BOX</td>\n",
       "      <td>0</td>\n",
       "      <td>Fishers Island</td>\n",
       "      <td>NY</td>\n",
       "      <td>Suffolk</td>\n",
       "      <td>America/New_York</td>\n",
       "      <td>41.270</td>\n",
       "      <td>-71.990</td>\n",
       "      <td>286</td>\n",
       "      <td>...</td>\n",
       "      <td>NY</td>\n",
       "      <td>$36,945.00</td>\n",
       "      <td>$87,763.00</td>\n",
       "      <td>$100,652.00</td>\n",
       "      <td>1495803</td>\n",
       "      <td>497347</td>\n",
       "      <td>New York</td>\n",
       "      <td>NY</td>\n",
       "      <td>New York</td>\n",
       "      <td>NorthEast</td>\n",
       "    </tr>\n",
       "    <tr>\n",
       "      <th>3</th>\n",
       "      <td>11701</td>\n",
       "      <td>STANDARD</td>\n",
       "      <td>0</td>\n",
       "      <td>Amityville</td>\n",
       "      <td>NY</td>\n",
       "      <td>Suffolk</td>\n",
       "      <td>America/New_York</td>\n",
       "      <td>40.660</td>\n",
       "      <td>-73.410</td>\n",
       "      <td>25360</td>\n",
       "      <td>...</td>\n",
       "      <td>NY</td>\n",
       "      <td>$36,945.00</td>\n",
       "      <td>$87,763.00</td>\n",
       "      <td>$100,652.00</td>\n",
       "      <td>1495803</td>\n",
       "      <td>497347</td>\n",
       "      <td>New York</td>\n",
       "      <td>NY</td>\n",
       "      <td>New York</td>\n",
       "      <td>NorthEast</td>\n",
       "    </tr>\n",
       "    <tr>\n",
       "      <th>4</th>\n",
       "      <td>11702</td>\n",
       "      <td>STANDARD</td>\n",
       "      <td>0</td>\n",
       "      <td>Babylon</td>\n",
       "      <td>NY</td>\n",
       "      <td>Suffolk</td>\n",
       "      <td>America/New_York</td>\n",
       "      <td>40.690</td>\n",
       "      <td>-73.320</td>\n",
       "      <td>13780</td>\n",
       "      <td>...</td>\n",
       "      <td>NY</td>\n",
       "      <td>$36,945.00</td>\n",
       "      <td>$87,763.00</td>\n",
       "      <td>$100,652.00</td>\n",
       "      <td>1495803</td>\n",
       "      <td>497347</td>\n",
       "      <td>New York</td>\n",
       "      <td>NY</td>\n",
       "      <td>New York</td>\n",
       "      <td>NorthEast</td>\n",
       "    </tr>\n",
       "  </tbody>\n",
       "</table>\n",
       "<p>5 rows × 23 columns</p>\n",
       "</div>"
      ],
      "text/plain": [
       "     zip      type  decommissioned    primary_city state   county  \\\n",
       "0    501    UNIQUE               0      Holtsville    NY  Suffolk   \n",
       "1    544    UNIQUE               0      Holtsville    NY  Suffolk   \n",
       "2   6390    PO BOX               0  Fishers Island    NY  Suffolk   \n",
       "3  11701  STANDARD               0      Amityville    NY  Suffolk   \n",
       "4  11702  STANDARD               0         Babylon    NY  Suffolk   \n",
       "\n",
       "           timezone  latitude  longitude  irs_estimated_population_2015  \\\n",
       "0  America/New_York    40.810    -73.040                            562   \n",
       "1  America/New_York    40.810    -73.040                              0   \n",
       "2  America/New_York    41.270    -71.990                            286   \n",
       "3  America/New_York    40.660    -73.410                          25360   \n",
       "4  America/New_York    40.690    -73.320                          13780   \n",
       "\n",
       "     ...     State short  Per Capita income Median Household income  \\\n",
       "0    ...              NY        $36,945.00              $87,763.00    \n",
       "1    ...              NY        $36,945.00              $87,763.00    \n",
       "2    ...              NY        $36,945.00              $87,763.00    \n",
       "3    ...              NY        $36,945.00              $87,763.00    \n",
       "4    ...              NY        $36,945.00              $87,763.00    \n",
       "\n",
       "  Median Family income Population Number of households State full  \\\n",
       "0         $100,652.00     1495803               497347   New York   \n",
       "1         $100,652.00     1495803               497347   New York   \n",
       "2         $100,652.00     1495803               497347   New York   \n",
       "3         $100,652.00     1495803               497347   New York   \n",
       "4         $100,652.00     1495803               497347   New York   \n",
       "\n",
       "   States Short    States    Regions  \n",
       "0            NY  New York  NorthEast  \n",
       "1            NY  New York  NorthEast  \n",
       "2            NY  New York  NorthEast  \n",
       "3            NY  New York  NorthEast  \n",
       "4            NY  New York  NorthEast  \n",
       "\n",
       "[5 rows x 23 columns]"
      ]
     },
     "execution_count": 17,
     "metadata": {},
     "output_type": "execute_result"
    }
   ],
   "source": [
    "#Inner Join: Countydemo_zip and Region Datasets\n",
    "#df_county_zip_region = pd.merge(df_countydemo_zip, region, how='inner', left_on='State short', right_on='States Short')\n",
    "#df_county_zip_region.head()"
   ]
  },
  {
   "cell_type": "code",
   "execution_count": 18,
   "metadata": {},
   "outputs": [
    {
     "data": {
      "text/html": [
       "<div>\n",
       "<style scoped>\n",
       "    .dataframe tbody tr th:only-of-type {\n",
       "        vertical-align: middle;\n",
       "    }\n",
       "\n",
       "    .dataframe tbody tr th {\n",
       "        vertical-align: top;\n",
       "    }\n",
       "\n",
       "    .dataframe thead th {\n",
       "        text-align: right;\n",
       "    }\n",
       "</style>\n",
       "<table border=\"1\" class=\"dataframe\">\n",
       "  <thead>\n",
       "    <tr style=\"text-align: right;\">\n",
       "      <th></th>\n",
       "      <th>zip</th>\n",
       "      <th>decommissioned</th>\n",
       "      <th>latitude</th>\n",
       "      <th>longitude</th>\n",
       "      <th>irs_estimated_population_2015</th>\n",
       "      <th>Rank</th>\n",
       "      <th>Population</th>\n",
       "      <th>Number of households</th>\n",
       "    </tr>\n",
       "  </thead>\n",
       "  <tbody>\n",
       "    <tr>\n",
       "      <th>count</th>\n",
       "      <td>40819.000</td>\n",
       "      <td>40819.000</td>\n",
       "      <td>40819.000</td>\n",
       "      <td>40819.000</td>\n",
       "      <td>40819.000</td>\n",
       "      <td>40819.000</td>\n",
       "      <td>40819.000</td>\n",
       "      <td>40819.000</td>\n",
       "    </tr>\n",
       "    <tr>\n",
       "      <th>mean</th>\n",
       "      <td>49505.066</td>\n",
       "      <td>0.013</td>\n",
       "      <td>38.493</td>\n",
       "      <td>-90.613</td>\n",
       "      <td>6979.962</td>\n",
       "      <td>1203.628</td>\n",
       "      <td>530132.908</td>\n",
       "      <td>189489.138</td>\n",
       "    </tr>\n",
       "    <tr>\n",
       "      <th>std</th>\n",
       "      <td>27539.545</td>\n",
       "      <td>0.114</td>\n",
       "      <td>4.813</td>\n",
       "      <td>14.003</td>\n",
       "      <td>12058.691</td>\n",
       "      <td>887.184</td>\n",
       "      <td>1307983.337</td>\n",
       "      <td>439665.263</td>\n",
       "    </tr>\n",
       "    <tr>\n",
       "      <th>min</th>\n",
       "      <td>501.000</td>\n",
       "      <td>0.000</td>\n",
       "      <td>24.550</td>\n",
       "      <td>-124.630</td>\n",
       "      <td>0.000</td>\n",
       "      <td>1.000</td>\n",
       "      <td>87.000</td>\n",
       "      <td>33.000</td>\n",
       "    </tr>\n",
       "    <tr>\n",
       "      <th>25%</th>\n",
       "      <td>26664.500</td>\n",
       "      <td>0.000</td>\n",
       "      <td>35.030</td>\n",
       "      <td>-97.130</td>\n",
       "      <td>350.000</td>\n",
       "      <td>435.000</td>\n",
       "      <td>29376.000</td>\n",
       "      <td>11435.000</td>\n",
       "    </tr>\n",
       "    <tr>\n",
       "      <th>50%</th>\n",
       "      <td>48843.000</td>\n",
       "      <td>0.000</td>\n",
       "      <td>39.150</td>\n",
       "      <td>-87.910</td>\n",
       "      <td>1379.000</td>\n",
       "      <td>1039.000</td>\n",
       "      <td>100636.000</td>\n",
       "      <td>38654.000</td>\n",
       "    </tr>\n",
       "    <tr>\n",
       "      <th>75%</th>\n",
       "      <td>72667.000</td>\n",
       "      <td>0.000</td>\n",
       "      <td>41.850</td>\n",
       "      <td>-80.180</td>\n",
       "      <td>7530.000</td>\n",
       "      <td>1896.000</td>\n",
       "      <td>473832.000</td>\n",
       "      <td>179617.000</td>\n",
       "    </tr>\n",
       "    <tr>\n",
       "      <th>max</th>\n",
       "      <td>99403.000</td>\n",
       "      <td>1.000</td>\n",
       "      <td>49.310</td>\n",
       "      <td>-67.010</td>\n",
       "      <td>114420.000</td>\n",
       "      <td>3142.000</td>\n",
       "      <td>9893481.000</td>\n",
       "      <td>3230383.000</td>\n",
       "    </tr>\n",
       "  </tbody>\n",
       "</table>\n",
       "</div>"
      ],
      "text/plain": [
       "            zip  decommissioned  latitude  longitude  \\\n",
       "count 40819.000       40819.000 40819.000  40819.000   \n",
       "mean  49505.066           0.013    38.493    -90.613   \n",
       "std   27539.545           0.114     4.813     14.003   \n",
       "min     501.000           0.000    24.550   -124.630   \n",
       "25%   26664.500           0.000    35.030    -97.130   \n",
       "50%   48843.000           0.000    39.150    -87.910   \n",
       "75%   72667.000           0.000    41.850    -80.180   \n",
       "max   99403.000           1.000    49.310    -67.010   \n",
       "\n",
       "       irs_estimated_population_2015      Rank  Population  \\\n",
       "count                      40819.000 40819.000   40819.000   \n",
       "mean                        6979.962  1203.628  530132.908   \n",
       "std                        12058.691   887.184 1307983.337   \n",
       "min                            0.000     1.000      87.000   \n",
       "25%                          350.000   435.000   29376.000   \n",
       "50%                         1379.000  1039.000  100636.000   \n",
       "75%                         7530.000  1896.000  473832.000   \n",
       "max                       114420.000  3142.000 9893481.000   \n",
       "\n",
       "       Number of households  \n",
       "count             40819.000  \n",
       "mean             189489.138  \n",
       "std              439665.263  \n",
       "min                  33.000  \n",
       "25%               11435.000  \n",
       "50%               38654.000  \n",
       "75%              179617.000  \n",
       "max             3230383.000  "
      ]
     },
     "execution_count": 18,
     "metadata": {},
     "output_type": "execute_result"
    }
   ],
   "source": [
    "#Checking merge of previous cell\n",
    "#df_county_zip_region.describe()\n",
    "#df_county_zip_region.isnull().sum()"
   ]
  },
  {
   "cell_type": "code",
   "execution_count": 19,
   "metadata": {},
   "outputs": [],
   "source": [
    "#Changing type in 'zip' column (type)\n",
    "#df_car_age['zip_is'] = df_car_age['zip_is'].astype()\n",
    "#df_county_zip_region['zip'] = df_county_zip_region['zip'].astype(str)"
   ]
  },
  {
   "cell_type": "code",
   "execution_count": 20,
   "metadata": {},
   "outputs": [
    {
     "data": {
      "text/plain": [
       "<bound method NDFrame.head of                                            id             vin_ss  price_fs  \\\n",
       "0        026454b9-8f7f-4200-8a22-15505442b297  1GNKVLED4CJ261435     16342   \n",
       "1        07eaaaba-df00-4440-ad09-438a6ad2ec00  JTHBE5C20C5030562     21990   \n",
       "2        09dafb80-659c-41f7-92a1-4933e7dcbb2c  4T4BF1FK3CR169613     13990   \n",
       "3        09e6b3ab-d4aa-43a3-92db-8d18d37eac5c  JTEZU5JR9C5043244     21994   \n",
       "4        0a0b266c-eaca-437c-b097-cb8111c4c264  WBAKE5C57CJ106116     13495   \n",
       "5        0bb7c6b1-d9cd-4bd2-8ed5-3c61e4906246  1G1YV2DW7C5106668     38987   \n",
       "6        10ef4184-ef78-4f1d-a16d-7f415532e6da  1GCHSDFEXC8143776     13866   \n",
       "7        12db5fba-7543-491d-b651-b7acc129ee68  1C4PJMAK3CW120072     11325   \n",
       "8        179dcb75-4ef9-42bd-997f-d346237df0d3  2HGFG3B16CH536515     11398   \n",
       "9        18d1f72c-1400-4576-9d5d-47f43abebcc6  WBAUP7C59CVP22505     10990   \n",
       "10       18fe647e-0bcb-4b63-a43d-5f54cce7d161  2GKFLREK9C6216316     12999   \n",
       "11       197348da-0670-405a-9e07-80e9ba4aad36  JTHCL5EF5C5012844     22928   \n",
       "12       1a7e7662-a1b4-427d-81ba-fe78bfc4db21  1G1PD5SH9C7321171      8875   \n",
       "13       1b9f6cd9-0826-4ae6-b925-25ae9ef10010  5J6RM3H76CL040904     18152   \n",
       "14       1c743df4-513b-4d6f-81f4-4c58d7bc24ed  JTHCF5C23C5060057     15995   \n",
       "15       20e5d1db-4a8f-41bb-b4eb-7babe7f5f691  1C4BJWEG1CL274048     25160   \n",
       "16       213796e9-c34a-498d-bc3b-c39476a16aeb  2T3KF4DV1CW111631      9974   \n",
       "17       213fafa0-0725-4a12-9a35-249345a997df  JTHCL5EF9C5012605     26776   \n",
       "18       243a88e9-3372-428b-99fc-fe653769680f  1GNSCBE09CR166738     19457   \n",
       "19       2460f674-0310-4e02-aec9-4bab35ae892d  5FNYF4H52CB004128     18981   \n",
       "20       2643ec48-d7b2-42d5-b3e6-4379748981c7  5J6RM3H72CL009424     16986   \n",
       "21       28461565-099a-4720-8bb5-b0742b9d46aa  1HGCP3F87CA006708     13039   \n",
       "22       2b793856-b81d-4fe2-a4e9-6a97ccefd1d0  1N4AA5AP6CC803026     11995   \n",
       "23       2c98ad80-e463-4321-a21d-9ec8c4eee41e  1HGCP3F87CA019863     13975   \n",
       "24       2e5be228-4509-48b8-90c3-2cadd7587feb  1C4RJFAG6CC199237     12993   \n",
       "25       3d20b105-855c-4115-82df-bde8938f7744  1G1YW3DW5C5103996     41995   \n",
       "26       4463caa4-9684-4f07-98ac-a71db0bc883b  2GNFLNE5XC6318522     15999   \n",
       "27       489fb3de-abc9-438f-97f9-3ca7bbf10aba  2HGFG4A55CH700749     11998   \n",
       "28       490c048f-3d72-4a49-8f84-0f158905c38f  5FNYF4H49CB050224     15789   \n",
       "29       4d6d79f5-8754-4346-8994-1046c3499895  1GKKRTED9CJ388389     17999   \n",
       "...                                       ...                ...       ...   \n",
       "1175717  dedcc3ae-469f-471a-a764-bc542e145e83  1J4GW58SXXC635777      3900   \n",
       "1175718  4909be28-a77d-4eca-a974-517423e2c19a  1J4GW48SX4C182573      5900   \n",
       "1175719  4e79038d-2f79-4afd-81ef-f5fef559a5e0  5N1AA08A54N737116      5900   \n",
       "1175720  908d2d34-99ed-49f4-88df-8bf8297a843d  JTDDR32T140170695      6500   \n",
       "1175721  052dd130-9aa7-413c-bb8d-ab2320ad8c1a  WBABS53441JU86061      5995   \n",
       "1175722  c8a1ec48-dab7-4cbf-9d16-fef4c31f1b8d  2GTEK19T141305181      6999   \n",
       "1175723  3de03b05-7f46-432f-b231-92ec7e8b6e4b  5TESN92N01Z863695      7999   \n",
       "1175724  dcce8a8b-02cb-4fe4-a4a7-3d4fe93e1908  2FTRF17234CA75132      4500   \n",
       "1175725  0671af61-3dba-4be2-b4ab-e3c7ac644a8a  2HGFC2F55JH555492     18750   \n",
       "1175726  0852c49a-01df-45f2-9df5-e8b465898e0b  1FMJK1JT8JEA30408     52883   \n",
       "1175727  126abb06-5a8a-491a-9d88-c49f0b5dfcd7  1FTEX1EP7JFA35596     33488   \n",
       "1175728  02841100-aae2-4592-bdef-c1b05dd001c1  1FAFP33P81W229420      4977   \n",
       "1175729  47cbc9cc-6a82-4661-8207-167d2e83a122  1FAFP55U21A182591      2795   \n",
       "1175730  80dbfa10-5250-41b5-92e9-3e927eb793a8  JN1CA31A21T308115      2700   \n",
       "1175731  0736e57f-6c9d-4793-adc6-f6909e3d80da  1GTGC33R1WF036920      2995   \n",
       "1175732  71494c10-6ecf-4625-8623-74f1fb561148  1J4GZ78Y7VC634820      4995   \n",
       "1175733  811b9908-081e-4b49-91da-146592c505fb  WBABH8323VEY11912      5950   \n",
       "1175734  88a0eb75-d9e3-4952-8b79-0e48ffae8dda  1J4FY29P5VP411465     22995   \n",
       "1175735  896c4da1-8f05-4fdd-94a9-51957e0a14b6  1NXBB02E3VZ587317      2995   \n",
       "1175736  b83d1eed-de93-4797-99a2-3fdd034950dd  JT4TN12D4V0037015      6900   \n",
       "1175737  0617996b-33d6-4c4c-ba57-bc82bf4f0be0  1G1YY22P3S5112047      8900   \n",
       "1175738  88ab494b-ed4a-4466-a69f-3115b1bf5614  1G1YY32P3T5119426     12500   \n",
       "1175739  93281a1d-0635-424f-acbb-00095e7978aa  JT3GN86R4T0010298      3499   \n",
       "1175740  940a5eb5-f50a-4de1-9249-bd03aa0322a6  4USCH7325TLB75338      6995   \n",
       "1175741  20709496-827c-43a6-af39-df6b9b517225  JT6HF10U9X0010778      5995   \n",
       "1175742  caa4a457-825f-4d78-bffa-2978f1c69838  2GCEK19K1R1239763      7500   \n",
       "1175743  64d3a4cf-a209-4ce8-903a-4a2abd78c4bc  WBAEG1315NCB42717     28000   \n",
       "1175744  af216182-11f3-4af0-bc46-d186ceec168d  1G1YZ23J3L5802423     27500   \n",
       "1175745  7ed81b62-f3ae-422c-a148-b0dc5e9f28c5  1GNGC26K1PJ334642      3950   \n",
       "1175746  8f9377e7-0fdf-4a23-9e43-425fcd21afa1  1G1YY2384M5101942     10000   \n",
       "\n",
       "         miles_fs stock_no_ss  year_is    make_ss         model_ss  \\\n",
       "0           71233     P261435     2012  Chevrolet         Traverse   \n",
       "1           44637     180770A     2012      Lexus           IS 350   \n",
       "2           86122      762911     2012     Toyota            Camry   \n",
       "3           71624     3P1553A     2012     Toyota          4Runner   \n",
       "4           73000    XHC8610B     2012        BMW         3 Series   \n",
       "5           22000    C5106668     2012  Chevrolet         Corvette   \n",
       "6          122336    F111324B     2012  Chevrolet         Colorado   \n",
       "7           84809      XP5082     2012       Jeep          Liberty   \n",
       "8           63527    H405905A     2012      Honda            Civic   \n",
       "9          123602     171761A     2012        BMW         1 Series   \n",
       "10          75067     J26421A     2012        GMC          Terrain   \n",
       "11         100075     RX5138A     2012      Lexus           LS 460   \n",
       "12          99898       P9771     2012  Chevrolet            Cruze   \n",
       "13          46583      36260A     2012      Honda             CR-V   \n",
       "14          52749      NH9001     2012      Lexus           IS 250   \n",
       "15          88536      16386J     2012       Jeep         Wrangler   \n",
       "16         131634      51814A     2012     Toyota             RAV4   \n",
       "17          71525        4426     2012      Lexus           LS 460   \n",
       "18          99001    S181091A     2012  Chevrolet            Tahoe   \n",
       "19          78477    H181713B     2012      Honda            Pilot   \n",
       "20          82992       5633A     2012      Honda             CR-V   \n",
       "21          90139    A059610Q     2012      Honda           Accord   \n",
       "22          80345    K180445B     2012     Nissan           Maxima   \n",
       "23          42155      281231     2012      Honda           Accord   \n",
       "24         133415      H4350A     2012       Jeep   Grand Cherokee   \n",
       "25          25041     KAM0209     2012  Chevrolet         Corvette   \n",
       "26          70627    X6318522     2012  Chevrolet          Equinox   \n",
       "27          92081     31502A1     2012      Honda            Civic   \n",
       "28          96386     180923J     2012      Honda            Pilot   \n",
       "29          98198    T136823A     2012        GMC           Acadia   \n",
       "...           ...         ...      ...        ...              ...   \n",
       "1175717    167799        5777     1999       Jeep   Grand Cherokee   \n",
       "1175718    141296       10081     2004       Jeep   Grand Cherokee   \n",
       "1175719    187206       10009     2004     Nissan           Armada   \n",
       "1175720    101203     0170695     2004     Toyota           Celica   \n",
       "1175721    146792     JU86061     2001        BMW         3 Series   \n",
       "1175722    230881       10514     2004        GMC      Sierra 1500   \n",
       "1175723    179074       10566     2001     Toyota           Tacoma   \n",
       "1175724    160883       10046     2004       Ford   F-150 Heritage   \n",
       "1175725        35       25566     2018      Honda            Civic   \n",
       "1175726        10       4646S     2018       Ford       Expedition   \n",
       "1175727      2553        5350     2018       Ford            F-150   \n",
       "1175728     67589       U9109     2001       Ford            Focus   \n",
       "1175729    129450      182591     2001       Ford           Taurus   \n",
       "1175730    125300        1058     2001     Nissan           Maxima   \n",
       "1175731    158095        1110     1998        GMC  Sierra C/K 3500   \n",
       "1175732    177706      634820     1997       Jeep   Grand Cherokee   \n",
       "1175733    100361        C319     1997        BMW         3 Series   \n",
       "1175734    111431   97-411465     1997       Jeep         Wrangler   \n",
       "1175735    116964       10370     1997     Toyota          Corolla   \n",
       "1175736    181881       P2387     1997     Toyota             T100   \n",
       "1175737     72968     U112047     1995  Chevrolet         Corvette   \n",
       "1175738     64313     U119426     1996  Chevrolet         Corvette   \n",
       "1175739    183000        2669     1996     Toyota          4Runner   \n",
       "1175740     73327      B75338     1996        BMW               Z3   \n",
       "1175741    143720    X0010778     1999      Lexus           RX 300   \n",
       "1175742    158909      239763     1994  Chevrolet         C/K 1500   \n",
       "1175743     91956        3962     1992        BMW         8 Series   \n",
       "1175744     31241        2423     1990  Chevrolet         Corvette   \n",
       "1175745    211461      10896U     1993  Chevrolet         Suburban   \n",
       "1175746     12231        8755     1991  Chevrolet         Corvette   \n",
       "\n",
       "                          trim_ss vehicle_type_ss    ...     State short  \\\n",
       "0                             LTZ             SUV    ...              MO   \n",
       "1                            Base             Car    ...              MO   \n",
       "2                               L             Car    ...              MO   \n",
       "3                             SR5             SUV    ...              MO   \n",
       "4                            328i             Car    ...              MO   \n",
       "5                              GS             Car    ...              MO   \n",
       "6                             2LT           Truck    ...              MO   \n",
       "7                           Sport             SUV    ...              MO   \n",
       "8                            EX-L             Car    ...              MO   \n",
       "9                            128i             Car    ...              MO   \n",
       "10                          SLE-1             SUV    ...              MO   \n",
       "11                           Base             Car    ...              MO   \n",
       "12                             LS             Car    ...              MO   \n",
       "13                           EX-L             SUV    ...              MO   \n",
       "14                           Base             Car    ...              MO   \n",
       "15               Unlimited Sahara             SUV    ...              MO   \n",
       "16                           Base             SUV    ...              MO   \n",
       "17                           Base             Car    ...              MO   \n",
       "18                             LT             SUV    ...              MO   \n",
       "19                           EX-L             SUV    ...              MO   \n",
       "20                           EX-L             SUV    ...              MO   \n",
       "21                       EX-L V-6             Car    ...              MO   \n",
       "22                          3.5 S             Car    ...              MO   \n",
       "23                       EX-L V-6             Car    ...              MO   \n",
       "24                         Laredo             SUV    ...              MO   \n",
       "25                             GS             Car    ...              MO   \n",
       "26                             LT             SUV    ...              MO   \n",
       "27                             Si             Car    ...              MO   \n",
       "28                             EX             SUV    ...              MO   \n",
       "29                         Denali             SUV    ...              MO   \n",
       "...                           ...             ...    ...             ...   \n",
       "1175717                Laredo 4WD             SUV    ...              GA   \n",
       "1175718                    Laredo             SUV    ...              CO   \n",
       "1175719                        LE             SUV    ...              TX   \n",
       "1175720                        GT             Car    ...              GA   \n",
       "1175721                     330Ci             Car    ...              GA   \n",
       "1175722                       SLT           Truck    ...              FL   \n",
       "1175723              PreRunner V6           Truck    ...              FL   \n",
       "1175724                        XL           Truck    ...              AR   \n",
       "1175725                        LX             Car    ...              NY   \n",
       "1175726                   MAX XLT             SUV    ...              IA   \n",
       "1175727                       XLT           Truck    ...              IL   \n",
       "1175728                        LX             Car    ...              IN   \n",
       "1175729                       SES             Car    ...              MN   \n",
       "1175730                        SE             Car    ...              MA   \n",
       "1175731              Crew Cab 2WD           Truck    ...              MA   \n",
       "1175732               Limited 4WD             SUV    ...              CO   \n",
       "1175733                      318i             Car    ...              IN   \n",
       "1175734                        SE             SUV    ...              MA   \n",
       "1175735                        DX             Car    ...              WA   \n",
       "1175736                        DX           Truck    ...              CO   \n",
       "1175737                     Coupe             Car    ...              OH   \n",
       "1175738                      Base             Car    ...              OH   \n",
       "1175739                       SR5             SUV    ...              TX   \n",
       "1175740                       1.9             Car    ...              PA   \n",
       "1175741                       AWD             SUV    ...              CA   \n",
       "1175742  Ext. Cab 6.5-ft. Bed 4WD           Truck    ...              WI   \n",
       "1175743                      850i             Car    ...              NJ   \n",
       "1175744                       ZR1             Car    ...              TX   \n",
       "1175745                      2500             SUV    ...              TX   \n",
       "1175746                      Base             Car    ...              GA   \n",
       "\n",
       "        Per Capita income Median Household income  Median Family income  \\\n",
       "0             $35,143.00              $67,721.00            $83,110.00    \n",
       "1             $35,143.00              $67,721.00            $83,110.00    \n",
       "2             $35,143.00              $67,721.00            $83,110.00    \n",
       "3             $35,143.00              $67,721.00            $83,110.00    \n",
       "4             $35,143.00              $67,721.00            $83,110.00    \n",
       "5             $35,143.00              $67,721.00            $83,110.00    \n",
       "6             $35,143.00              $67,721.00            $83,110.00    \n",
       "7             $35,143.00              $67,721.00            $83,110.00    \n",
       "8             $35,143.00              $67,721.00            $83,110.00    \n",
       "9             $35,143.00              $67,721.00            $83,110.00    \n",
       "10            $35,143.00              $67,721.00            $83,110.00    \n",
       "11            $35,143.00              $67,721.00            $83,110.00    \n",
       "12            $35,143.00              $67,721.00            $83,110.00    \n",
       "13            $35,143.00              $67,721.00            $83,110.00    \n",
       "14            $35,143.00              $67,721.00            $83,110.00    \n",
       "15            $35,143.00              $67,721.00            $83,110.00    \n",
       "16            $35,143.00              $67,721.00            $83,110.00    \n",
       "17            $35,143.00              $67,721.00            $83,110.00    \n",
       "18            $35,143.00              $67,721.00            $83,110.00    \n",
       "19            $35,143.00              $67,721.00            $83,110.00    \n",
       "20            $35,143.00              $67,721.00            $83,110.00    \n",
       "21            $35,143.00              $67,721.00            $83,110.00    \n",
       "22            $35,143.00              $67,721.00            $83,110.00    \n",
       "23            $35,143.00              $67,721.00            $83,110.00    \n",
       "24            $35,143.00              $67,721.00            $83,110.00    \n",
       "25            $35,143.00              $67,721.00            $83,110.00    \n",
       "26            $35,143.00              $67,721.00            $83,110.00    \n",
       "27            $35,143.00              $67,721.00            $83,110.00    \n",
       "28            $35,143.00              $67,721.00            $83,110.00    \n",
       "29            $35,143.00              $67,721.00            $83,110.00    \n",
       "...                   ...                     ...                   ...   \n",
       "1175717       $18,114.00              $37,292.00            $50,116.00    \n",
       "1175718       $29,793.00              $48,933.00            $58,222.00    \n",
       "1175719       $26,816.00              $49,481.00            $55,113.00    \n",
       "1175720       $36,757.00              $56,857.00            $75,658.00    \n",
       "1175721       $36,757.00              $56,857.00            $75,658.00    \n",
       "1175722       $27,322.00              $47,876.00            $58,263.00    \n",
       "1175723       $27,322.00              $47,876.00            $58,263.00    \n",
       "1175724       $20,636.00              $41,319.00            $51,790.00    \n",
       "1175725       $47,984.00              $81,946.00           $105,341.00    \n",
       "1175726       $25,430.00              $48,361.00            $64,495.00    \n",
       "1175727       $26,234.00              $50,578.00            $63,373.00    \n",
       "1175728       $23,666.00              $51,444.00            $60,995.00    \n",
       "1175729       $29,484.00              $54,247.00            $71,206.00    \n",
       "1175730       $35,167.00              $67,311.00            $84,185.00    \n",
       "1175731       $35,167.00              $67,311.00            $84,185.00    \n",
       "1175732       $36,087.00              $68,984.00            $84,957.00    \n",
       "1175733       $24,124.00              $42,334.00            $52,417.00    \n",
       "1175734       $42,861.00              $82,090.00           $104,032.00    \n",
       "1175735       $21,986.00              $41,742.00            $52,410.00    \n",
       "1175736       $28,867.00              $57,125.00            $70,728.00    \n",
       "1175737       $28,283.00              $50,877.00            $64,693.00    \n",
       "1175738       $28,283.00              $50,877.00            $64,693.00    \n",
       "1175739       $24,253.00              $50,112.00            $58,289.00    \n",
       "1175740       $26,723.00              $55,170.00            $67,138.00    \n",
       "1175741       $27,749.00              $55,909.00            $62,237.00    \n",
       "1175742       $25,625.00              $53,454.00            $67,058.00    \n",
       "1175743       $47,803.00              $99,020.00           $117,393.00    \n",
       "1175744       $27,899.00              $53,137.00            $60,594.00    \n",
       "1175745       $20,181.00              $34,131.00            $40,917.00    \n",
       "1175746       $18,558.00              $33,757.00            $48,115.00    \n",
       "\n",
       "        Population  Number of households     State full States Short  \\\n",
       "0            90842                 36781       Missouri           MO   \n",
       "1            90842                 36781       Missouri           MO   \n",
       "2            90842                 36781       Missouri           MO   \n",
       "3            90842                 36781       Missouri           MO   \n",
       "4            90842                 36781       Missouri           MO   \n",
       "5            90842                 36781       Missouri           MO   \n",
       "6            90842                 36781       Missouri           MO   \n",
       "7            90842                 36781       Missouri           MO   \n",
       "8            90842                 36781       Missouri           MO   \n",
       "9            90842                 36781       Missouri           MO   \n",
       "10           90842                 36781       Missouri           MO   \n",
       "11           90842                 36781       Missouri           MO   \n",
       "12           90842                 36781       Missouri           MO   \n",
       "13           90842                 36781       Missouri           MO   \n",
       "14           90842                 36781       Missouri           MO   \n",
       "15           90842                 36781       Missouri           MO   \n",
       "16           90842                 36781       Missouri           MO   \n",
       "17           90842                 36781       Missouri           MO   \n",
       "18           90842                 36781       Missouri           MO   \n",
       "19           90842                 36781       Missouri           MO   \n",
       "20           90842                 36781       Missouri           MO   \n",
       "21           90842                 36781       Missouri           MO   \n",
       "22           90842                 36781       Missouri           MO   \n",
       "23           90842                 36781       Missouri           MO   \n",
       "24           90842                 36781       Missouri           MO   \n",
       "25           90842                 36781       Missouri           MO   \n",
       "26           90842                 36781       Missouri           MO   \n",
       "27           90842                 36781       Missouri           MO   \n",
       "28           90842                 36781       Missouri           MO   \n",
       "29           90842                 36781       Missouri           MO   \n",
       "...            ...                   ...            ...          ...   \n",
       "1175717      21502                  8186        Georgia           GA   \n",
       "1175718      12109                  4881       Colorado           CO   \n",
       "1175719    2412481                858332          Texas           TX   \n",
       "1175720     948554                368184        Georgia           GA   \n",
       "1175721     948554                368184        Georgia           GA   \n",
       "1175722     329487                131197        Florida           FL   \n",
       "1175723     329487                131197        Florida           FL   \n",
       "1175724      43515                 16950       Arkansas           AR   \n",
       "1175725     956283                343561       New York           NY   \n",
       "1175726      20732                  8626           Iowa           IA   \n",
       "1175727     268939                102885       Illinois           IL   \n",
       "1175728      24542                  9541        Indiana           IN   \n",
       "1175729     515732                205395      Minnesota           MN   \n",
       "1175730     750808                286008  Massachusetts           MA   \n",
       "1175731     750808                286008  Massachusetts           MA   \n",
       "1175732     540669                219562       Colorado           CO   \n",
       "1175733     912242                360072        Indiana           IN   \n",
       "1175734    1522533                581120  Massachusetts           MA   \n",
       "1175735      43513                 17684     Washington           WA   \n",
       "1175736     634423                237039       Colorado           CO   \n",
       "1175737    1181824                468295           Ohio           OH   \n",
       "1175738    1181824                468295           Ohio           OH   \n",
       "1175739    1753238                604698          Texas           TX   \n",
       "1175740     412078                153897   Pennsylvania           PA   \n",
       "1175741    9893481               3230383     California           CA   \n",
       "1175742      83985                 32137      Wisconsin           WI   \n",
       "1175743     326207                115531     New Jersey           NJ   \n",
       "1175744    4182285               1434694          Texas           TX   \n",
       "1175745      11740                  3901          Texas           TX   \n",
       "1175746      11159                  4036        Georgia           GA   \n",
       "\n",
       "                States    Regions  \n",
       "0             Missouri    MidWest  \n",
       "1             Missouri    MidWest  \n",
       "2             Missouri    MidWest  \n",
       "3             Missouri    MidWest  \n",
       "4             Missouri    MidWest  \n",
       "5             Missouri    MidWest  \n",
       "6             Missouri    MidWest  \n",
       "7             Missouri    MidWest  \n",
       "8             Missouri    MidWest  \n",
       "9             Missouri    MidWest  \n",
       "10            Missouri    MidWest  \n",
       "11            Missouri    MidWest  \n",
       "12            Missouri    MidWest  \n",
       "13            Missouri    MidWest  \n",
       "14            Missouri    MidWest  \n",
       "15            Missouri    MidWest  \n",
       "16            Missouri    MidWest  \n",
       "17            Missouri    MidWest  \n",
       "18            Missouri    MidWest  \n",
       "19            Missouri    MidWest  \n",
       "20            Missouri    MidWest  \n",
       "21            Missouri    MidWest  \n",
       "22            Missouri    MidWest  \n",
       "23            Missouri    MidWest  \n",
       "24            Missouri    MidWest  \n",
       "25            Missouri    MidWest  \n",
       "26            Missouri    MidWest  \n",
       "27            Missouri    MidWest  \n",
       "28            Missouri    MidWest  \n",
       "29            Missouri    MidWest  \n",
       "...                ...        ...  \n",
       "1175717        Georgia      South  \n",
       "1175718       Colorado       West  \n",
       "1175719          Texas      South  \n",
       "1175720        Georgia      South  \n",
       "1175721        Georgia      South  \n",
       "1175722        Florida      South  \n",
       "1175723        Florida      South  \n",
       "1175724       Arkansas      South  \n",
       "1175725       New York  NorthEast  \n",
       "1175726           Iowa    MidWest  \n",
       "1175727       Illinois    MidWest  \n",
       "1175728        Indiana    MidWest  \n",
       "1175729      Minnesota    MidWest  \n",
       "1175730  Massachusetts  NorthEast  \n",
       "1175731  Massachusetts  NorthEast  \n",
       "1175732       Colorado       West  \n",
       "1175733        Indiana    MidWest  \n",
       "1175734  Massachusetts  NorthEast  \n",
       "1175735     Washington       West  \n",
       "1175736       Colorado       West  \n",
       "1175737           Ohio    MidWest  \n",
       "1175738           Ohio    MidWest  \n",
       "1175739          Texas      South  \n",
       "1175740   Pennsylvania  NorthEast  \n",
       "1175741     California       West  \n",
       "1175742      Wisconsin    MidWest  \n",
       "1175743     New Jersey  NorthEast  \n",
       "1175744          Texas      South  \n",
       "1175745          Texas      South  \n",
       "1175746        Georgia      South  \n",
       "\n",
       "[1175747 rows x 55 columns]>"
      ]
     },
     "execution_count": 20,
     "metadata": {},
     "output_type": "execute_result"
    }
   ],
   "source": [
    "#Inner Join: Final\n",
    "#df_top10 = pd.merge(df_top10, df_county_zip_region, how='inner', left_on='zip_is', right_on='zip')\n",
    "#df_top10.head"
   ]
  },
  {
   "cell_type": "code",
   "execution_count": 11,
   "metadata": {},
   "outputs": [
    {
     "data": {
      "text/plain": [
       "(1174326, 49)"
      ]
     },
     "execution_count": 11,
     "metadata": {},
     "output_type": "execute_result"
    }
   ],
   "source": [
    "df_top10.shape"
   ]
  },
  {
   "cell_type": "code",
   "execution_count": 22,
   "metadata": {},
   "outputs": [
    {
     "data": {
      "text/plain": [
       "id                               0\n",
       "vin_ss                           0\n",
       "price_fs                         0\n",
       "miles_fs                         0\n",
       "stock_no_ss                      0\n",
       "year_is                          0\n",
       "make_ss                          0\n",
       "model_ss                         0\n",
       "trim_ss                          0\n",
       "vehicle_type_ss                  0\n",
       "body_type_ss                     0\n",
       "drivetrain_ss                    0\n",
       "engine_ss                        0\n",
       "engine_size_ss                   0\n",
       "transmission_ss                  0\n",
       "doors_is                         0\n",
       "cylinders_is                     0\n",
       "interior_color_ss                0\n",
       "exterior_color_ss                0\n",
       "zip_is                           0\n",
       "dom_is                           0\n",
       "dom_180_is                       0\n",
       "msrp_fs                          0\n",
       "dom_active_is                    0\n",
       "is_certified_is                  0\n",
       "fuel_type_ss                     0\n",
       "scraped_at_dts                   0\n",
       "status_date_dts                  0\n",
       "city_ss                          0\n",
       "state_ss                         0\n",
       "YEAR                             0\n",
       "AGE                              0\n",
       "zip                              0\n",
       "type                             0\n",
       "decommissioned                   0\n",
       "primary_city                     0\n",
       "state                            0\n",
       "county                           0\n",
       "timezone                         0\n",
       "latitude                         0\n",
       "longitude                        0\n",
       "irs_estimated_population_2015    0\n",
       "county full                      0\n",
       "Rank                             0\n",
       "County                           0\n",
       "State short                      0\n",
       "Per Capita income                0\n",
       "Median Household income          0\n",
       "Median Family income             0\n",
       "Population                       0\n",
       "Number of households             0\n",
       "State full                       0\n",
       "States Short                     0\n",
       "States                           0\n",
       "Regions                          0\n",
       "dtype: int64"
      ]
     },
     "execution_count": 22,
     "metadata": {},
     "output_type": "execute_result"
    }
   ],
   "source": [
    "df_top10.isnull().sum()"
   ]
  },
  {
   "cell_type": "code",
   "execution_count": 23,
   "metadata": {},
   "outputs": [
    {
     "data": {
      "text/html": [
       "<div>\n",
       "<style scoped>\n",
       "    .dataframe tbody tr th:only-of-type {\n",
       "        vertical-align: middle;\n",
       "    }\n",
       "\n",
       "    .dataframe tbody tr th {\n",
       "        vertical-align: top;\n",
       "    }\n",
       "\n",
       "    .dataframe thead th {\n",
       "        text-align: right;\n",
       "    }\n",
       "</style>\n",
       "<table border=\"1\" class=\"dataframe\">\n",
       "  <thead>\n",
       "    <tr style=\"text-align: right;\">\n",
       "      <th></th>\n",
       "      <th>id</th>\n",
       "      <th>vin_ss</th>\n",
       "      <th>price_fs</th>\n",
       "      <th>miles_fs</th>\n",
       "      <th>stock_no_ss</th>\n",
       "      <th>year_is</th>\n",
       "      <th>make_ss</th>\n",
       "      <th>model_ss</th>\n",
       "      <th>trim_ss</th>\n",
       "      <th>vehicle_type_ss</th>\n",
       "      <th>...</th>\n",
       "      <th>State short</th>\n",
       "      <th>Per Capita income</th>\n",
       "      <th>Median Household income</th>\n",
       "      <th>Median Family income</th>\n",
       "      <th>Population</th>\n",
       "      <th>Number of households</th>\n",
       "      <th>State full</th>\n",
       "      <th>States Short</th>\n",
       "      <th>States</th>\n",
       "      <th>Regions</th>\n",
       "    </tr>\n",
       "  </thead>\n",
       "  <tbody>\n",
       "    <tr>\n",
       "      <th>0</th>\n",
       "      <td>026454b9-8f7f-4200-8a22-15505442b297</td>\n",
       "      <td>1GNKVLED4CJ261435</td>\n",
       "      <td>16342</td>\n",
       "      <td>71233</td>\n",
       "      <td>P261435</td>\n",
       "      <td>2012</td>\n",
       "      <td>Chevrolet</td>\n",
       "      <td>Traverse</td>\n",
       "      <td>LTZ</td>\n",
       "      <td>SUV</td>\n",
       "      <td>...</td>\n",
       "      <td>MO</td>\n",
       "      <td>$35,143.00</td>\n",
       "      <td>$67,721.00</td>\n",
       "      <td>$83,110.00</td>\n",
       "      <td>90842</td>\n",
       "      <td>36781</td>\n",
       "      <td>Missouri</td>\n",
       "      <td>MO</td>\n",
       "      <td>Missouri</td>\n",
       "      <td>MidWest</td>\n",
       "    </tr>\n",
       "    <tr>\n",
       "      <th>1</th>\n",
       "      <td>07eaaaba-df00-4440-ad09-438a6ad2ec00</td>\n",
       "      <td>JTHBE5C20C5030562</td>\n",
       "      <td>21990</td>\n",
       "      <td>44637</td>\n",
       "      <td>180770A</td>\n",
       "      <td>2012</td>\n",
       "      <td>Lexus</td>\n",
       "      <td>IS 350</td>\n",
       "      <td>Base</td>\n",
       "      <td>Car</td>\n",
       "      <td>...</td>\n",
       "      <td>MO</td>\n",
       "      <td>$35,143.00</td>\n",
       "      <td>$67,721.00</td>\n",
       "      <td>$83,110.00</td>\n",
       "      <td>90842</td>\n",
       "      <td>36781</td>\n",
       "      <td>Missouri</td>\n",
       "      <td>MO</td>\n",
       "      <td>Missouri</td>\n",
       "      <td>MidWest</td>\n",
       "    </tr>\n",
       "    <tr>\n",
       "      <th>2</th>\n",
       "      <td>09dafb80-659c-41f7-92a1-4933e7dcbb2c</td>\n",
       "      <td>4T4BF1FK3CR169613</td>\n",
       "      <td>13990</td>\n",
       "      <td>86122</td>\n",
       "      <td>762911</td>\n",
       "      <td>2012</td>\n",
       "      <td>Toyota</td>\n",
       "      <td>Camry</td>\n",
       "      <td>L</td>\n",
       "      <td>Car</td>\n",
       "      <td>...</td>\n",
       "      <td>MO</td>\n",
       "      <td>$35,143.00</td>\n",
       "      <td>$67,721.00</td>\n",
       "      <td>$83,110.00</td>\n",
       "      <td>90842</td>\n",
       "      <td>36781</td>\n",
       "      <td>Missouri</td>\n",
       "      <td>MO</td>\n",
       "      <td>Missouri</td>\n",
       "      <td>MidWest</td>\n",
       "    </tr>\n",
       "    <tr>\n",
       "      <th>3</th>\n",
       "      <td>09e6b3ab-d4aa-43a3-92db-8d18d37eac5c</td>\n",
       "      <td>JTEZU5JR9C5043244</td>\n",
       "      <td>21994</td>\n",
       "      <td>71624</td>\n",
       "      <td>3P1553A</td>\n",
       "      <td>2012</td>\n",
       "      <td>Toyota</td>\n",
       "      <td>4Runner</td>\n",
       "      <td>SR5</td>\n",
       "      <td>SUV</td>\n",
       "      <td>...</td>\n",
       "      <td>MO</td>\n",
       "      <td>$35,143.00</td>\n",
       "      <td>$67,721.00</td>\n",
       "      <td>$83,110.00</td>\n",
       "      <td>90842</td>\n",
       "      <td>36781</td>\n",
       "      <td>Missouri</td>\n",
       "      <td>MO</td>\n",
       "      <td>Missouri</td>\n",
       "      <td>MidWest</td>\n",
       "    </tr>\n",
       "    <tr>\n",
       "      <th>4</th>\n",
       "      <td>0a0b266c-eaca-437c-b097-cb8111c4c264</td>\n",
       "      <td>WBAKE5C57CJ106116</td>\n",
       "      <td>13495</td>\n",
       "      <td>73000</td>\n",
       "      <td>XHC8610B</td>\n",
       "      <td>2012</td>\n",
       "      <td>BMW</td>\n",
       "      <td>3 Series</td>\n",
       "      <td>328i</td>\n",
       "      <td>Car</td>\n",
       "      <td>...</td>\n",
       "      <td>MO</td>\n",
       "      <td>$35,143.00</td>\n",
       "      <td>$67,721.00</td>\n",
       "      <td>$83,110.00</td>\n",
       "      <td>90842</td>\n",
       "      <td>36781</td>\n",
       "      <td>Missouri</td>\n",
       "      <td>MO</td>\n",
       "      <td>Missouri</td>\n",
       "      <td>MidWest</td>\n",
       "    </tr>\n",
       "  </tbody>\n",
       "</table>\n",
       "<p>5 rows × 55 columns</p>\n",
       "</div>"
      ],
      "text/plain": [
       "                                     id             vin_ss  price_fs  \\\n",
       "0  026454b9-8f7f-4200-8a22-15505442b297  1GNKVLED4CJ261435     16342   \n",
       "1  07eaaaba-df00-4440-ad09-438a6ad2ec00  JTHBE5C20C5030562     21990   \n",
       "2  09dafb80-659c-41f7-92a1-4933e7dcbb2c  4T4BF1FK3CR169613     13990   \n",
       "3  09e6b3ab-d4aa-43a3-92db-8d18d37eac5c  JTEZU5JR9C5043244     21994   \n",
       "4  0a0b266c-eaca-437c-b097-cb8111c4c264  WBAKE5C57CJ106116     13495   \n",
       "\n",
       "   miles_fs stock_no_ss  year_is    make_ss  model_ss trim_ss vehicle_type_ss  \\\n",
       "0     71233     P261435     2012  Chevrolet  Traverse     LTZ             SUV   \n",
       "1     44637     180770A     2012      Lexus    IS 350    Base             Car   \n",
       "2     86122      762911     2012     Toyota     Camry       L             Car   \n",
       "3     71624     3P1553A     2012     Toyota   4Runner     SR5             SUV   \n",
       "4     73000    XHC8610B     2012        BMW  3 Series    328i             Car   \n",
       "\n",
       "    ...    State short Per Capita income Median Household income  \\\n",
       "0   ...             MO       $35,143.00              $67,721.00    \n",
       "1   ...             MO       $35,143.00              $67,721.00    \n",
       "2   ...             MO       $35,143.00              $67,721.00    \n",
       "3   ...             MO       $35,143.00              $67,721.00    \n",
       "4   ...             MO       $35,143.00              $67,721.00    \n",
       "\n",
       "   Median Family income Population  Number of households  State full  \\\n",
       "0           $83,110.00       90842                 36781    Missouri   \n",
       "1           $83,110.00       90842                 36781    Missouri   \n",
       "2           $83,110.00       90842                 36781    Missouri   \n",
       "3           $83,110.00       90842                 36781    Missouri   \n",
       "4           $83,110.00       90842                 36781    Missouri   \n",
       "\n",
       "  States Short    States  Regions  \n",
       "0           MO  Missouri  MidWest  \n",
       "1           MO  Missouri  MidWest  \n",
       "2           MO  Missouri  MidWest  \n",
       "3           MO  Missouri  MidWest  \n",
       "4           MO  Missouri  MidWest  \n",
       "\n",
       "[5 rows x 55 columns]"
      ]
     },
     "execution_count": 23,
     "metadata": {},
     "output_type": "execute_result"
    }
   ],
   "source": [
    "df_top10.head()"
   ]
  },
  {
   "cell_type": "code",
   "execution_count": 15,
   "metadata": {},
   "outputs": [],
   "source": [
    "df_top10 = df_top10[['price_fs', 'miles_fs', 'year_is', 'make_ss', 'model_ss', 'trim_ss', \n",
    "       'engine_size_ss',  'cylinders_is', 'interior_color_ss', \n",
    "       'exterior_color_ss', 'zip', 'msrp_fs', 'is_certified_is', 'fuel_type_ss', 'state_ss', \n",
    "                     'AGE', 'Regions', 'Population', 'Median Family income']]"
   ]
  },
  {
   "cell_type": "code",
   "execution_count": 16,
   "metadata": {},
   "outputs": [
    {
     "data": {
      "text/html": [
       "<div>\n",
       "<style scoped>\n",
       "    .dataframe tbody tr th:only-of-type {\n",
       "        vertical-align: middle;\n",
       "    }\n",
       "\n",
       "    .dataframe tbody tr th {\n",
       "        vertical-align: top;\n",
       "    }\n",
       "\n",
       "    .dataframe thead th {\n",
       "        text-align: right;\n",
       "    }\n",
       "</style>\n",
       "<table border=\"1\" class=\"dataframe\">\n",
       "  <thead>\n",
       "    <tr style=\"text-align: right;\">\n",
       "      <th></th>\n",
       "      <th>price_fs</th>\n",
       "      <th>miles_fs</th>\n",
       "      <th>year_is</th>\n",
       "      <th>make_ss</th>\n",
       "      <th>model_ss</th>\n",
       "      <th>trim_ss</th>\n",
       "      <th>engine_size_ss</th>\n",
       "      <th>cylinders_is</th>\n",
       "      <th>interior_color_ss</th>\n",
       "      <th>exterior_color_ss</th>\n",
       "      <th>zip</th>\n",
       "      <th>msrp_fs</th>\n",
       "      <th>is_certified_is</th>\n",
       "      <th>fuel_type_ss</th>\n",
       "      <th>state_ss</th>\n",
       "      <th>AGE</th>\n",
       "      <th>Regions</th>\n",
       "      <th>Population</th>\n",
       "      <th>Median Family income</th>\n",
       "    </tr>\n",
       "  </thead>\n",
       "  <tbody>\n",
       "    <tr>\n",
       "      <th>0</th>\n",
       "      <td>16342</td>\n",
       "      <td>71233</td>\n",
       "      <td>2012</td>\n",
       "      <td>Chevrolet</td>\n",
       "      <td>Traverse</td>\n",
       "      <td>LTZ</td>\n",
       "      <td>3.600</td>\n",
       "      <td>6</td>\n",
       "      <td>Cashmere/ebony</td>\n",
       "      <td>Silver Ice Metallic</td>\n",
       "      <td>64153</td>\n",
       "      <td>16342</td>\n",
       "      <td>0</td>\n",
       "      <td>Regular Unleaded</td>\n",
       "      <td>MO</td>\n",
       "      <td>7</td>\n",
       "      <td>MidWest</td>\n",
       "      <td>90842</td>\n",
       "      <td>$83,110.00</td>\n",
       "    </tr>\n",
       "    <tr>\n",
       "      <th>2</th>\n",
       "      <td>21990</td>\n",
       "      <td>44637</td>\n",
       "      <td>2012</td>\n",
       "      <td>Lexus</td>\n",
       "      <td>IS 350</td>\n",
       "      <td>Base</td>\n",
       "      <td>3.500</td>\n",
       "      <td>6</td>\n",
       "      <td>Light Gray</td>\n",
       "      <td>Nebula Gray Pearl</td>\n",
       "      <td>64153</td>\n",
       "      <td>21990</td>\n",
       "      <td>1</td>\n",
       "      <td>Premium Unleaded</td>\n",
       "      <td>MO</td>\n",
       "      <td>7</td>\n",
       "      <td>MidWest</td>\n",
       "      <td>90842</td>\n",
       "      <td>$83,110.00</td>\n",
       "    </tr>\n",
       "    <tr>\n",
       "      <th>4</th>\n",
       "      <td>13990</td>\n",
       "      <td>86122</td>\n",
       "      <td>2012</td>\n",
       "      <td>Toyota</td>\n",
       "      <td>Camry</td>\n",
       "      <td>L</td>\n",
       "      <td>2.500</td>\n",
       "      <td>4</td>\n",
       "      <td>Ash</td>\n",
       "      <td>Attitude Black Metallic</td>\n",
       "      <td>64153</td>\n",
       "      <td>13990</td>\n",
       "      <td>0</td>\n",
       "      <td>Regular Unleaded</td>\n",
       "      <td>MO</td>\n",
       "      <td>7</td>\n",
       "      <td>MidWest</td>\n",
       "      <td>90842</td>\n",
       "      <td>$83,110.00</td>\n",
       "    </tr>\n",
       "    <tr>\n",
       "      <th>5</th>\n",
       "      <td>21994</td>\n",
       "      <td>71624</td>\n",
       "      <td>2012</td>\n",
       "      <td>Toyota</td>\n",
       "      <td>4Runner</td>\n",
       "      <td>SR5</td>\n",
       "      <td>4.000</td>\n",
       "      <td>6</td>\n",
       "      <td>Black/graphite</td>\n",
       "      <td>Classic Silver Metallic</td>\n",
       "      <td>64153</td>\n",
       "      <td>21994</td>\n",
       "      <td>0</td>\n",
       "      <td>Regular Unleaded</td>\n",
       "      <td>MO</td>\n",
       "      <td>7</td>\n",
       "      <td>MidWest</td>\n",
       "      <td>90842</td>\n",
       "      <td>$83,110.00</td>\n",
       "    </tr>\n",
       "    <tr>\n",
       "      <th>6</th>\n",
       "      <td>13495</td>\n",
       "      <td>73000</td>\n",
       "      <td>2012</td>\n",
       "      <td>BMW</td>\n",
       "      <td>3 Series</td>\n",
       "      <td>328i</td>\n",
       "      <td>3.000</td>\n",
       "      <td>6</td>\n",
       "      <td>Black</td>\n",
       "      <td>Alpine White</td>\n",
       "      <td>64153</td>\n",
       "      <td>13495</td>\n",
       "      <td>0</td>\n",
       "      <td>Premium Unleaded</td>\n",
       "      <td>MO</td>\n",
       "      <td>7</td>\n",
       "      <td>MidWest</td>\n",
       "      <td>90842</td>\n",
       "      <td>$83,110.00</td>\n",
       "    </tr>\n",
       "  </tbody>\n",
       "</table>\n",
       "</div>"
      ],
      "text/plain": [
       "   price_fs  miles_fs  year_is    make_ss  model_ss trim_ss  engine_size_ss  \\\n",
       "0     16342     71233     2012  Chevrolet  Traverse     LTZ           3.600   \n",
       "2     21990     44637     2012      Lexus    IS 350    Base           3.500   \n",
       "4     13990     86122     2012     Toyota     Camry       L           2.500   \n",
       "5     21994     71624     2012     Toyota   4Runner     SR5           4.000   \n",
       "6     13495     73000     2012        BMW  3 Series    328i           3.000   \n",
       "\n",
       "   cylinders_is interior_color_ss        exterior_color_ss    zip  msrp_fs  \\\n",
       "0             6    Cashmere/ebony      Silver Ice Metallic  64153    16342   \n",
       "2             6        Light Gray        Nebula Gray Pearl  64153    21990   \n",
       "4             4               Ash  Attitude Black Metallic  64153    13990   \n",
       "5             6    Black/graphite  Classic Silver Metallic  64153    21994   \n",
       "6             6             Black             Alpine White  64153    13495   \n",
       "\n",
       "   is_certified_is      fuel_type_ss state_ss  AGE  Regions  Population  \\\n",
       "0                0  Regular Unleaded       MO    7  MidWest       90842   \n",
       "2                1  Premium Unleaded       MO    7  MidWest       90842   \n",
       "4                0  Regular Unleaded       MO    7  MidWest       90842   \n",
       "5                0  Regular Unleaded       MO    7  MidWest       90842   \n",
       "6                0  Premium Unleaded       MO    7  MidWest       90842   \n",
       "\n",
       "  Median Family income  \n",
       "0           $83,110.00  \n",
       "2           $83,110.00  \n",
       "4           $83,110.00  \n",
       "5           $83,110.00  \n",
       "6           $83,110.00  "
      ]
     },
     "execution_count": 16,
     "metadata": {},
     "output_type": "execute_result"
    }
   ],
   "source": [
    "df_top10.head()"
   ]
  },
  {
   "cell_type": "markdown",
   "metadata": {},
   "source": [
    "# Data Cleansing\n",
    "Removed duplicates "
   ]
  },
  {
   "cell_type": "code",
   "execution_count": 18,
   "metadata": {},
   "outputs": [],
   "source": [
    "dedups = df_top10.drop_duplicates(['price_fs', 'miles_fs', 'year_is', 'make_ss', 'model_ss', 'trim_ss', \n",
    "       'engine_size_ss',  'cylinders_is', 'interior_color_ss', \n",
    "       'exterior_color_ss', 'zip', 'msrp_fs', 'is_certified_is', 'fuel_type_ss', 'state_ss', \n",
    "                     'AGE', 'Regions', 'Population', 'Median Family income'])"
   ]
  },
  {
   "cell_type": "code",
   "execution_count": 19,
   "metadata": {},
   "outputs": [
    {
     "name": "stdout",
     "output_type": "stream",
     "text": [
      "(975320, 19)\n"
     ]
    }
   ],
   "source": [
    "print(dedups.shape)"
   ]
  },
  {
   "cell_type": "code",
   "execution_count": 27,
   "metadata": {},
   "outputs": [],
   "source": [
    "expcars = (dedups['price_fs'] > 5000) & (dedups['price_fs'] < 70000) "
   ]
  },
  {
   "cell_type": "code",
   "execution_count": 28,
   "metadata": {},
   "outputs": [],
   "source": [
    "dedups = dedups[expcars]"
   ]
  },
  {
   "cell_type": "code",
   "execution_count": 29,
   "metadata": {},
   "outputs": [
    {
     "name": "stdout",
     "output_type": "stream",
     "text": [
      "(946670, 19)\n"
     ]
    }
   ],
   "source": [
    "print(dedups.shape)"
   ]
  },
  {
   "cell_type": "markdown",
   "metadata": {},
   "source": [
    "# Data Visualization\n",
    "Performed exploratory data analysis to better understand how data is distributed"
   ]
  },
  {
   "cell_type": "markdown",
   "metadata": {},
   "source": [
    "Most Popular used car makes are Chevrolet and Ford"
   ]
  },
  {
   "cell_type": "code",
   "execution_count": 33,
   "metadata": {},
   "outputs": [
    {
     "data": {
      "text/plain": [
       "<matplotlib.axes._subplots.AxesSubplot at 0x207985bbc18>"
      ]
     },
     "execution_count": 33,
     "metadata": {},
     "output_type": "execute_result"
    },
    {
     "data": {
      "image/png": "[encoded data removed]",
      "text/plain": [
       "<Figure size 720x720 with 1 Axes>"
      ]
     },
     "metadata": {},
     "output_type": "display_data"
    }
   ],
   "source": [
    "dedups['make_ss'].value_counts().plot(kind='bar', figsize=(10,10))"
   ]
  },
  {
   "cell_type": "markdown",
   "metadata": {},
   "source": [
    "Newer cars are more expensive than older cars. Expected."
   ]
  },
  {
   "cell_type": "code",
   "execution_count": 32,
   "metadata": {},
   "outputs": [
    {
     "data": {
      "text/plain": [
       "<matplotlib.axes._subplots.AxesSubplot at 0x2079855b6d8>"
      ]
     },
     "execution_count": 32,
     "metadata": {},
     "output_type": "execute_result"
    },
    {
     "data": {
      "image/png": "[encoded data removed]",
      "text/plain": [
       "<Figure size 720x720 with 1 Axes>"
      ]
     },
     "metadata": {},
     "output_type": "display_data"
    }
   ],
   "source": [
    "dedups.plot(x='price_fs', y='year_is', style='o', figsize=(10,10))"
   ]
  },
  {
   "cell_type": "markdown",
   "metadata": {},
   "source": [
    "Range and median prices per car type"
   ]
  },
  {
   "cell_type": "code",
   "execution_count": 33,
   "metadata": {},
   "outputs": [
    {
     "data": {
      "text/plain": [
       "<matplotlib.axes._subplots.AxesSubplot at 0x206b785da58>"
      ]
     },
     "execution_count": 33,
     "metadata": {},
     "output_type": "execute_result"
    },
    {
     "data": {
      "image/png": "[encoded data removed]",
      "text/plain": [
       "<Figure size 720x720 with 1 Axes>"
      ]
     },
     "metadata": {},
     "output_type": "display_data"
    }
   ],
   "source": [
    "dedups.boxplot(column=\"price_fs\", by=\"make_ss\", figsize=(10,10), showfliers=False)"
   ]
  },
  {
   "cell_type": "markdown",
   "metadata": {},
   "source": [
    "Distribution among the various categorical features"
   ]
  },
  {
   "cell_type": "code",
   "execution_count": 35,
   "metadata": {
    "scrolled": false
   },
   "outputs": [
    {
     "name": "stdout",
     "output_type": "stream",
     "text": [
      "make_ss\n",
      "Chevrolet    179123\n",
      "Ford         171917\n",
      "Toyota       116722\n",
      "Nissan       102886\n",
      "Honda         88498\n",
      "Name: make_ss, dtype: int64\n"
     ]
    },
    {
     "data": {
      "image/png": "[encoded data removed]",
      "text/plain": [
       "<Figure size 360x216 with 1 Axes>"
      ]
     },
     "metadata": {},
     "output_type": "display_data"
    },
    {
     "name": "stdout",
     "output_type": "stream",
     "text": [
      "model_ss\n",
      "F-150             45747\n",
      "Silverado 1500    45239\n",
      "Altima            26889\n",
      "Equinox           26595\n",
      "CR-V              26493\n",
      "Name: model_ss, dtype: int64\n"
     ]
    },
    {
     "data": {
      "image/png": "[encoded data removed]",
      "text/plain": [
       "<Figure size 360x216 with 1 Axes>"
      ]
     },
     "metadata": {},
     "output_type": "display_data"
    },
    {
     "name": "stdout",
     "output_type": "stream",
     "text": [
      "trim_ss\n",
      "LT         85146\n",
      "SE         80246\n",
      "Base       70553\n",
      "Limited    47780\n",
      "S          31013\n",
      "Name: trim_ss, dtype: int64\n"
     ]
    },
    {
     "data": {
      "image/png": "[encoded data removed]",
      "text/plain": [
       "<Figure size 360x216 with 1 Axes>"
      ]
     },
     "metadata": {},
     "output_type": "display_data"
    },
    {
     "name": "stdout",
     "output_type": "stream",
     "text": [
      "interior_color_ss\n",
      "Black        110762\n",
      "BLACK        101017\n",
      "Jet Black     50269\n",
      "Gray          38364\n",
      "GRAY          33221\n",
      "Name: interior_color_ss, dtype: int64\n"
     ]
    },
    {
     "data": {
      "image/png": "[encoded data removed]",
      "text/plain": [
       "<Figure size 360x216 with 1 Axes>"
      ]
     },
     "metadata": {},
     "output_type": "display_data"
    },
    {
     "name": "stdout",
     "output_type": "stream",
     "text": [
      "exterior_color_ss\n",
      "Black           66270\n",
      "White           32499\n",
      "Summit White    29410\n",
      "Silver          22169\n",
      "Gray            21702\n",
      "Name: exterior_color_ss, dtype: int64\n"
     ]
    },
    {
     "data": {
      "image/png": "[encoded data removed]",
      "text/plain": [
       "<Figure size 360x216 with 1 Axes>"
      ]
     },
     "metadata": {},
     "output_type": "display_data"
    },
    {
     "name": "stdout",
     "output_type": "stream",
     "text": [
      "zip\n",
      "30096    11071\n",
      "27511    10510\n",
      "28027    10461\n",
      "37067     8587\n",
      "27713     8215\n",
      "Name: zip, dtype: int64\n"
     ]
    },
    {
     "data": {
      "image/png": "[encoded data removed]",
      "text/plain": [
       "<Figure size 360x216 with 1 Axes>"
      ]
     },
     "metadata": {},
     "output_type": "display_data"
    },
    {
     "name": "stdout",
     "output_type": "stream",
     "text": [
      "fuel_type_ss\n",
      "Regular Unleaded    632200\n",
      "Flex-Fuel           151175\n",
      "Premium Unleaded    141317\n",
      "Diesel               16871\n",
      "Gasoline              3861\n",
      "Name: fuel_type_ss, dtype: int64\n"
     ]
    },
    {
     "data": {
      "image/png": "[encoded data removed]",
      "text/plain": [
       "<Figure size 360x216 with 1 Axes>"
      ]
     },
     "metadata": {},
     "output_type": "display_data"
    },
    {
     "name": "stdout",
     "output_type": "stream",
     "text": [
      "state_ss\n",
      "NC    107919\n",
      "FL     71774\n",
      "TX     69488\n",
      "CA     66727\n",
      "GA     50898\n",
      "Name: state_ss, dtype: int64\n"
     ]
    },
    {
     "data": {
      "image/png": "[encoded data removed]",
      "text/plain": [
       "<Figure size 360x216 with 1 Axes>"
      ]
     },
     "metadata": {},
     "output_type": "display_data"
    },
    {
     "name": "stdout",
     "output_type": "stream",
     "text": [
      "price_fs\n",
      "15995    4030\n",
      "16995    3924\n",
      "17995    3854\n",
      "19995    3693\n",
      "14995    3529\n",
      "Name: price_fs, dtype: int64\n"
     ]
    },
    {
     "data": {
      "image/png": "[encoded data removed]",
      "text/plain": [
       "<Figure size 360x216 with 1 Axes>"
      ]
     },
     "metadata": {},
     "output_type": "display_data"
    },
    {
     "name": "stdout",
     "output_type": "stream",
     "text": [
      "Regions\n",
      "South        491933\n",
      "MidWest      225829\n",
      "West         137723\n",
      "NorthEast     91185\n",
      "Name: Regions, dtype: int64\n"
     ]
    },
    {
     "data": {
      "image/png": "[encoded data removed]",
      "text/plain": [
       "<Figure size 360x216 with 1 Axes>"
      ]
     },
     "metadata": {},
     "output_type": "display_data"
    }
   ],
   "source": [
    "categories = ['make_ss', 'model_ss', 'trim_ss', 'interior_color_ss', 'exterior_color_ss', 'zip', 'fuel_type_ss', 'state_ss', 'price_fs', 'Regions']\n",
    "\n",
    "for i, c in enumerate(categories):\n",
    "    v = dedups[c].unique()\n",
    "    \n",
    "    g = dedups.groupby(by=c)[c].count().sort_values(ascending=False)\n",
    "    r = range(min(len(v), 5))\n",
    "\n",
    "    print(g.head())\n",
    "    plt.figure(figsize=(5,3))\n",
    "    plt.bar(r, g.head()) \n",
    "    plt.xticks(r, v)\n",
    "    plt.show()"
   ]
  },
  {
   "cell_type": "code",
   "execution_count": 36,
   "metadata": {},
   "outputs": [
    {
     "data": {
      "text/html": [
       "<div>\n",
       "<style scoped>\n",
       "    .dataframe tbody tr th:only-of-type {\n",
       "        vertical-align: middle;\n",
       "    }\n",
       "\n",
       "    .dataframe tbody tr th {\n",
       "        vertical-align: top;\n",
       "    }\n",
       "\n",
       "    .dataframe thead th {\n",
       "        text-align: right;\n",
       "    }\n",
       "</style>\n",
       "<table border=\"1\" class=\"dataframe\">\n",
       "  <thead>\n",
       "    <tr style=\"text-align: right;\">\n",
       "      <th></th>\n",
       "      <th>price_fs</th>\n",
       "      <th>miles_fs</th>\n",
       "      <th>year_is</th>\n",
       "      <th>make_ss</th>\n",
       "      <th>model_ss</th>\n",
       "      <th>trim_ss</th>\n",
       "      <th>engine_size_ss</th>\n",
       "      <th>cylinders_is</th>\n",
       "      <th>interior_color_ss</th>\n",
       "      <th>exterior_color_ss</th>\n",
       "      <th>zip</th>\n",
       "      <th>msrp_fs</th>\n",
       "      <th>is_certified_is</th>\n",
       "      <th>fuel_type_ss</th>\n",
       "      <th>state_ss</th>\n",
       "      <th>AGE</th>\n",
       "      <th>Regions</th>\n",
       "      <th>Population</th>\n",
       "      <th>Median Family income</th>\n",
       "    </tr>\n",
       "  </thead>\n",
       "  <tbody>\n",
       "    <tr>\n",
       "      <th>0</th>\n",
       "      <td>16342</td>\n",
       "      <td>71233</td>\n",
       "      <td>2012</td>\n",
       "      <td>Chevrolet</td>\n",
       "      <td>Traverse</td>\n",
       "      <td>LTZ</td>\n",
       "      <td>3.600</td>\n",
       "      <td>6</td>\n",
       "      <td>Cashmere/ebony</td>\n",
       "      <td>Silver Ice Metallic</td>\n",
       "      <td>64153</td>\n",
       "      <td>16342</td>\n",
       "      <td>0</td>\n",
       "      <td>Regular Unleaded</td>\n",
       "      <td>MO</td>\n",
       "      <td>7</td>\n",
       "      <td>MidWest</td>\n",
       "      <td>90842</td>\n",
       "      <td>$83,110.00</td>\n",
       "    </tr>\n",
       "    <tr>\n",
       "      <th>2</th>\n",
       "      <td>21990</td>\n",
       "      <td>44637</td>\n",
       "      <td>2012</td>\n",
       "      <td>Lexus</td>\n",
       "      <td>IS 350</td>\n",
       "      <td>Base</td>\n",
       "      <td>3.500</td>\n",
       "      <td>6</td>\n",
       "      <td>Light Gray</td>\n",
       "      <td>Nebula Gray Pearl</td>\n",
       "      <td>64153</td>\n",
       "      <td>21990</td>\n",
       "      <td>1</td>\n",
       "      <td>Premium Unleaded</td>\n",
       "      <td>MO</td>\n",
       "      <td>7</td>\n",
       "      <td>MidWest</td>\n",
       "      <td>90842</td>\n",
       "      <td>$83,110.00</td>\n",
       "    </tr>\n",
       "    <tr>\n",
       "      <th>4</th>\n",
       "      <td>13990</td>\n",
       "      <td>86122</td>\n",
       "      <td>2012</td>\n",
       "      <td>Toyota</td>\n",
       "      <td>Camry</td>\n",
       "      <td>L</td>\n",
       "      <td>2.500</td>\n",
       "      <td>4</td>\n",
       "      <td>Ash</td>\n",
       "      <td>Attitude Black Metallic</td>\n",
       "      <td>64153</td>\n",
       "      <td>13990</td>\n",
       "      <td>0</td>\n",
       "      <td>Regular Unleaded</td>\n",
       "      <td>MO</td>\n",
       "      <td>7</td>\n",
       "      <td>MidWest</td>\n",
       "      <td>90842</td>\n",
       "      <td>$83,110.00</td>\n",
       "    </tr>\n",
       "    <tr>\n",
       "      <th>5</th>\n",
       "      <td>21994</td>\n",
       "      <td>71624</td>\n",
       "      <td>2012</td>\n",
       "      <td>Toyota</td>\n",
       "      <td>4Runner</td>\n",
       "      <td>SR5</td>\n",
       "      <td>4.000</td>\n",
       "      <td>6</td>\n",
       "      <td>Black/graphite</td>\n",
       "      <td>Classic Silver Metallic</td>\n",
       "      <td>64153</td>\n",
       "      <td>21994</td>\n",
       "      <td>0</td>\n",
       "      <td>Regular Unleaded</td>\n",
       "      <td>MO</td>\n",
       "      <td>7</td>\n",
       "      <td>MidWest</td>\n",
       "      <td>90842</td>\n",
       "      <td>$83,110.00</td>\n",
       "    </tr>\n",
       "    <tr>\n",
       "      <th>6</th>\n",
       "      <td>13495</td>\n",
       "      <td>73000</td>\n",
       "      <td>2012</td>\n",
       "      <td>BMW</td>\n",
       "      <td>3 Series</td>\n",
       "      <td>328i</td>\n",
       "      <td>3.000</td>\n",
       "      <td>6</td>\n",
       "      <td>Black</td>\n",
       "      <td>Alpine White</td>\n",
       "      <td>64153</td>\n",
       "      <td>13495</td>\n",
       "      <td>0</td>\n",
       "      <td>Premium Unleaded</td>\n",
       "      <td>MO</td>\n",
       "      <td>7</td>\n",
       "      <td>MidWest</td>\n",
       "      <td>90842</td>\n",
       "      <td>$83,110.00</td>\n",
       "    </tr>\n",
       "  </tbody>\n",
       "</table>\n",
       "</div>"
      ],
      "text/plain": [
       "   price_fs  miles_fs  year_is    make_ss  model_ss trim_ss  engine_size_ss  \\\n",
       "0     16342     71233     2012  Chevrolet  Traverse     LTZ           3.600   \n",
       "2     21990     44637     2012      Lexus    IS 350    Base           3.500   \n",
       "4     13990     86122     2012     Toyota     Camry       L           2.500   \n",
       "5     21994     71624     2012     Toyota   4Runner     SR5           4.000   \n",
       "6     13495     73000     2012        BMW  3 Series    328i           3.000   \n",
       "\n",
       "   cylinders_is interior_color_ss        exterior_color_ss    zip  msrp_fs  \\\n",
       "0             6    Cashmere/ebony      Silver Ice Metallic  64153    16342   \n",
       "2             6        Light Gray        Nebula Gray Pearl  64153    21990   \n",
       "4             4               Ash  Attitude Black Metallic  64153    13990   \n",
       "5             6    Black/graphite  Classic Silver Metallic  64153    21994   \n",
       "6             6             Black             Alpine White  64153    13495   \n",
       "\n",
       "   is_certified_is      fuel_type_ss state_ss  AGE  Regions  Population  \\\n",
       "0                0  Regular Unleaded       MO    7  MidWest       90842   \n",
       "2                1  Premium Unleaded       MO    7  MidWest       90842   \n",
       "4                0  Regular Unleaded       MO    7  MidWest       90842   \n",
       "5                0  Regular Unleaded       MO    7  MidWest       90842   \n",
       "6                0  Premium Unleaded       MO    7  MidWest       90842   \n",
       "\n",
       "  Median Family income  \n",
       "0           $83,110.00  \n",
       "2           $83,110.00  \n",
       "4           $83,110.00  \n",
       "5           $83,110.00  \n",
       "6           $83,110.00  "
      ]
     },
     "execution_count": 36,
     "metadata": {},
     "output_type": "execute_result"
    }
   ],
   "source": [
    "dedups.head()"
   ]
  },
  {
   "cell_type": "markdown",
   "metadata": {},
   "source": [
    "# Feature Engineering"
   ]
  },
  {
   "cell_type": "markdown",
   "metadata": {},
   "source": [
    "Converting categorical features into numeric values using Scikit Learn"
   ]
  },
  {
   "cell_type": "code",
   "execution_count": 38,
   "metadata": {},
   "outputs": [],
   "source": [
    "labels = ['make_ss', 'model_ss', 'trim_ss', 'interior_color_ss', 'exterior_color_ss', 'zip', 'fuel_type_ss', 'state_ss', 'Regions']\n",
    "les = {}\n",
    "\n",
    "for l in labels:\n",
    "    les[l] = LabelEncoder()\n",
    "    les[l].fit(dedups[l].astype(str))\n",
    "    tr = les[l].transform(dedups[l].astype(str))\n",
    "    \n",
    "    dedups.loc[:, l + '_feat'] = pd.Series(tr, index=dedups.index)\n",
    "\n",
    "labeled = dedups[['price_fs'\n",
    "                        ,'miles_fs'\n",
    "                        ,'year_is'\n",
    "                        ,'cylinders_is'\n",
    "                        ,'msrp_fs'\n",
    "                        , 'is_certified_is'\n",
    "                        , 'engine_size_ss'\n",
    "                        ,'AGE', 'Population'] \n",
    "                    + [x+\"_feat\" for x in labels]]"
   ]
  },
  {
   "cell_type": "markdown",
   "metadata": {},
   "source": [
    "Used pearson to see how the features are related to each other and more importantly to price so that the top 10 features influencing price can be fed into the model. Looks like state and zip have very little influence on price."
   ]
  },
  {
   "cell_type": "code",
   "execution_count": 39,
   "metadata": {},
   "outputs": [
    {
     "name": "stdout",
     "output_type": "stream",
     "text": [
      "   price_fs  miles_fs  year_is  cylinders_is  msrp_fs  is_certified_is  \\\n",
      "0     16342     71233     2012             6    16342                0   \n",
      "2     21990     44637     2012             6    21990                1   \n",
      "4     13990     86122     2012             4    13990                0   \n",
      "5     21994     71624     2012             6    21994                0   \n",
      "6     13495     73000     2012             6    13495                0   \n",
      "\n",
      "   engine_size_ss  AGE  Population  make_ss_feat  model_ss_feat  trim_ss_feat  \\\n",
      "0           3.600    7       90842             1            306           352   \n",
      "2           3.500    7       90842             7            159           174   \n",
      "4           2.500    7       90842             9             55           317   \n",
      "5           4.000    7       90842             9             12           518   \n",
      "6           3.000    7       90842             0              4            85   \n",
      "\n",
      "   interior_color_ss_feat  exterior_color_ss_feat  zip_feat  \\\n",
      "0                    3667                    7564      4526   \n",
      "2                    8312                    5831      4526   \n",
      "4                     695                     898      4526   \n",
      "5                    2643                    2591      4526   \n",
      "6                    1784                     684      4526   \n",
      "\n",
      "   fuel_type_ss_feat  state_ss_feat  Regions_feat  \n",
      "0                  6             21             0  \n",
      "2                  5             21             0  \n",
      "4                  6             21             0  \n",
      "5                  6             21             0  \n",
      "6                  5             21             0  \n"
     ]
    }
   ],
   "source": [
    "print(labeled.head())"
   ]
  },
  {
   "cell_type": "code",
   "execution_count": 46,
   "metadata": {},
   "outputs": [
    {
     "data": {
      "text/plain": [
       "<matplotlib.axes._subplots.AxesSubplot at 0x207b7e45940>"
      ]
     },
     "execution_count": 46,
     "metadata": {},
     "output_type": "execute_result"
    },
    {
     "data": {
      "image/png": "[encoded data removed]",
      "text/plain": [
       "<Figure size 936x720 with 2 Axes>"
      ]
     },
     "metadata": {},
     "output_type": "display_data"
    }
   ],
   "source": [
    "corr = labeled.corr(method='pearson')\n",
    "sns.set(font_scale=1.5)\n",
    "f, ax = plt.subplots(figsize=(13, 10))\n",
    "sns.heatmap(corr, annot = True, fmt =\".1g\", annot_kws={\"size\": 13}, cmap = \"Blues\")"
   ]
  },
  {
   "cell_type": "code",
   "execution_count": 49,
   "metadata": {},
   "outputs": [
    {
     "data": {
      "text/plain": [
       "msrp_fs                  0.990\n",
       "cylinders_is             0.509\n",
       "engine_size_ss           0.498\n",
       "AGE                      0.442\n",
       "year_is                  0.442\n",
       "miles_fs                 0.442\n",
       "fuel_type_ss_feat        0.300\n",
       "model_ss_feat            0.183\n",
       "is_certified_is          0.166\n",
       "trim_ss_feat             0.084\n",
       "make_ss_feat             0.078\n",
       "Regions_feat             0.051\n",
       "Population               0.022\n",
       "zip_feat                 0.019\n",
       "interior_color_ss_feat   0.016\n",
       "state_ss_feat            0.008\n",
       "exterior_color_ss_feat   0.006\n",
       "Name: price_fs, dtype: float64"
      ]
     },
     "execution_count": 49,
     "metadata": {},
     "output_type": "execute_result"
    }
   ],
   "source": [
    "labeled.corr().loc[:,'price_fs'].abs().sort_values(ascending=False)[1:]"
   ]
  },
  {
   "cell_type": "markdown",
   "metadata": {},
   "source": [
    "# Model Selection \n",
    "Used 15 most influencing features to predict price (80/20 train test split)\n",
    "Dropped msrp_fs because of 1:1 corelation with price_fs; dropped year_is as it is duplicate with AGE"
   ]
  },
  {
   "cell_type": "markdown",
   "metadata": {},
   "source": [
    "# Model 1 Linear Regression "
   ]
  },
  {
   "cell_type": "code",
   "execution_count": 126,
   "metadata": {},
   "outputs": [],
   "source": [
    "reg = LinearRegression(normalize=True)"
   ]
  },
  {
   "cell_type": "code",
   "execution_count": 127,
   "metadata": {},
   "outputs": [
    {
     "data": {
      "text/plain": [
       "LinearRegression(copy_X=True, fit_intercept=True, n_jobs=1, normalize=True)"
      ]
     },
     "execution_count": 127,
     "metadata": {},
     "output_type": "execute_result"
    }
   ],
   "source": [
    "reg.fit(X_train, y_train)"
   ]
  },
  {
   "cell_type": "code",
   "execution_count": 128,
   "metadata": {},
   "outputs": [],
   "source": [
    "y_pred = reg.predict(X_test)"
   ]
  },
  {
   "cell_type": "code",
   "execution_count": 129,
   "metadata": {},
   "outputs": [
    {
     "data": {
      "text/plain": [
       "0.5355191368884791"
      ]
     },
     "execution_count": 129,
     "metadata": {},
     "output_type": "execute_result"
    }
   ],
   "source": [
    "r2_score(y_pred, y_test)"
   ]
  },
  {
   "cell_type": "code",
   "execution_count": 130,
   "metadata": {
    "scrolled": true
   },
   "outputs": [
    {
     "data": {
      "text/plain": [
       "26679294.823604565"
      ]
     },
     "execution_count": 130,
     "metadata": {},
     "output_type": "execute_result"
    }
   ],
   "source": [
    "mean_squared_error(y_pred, y_test)"
   ]
  },
  {
   "cell_type": "markdown",
   "metadata": {},
   "source": [
    "# Model 2 - LASSO (L1 Regularization)\n",
    "LASSO forces weak features to have zeroes as coefficients, effectively dropping the least predictive features"
   ]
  },
  {
   "cell_type": "code",
   "execution_count": 72,
   "metadata": {},
   "outputs": [],
   "source": [
    "clf_lasso = linear_model.Lasso(alpha=0.5)"
   ]
  },
  {
   "cell_type": "code",
   "execution_count": 73,
   "metadata": {},
   "outputs": [
    {
     "data": {
      "text/plain": [
       "Lasso(alpha=0.5, copy_X=True, fit_intercept=True, max_iter=1000,\n",
       "   normalize=False, positive=False, precompute=False, random_state=None,\n",
       "   selection='cyclic', tol=0.0001, warm_start=False)"
      ]
     },
     "execution_count": 73,
     "metadata": {},
     "output_type": "execute_result"
    }
   ],
   "source": [
    "clf_lasso.fit(X_train, y_train)"
   ]
  },
  {
   "cell_type": "code",
   "execution_count": 75,
   "metadata": {},
   "outputs": [],
   "source": [
    "y_pred = clf_lasso.predict(X_test)"
   ]
  },
  {
   "cell_type": "code",
   "execution_count": 76,
   "metadata": {},
   "outputs": [
    {
     "name": "stdout",
     "output_type": "stream",
     "text": [
      "[('miles_fs', -0.07614534346539392), ('cylinders_is', 1980.536992578208), ('is_certified_is', 1900.4918390046741), ('engine_size_ss', 2601.735936687575), ('AGE', -1185.8244889186951), ('Population', -9.129081656262214e-05), ('make_ss_feat', -55.069952158012114), ('model_ss_feat', 1.5798711962839496), ('trim_ss_feat', 0.023787372155289897), ('interior_color_ss_feat', -0.0590021151847937), ('exterior_color_ss_feat', -0.06350493157594933), ('zip_is_feat', 0.03555701418238278), ('fuel_type_ss_feat', -76.5544531169513), ('state_ss_feat', 0.4200247280548342), ('Regions_feat', 398.8258993610262)]\n"
     ]
    }
   ],
   "source": [
    "print(list(zip(X, clf_lasso.coef_.tolist())))"
   ]
  },
  {
   "cell_type": "code",
   "execution_count": 77,
   "metadata": {},
   "outputs": [
    {
     "data": {
      "text/plain": [
       "0.5354522227192369"
      ]
     },
     "execution_count": 77,
     "metadata": {},
     "output_type": "execute_result"
    }
   ],
   "source": [
    "r2_score(y_pred, y_test)"
   ]
  },
  {
   "cell_type": "code",
   "execution_count": 78,
   "metadata": {
    "scrolled": true
   },
   "outputs": [
    {
     "data": {
      "text/plain": [
       "26679329.006395474"
      ]
     },
     "execution_count": 78,
     "metadata": {},
     "output_type": "execute_result"
    }
   ],
   "source": [
    "mean_squared_error(y_pred, y_test)"
   ]
  },
  {
   "cell_type": "markdown",
   "metadata": {},
   "source": [
    "# Model 3 - Ridge Regression (L2 Regularization)\n",
    "Ridge assigns every feature a weight, but spreads the coefficient values out more equally, shrinking but still maintaining less predictive features."
   ]
  },
  {
   "cell_type": "code",
   "execution_count": 79,
   "metadata": {},
   "outputs": [],
   "source": [
    "clf = linear_model.Ridge(alpha=0.5)"
   ]
  },
  {
   "cell_type": "code",
   "execution_count": 80,
   "metadata": {},
   "outputs": [
    {
     "data": {
      "text/plain": [
       "Ridge(alpha=0.5, copy_X=True, fit_intercept=True, max_iter=None,\n",
       "   normalize=False, random_state=None, solver='auto', tol=0.001)"
      ]
     },
     "execution_count": 80,
     "metadata": {},
     "output_type": "execute_result"
    }
   ],
   "source": [
    "clf.fit(X_train, y_train)"
   ]
  },
  {
   "cell_type": "code",
   "execution_count": 81,
   "metadata": {},
   "outputs": [],
   "source": [
    "y_pred = clf.predict(X_test)"
   ]
  },
  {
   "cell_type": "code",
   "execution_count": 82,
   "metadata": {},
   "outputs": [
    {
     "name": "stdout",
     "output_type": "stream",
     "text": [
      "[('miles_fs', -0.07613388510978458), ('cylinders_is', 1980.308101651942), ('is_certified_is', 1905.0513909458634), ('engine_size_ss', 2602.3061167777373), ('AGE', -1185.9200650311266), ('Population', -9.136720738417963e-05), ('make_ss_feat', -55.11420097220476), ('model_ss_feat', 1.5791485210039014), ('trim_ss_feat', 0.02408988013257544), ('interior_color_ss_feat', -0.059009739630399016), ('exterior_color_ss_feat', -0.06351731529179516), ('zip_is_feat', 0.03552464549175999), ('fuel_type_ss_feat', -76.64450430985238), ('state_ss_feat', 0.42727423815379617), ('Regions_feat', 399.41305625980993)]\n"
     ]
    }
   ],
   "source": [
    "print(list(zip(X, clf.coef_.tolist())))"
   ]
  },
  {
   "cell_type": "code",
   "execution_count": null,
   "metadata": {},
   "outputs": [],
   "source": [
    "r2_score(y_pred, y_test)"
   ]
  },
  {
   "cell_type": "code",
   "execution_count": 50,
   "metadata": {
    "scrolled": true
   },
   "outputs": [
    {
     "data": {
      "text/plain": [
       "26679294.832889743"
      ]
     },
     "execution_count": 50,
     "metadata": {},
     "output_type": "execute_result"
    }
   ],
   "source": [
    "mean_squared_error(y_pred, y_test)"
   ]
  },
  {
   "cell_type": "markdown",
   "metadata": {},
   "source": [
    "# Model 4 - Elastic Net\n",
    "ElasticNet is a linear combination of L1 and L2 regularization, meaning it combines Ridge and LASSO and essentially splits the difference."
   ]
  },
  {
   "cell_type": "code",
   "execution_count": 85,
   "metadata": {},
   "outputs": [],
   "source": [
    "enr = linear_model.ElasticNet()"
   ]
  },
  {
   "cell_type": "code",
   "execution_count": 86,
   "metadata": {},
   "outputs": [
    {
     "data": {
      "text/plain": [
       "ElasticNet(alpha=1.0, copy_X=True, fit_intercept=True, l1_ratio=0.5,\n",
       "      max_iter=1000, normalize=False, positive=False, precompute=False,\n",
       "      random_state=None, selection='cyclic', tol=0.0001, warm_start=False)"
      ]
     },
     "execution_count": 86,
     "metadata": {},
     "output_type": "execute_result"
    }
   ],
   "source": [
    "enr.fit(X_train, y_train)"
   ]
  },
  {
   "cell_type": "code",
   "execution_count": 87,
   "metadata": {},
   "outputs": [],
   "source": [
    "y_pred = enr.predict(X_test)"
   ]
  },
  {
   "cell_type": "code",
   "execution_count": 88,
   "metadata": {},
   "outputs": [
    {
     "name": "stdout",
     "output_type": "stream",
     "text": [
      "[('miles_fs', -0.08398239821169448), ('cylinders_is', 1950.1962706154782), ('is_certified_is', 349.9610019352311), ('engine_size_ss', 1791.2143386513092), ('AGE', -1002.5472075492388), ('Population', -9.649199068098547e-05), ('make_ss_feat', -54.43755889115906), ('model_ss_feat', 4.034231054735961), ('trim_ss_feat', 0.07136315498012737), ('interior_color_ss_feat', -0.05254176750680842), ('exterior_color_ss_feat', -0.06000848186510184), ('zip_is_feat', 0.05873174149221815), ('fuel_type_ss_feat', -317.5529832208474), ('state_ss_feat', -0.4207942610264381), ('Regions_feat', 269.0060936933721)]\n"
     ]
    }
   ],
   "source": [
    "print(list(zip(X, enr.coef_.tolist())))"
   ]
  },
  {
   "cell_type": "code",
   "execution_count": 89,
   "metadata": {},
   "outputs": [
    {
     "data": {
      "text/plain": [
       "0.42124284889367447"
      ]
     },
     "execution_count": 89,
     "metadata": {},
     "output_type": "execute_result"
    }
   ],
   "source": [
    "r2_score(y_pred, y_test)"
   ]
  },
  {
   "cell_type": "code",
   "execution_count": 90,
   "metadata": {
    "scrolled": false
   },
   "outputs": [
    {
     "data": {
      "text/plain": [
       "27790896.317409452"
      ]
     },
     "execution_count": 90,
     "metadata": {},
     "output_type": "execute_result"
    }
   ],
   "source": [
    "mean_squared_error(y_pred, y_test)"
   ]
  },
  {
   "cell_type": "markdown",
   "metadata": {},
   "source": [
    "# Model 5 Instance Based - KNearest Regressor"
   ]
  },
  {
   "cell_type": "code",
   "execution_count": 65,
   "metadata": {},
   "outputs": [],
   "source": [
    " model = KNeighborsRegressor(n_neighbors = 5)"
   ]
  },
  {
   "cell_type": "code",
   "execution_count": 66,
   "metadata": {},
   "outputs": [
    {
     "data": {
      "text/plain": [
       "KNeighborsRegressor(algorithm='auto', leaf_size=30, metric='minkowski',\n",
       "          metric_params=None, n_jobs=1, n_neighbors=5, p=2,\n",
       "          weights='uniform')"
      ]
     },
     "execution_count": 66,
     "metadata": {},
     "output_type": "execute_result"
    }
   ],
   "source": [
    "model.fit(X_train, y_train)"
   ]
  },
  {
   "cell_type": "code",
   "execution_count": 67,
   "metadata": {},
   "outputs": [],
   "source": [
    "y_pred = model.predict(X_test)"
   ]
  },
  {
   "cell_type": "code",
   "execution_count": 68,
   "metadata": {},
   "outputs": [
    {
     "data": {
      "text/plain": [
       "-0.6314312959628026"
      ]
     },
     "execution_count": 68,
     "metadata": {},
     "output_type": "execute_result"
    }
   ],
   "source": [
    "r2_score(y_pred, y_test)"
   ]
  },
  {
   "cell_type": "code",
   "execution_count": 69,
   "metadata": {
    "scrolled": false
   },
   "outputs": [
    {
     "data": {
      "text/plain": [
       "64878370.72610711"
      ]
     },
     "execution_count": 69,
     "metadata": {},
     "output_type": "execute_result"
    }
   ],
   "source": [
    "mean_squared_error(y_pred, y_test)"
   ]
  },
  {
   "cell_type": "markdown",
   "metadata": {},
   "source": [
    "# Model 6 Regression - Support Vector Regression\n",
    "This one's a failure. We haven't gotten it to work yet!"
   ]
  },
  {
   "cell_type": "code",
   "execution_count": 92,
   "metadata": {},
   "outputs": [],
   "source": [
    "from sklearn import svm"
   ]
  },
  {
   "cell_type": "code",
   "execution_count": 93,
   "metadata": {},
   "outputs": [],
   "source": [
    "svr_reg = svm.SVR()"
   ]
  },
  {
   "cell_type": "code",
   "execution_count": null,
   "metadata": {},
   "outputs": [],
   "source": [
    "svr_reg.fit(X_train, y_train)"
   ]
  },
  {
   "cell_type": "code",
   "execution_count": null,
   "metadata": {},
   "outputs": [],
   "source": [
    "y_pred = svr_reg.predict(X_test)"
   ]
  },
  {
   "cell_type": "code",
   "execution_count": null,
   "metadata": {},
   "outputs": [],
   "source": [
    "r2_score(y_pred, y_test)"
   ]
  },
  {
   "cell_type": "code",
   "execution_count": null,
   "metadata": {},
   "outputs": [],
   "source": [
    "mean_squared_error(y_pred, y_test)"
   ]
  },
  {
   "cell_type": "markdown",
   "metadata": {},
   "source": [
    "# Model 7 - Decision Tree (Random Forest Regressor)"
   ]
  },
  {
   "cell_type": "code",
   "execution_count": 40,
   "metadata": {},
   "outputs": [],
   "source": [
    "y = labeled.price_fs"
   ]
  },
  {
   "cell_type": "code",
   "execution_count": 41,
   "metadata": {},
   "outputs": [
    {
     "name": "stdout",
     "output_type": "stream",
     "text": [
      "['price_fs', 'miles_fs', 'year_is', 'cylinders_is', 'msrp_fs', 'is_certified_is', 'engine_size_ss', 'AGE', 'Population', 'make_ss_feat', 'model_ss_feat', 'trim_ss_feat', 'interior_color_ss_feat', 'exterior_color_ss_feat', 'zip_is_feat', 'fuel_type_ss_feat', 'state_ss_feat', 'Regions_feat']\n"
     ]
    }
   ],
   "source": [
    "print (labeled.columns.tolist())"
   ]
  },
  {
   "cell_type": "code",
   "execution_count": 42,
   "metadata": {},
   "outputs": [],
   "source": [
    "X = labeled[['miles_fs', 'cylinders_is', 'is_certified_is', \n",
    "             'engine_size_ss', 'AGE', 'Population', 'make_ss_feat', 'model_ss_feat', 'trim_ss_feat', \n",
    "             'interior_color_ss_feat', 'exterior_color_ss_feat', 'zip_is_feat', 'fuel_type_ss_feat', \n",
    "             'state_ss_feat', 'Regions_feat']]"
   ]
  },
  {
   "cell_type": "code",
   "execution_count": 43,
   "metadata": {},
   "outputs": [],
   "source": [
    "X_train, X_test, y_train, y_test = train_test_split(X, y, test_size=0.2, random_state=42)"
   ]
  },
  {
   "cell_type": "code",
   "execution_count": 44,
   "metadata": {},
   "outputs": [],
   "source": [
    "rf = RandomForestRegressor()"
   ]
  },
  {
   "cell_type": "code",
   "execution_count": 45,
   "metadata": {},
   "outputs": [
    {
     "data": {
      "text/plain": [
       "RandomForestRegressor(bootstrap=True, criterion='mse', max_depth=None,\n",
       "           max_features='auto', max_leaf_nodes=None,\n",
       "           min_impurity_decrease=0.0, min_impurity_split=None,\n",
       "           min_samples_leaf=1, min_samples_split=2,\n",
       "           min_weight_fraction_leaf=0.0, n_estimators=10, n_jobs=1,\n",
       "           oob_score=False, random_state=None, verbose=0, warm_start=False)"
      ]
     },
     "execution_count": 45,
     "metadata": {},
     "output_type": "execute_result"
    }
   ],
   "source": [
    "rf.fit(X_train, y_train)"
   ]
  },
  {
   "cell_type": "code",
   "execution_count": 46,
   "metadata": {},
   "outputs": [],
   "source": [
    "y_pred = rf.predict(X_test)"
   ]
  },
  {
   "cell_type": "code",
   "execution_count": 47,
   "metadata": {},
   "outputs": [
    {
     "data": {
      "text/plain": [
       "(array([5.8000e+01, 6.4000e+01, 1.0700e+02, 1.5600e+02, 1.9300e+02,\n",
       "        3.0200e+02, 4.5400e+02, 7.2800e+02, 1.0530e+03, 1.6750e+03,\n",
       "        2.8780e+03, 4.9170e+03, 8.4230e+03, 1.5709e+04, 4.0442e+04,\n",
       "        7.1500e+04, 1.8082e+04, 9.5650e+03, 5.3350e+03, 2.9570e+03,\n",
       "        1.7260e+03, 1.0020e+03, 6.7200e+02, 4.3200e+02, 2.7700e+02,\n",
       "        1.7700e+02, 1.1400e+02, 8.4000e+01, 5.5000e+01, 4.7000e+01]),\n",
       " array([-9.98570e+03, -9.32005e+03, -8.65440e+03, -7.98875e+03,\n",
       "        -7.32310e+03, -6.65745e+03, -5.99180e+03, -5.32615e+03,\n",
       "        -4.66050e+03, -3.99485e+03, -3.32920e+03, -2.66355e+03,\n",
       "        -1.99790e+03, -1.33225e+03, -6.66600e+02, -9.50000e-01,\n",
       "         6.64700e+02,  1.33035e+03,  1.99600e+03,  2.66165e+03,\n",
       "         3.32730e+03,  3.99295e+03,  4.65860e+03,  5.32425e+03,\n",
       "         5.98990e+03,  6.65555e+03,  7.32120e+03,  7.98685e+03,\n",
       "         8.65250e+03,  9.31815e+03,  9.98380e+03]),\n",
       " <a list of 30 Patch objects>)"
      ]
     },
     "execution_count": 47,
     "metadata": {},
     "output_type": "execute_result"
    },
    {
     "data": {
      "image/png": "[encoded data removed]",
      "text/plain": [
       "<Figure size 432x288 with 1 Axes>"
      ]
     },
     "metadata": {},
     "output_type": "display_data"
    }
   ],
   "source": [
    "subsetted_data_pred = y_pred[y_test < 60000]\n",
    "subsetted_data_test = y_test[y_test < 60000]\n",
    "\n",
    "differences = subsetted_data_pred - subsetted_data_test\n",
    "d = differences[(differences < 10000) & (differences > -10000)]\n",
    "\n",
    "plt.hist(d,bins=30)"
   ]
  },
  {
   "cell_type": "code",
   "execution_count": 49,
   "metadata": {},
   "outputs": [
    {
     "data": {
      "text/plain": [
       "(26.002659003051576, 1509.3462560722562)"
      ]
     },
     "execution_count": 49,
     "metadata": {},
     "output_type": "execute_result"
    }
   ],
   "source": [
    "d.mean(), d.std()"
   ]
  },
  {
   "cell_type": "code",
   "execution_count": 50,
   "metadata": {},
   "outputs": [
    {
     "data": {
      "text/plain": [
       "0.9683866642063889"
      ]
     },
     "execution_count": 50,
     "metadata": {},
     "output_type": "execute_result"
    }
   ],
   "source": [
    "explained_variance_score(y_pred, y_test)"
   ]
  },
  {
   "cell_type": "code",
   "execution_count": 51,
   "metadata": {},
   "outputs": [
    {
     "data": {
      "text/plain": [
       "0.9683816542257253"
      ]
     },
     "execution_count": 51,
     "metadata": {},
     "output_type": "execute_result"
    }
   ],
   "source": [
    "r2_score(y_pred, y_test)"
   ]
  },
  {
   "cell_type": "code",
   "execution_count": 52,
   "metadata": {},
   "outputs": [
    {
     "data": {
      "text/plain": [
       "2581156.4820370143"
      ]
     },
     "execution_count": 52,
     "metadata": {},
     "output_type": "execute_result"
    }
   ],
   "source": [
    "mean_squared_error(y_pred, y_test)"
   ]
  },
  {
   "cell_type": "code",
   "execution_count": 53,
   "metadata": {},
   "outputs": [
    {
     "name": "stderr",
     "output_type": "stream",
     "text": [
      "C:\\Anaconda3\\lib\\site-packages\\sklearn\\cross_validation.py:41: DeprecationWarning: This module was deprecated in version 0.18 in favor of the model_selection module into which all the refactored classes and functions are moved. Also note that the interface of the new CV iterators are different from that of this module. This module will be removed in 0.20.\n",
      "  \"This module will be removed in 0.20.\", DeprecationWarning)\n"
     ]
    }
   ],
   "source": [
    "from sklearn import cross_validation\n",
    "cv = cross_validation.KFold(len(y_pred), n_folds=12,  random_state=30)"
   ]
  },
  {
   "cell_type": "code",
   "execution_count": 54,
   "metadata": {},
   "outputs": [
    {
     "name": "stdout",
     "output_type": "stream",
     "text": [
      "sklearn.cross_validation.KFold(n=189484, n_folds=12, shuffle=False, random_state=30)\n"
     ]
    }
   ],
   "source": [
    "print(cv)"
   ]
  },
  {
   "cell_type": "code",
   "execution_count": 55,
   "metadata": {},
   "outputs": [],
   "source": [
    "from yellowbrick.model_selection import CVScores\n",
    "from sklearn.model_selection import StratifiedKFold"
   ]
  },
  {
   "cell_type": "code",
   "execution_count": 56,
   "metadata": {},
   "outputs": [
    {
     "name": "stderr",
     "output_type": "stream",
     "text": [
      "C:\\Anaconda3\\lib\\site-packages\\sklearn\\model_selection\\_split.py:605: Warning: The least populated class in y has only 1 members, which is too few. The minimum number of members in any class cannot be less than n_splits=12.\n",
      "  % (min_groups, self.n_splits)), Warning)\n"
     ]
    },
    {
     "data": {
      "image/png": "[encoded data removed]",
      "text/plain": [
       "<Figure size 576x396 with 1 Axes>"
      ]
     },
     "metadata": {},
     "output_type": "display_data"
    }
   ],
   "source": [
    "# Create a new figure and axes\n",
    "_, ax = plt.subplots()\n",
    "\n",
    "# Create a cross-validation strategy\n",
    "cv = StratifiedKFold(12)\n",
    "\n",
    "# Create the cv score visualizer\n",
    "oz = CVScores(\n",
    "    RandomForestRegressor(), ax=ax, cv=cv, scoring='r2'\n",
    ")\n",
    "\n",
    "oz.fit(X, y)\n",
    "oz.poof()"
   ]
  },
  {
   "cell_type": "markdown",
   "metadata": {},
   "source": [
    "# Model 8 - Decision Tree Gradient Boost"
   ]
  },
  {
   "cell_type": "code",
   "execution_count": 57,
   "metadata": {},
   "outputs": [],
   "source": [
    "gbr = GradientBoostingRegressor()"
   ]
  },
  {
   "cell_type": "code",
   "execution_count": 58,
   "metadata": {},
   "outputs": [
    {
     "data": {
      "text/plain": [
       "GradientBoostingRegressor(alpha=0.9, criterion='friedman_mse', init=None,\n",
       "             learning_rate=0.1, loss='ls', max_depth=3, max_features=None,\n",
       "             max_leaf_nodes=None, min_impurity_decrease=0.0,\n",
       "             min_impurity_split=None, min_samples_leaf=1,\n",
       "             min_samples_split=2, min_weight_fraction_leaf=0.0,\n",
       "             n_estimators=100, presort='auto', random_state=None,\n",
       "             subsample=1.0, verbose=0, warm_start=False)"
      ]
     },
     "execution_count": 58,
     "metadata": {},
     "output_type": "execute_result"
    }
   ],
   "source": [
    "gbr.fit(X_train, y_train)"
   ]
  },
  {
   "cell_type": "code",
   "execution_count": 59,
   "metadata": {},
   "outputs": [],
   "source": [
    "y_pred = gbr.predict(X_test)"
   ]
  },
  {
   "cell_type": "code",
   "execution_count": 60,
   "metadata": {},
   "outputs": [
    {
     "data": {
      "text/plain": [
       "(array([  570.,   800.,   972.,  1246.,  1580.,  2000.,  2669.,  3518.,\n",
       "         4595.,  5793.,  7711.,  9614., 12032., 15297., 17369., 19163.,\n",
       "        18469., 15894., 13013.,  9813.,  7213.,  4997.,  3783.,  2702.,\n",
       "         2029.,  1501.,  1016.,   705.,   505.,   304.]),\n",
       " array([-9.99843435e+03, -9.33202781e+03, -8.66562128e+03, -7.99921475e+03,\n",
       "        -7.33280822e+03, -6.66640168e+03, -5.99999515e+03, -5.33358862e+03,\n",
       "        -4.66718208e+03, -4.00077555e+03, -3.33436902e+03, -2.66796248e+03,\n",
       "        -2.00155595e+03, -1.33514942e+03, -6.68742884e+02, -2.33635078e+00,\n",
       "         6.64070182e+02,  1.33047672e+03,  1.99688325e+03,  2.66328978e+03,\n",
       "         3.32969631e+03,  3.99610285e+03,  4.66250938e+03,  5.32891591e+03,\n",
       "         5.99532245e+03,  6.66172898e+03,  7.32813551e+03,  7.99454205e+03,\n",
       "         8.66094858e+03,  9.32735511e+03,  9.99376165e+03]),\n",
       " <a list of 30 Patch objects>)"
      ]
     },
     "execution_count": 60,
     "metadata": {},
     "output_type": "execute_result"
    },
    {
     "data": {
      "image/png": "[encoded data removed]",
      "text/plain": [
       "<Figure size 576x396 with 1 Axes>"
      ]
     },
     "metadata": {},
     "output_type": "display_data"
    }
   ],
   "source": [
    "subsetted_data_pred = y_pred[y_test < 60000]\n",
    "subsetted_data_test = y_test[y_test < 60000]\n",
    "\n",
    "differences = subsetted_data_pred - subsetted_data_test\n",
    "d = differences[(differences < 10000) & (differences > -10000)]\n",
    "\n",
    "plt.hist(d,bins=30)"
   ]
  },
  {
   "cell_type": "code",
   "execution_count": 61,
   "metadata": {},
   "outputs": [
    {
     "data": {
      "text/plain": [
       "(123.3279790139895, 3142.4567607540193)"
      ]
     },
     "execution_count": 61,
     "metadata": {},
     "output_type": "execute_result"
    }
   ],
   "source": [
    "d.mean(), d.std()"
   ]
  },
  {
   "cell_type": "code",
   "execution_count": 62,
   "metadata": {},
   "outputs": [
    {
     "data": {
      "text/plain": [
       "0.8194586458203226"
      ]
     },
     "execution_count": 62,
     "metadata": {},
     "output_type": "execute_result"
    }
   ],
   "source": [
    "r2_score(y_pred, y_test)"
   ]
  },
  {
   "cell_type": "code",
   "execution_count": 63,
   "metadata": {},
   "outputs": [
    {
     "data": {
      "text/plain": [
       "11862402.673602358"
      ]
     },
     "execution_count": 63,
     "metadata": {},
     "output_type": "execute_result"
    }
   ],
   "source": [
    "mean_squared_error(y_pred, y_test)"
   ]
  },
  {
   "cell_type": "code",
   "execution_count": 64,
   "metadata": {},
   "outputs": [
    {
     "name": "stderr",
     "output_type": "stream",
     "text": [
      "C:\\Anaconda3\\lib\\site-packages\\sklearn\\model_selection\\_split.py:605: Warning: The least populated class in y has only 1 members, which is too few. The minimum number of members in any class cannot be less than n_splits=12.\n",
      "  % (min_groups, self.n_splits)), Warning)\n"
     ]
    },
    {
     "data": {
      "image/png": "[encoded data removed]",
      "text/plain": [
       "<Figure size 576x396 with 1 Axes>"
      ]
     },
     "metadata": {},
     "output_type": "display_data"
    }
   ],
   "source": [
    "# Create a new figure and axes\n",
    "_, ax = plt.subplots()\n",
    "\n",
    "# Create a cross-validation strategy\n",
    "cv = StratifiedKFold(12)\n",
    "\n",
    "# Create the cv score visualizer\n",
    "oz = CVScores(\n",
    "    GradientBoostingRegressor(), ax=ax, cv=cv, scoring='r2'\n",
    ")\n",
    "\n",
    "oz.fit(X, y)\n",
    "oz.poof()"
   ]
  },
  {
   "cell_type": "code",
   "execution_count": null,
   "metadata": {},
   "outputs": [],
   "source": [
    "# Comparing Algorithms\n",
    "\n",
    "models = []\n",
    "models.append(('RFR', RandomForestRegressor()))\n",
    "models.append(('LGR', LinearRegression()))\n",
    "models.append(('GBR', GradientBoostingRegressor()))\n",
    "\n",
    "scoring = 'r2'\n",
    "\n",
    "results = []\n",
    "names = []\n",
    "\n",
    "from sklearn.model_selection import cross_val_score\n",
    "res_scores = []\n",
    "m_names = []\n",
    "for name, model in models:\n",
    "    start_time = time.time()\n",
    "    print(name)\n",
    "    pipe_mdl = make_pipeline(QuantileTransformer(),\n",
    "                        model)\n",
    "    kfold = model_selection.KFold(n_splits=12, random_state=7)\n",
    "    scores = model_selection.cross_val_score(estimator=pipe_mdl,\n",
    "                         X=X_train,\n",
    "                         y=y_train,\n",
    "                         cv=kfold,\n",
    "                         #n_jobs=-1,\n",
    "                         scoring = scoring)\n",
    "    print('CV accuracy: %.5f +/- %.5f' % (np.mean(scores),np.std(scores)))\n",
    "    res_scores.append(scores)\n",
    "    m_names.append(name)\n",
    "    print('--- %s seconds ---' % (time.time() - start_time))\n",
    "\n",
    "fig = plt.figure(figsize=(10, 30))\n",
    "fig.suptitle('Algorithm Comparison')\n",
    "ax = fig.add_subplot(111)\n",
    "plt.violinplot(res_scores)\n",
    "ax.set_xticklabels(m_names)\n",
    "plt.show()"
   ]
  }
 ],
 "metadata": {
  "kernelspec": {
   "display_name": "Python 3",
   "language": "python",
   "name": "python3"
  },
  "language_info": {
   "codemirror_mode": {
    "name": "ipython",
    "version": 3
   },
   "file_extension": ".py",
   "mimetype": "text/x-python",
   "name": "python",
   "nbconvert_exporter": "python",
   "pygments_lexer": "ipython3",
   "version": "3.6.5"
  }
 },
 "nbformat": 4,
 "nbformat_minor": 2
}
