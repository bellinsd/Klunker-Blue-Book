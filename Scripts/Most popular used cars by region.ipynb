{
 "cells": [
  {
   "cell_type": "code",
   "execution_count": 55,
   "metadata": {},
   "outputs": [],
   "source": [
    "from __future__ import print_function, division\n",
    "\n",
    "%matplotlib inline\n",
    "\n",
    "import numpy as np\n",
    "import pandas as pd\n",
    "import thinkstats2\n",
    "import thinkplot\n",
    "import matplotlib.pyplot as plt\n",
    "from sklearn import preprocessing\n",
    "import seaborn as sns"
   ]
  },
  {
   "cell_type": "code",
   "execution_count": 2,
   "metadata": {},
   "outputs": [
    {
     "name": "stdout",
     "output_type": "stream",
     "text": [
      "C:\\Users\\Trypt\\Desktop\\KBB\\DB files\n"
     ]
    }
   ],
   "source": [
    "cd DB files"
   ]
  },
  {
   "cell_type": "code",
   "execution_count": 39,
   "metadata": {},
   "outputs": [],
   "source": [
    "df = pd.read_csv(\"car_data_age(innerjoin).csv\")"
   ]
  },
  {
   "cell_type": "code",
   "execution_count": 40,
   "metadata": {},
   "outputs": [
    {
     "data": {
      "text/plain": [
       "Chevrolet        453148\n",
       "Ford             441015\n",
       "Toyota           301678\n",
       "Nissan           255457\n",
       "Honda            232572\n",
       "Jeep             194300\n",
       "Hyundai          145630\n",
       "GMC              133936\n",
       "BMW              132931\n",
       "Lexus            126759\n",
       "Dodge            112588\n",
       "Kia              103756\n",
       "Mercedes-Benz     91241\n",
       "Ram               88959\n",
       "Volkswagen        81611\n",
       "Subaru            69253\n",
       "Acura             63942\n",
       "Cadillac          61298\n",
       "Mazda             60884\n",
       "Buick             57005\n",
       "Audi              45905\n",
       "Chrysler          44569\n",
       "INFINITI          39352\n",
       "Lincoln           29397\n",
       "Land Rover        23554\n",
       "MINI              21405\n",
       "Volvo             20039\n",
       "Porsche           17620\n",
       "Mitsubishi        11841\n",
       "Scion              9139\n",
       "Jaguar             6826\n",
       "Pontiac            6491\n",
       "FIAT               4785\n",
       "Saturn             3577\n",
       "Mercury            3393\n",
       "HUMMER             3297\n",
       "Maserati           3013\n",
       "Bentley            1392\n",
       "Ferrari            1155\n",
       "smart               966\n",
       "Suzuki              903\n",
       "Saab                815\n",
       "Aston Martin        488\n",
       "Lamborghini         404\n",
       "Rolls-Royce         393\n",
       "Oldsmobile          369\n",
       "Isuzu               155\n",
       "Plymouth            128\n",
       "McLaren              99\n",
       "Lotus                70\n",
       "Alfa Romeo           43\n",
       "Fisker               42\n",
       "Infiniti             30\n",
       "Geo                  24\n",
       "AM General           23\n",
       "Maybach               8\n",
       "Daewoo                5\n",
       "Panoz                 1\n",
       "Name: Make Ss, dtype: int64"
      ]
     },
     "execution_count": 40,
     "metadata": {},
     "output_type": "execute_result"
    }
   ],
   "source": [
    "df[\"Make Ss\"].value_counts().sort_values(ascending = False)"
   ]
  },
  {
   "cell_type": "code",
   "execution_count": 41,
   "metadata": {},
   "outputs": [
    {
     "data": {
      "text/plain": [
       "Chevrolet        453148\n",
       "Ford             441015\n",
       "Toyota           301678\n",
       "Nissan           255457\n",
       "Honda            232572\n",
       "Jeep             194300\n",
       "Hyundai          145630\n",
       "GMC              133936\n",
       "BMW              132931\n",
       "Lexus            126759\n",
       "Dodge            112588\n",
       "Kia              103756\n",
       "Mercedes-Benz     91241\n",
       "Ram               88959\n",
       "Volkswagen        81611\n",
       "Subaru            69253\n",
       "Acura             63942\n",
       "Cadillac          61298\n",
       "Mazda             60884\n",
       "Buick             57005\n",
       "Audi              45905\n",
       "Chrysler          44569\n",
       "INFINITI          39352\n",
       "Name: Make Ss, dtype: int64"
      ]
     },
     "execution_count": 41,
     "metadata": {},
     "output_type": "execute_result"
    }
   ],
   "source": [
    "#this one VVVV removes a lot more makes, might use it again laster\n",
    "#df = df.drop(df[df[\"Make Ss\"] == \"Panoz\"].index | df[df[\"Make Ss\"] == \"Daewoo\"].index | df[df[\"Make Ss\"] == \"Maybach\"].index | df[df[\"Make Ss\"] == \"AM General\"].index | df[df[\"Make Ss\"] == \"Geo\"].index | df[df[\"Make Ss\"] == \"Fisker\"].index | df[df[\"Make Ss\"] == \"Alfa Romeo\"].index | df[df[\"Make Ss\"] == \"Lotus\"].index | df[df[\"Make Ss\"] == \"McLaren\"].index | df[df[\"Make Ss\"] == \"Plymouth\"].index | df[df[\"Make Ss\"] == \"Isuzu\"].index | df[df[\"Make Ss\"] == \"Oldsmobile\"].index | df[df[\"Make Ss\"] == \"Lamborghini\"].index | df[df[\"Make Ss\"] == \"Rolls-Royce\"].index | df[df[\"Make Ss\"] == \"Aston Martin\"].index | df[df[\"Make Ss\"] == \"Saab\"].index | df[df[\"Make Ss\"] == \"smart\"].index | df[df[\"Make Ss\"] == \"Suzuki\"].index | df[df[\"Make Ss\"] == \"Infiniti\"].index | df[df[\"Make Ss\"] == \"Ferrari\"].index | df[df[\"Make Ss\"] == \"Bentley\"].index | df[df[\"Make Ss\"] == \"Maserati\"].index | df[df[\"Make Ss\"] == \"HUMMER\"].index | df[df[\"Make Ss\"] == \"Mercury\"].index | df[df[\"Make Ss\"] == \"Saturn\"].index | df[df[\"Make Ss\"] == \"FIAT\"].index | df[df[\"Make Ss\"] == \"Pontiac\"].index | df[df[\"Make Ss\"] == \"Jaguar\"].index | df[df[\"Make Ss\"] == \"Scion\"].index | df[df[\"Make Ss\"] == \"Mitsubishi\"].index | df[df[\"Make Ss\"] == \"Porsche\"].index | df[df[\"Make Ss\"] == \"Volvo\"].index | df[df[\"Make Ss\"] == \"MINI\"].index | df[df[\"Make Ss\"] == \"Land Rover\"].index | df[df[\"Make Ss\"] == \"Lincoln\"].index | df[df[\"Make Ss\"] == \"INFINITI\"].index | df[df[\"Make Ss\"] == \"Chrysler\"].index | df[df[\"Make Ss\"] == \"Audi\"].index | df[df[\"Make Ss\"] == \"Buick\"].index | df[df[\"Make Ss\"] == \"Mazda\"].index | df[df[\"Make Ss\"] == \"Cadillac\"].index | df[df[\"Make Ss\"] == \"Acura\"].index | df[df[\"Make Ss\"] == \"Subaru\"].index | df[df[\"Make Ss\"] == \"Volkswagen\"].index | df[df[\"Make Ss\"] == \"Ram\"].index | df[df[\"Make Ss\"] == \"Mercedes-Benz\"].index | df[df[\"Make Ss\"] == \"Kia\"].index | df[df[\"Make Ss\"] == \"Dodge\"].index)\n",
    "#removes low number (sub 30k total) car makes\n",
    "df = df.drop(df[df[\"Make Ss\"] == \"Panoz\"].index | df[df[\"Make Ss\"] == \"Daewoo\"].index | df[df[\"Make Ss\"] == \"Maybach\"].index | df[df[\"Make Ss\"] == \"AM General\"].index | df[df[\"Make Ss\"] == \"Geo\"].index | df[df[\"Make Ss\"] == \"Fisker\"].index | df[df[\"Make Ss\"] == \"Alfa Romeo\"].index | df[df[\"Make Ss\"] == \"Lotus\"].index | df[df[\"Make Ss\"] == \"McLaren\"].index | df[df[\"Make Ss\"] == \"Plymouth\"].index | df[df[\"Make Ss\"] == \"Isuzu\"].index | df[df[\"Make Ss\"] == \"Oldsmobile\"].index | df[df[\"Make Ss\"] == \"Lamborghini\"].index | df[df[\"Make Ss\"] == \"Rolls-Royce\"].index | df[df[\"Make Ss\"] == \"Aston Martin\"].index | df[df[\"Make Ss\"] == \"Saab\"].index | df[df[\"Make Ss\"] == \"smart\"].index | df[df[\"Make Ss\"] == \"Suzuki\"].index | df[df[\"Make Ss\"] == \"Infiniti\"].index | df[df[\"Make Ss\"] == \"Ferrari\"].index | df[df[\"Make Ss\"] == \"Bentley\"].index | df[df[\"Make Ss\"] == \"Maserati\"].index | df[df[\"Make Ss\"] == \"HUMMER\"].index | df[df[\"Make Ss\"] == \"Mercury\"].index | df[df[\"Make Ss\"] == \"Saturn\"].index | df[df[\"Make Ss\"] == \"FIAT\"].index | df[df[\"Make Ss\"] == \"Pontiac\"].index | df[df[\"Make Ss\"] == \"Jaguar\"].index | df[df[\"Make Ss\"] == \"Scion\"].index | df[df[\"Make Ss\"] == \"Mitsubishi\"].index | df[df[\"Make Ss\"] == \"Porsche\"].index | df[df[\"Make Ss\"] == \"Volvo\"].index | df[df[\"Make Ss\"] == \"MINI\"].index | df[df[\"Make Ss\"] == \"Land Rover\"].index | df[df[\"Make Ss\"] == \"Lincoln\"].index)\n",
    "df[\"Make Ss\"].value_counts().sort_values(ascending = False)"
   ]
  },
  {
   "cell_type": "code",
   "execution_count": 83,
   "metadata": {},
   "outputs": [],
   "source": [
    "# US Divided into 9 regions as outlined by the Census Bureau\n",
    "# New England contains CT, ME, MA, NH, RI, VT\n",
    "newengland = df[(df[\"State Ss\"] == \"CT\") | (df[\"State Ss\"] == \"ME\") | (df[\"State Ss\"] == \"MA\") | (df[\"State Ss\"] == \"NH\") | (df[\"State Ss\"] == \"RI\") | (df[\"State Ss\"] == \"VT\")]\n",
    "# Mid Atlantic contains NY, NJ, and PA\n",
    "midatlantic = df[(df[\"State Ss\"] == \"NY\") | (df[\"State Ss\"] == \"NJ\") | (df[\"State Ss\"] == \"PA\")]\n",
    "# East North Central contains IL, IN, MI, OH, WI\n",
    "encentral = df[(df[\"State Ss\"] == \"IL\") | (df[\"State Ss\"] == \"IN\") | (df[\"State Ss\"] == \"MI\") | (df[\"State Ss\"] == \"OH\") | (df[\"State Ss\"] == \"WI\")]\n",
    "# West North Central contains IA, KS, MN, MI, NE, ND, SD\n",
    "wncentral = df[(df[\"State Ss\"] == \"IA\") | (df[\"State Ss\"] == \"KS\") | (df[\"State Ss\"] == \"MN\") | (df[\"State Ss\"] == \"MI\") | (df[\"State Ss\"] == \"NE\") | (df[\"State Ss\"] == \"ND\") | (df[\"State Ss\"] == \"SD\")]\n",
    "# South Atlantic contains FL, GA, SC, NC, VA, WV, DC, MD, DE\n",
    "satlantic = df[(df[\"State Ss\"] == \"FL\") | (df[\"State Ss\"] == \"GA\") | (df[\"State Ss\"] == \"SC\") | (df[\"State Ss\"] == \"NC\") | (df[\"State Ss\"] == \"VA\") | (df[\"State Ss\"] == \"WV\") | (df[\"State Ss\"] == \"DC\") | (df[\"State Ss\"] == \"MD\") | (df[\"State Ss\"] == \"DE\")]\n",
    "# East South Central contains AL, MS, TN, KY\n",
    "escentral = df[(df[\"State Ss\"] == \"AL\") | (df[\"State Ss\"] == \"MS\") | (df[\"State Ss\"] == \"TN\") | (df[\"State Ss\"] == \"KY\")]\n",
    "# West South Central contains AR, LA, OH, TX\n",
    "wscentral = df[(df[\"State Ss\"] == \"AR\") | (df[\"State Ss\"] == \"LA\") | (df[\"State Ss\"] == \"OH\") | (df[\"State Ss\"] == \"TX\")]\n",
    "# Mountain contains AZ, CO, ID, MT, NV, NM, UT, WY\n",
    "mountain = df[(df[\"State Ss\"] == \"AZ\") | (df[\"State Ss\"] == \"CO\") | (df[\"State Ss\"] == \"ID\") | (df[\"State Ss\"] == \"MT\") | (df[\"State Ss\"] == \"NV\") | (df[\"State Ss\"] == \"NM\") | (df[\"State Ss\"] == \"UT\") | (df[\"State Ss\"] == \"WY\")]\n",
    "# Pacific contains AK, CA, HI, OR, WA\n",
    "pacific = df[(df[\"State Ss\"] == \"AK\") | (df[\"State Ss\"] == \"CA\") | (df[\"State Ss\"] == \"HI\") | (df[\"State Ss\"] == \"OR\") | (df[\"State Ss\"] == \"WA\")]"
   ]
  },
  {
   "cell_type": "code",
   "execution_count": 43,
   "metadata": {},
   "outputs": [
    {
     "data": {
      "text/plain": [
       "Ford             19887\n",
       "Toyota           19013\n",
       "Honda            18699\n",
       "Chevrolet        15964\n",
       "Nissan           13691\n",
       "Jeep             11135\n",
       "Mercedes-Benz    10849\n",
       "Subaru            9291\n",
       "Hyundai           9242\n",
       "BMW               8226\n",
       "GMC               6843\n",
       "Lexus             6467\n",
       "Kia               5878\n",
       "Volkswagen        5865\n",
       "Audi              5273\n",
       "Cadillac          4048\n",
       "Acura             3581\n",
       "Mazda             3331\n",
       "Ram               2905\n",
       "Dodge             2663\n",
       "INFINITI          2323\n",
       "Buick             1955\n",
       "Chrysler          1223\n",
       "Name: Make Ss, dtype: int64"
      ]
     },
     "execution_count": 43,
     "metadata": {},
     "output_type": "execute_result"
    }
   ],
   "source": [
    "# New England contains CT, ME, MA, NH, RI, VT\n",
    "# Most popular used car makes by listings\n",
    "newengland[\"Make Ss\"].value_counts().sort_values(ascending = False)"
   ]
  },
  {
   "cell_type": "code",
   "execution_count": 46,
   "metadata": {},
   "outputs": [
    {
     "data": {
      "text/plain": [
       "Ford             44665\n",
       "Chevrolet        43074\n",
       "Toyota           30718\n",
       "Nissan           27639\n",
       "Honda            26203\n",
       "Jeep             25567\n",
       "Hyundai          19047\n",
       "Subaru           14573\n",
       "BMW              13261\n",
       "GMC              11268\n",
       "Kia              10899\n",
       "Mercedes-Benz     9112\n",
       "Ram               9108\n",
       "Dodge             8967\n",
       "Volkswagen        8842\n",
       "Mazda             8313\n",
       "Acura             7020\n",
       "Lexus             6536\n",
       "Audi              5680\n",
       "Buick             5052\n",
       "Cadillac          4970\n",
       "INFINITI          4164\n",
       "Chrysler          3533\n",
       "Name: Make Ss, dtype: int64"
      ]
     },
     "execution_count": 46,
     "metadata": {},
     "output_type": "execute_result"
    }
   ],
   "source": [
    "# Mid Atlantic contains NY, NJ, and PA\n",
    "# Most popular used car makes by listings\n",
    "midatlantic[\"Make Ss\"].value_counts().sort_values(ascending = False)"
   ]
  },
  {
   "cell_type": "code",
   "execution_count": 47,
   "metadata": {},
   "outputs": [
    {
     "data": {
      "text/plain": [
       "Chevrolet        95625\n",
       "Ford             92169\n",
       "Jeep             36202\n",
       "Toyota           29903\n",
       "Nissan           29103\n",
       "GMC              28088\n",
       "Honda            23882\n",
       "Dodge            21299\n",
       "Hyundai          17886\n",
       "Kia              16757\n",
       "Ram              14980\n",
       "Buick            14785\n",
       "Volkswagen       12101\n",
       "Cadillac         11582\n",
       "Mazda            10910\n",
       "Chrysler         10651\n",
       "BMW              10254\n",
       "Subaru            9357\n",
       "Mercedes-Benz     8044\n",
       "Lexus             7393\n",
       "Audi              5436\n",
       "Acura             5252\n",
       "INFINITI          3791\n",
       "Name: Make Ss, dtype: int64"
      ]
     },
     "execution_count": 47,
     "metadata": {},
     "output_type": "execute_result"
    }
   ],
   "source": [
    "# East North Central contains IL, IN, MI, OH, WI\n",
    "# Most popular used car makes by listings\n",
    "encentral[\"Make Ss\"].value_counts().sort_values(ascending = False)"
   ]
  },
  {
   "cell_type": "code",
   "execution_count": 48,
   "metadata": {},
   "outputs": [
    {
     "data": {
      "text/plain": [
       "Chevrolet        59636\n",
       "Ford             52154\n",
       "Jeep             19573\n",
       "GMC              19333\n",
       "Toyota           16405\n",
       "Nissan           13341\n",
       "Dodge            12057\n",
       "Honda            11479\n",
       "Ram               9884\n",
       "Buick             8649\n",
       "Hyundai           7207\n",
       "Cadillac          6612\n",
       "Kia               6490\n",
       "Chrysler          5423\n",
       "Volkswagen        5422\n",
       "Lexus             5313\n",
       "BMW               5216\n",
       "Subaru            4240\n",
       "Mazda             3684\n",
       "Mercedes-Benz     3500\n",
       "Audi              3066\n",
       "Acura             2718\n",
       "INFINITI          1780\n",
       "Name: Make Ss, dtype: int64"
      ]
     },
     "execution_count": 48,
     "metadata": {},
     "output_type": "execute_result"
    }
   ],
   "source": [
    "# West North Central contains IA, KS, MN, MI, NE, ND, SD\n",
    "# Most popular used car makes by listings\n",
    "wncentral[\"Make Ss\"].value_counts().sort_values(ascending = False)"
   ]
  },
  {
   "cell_type": "code",
   "execution_count": 49,
   "metadata": {},
   "outputs": [
    {
     "data": {
      "text/plain": [
       "Chevrolet        128948\n",
       "Toyota           118820\n",
       "Ford             113216\n",
       "Honda            100834\n",
       "Nissan            91974\n",
       "Lexus             66563\n",
       "BMW               57375\n",
       "Jeep              56839\n",
       "Hyundai           51354\n",
       "Mercedes-Benz     34868\n",
       "Kia               34750\n",
       "Dodge             33265\n",
       "GMC               32520\n",
       "Acura             29809\n",
       "Volkswagen        27258\n",
       "Ram               21471\n",
       "Cadillac          18759\n",
       "Mazda             18370\n",
       "Buick             16764\n",
       "INFINITI          15054\n",
       "Subaru            14932\n",
       "Chrysler          13290\n",
       "Audi              13089\n",
       "Name: Make Ss, dtype: int64"
      ]
     },
     "execution_count": 49,
     "metadata": {},
     "output_type": "execute_result"
    }
   ],
   "source": [
    "# South Atlantic contains FL, GA, SC, NC, VA, WV, DC, MD, DE\n",
    "# Most popular used car makes by listings\n",
    "satlantic[\"Make Ss\"].value_counts().sort_values(ascending = False)"
   ]
  },
  {
   "cell_type": "code",
   "execution_count": 50,
   "metadata": {},
   "outputs": [
    {
     "data": {
      "text/plain": [
       "Chevrolet        29289\n",
       "Ford             26925\n",
       "Nissan           22626\n",
       "Toyota           18133\n",
       "Honda            12457\n",
       "Jeep             11405\n",
       "GMC               8987\n",
       "Hyundai           8829\n",
       "Lexus             7636\n",
       "Dodge             7265\n",
       "Kia               6255\n",
       "BMW               5911\n",
       "Ram               5675\n",
       "Mercedes-Benz     4024\n",
       "Cadillac          3741\n",
       "Acura             3730\n",
       "Volkswagen        3597\n",
       "Buick             3380\n",
       "Mazda             3205\n",
       "Chrysler          2957\n",
       "INFINITI          2884\n",
       "Subaru            1851\n",
       "Audi              1671\n",
       "Name: Make Ss, dtype: int64"
      ]
     },
     "execution_count": 50,
     "metadata": {},
     "output_type": "execute_result"
    }
   ],
   "source": [
    "# East South Central contains AL, MS, TN, KY\n",
    "# Most popular used car makes by listings\n",
    "escentral[\"Make Ss\"].value_counts().sort_values(ascending = False)"
   ]
  },
  {
   "cell_type": "code",
   "execution_count": 51,
   "metadata": {},
   "outputs": [
    {
     "data": {
      "text/plain": [
       "Ford             62677\n",
       "Chevrolet        62135\n",
       "Toyota           33352\n",
       "Nissan           30557\n",
       "Jeep             23841\n",
       "Honda            20092\n",
       "GMC              19855\n",
       "Dodge            16084\n",
       "Hyundai          15588\n",
       "Ram              13986\n",
       "Kia              13458\n",
       "BMW              12598\n",
       "Lexus             9608\n",
       "Volkswagen        9005\n",
       "Mercedes-Benz     8917\n",
       "Cadillac          8754\n",
       "Buick             7253\n",
       "Mazda             7121\n",
       "Chrysler          5749\n",
       "INFINITI          5343\n",
       "Subaru            5206\n",
       "Audi              4870\n",
       "Acura             4491\n",
       "Name: Make Ss, dtype: int64"
      ]
     },
     "execution_count": 51,
     "metadata": {},
     "output_type": "execute_result"
    }
   ],
   "source": [
    "# West South Central contains AR, LA, OH, TX\n",
    "# Most popular used car makes by listings\n",
    "wscentral[\"Make Ss\"].value_counts().sort_values(ascending = False)"
   ]
  },
  {
   "cell_type": "code",
   "execution_count": 52,
   "metadata": {},
   "outputs": [
    {
     "data": {
      "text/plain": [
       "Ford             22351\n",
       "Chevrolet        19049\n",
       "Toyota           12160\n",
       "Nissan           10973\n",
       "Jeep             10457\n",
       "GMC               7287\n",
       "Hyundai           7169\n",
       "Dodge             7122\n",
       "Ram               7042\n",
       "Honda             5840\n",
       "Subaru            5634\n",
       "Kia               5320\n",
       "BMW               4576\n",
       "Volkswagen        3646\n",
       "Lexus             3564\n",
       "Mercedes-Benz     3222\n",
       "Mazda             2719\n",
       "Audi              2650\n",
       "Cadillac          2468\n",
       "Buick             2205\n",
       "Chrysler          2099\n",
       "Acura             1745\n",
       "INFINITI          1605\n",
       "Name: Make Ss, dtype: int64"
      ]
     },
     "execution_count": 52,
     "metadata": {},
     "output_type": "execute_result"
    }
   ],
   "source": [
    "# Mountain contains AZ, CO, ID, MT, NV, NM, UT, WY\n",
    "# Most popular used car makes by listings\n",
    "mountain[\"Make Ss\"].value_counts().sort_values(ascending = False)"
   ]
  },
  {
   "cell_type": "code",
   "execution_count": 53,
   "metadata": {},
   "outputs": [
    {
     "data": {
      "text/plain": [
       "Toyota           31320\n",
       "Ford             30544\n",
       "Chevrolet        28968\n",
       "Honda            22461\n",
       "Nissan           20525\n",
       "BMW              17773\n",
       "Lexus            14613\n",
       "Jeep             12718\n",
       "Hyundai          12317\n",
       "Mercedes-Benz    10780\n",
       "Dodge            10464\n",
       "Volkswagen        9287\n",
       "Kia               8804\n",
       "GMC               8321\n",
       "Subaru            7837\n",
       "Acura             6818\n",
       "Ram               6730\n",
       "Mazda             6551\n",
       "Audi              5954\n",
       "Cadillac          4071\n",
       "Chrysler          3400\n",
       "INFINITI          2865\n",
       "Buick             2658\n",
       "Name: Make Ss, dtype: int64"
      ]
     },
     "execution_count": 53,
     "metadata": {},
     "output_type": "execute_result"
    }
   ],
   "source": [
    "# Pacific contains AK, CA, HI, OR, WA\n",
    "# Most popular used car makes by listings\n",
    "pacific[\"Make Ss\"].value_counts().sort_values(ascending = False)"
   ]
  },
  {
   "cell_type": "code",
   "execution_count": 82,
   "metadata": {},
   "outputs": [],
   "source": [
    "# removing more makes in order to make the histogram readable, tried other methods to render it but nothing works\n",
    "df = df.drop(df[df[\"Make Ss\"] == \"Panoz\"].index | df[df[\"Make Ss\"] == \"Daewoo\"].index | df[df[\"Make Ss\"] == \"Maybach\"].index | df[df[\"Make Ss\"] == \"AM General\"].index | df[df[\"Make Ss\"] == \"Geo\"].index | df[df[\"Make Ss\"] == \"Fisker\"].index | df[df[\"Make Ss\"] == \"Alfa Romeo\"].index | df[df[\"Make Ss\"] == \"Lotus\"].index | df[df[\"Make Ss\"] == \"McLaren\"].index | df[df[\"Make Ss\"] == \"Plymouth\"].index | df[df[\"Make Ss\"] == \"Isuzu\"].index | df[df[\"Make Ss\"] == \"Oldsmobile\"].index | df[df[\"Make Ss\"] == \"Lamborghini\"].index | df[df[\"Make Ss\"] == \"Rolls-Royce\"].index | df[df[\"Make Ss\"] == \"Aston Martin\"].index | df[df[\"Make Ss\"] == \"Saab\"].index | df[df[\"Make Ss\"] == \"smart\"].index | df[df[\"Make Ss\"] == \"Suzuki\"].index | df[df[\"Make Ss\"] == \"Infiniti\"].index | df[df[\"Make Ss\"] == \"Ferrari\"].index | df[df[\"Make Ss\"] == \"Bentley\"].index | df[df[\"Make Ss\"] == \"Maserati\"].index | df[df[\"Make Ss\"] == \"HUMMER\"].index | df[df[\"Make Ss\"] == \"Mercury\"].index | df[df[\"Make Ss\"] == \"Saturn\"].index | df[df[\"Make Ss\"] == \"FIAT\"].index | df[df[\"Make Ss\"] == \"Pontiac\"].index | df[df[\"Make Ss\"] == \"Jaguar\"].index | df[df[\"Make Ss\"] == \"Scion\"].index | df[df[\"Make Ss\"] == \"Mitsubishi\"].index | df[df[\"Make Ss\"] == \"Porsche\"].index | df[df[\"Make Ss\"] == \"Volvo\"].index | df[df[\"Make Ss\"] == \"MINI\"].index | df[df[\"Make Ss\"] == \"Land Rover\"].index | df[df[\"Make Ss\"] == \"Lincoln\"].index | df[df[\"Make Ss\"] == \"INFINITI\"].index | df[df[\"Make Ss\"] == \"Chrysler\"].index | df[df[\"Make Ss\"] == \"Audi\"].index | df[df[\"Make Ss\"] == \"Buick\"].index | df[df[\"Make Ss\"] == \"Mazda\"].index | df[df[\"Make Ss\"] == \"Cadillac\"].index | df[df[\"Make Ss\"] == \"Acura\"].index | df[df[\"Make Ss\"] == \"Subaru\"].index | df[df[\"Make Ss\"] == \"Volkswagen\"].index | df[df[\"Make Ss\"] == \"Ram\"].index | df[df[\"Make Ss\"] == \"Mercedes-Benz\"].index | df[df[\"Make Ss\"] == \"Kia\"].index | df[df[\"Make Ss\"] == \"Dodge\"].index)"
   ]
  },
  {
   "cell_type": "code",
   "execution_count": 85,
   "metadata": {},
   "outputs": [
    {
     "data": {
      "image/png": "[encoded data removed]",
      "text/plain": [
       "<Figure size 432x288 with 1 Axes>"
      ]
     },
     "metadata": {},
     "output_type": "display_data"
    }
   ],
   "source": [
    "# New England contains CT, ME, MA, NH, RI, VT\n",
    "hist = thinkstats2.Hist(newengland[\"Make Ss\"], label='New England')\n",
    "thinkplot.Hist(hist)\n",
    "thinkplot.Config(xlabel='Make', ylabel='Count')"
   ]
  },
  {
   "cell_type": "code",
   "execution_count": 86,
   "metadata": {},
   "outputs": [
    {
     "data": {
      "image/png": "[encoded data removed]",
      "text/plain": [
       "<Figure size 432x288 with 1 Axes>"
      ]
     },
     "metadata": {},
     "output_type": "display_data"
    }
   ],
   "source": [
    "# Mid Atlantic contains NY, NJ, and PA\n",
    "hist = thinkstats2.Hist(midatlantic[\"Make Ss\"], label='Midatlantic')\n",
    "thinkplot.Hist(hist)\n",
    "thinkplot.Config(xlabel='Make', ylabel='Count')"
   ]
  },
  {
   "cell_type": "code",
   "execution_count": 88,
   "metadata": {},
   "outputs": [
    {
     "data": {
      "image/png": "[encoded data removed]",
      "text/plain": [
       "<Figure size 432x288 with 1 Axes>"
      ]
     },
     "metadata": {},
     "output_type": "display_data"
    }
   ],
   "source": [
    "# East North Central contains IL, IN, MI, OH, WI\n",
    "hist = thinkstats2.Hist(encentral[\"Make Ss\"], label='East North Central')\n",
    "thinkplot.Hist(hist)\n",
    "thinkplot.Config(xlabel='Make', ylabel='Count')"
   ]
  },
  {
   "cell_type": "code",
   "execution_count": 89,
   "metadata": {},
   "outputs": [
    {
     "data": {
      "image/png": "[encoded data removed]",
      "text/plain": [
       "<Figure size 432x288 with 1 Axes>"
      ]
     },
     "metadata": {},
     "output_type": "display_data"
    }
   ],
   "source": [
    "# West North Central contains IA, KS, MN, MI, NE, ND, SD\n",
    "hist = thinkstats2.Hist(wncentral[\"Make Ss\"], label='West North Central')\n",
    "thinkplot.Hist(hist)\n",
    "thinkplot.Config(xlabel='Make', ylabel='Count')"
   ]
  },
  {
   "cell_type": "code",
   "execution_count": 90,
   "metadata": {},
   "outputs": [
    {
     "data": {
      "image/png": "[encoded data removed]",
      "text/plain": [
       "<Figure size 432x288 with 1 Axes>"
      ]
     },
     "metadata": {},
     "output_type": "display_data"
    }
   ],
   "source": [
    "# South Atlantic contains FL, GA, SC, NC, VA, WV, DC, MD, DE\n",
    "hist = thinkstats2.Hist(satlantic[\"Make Ss\"], label='South Atlantic')\n",
    "thinkplot.Hist(hist)\n",
    "thinkplot.Config(xlabel='Make', ylabel='Count')"
   ]
  },
  {
   "cell_type": "code",
   "execution_count": 91,
   "metadata": {},
   "outputs": [
    {
     "data": {
      "image/png": "[encoded data removed]",
      "text/plain": [
       "<Figure size 432x288 with 1 Axes>"
      ]
     },
     "metadata": {},
     "output_type": "display_data"
    }
   ],
   "source": [
    "# East South Central contains AL, MS, TN, KY\n",
    "hist = thinkstats2.Hist(escentral[\"Make Ss\"], label='East South Central')\n",
    "thinkplot.Hist(hist)\n",
    "thinkplot.Config(xlabel='Make', ylabel='Count')"
   ]
  },
  {
   "cell_type": "code",
   "execution_count": 92,
   "metadata": {},
   "outputs": [
    {
     "data": {
      "image/png": "[encoded data removed]",
      "text/plain": [
       "<Figure size 432x288 with 1 Axes>"
      ]
     },
     "metadata": {},
     "output_type": "display_data"
    }
   ],
   "source": [
    "# West South Central contains AR, LA, OH, TX\n",
    "hist = thinkstats2.Hist(wscentral[\"Make Ss\"], label='West South Central')\n",
    "thinkplot.Hist(hist)\n",
    "thinkplot.Config(xlabel='Make', ylabel='Count')"
   ]
  },
  {
   "cell_type": "code",
   "execution_count": 93,
   "metadata": {},
   "outputs": [
    {
     "data": {
      "image/png": "[encoded data removed]",
      "text/plain": [
       "<Figure size 432x288 with 1 Axes>"
      ]
     },
     "metadata": {},
     "output_type": "display_data"
    }
   ],
   "source": [
    "# Mountain contains AZ, CO, ID, MT, NV, NM, UT, WY\n",
    "hist = thinkstats2.Hist(mountain[\"Make Ss\"], label='Mountain')\n",
    "thinkplot.Hist(hist)\n",
    "thinkplot.Config(xlabel='Make', ylabel='Count')"
   ]
  },
  {
   "cell_type": "code",
   "execution_count": 94,
   "metadata": {},
   "outputs": [
    {
     "data": {
      "image/png": "[encoded data removed]",
      "text/plain": [
       "<Figure size 432x288 with 1 Axes>"
      ]
     },
     "metadata": {},
     "output_type": "display_data"
    }
   ],
   "source": [
    "# Pacific contains AK, CA, HI, OR, WA\n",
    "hist = thinkstats2.Hist(pacific[\"Make Ss\"], label='Pacific')\n",
    "thinkplot.Hist(hist)\n",
    "thinkplot.Config(xlabel='Make', ylabel='Count')"
   ]
  },
  {
   "cell_type": "code",
   "execution_count": null,
   "metadata": {},
   "outputs": [],
   "source": []
  }
 ],
 "metadata": {
  "kernelspec": {
   "display_name": "Python 3",
   "language": "python",
   "name": "python3"
  },
  "language_info": {
   "codemirror_mode": {
    "name": "ipython",
    "version": 3
   },
   "file_extension": ".py",
   "mimetype": "text/x-python",
   "name": "python",
   "nbconvert_exporter": "python",
   "pygments_lexer": "ipython3",
   "version": "3.6.5"
  }
 },
 "nbformat": 4,
 "nbformat_minor": 2
}
